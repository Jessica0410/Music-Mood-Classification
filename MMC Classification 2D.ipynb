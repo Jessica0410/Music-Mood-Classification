{
 "cells": [
  {
   "cell_type": "code",
   "execution_count": 2,
   "id": "0bfd832a",
   "metadata": {},
   "outputs": [],
   "source": [
    "import warnings\n",
    "warnings.filterwarnings(\"ignore\")"
   ]
  },
  {
   "cell_type": "code",
   "execution_count": 3,
   "id": "998b2508",
   "metadata": {},
   "outputs": [
    {
     "name": "stderr",
     "output_type": "stream",
     "text": [
      "2023-06-22 16:02:39.845465: I tensorflow/core/platform/cpu_feature_guard.cc:182] This TensorFlow binary is optimized to use available CPU instructions in performance-critical operations.\n",
      "To enable the following instructions: AVX2 FMA, in other operations, rebuild TensorFlow with the appropriate compiler flags.\n"
     ]
    }
   ],
   "source": [
    "import os\n",
    "import cv2\n",
    "import numpy as np\n",
    "import pandas as pd\n",
    "\n",
    "from sklearn.model_selection import train_test_split \n",
    "from sklearn.preprocessing import MinMaxScaler\n",
    "import tensorflow as tf\n",
    "from tensorflow.keras.models import Sequential,load_model\n",
    "from tensorflow.keras.layers import Conv2D, MaxPooling2D,BatchNormalization, Dense, Dropout, Flatten\n",
    "from tensorflow.keras.optimizers import Adam\n",
    "\n",
    "import matplotlib.pyplot as plt\n",
    "\n",
    "from sklearn.metrics import accuracy_score, confusion_matrix, classification_report, ConfusionMatrixDisplay"
   ]
  },
  {
   "cell_type": "markdown",
   "id": "7f714c67",
   "metadata": {},
   "source": [
    "## 2. Load npz file\n",
    "The features stored in a *.npz* file and here it will be loaded"
   ]
  },
  {
   "cell_type": "code",
   "execution_count": 179,
   "id": "3ba5571c",
   "metadata": {},
   "outputs": [],
   "source": [
    "f1 = np.load(\"Features2D/npz/Features1.npz\")"
   ]
  },
  {
   "cell_type": "code",
   "execution_count": 180,
   "id": "c1df6c88",
   "metadata": {},
   "outputs": [],
   "source": [
    "spec1 = f1['spec'] #(898,1025,1099)\n",
    "mfcc1 = f1['mfcc'] #(898,20,1099)\n",
    "mel1 = f1['mel']#(898,128,1099)\n",
    "y1 = f1['target']"
   ]
  },
  {
   "cell_type": "code",
   "execution_count": 181,
   "id": "a2863ecb",
   "metadata": {},
   "outputs": [],
   "source": [
    "f2 = np.load(\"Features2D/npz/Features2.npz\")"
   ]
  },
  {
   "cell_type": "code",
   "execution_count": 182,
   "id": "89e5c26b",
   "metadata": {},
   "outputs": [],
   "source": [
    "spec2 = f2['spec'] #(400,1025,1099)\n",
    "mfcc2 = f2['mfcc'] #(400,20,1099)\n",
    "mel2 = f2['mel']#(400,128,1099)\n",
    "y2 = f2['target']"
   ]
  },
  {
   "cell_type": "markdown",
   "id": "8121c06a",
   "metadata": {},
   "source": [
    "## 3. Data preprocessing\n",
    "### 3.1 Resize the data"
   ]
  },
  {
   "cell_type": "code",
   "execution_count": 17,
   "id": "352699a4",
   "metadata": {},
   "outputs": [],
   "source": [
    "mfcc1_resized = np.empty((mfcc1.shape[0], 120, 600))\n",
    "for i in range(0,898):\n",
    "    mfcc1_resized[i] = cv2.resize(mfcc1[i],(600,120))\n",
    "\n",
    "mfcc2_resized = np.empty((mfcc2.shape[0], 120, 600))\n",
    "for i in range(0,400):\n",
    "    mfcc2_resized[i] = cv2.resize(mfcc2[i],(600,120))"
   ]
  },
  {
   "cell_type": "code",
   "execution_count": 60,
   "id": "6f054b5d",
   "metadata": {},
   "outputs": [],
   "source": [
    "spec1_resized = np.empty((spec1.shape[0], 200, 200))\n",
    "for i in range(0,898):\n",
    "    spec1_resized[i] = cv2.resize(spec1[i],(200,200))\n",
    "\n",
    "spec2_resized = np.empty((spec2.shape[0], 200, 200))\n",
    "for i in range(0,400):\n",
    "    spec2_resized[i] = cv2.resize(spec2[i],(200,200))"
   ]
  },
  {
   "cell_type": "code",
   "execution_count": 75,
   "id": "b3079d12",
   "metadata": {},
   "outputs": [],
   "source": [
    "mel1_resized = np.empty((mel1.shape[0], 300, 400))\n",
    "for i in range(0,898):\n",
    "    mel1_resized[i] = cv2.resize(mel1[i],(400,300))\n",
    "\n",
    "mel2_resized = np.empty((mel2.shape[0], 300, 400))\n",
    "for i in range(0,400):\n",
    "    mel2_resized[i] = cv2.resize(mel2[i],(400,300))"
   ]
  },
  {
   "cell_type": "markdown",
   "id": "4c488960",
   "metadata": {},
   "source": [
    "### 3.2 Train Test Split"
   ]
  },
  {
   "cell_type": "code",
   "execution_count": 20,
   "id": "f6d6aaed",
   "metadata": {},
   "outputs": [],
   "source": [
    "mfcc1_train,mfcc1_test,y1_train,y1_test = train_test_split(mfcc1_resized,y1, \n",
    "                                                   train_size = 0.8, \n",
    "                                                   random_state = 13, \n",
    "                                                   stratify= y1)\n",
    "mfcc2_train,mfcc2_test,y2_train,y2_test = train_test_split(mfcc2_resized,y2, \n",
    "                                                   train_size = 0.9, \n",
    "                                                   random_state = 13, \n",
    "                                                   stratify= y2)"
   ]
  },
  {
   "cell_type": "code",
   "execution_count": 21,
   "id": "6dc21bca",
   "metadata": {},
   "outputs": [],
   "source": [
    "np.savez_compressed(\"Features2D/npz_new/mfcc1_train_test.npz\",\n",
    "                    mfcc_train = mfcc1_train, \n",
    "                    mfcc_test = mfcc1_test, \n",
    "                    y_train = y1_train, \n",
    "                    y_test= y1_test)\n",
    "\n",
    "np.savez_compressed(\"Features2D/npz_new/mfcc2_train_test.npz\",\n",
    "                    mfcc_train = mfcc2_train, \n",
    "                    mfcc_test = mfcc2_test, \n",
    "                    y_train = y2_train, \n",
    "                    y_test = y2_test)"
   ]
  },
  {
   "cell_type": "code",
   "execution_count": 70,
   "id": "8718d1fe",
   "metadata": {},
   "outputs": [],
   "source": [
    "spec1_train,spec1_test,y1_train,y1_test = train_test_split(spec1_resized,y1, \n",
    "                                                           train_size = 0.8,  \n",
    "                                                           random_state = 13, \n",
    "                                                           stratify = y1)\n",
    "spec2_train,spec2_test,y2_train,y2_test = train_test_split(spec2_resized,y2, \n",
    "                                                           train_size = 0.9, \n",
    "                                                           random_state = 13, \n",
    "                                                           stratify = y2)"
   ]
  },
  {
   "cell_type": "code",
   "execution_count": 71,
   "id": "72aea063",
   "metadata": {},
   "outputs": [],
   "source": [
    "np.savez_compressed(\"Features2D/npz_new/spec1_train_test.npz\",\n",
    "                    spec_train = spec1_train, \n",
    "                    spec_test = spec1_test, \n",
    "                    y_train = y1_train, \n",
    "                    y_test= y1_test)\n",
    "\n",
    "np.savez_compressed(\"Features2D/npz_new/spec2_train_test.npz\",\n",
    "                    spec_train = spec2_train, \n",
    "                    spec_test = spec2_test, \n",
    "                    y_train = y2_train, \n",
    "                    y_test = y2_test)"
   ]
  },
  {
   "cell_type": "code",
   "execution_count": 123,
   "id": "97fa540f",
   "metadata": {},
   "outputs": [],
   "source": [
    "mel1_train,mel1_test,y1_train,y1_test = train_test_split(mel1_resized,y1, \n",
    "                                                           train_size = 0.8,  \n",
    "                                                           random_state = 13, \n",
    "                                                           stratify = y1)\n",
    "mel2_train,mel2_test,y2_train,y2_test = train_test_split(mel2_resized,y2, \n",
    "                                                           train_size = 0.9,  \n",
    "                                                           random_state = 13, \n",
    "                                                           stratify = y2)"
   ]
  },
  {
   "cell_type": "code",
   "execution_count": 124,
   "id": "8c6c0f13",
   "metadata": {},
   "outputs": [],
   "source": [
    "np.savez_compressed(\"Features2D/npz_new/mel1_train_test.npz\",\n",
    "                    mel_train = mel1_train, \n",
    "                    mel_test = mel1_test, \n",
    "                    y_train = y1_train, \n",
    "                    y_test = y1_test)\n",
    "\n",
    "np.savez_compressed(\"Features2D/npz_new/mel2_train_test.npz\",\n",
    "                    mel_train = mel2_train, \n",
    "                    mel_test = mel2_test, \n",
    "                    y_train = y2_train, \n",
    "                    y_test = y2_test)"
   ]
  },
  {
   "cell_type": "markdown",
   "id": "1c240702",
   "metadata": {},
   "source": [
    "## 4. Classification"
   ]
  },
  {
   "cell_type": "code",
   "execution_count": 4,
   "id": "38dd2c67",
   "metadata": {
    "scrolled": true
   },
   "outputs": [],
   "source": [
    "# Train the model\n",
    "def modelBuilder3L(X_train,\n",
    "                   f1,k1,a1,\n",
    "                   mw1,mh1,sw1,sh1,\n",
    "                   f2,k2,a2,\n",
    "                   mw2,mh2,sw2,sh2,\n",
    "                   f3,k3,a3,\n",
    "                   mw3,mh3,sw3,sh3,\n",
    "                   d1,dr1,da1,r1,\n",
    "                   d2,dr2,da2,r2,\n",
    "                   num):\n",
    "    \n",
    "    '''\n",
    "    args:\n",
    "    \n",
    "    X_train: training data\n",
    "    f1,k1,a1: num of filters, filter size and activation func of 1st conv2D layer\n",
    "    mr1,mc1,sr1,sc1: filter size and strides of 1st MaxPooling2D layer\n",
    "    f2,k2,a2: num of filters, filter size and activation func of 2nd conv2D layer\n",
    "    mr2,mc2,sr2,sc2: filter size and strides of 2nd MaxPooling2D layer\n",
    "    f3,k3,a3: num of filters, filter size and activation func of 3rd conv2D layer\n",
    "    mr3,sc3,sr3,sc3: filter size and strides of 3rd MaxPooling2D layer\n",
    "    d1,dr1,da1, r1: num of units, dropout, activation func and regularizer para of 1st fully connected layer\n",
    "    d2,dr2,da2, r2: num of units, dropout, activation func and regularizer para of 2nd fully connected layer\n",
    "    num: integer for distinguishing different model\n",
    "    \n",
    "    return:\n",
    "    model\n",
    "    \n",
    "    '''\n",
    "    \n",
    "    N,row,col,Nc = X_train.shape\n",
    "    \n",
    "    model = Sequential(name = \"CNN2D_\"+str(num))\n",
    "    #L1\n",
    "    model.add(Conv2D(f1,(k1,k1),activation = a1,input_shape = (row,col,Nc), padding = 'same', name = 'Conv2D_1'))\n",
    "    model.add(MaxPooling2D((mw1,mh1), strides = (sw1,sh1), padding = 'same', name = 'MaxPooling2D_1'))\n",
    "    model.add(BatchNormalization(name = \"BN1\"))\n",
    "    \n",
    "    #L2\n",
    "    model.add(Conv2D(f2,(k2,k2), activation = a2, padding = 'same',name = 'Conv2D_2'))\n",
    "    model.add(MaxPooling2D((mw2,mh2),strides = (sw2,sh2), padding = 'same', name = 'MaxPooling2D_2'))\n",
    "    model.add(BatchNormalization(name = \"BN2\"))\n",
    "\n",
    "    #L3\n",
    "    model.add(Conv2D(f3,(k3,k3), activation = a3, padding = 'same',name = 'Conv2D_3'))\n",
    "    model.add(MaxPooling2D((mw3,mh3), strides = (sw3,sh3), padding = 'same', name = 'MaxPooling2D_3'))\n",
    "    model.add(BatchNormalization(name = \"BN3\"))\n",
    "   \n",
    "    #Flatten layer\n",
    "    model.add(Flatten(name = 'Flatten'))\n",
    "    #FC4\n",
    "    model.add(Dense(d1, activation = da1, kernel_regularizer = tf.keras.regularizers.L2(r1), name='Dense1'))\n",
    "    model.add(Dropout(dr1, name = \"Dropout1\"))\n",
    "    #FC5\n",
    "    model.add(Dense(d2, activation = da2, kernel_regularizer = tf.keras.regularizers.L2(r2), name='Dense2'))\n",
    "    model.add(Dropout(dr2, name = \"Dropout2\"))\n",
    "    #Softmax layer\n",
    "    model.add(Dense(4, activation ='softmax', name='Softmax'))\n",
    "\n",
    "    optimizer = Adam(learning_rate=0.0001)\n",
    "    model.compile(optimizer= optimizer, loss= 'sparse_categorical_crossentropy', metrics=['accuracy'])\n",
    "\n",
    "    model.summary()\n",
    "    \n",
    "    return model"
   ]
  },
  {
   "cell_type": "markdown",
   "id": "ef79333d",
   "metadata": {},
   "source": [
    "### 4.1 MFCC"
   ]
  },
  {
   "cell_type": "code",
   "execution_count": 27,
   "id": "9b5d3f8c",
   "metadata": {},
   "outputs": [],
   "source": [
    "# Load MFCC data set\n",
    "mfcc1_file = np.load(\"Features2D/npz_new/mfcc1_train_test.npz\")\n",
    "\n",
    "mfcc1_train = mfcc1_file['mfcc_train']\n",
    "y1_train = mfcc1_file['y_train']\n",
    "\n",
    "# validation set\n",
    "mfcc1_train,mfcc1_val,y1_train,y1_val = train_test_split(mfcc1_train,y1_train, \n",
    "                                                         train_size = 0.8,  \n",
    "                                                         random_state = 13, \n",
    "                                                         stratify= y1_train)"
   ]
  },
  {
   "cell_type": "code",
   "execution_count": 28,
   "id": "69c85f0a",
   "metadata": {},
   "outputs": [],
   "source": [
    "# Feature Scaling\n",
    "mfcc1_train_scaled = (mfcc1_train - np.mean(mfcc1_train))/np.std(mfcc1_train)\n",
    "mfcc1_val_scaled = (mfcc1_val - np.mean(mfcc1_val))/np.std(mfcc1_val)"
   ]
  },
  {
   "cell_type": "code",
   "execution_count": 29,
   "id": "0b1eeec0",
   "metadata": {},
   "outputs": [],
   "source": [
    "# Reshape the data\n",
    "N,row,col = mfcc1_train_scaled.shape\n",
    "mfcc1_train_reshaped = mfcc1_train_scaled.reshape((N,row,col,1))\n",
    "N,row,col = mfcc1_val_scaled.shape\n",
    "mfcc1_val_reshaped = mfcc1_val_scaled.reshape((N,row,col,1))"
   ]
  },
  {
   "cell_type": "code",
   "execution_count": 30,
   "id": "1f6f874e",
   "metadata": {
    "scrolled": true
   },
   "outputs": [
    {
     "name": "stdout",
     "output_type": "stream",
     "text": [
      "Model: \"CNN2D_1\"\n",
      "_________________________________________________________________\n",
      " Layer (type)                Output Shape              Param #   \n",
      "=================================================================\n",
      " Conv2D_1 (Conv2D)           (None, 120, 600, 8)       80        \n",
      "                                                                 \n",
      " MaxPooling2D_1 (MaxPooling2  (None, 60, 300, 8)       0         \n",
      " D)                                                              \n",
      "                                                                 \n",
      " BN1 (BatchNormalization)    (None, 60, 300, 8)        32        \n",
      "                                                                 \n",
      " Conv2D_2 (Conv2D)           (None, 60, 300, 8)        584       \n",
      "                                                                 \n",
      " MaxPooling2D_2 (MaxPooling2  (None, 30, 150, 8)       0         \n",
      " D)                                                              \n",
      "                                                                 \n",
      " BN2 (BatchNormalization)    (None, 30, 150, 8)        32        \n",
      "                                                                 \n",
      " Conv2D_3 (Conv2D)           (None, 30, 150, 16)       1168      \n",
      "                                                                 \n",
      " MaxPooling2D_3 (MaxPooling2  (None, 15, 75, 16)       0         \n",
      " D)                                                              \n",
      "                                                                 \n",
      " BN3 (BatchNormalization)    (None, 15, 75, 16)        64        \n",
      "                                                                 \n",
      " Flatten (Flatten)           (None, 18000)             0         \n",
      "                                                                 \n",
      " Dense1 (Dense)              (None, 64)                1152064   \n",
      "                                                                 \n",
      " Dropout1 (Dropout)          (None, 64)                0         \n",
      "                                                                 \n",
      " Dense2 (Dense)              (None, 32)                2080      \n",
      "                                                                 \n",
      " Dropout2 (Dropout)          (None, 32)                0         \n",
      "                                                                 \n",
      " Softmax (Dense)             (None, 4)                 132       \n",
      "                                                                 \n",
      "=================================================================\n",
      "Total params: 1,156,236\n",
      "Trainable params: 1,156,172\n",
      "Non-trainable params: 64\n",
      "_________________________________________________________________\n"
     ]
    }
   ],
   "source": [
    "f1,k1,a1 = 8,3,'relu'\n",
    "mw1,mh1,sw1,sh1 = 2,3,2,2\n",
    "f2,k2,a2 = 8,3,'relu'\n",
    "mw2,mh2,sw2,sh2 = 2,3,2,2\n",
    "f3,k3,a3 = 16,3,'relu'\n",
    "mw3,mh3,sw3,sh3 = 4,6,2,2\n",
    "d1,dr1,da1,r1 = 64,0.2,'relu',0.2\n",
    "d2,dr2,da2,r2 = 32,0.2,'relu',0.2\n",
    "num = 1\n",
    "\n",
    "model1 = modelBuilder3L(mfcc1_train_reshaped,\n",
    "                        f1,k1,a1,\n",
    "                        mw1,mh1,sw1,sh1,\n",
    "                        f2,k2,a2,\n",
    "                        mw2,mh2,sw2,sh2,\n",
    "                        f3,k3,a3,\n",
    "                        mw3,mh3,sw3,sh3,\n",
    "                        d1,dr1,da1,r1,\n",
    "                        d2,dr2,da2,r2,\n",
    "                        num)"
   ]
  },
  {
   "cell_type": "code",
   "execution_count": 31,
   "id": "dbf053f5",
   "metadata": {
    "scrolled": true
   },
   "outputs": [
    {
     "name": "stdout",
     "output_type": "stream",
     "text": [
      "Epoch 1/80\n",
      "29/29 [==============================] - 12s 337ms/step - loss: 32.7083 - accuracy: 0.2892 - val_loss: 29.3422 - val_accuracy: 0.3611\n",
      "Epoch 2/80\n",
      "29/29 [==============================] - 9s 319ms/step - loss: 26.5807 - accuracy: 0.3676 - val_loss: 23.8135 - val_accuracy: 0.4375\n",
      "Epoch 3/80\n",
      "29/29 [==============================] - 10s 350ms/step - loss: 21.6396 - accuracy: 0.4634 - val_loss: 19.6903 - val_accuracy: 0.4097\n",
      "Epoch 4/80\n",
      "29/29 [==============================] - 10s 338ms/step - loss: 17.9802 - accuracy: 0.4774 - val_loss: 16.5619 - val_accuracy: 0.4306\n",
      "Epoch 5/80\n",
      "29/29 [==============================] - 9s 293ms/step - loss: 15.2541 - accuracy: 0.5261 - val_loss: 14.4043 - val_accuracy: 0.3056\n",
      "Epoch 6/80\n",
      "29/29 [==============================] - 9s 308ms/step - loss: 13.2714 - accuracy: 0.5383 - val_loss: 12.6711 - val_accuracy: 0.3333\n",
      "Epoch 7/80\n",
      "29/29 [==============================] - 9s 310ms/step - loss: 11.7736 - accuracy: 0.5767 - val_loss: 11.4066 - val_accuracy: 0.3611\n",
      "Epoch 8/80\n",
      "29/29 [==============================] - 9s 311ms/step - loss: 10.5884 - accuracy: 0.6115 - val_loss: 10.7042 - val_accuracy: 0.2500\n",
      "Epoch 9/80\n",
      "29/29 [==============================] - 9s 313ms/step - loss: 9.7220 - accuracy: 0.6063 - val_loss: 9.7978 - val_accuracy: 0.3125\n",
      "Epoch 10/80\n",
      "29/29 [==============================] - 9s 311ms/step - loss: 9.0073 - accuracy: 0.6585 - val_loss: 9.2570 - val_accuracy: 0.2917\n",
      "Epoch 11/80\n",
      "29/29 [==============================] - 9s 311ms/step - loss: 8.4488 - accuracy: 0.6690 - val_loss: 8.6014 - val_accuracy: 0.3542\n",
      "Epoch 12/80\n",
      "29/29 [==============================] - 9s 315ms/step - loss: 7.9543 - accuracy: 0.6603 - val_loss: 8.2028 - val_accuracy: 0.3681\n",
      "Epoch 13/80\n",
      "29/29 [==============================] - 9s 315ms/step - loss: 7.5035 - accuracy: 0.7230 - val_loss: 7.6803 - val_accuracy: 0.4444\n",
      "Epoch 14/80\n",
      "29/29 [==============================] - 9s 321ms/step - loss: 7.1955 - accuracy: 0.6655 - val_loss: 7.3839 - val_accuracy: 0.4236\n",
      "Epoch 15/80\n",
      "29/29 [==============================] - 10s 344ms/step - loss: 6.7828 - accuracy: 0.7718 - val_loss: 7.0941 - val_accuracy: 0.4306\n",
      "Epoch 16/80\n",
      "29/29 [==============================] - 10s 344ms/step - loss: 6.5149 - accuracy: 0.7578 - val_loss: 6.8044 - val_accuracy: 0.4792\n",
      "Epoch 17/80\n",
      "29/29 [==============================] - 9s 328ms/step - loss: 6.2561 - accuracy: 0.7509 - val_loss: 6.4759 - val_accuracy: 0.5347\n",
      "Epoch 18/80\n",
      "29/29 [==============================] - 9s 320ms/step - loss: 5.9996 - accuracy: 0.7962 - val_loss: 6.2680 - val_accuracy: 0.5347\n",
      "Epoch 19/80\n",
      "29/29 [==============================] - 10s 329ms/step - loss: 5.7657 - accuracy: 0.8031 - val_loss: 6.0522 - val_accuracy: 0.5486\n",
      "Epoch 20/80\n",
      "29/29 [==============================] - 10s 329ms/step - loss: 5.5344 - accuracy: 0.8101 - val_loss: 5.8572 - val_accuracy: 0.5417\n",
      "Epoch 21/80\n",
      "29/29 [==============================] - 10s 338ms/step - loss: 5.3431 - accuracy: 0.8066 - val_loss: 5.6586 - val_accuracy: 0.5486\n",
      "Epoch 22/80\n",
      "29/29 [==============================] - 9s 326ms/step - loss: 5.1215 - accuracy: 0.8328 - val_loss: 5.4997 - val_accuracy: 0.5694\n",
      "Epoch 23/80\n",
      "29/29 [==============================] - 9s 324ms/step - loss: 4.9458 - accuracy: 0.8606 - val_loss: 5.2812 - val_accuracy: 0.5833\n",
      "Epoch 24/80\n",
      "29/29 [==============================] - 10s 340ms/step - loss: 4.7377 - accuracy: 0.8606 - val_loss: 5.1830 - val_accuracy: 0.5486\n",
      "Epoch 25/80\n",
      "29/29 [==============================] - 9s 321ms/step - loss: 4.5683 - accuracy: 0.8920 - val_loss: 5.0601 - val_accuracy: 0.5278\n",
      "Epoch 26/80\n",
      "29/29 [==============================] - 9s 326ms/step - loss: 4.4054 - accuracy: 0.8937 - val_loss: 4.9014 - val_accuracy: 0.5833\n",
      "Epoch 27/80\n",
      "29/29 [==============================] - 9s 316ms/step - loss: 4.2572 - accuracy: 0.8937 - val_loss: 4.8091 - val_accuracy: 0.5139\n",
      "Epoch 28/80\n",
      "29/29 [==============================] - 9s 312ms/step - loss: 4.1060 - accuracy: 0.9094 - val_loss: 4.6401 - val_accuracy: 0.5764\n",
      "Epoch 29/80\n",
      "29/29 [==============================] - 9s 323ms/step - loss: 3.9451 - accuracy: 0.9216 - val_loss: 4.5203 - val_accuracy: 0.5208\n",
      "Epoch 30/80\n",
      "29/29 [==============================] - 9s 321ms/step - loss: 3.8304 - accuracy: 0.9077 - val_loss: 4.3352 - val_accuracy: 0.5833\n",
      "Epoch 31/80\n",
      "29/29 [==============================] - 9s 325ms/step - loss: 3.6815 - accuracy: 0.9286 - val_loss: 4.2730 - val_accuracy: 0.5833\n",
      "Epoch 32/80\n",
      "29/29 [==============================] - 9s 326ms/step - loss: 3.5449 - accuracy: 0.9408 - val_loss: 4.1793 - val_accuracy: 0.5694\n",
      "Epoch 33/80\n",
      "29/29 [==============================] - 9s 323ms/step - loss: 3.4481 - accuracy: 0.9146 - val_loss: 4.0479 - val_accuracy: 0.5972\n",
      "Epoch 34/80\n",
      "29/29 [==============================] - 10s 333ms/step - loss: 3.3387 - accuracy: 0.9199 - val_loss: 3.9211 - val_accuracy: 0.5903\n",
      "Epoch 35/80\n",
      "29/29 [==============================] - 9s 315ms/step - loss: 3.2143 - accuracy: 0.9355 - val_loss: 3.8498 - val_accuracy: 0.5486\n",
      "Epoch 36/80\n",
      "29/29 [==============================] - 10s 333ms/step - loss: 3.0860 - accuracy: 0.9425 - val_loss: 3.7726 - val_accuracy: 0.5694\n",
      "Epoch 37/80\n",
      "29/29 [==============================] - 9s 307ms/step - loss: 2.9899 - accuracy: 0.9460 - val_loss: 3.6803 - val_accuracy: 0.6042\n",
      "Epoch 38/80\n",
      "29/29 [==============================] - 9s 325ms/step - loss: 2.9520 - accuracy: 0.9216 - val_loss: 3.5409 - val_accuracy: 0.5764\n",
      "Epoch 39/80\n",
      "29/29 [==============================] - 9s 320ms/step - loss: 2.8236 - accuracy: 0.9408 - val_loss: 3.5302 - val_accuracy: 0.5903\n",
      "Epoch 40/80\n",
      "29/29 [==============================] - 9s 316ms/step - loss: 2.7151 - accuracy: 0.9582 - val_loss: 3.3969 - val_accuracy: 0.5694\n",
      "Epoch 41/80\n",
      "29/29 [==============================] - 9s 318ms/step - loss: 2.6491 - accuracy: 0.9408 - val_loss: 3.2983 - val_accuracy: 0.5833\n",
      "Epoch 42/80\n",
      "29/29 [==============================] - 10s 350ms/step - loss: 2.5504 - accuracy: 0.9495 - val_loss: 3.2640 - val_accuracy: 0.5764\n",
      "Epoch 43/80\n",
      "29/29 [==============================] - 10s 326ms/step - loss: 2.4788 - accuracy: 0.9477 - val_loss: 3.2033 - val_accuracy: 0.5764\n",
      "Epoch 44/80\n",
      "29/29 [==============================] - 9s 320ms/step - loss: 2.4071 - accuracy: 0.9425 - val_loss: 3.1520 - val_accuracy: 0.5417\n",
      "Epoch 45/80\n",
      "29/29 [==============================] - 9s 316ms/step - loss: 2.3442 - accuracy: 0.9495 - val_loss: 3.0180 - val_accuracy: 0.5694\n",
      "Epoch 46/80\n",
      "29/29 [==============================] - 10s 333ms/step - loss: 2.2475 - accuracy: 0.9530 - val_loss: 3.0014 - val_accuracy: 0.5556\n",
      "Epoch 47/80\n",
      "29/29 [==============================] - 10s 332ms/step - loss: 2.1856 - accuracy: 0.9530 - val_loss: 2.8997 - val_accuracy: 0.5417\n",
      "Epoch 48/80\n",
      "29/29 [==============================] - 10s 336ms/step - loss: 2.0930 - accuracy: 0.9669 - val_loss: 2.8706 - val_accuracy: 0.5417\n",
      "Epoch 49/80\n",
      "29/29 [==============================] - 10s 331ms/step - loss: 2.0288 - accuracy: 0.9564 - val_loss: 2.7685 - val_accuracy: 0.5833\n",
      "Epoch 50/80\n",
      "29/29 [==============================] - 9s 320ms/step - loss: 1.9593 - accuracy: 0.9669 - val_loss: 2.7004 - val_accuracy: 0.6042\n",
      "Epoch 51/80\n",
      "29/29 [==============================] - 10s 329ms/step - loss: 1.9104 - accuracy: 0.9617 - val_loss: 2.6536 - val_accuracy: 0.5625\n",
      "Epoch 52/80\n",
      "29/29 [==============================] - 10s 346ms/step - loss: 1.8490 - accuracy: 0.9652 - val_loss: 2.6145 - val_accuracy: 0.5486\n",
      "Epoch 53/80\n",
      "29/29 [==============================] - 10s 346ms/step - loss: 1.7951 - accuracy: 0.9686 - val_loss: 2.5341 - val_accuracy: 0.6042\n",
      "Epoch 54/80\n",
      "29/29 [==============================] - 10s 329ms/step - loss: 1.7244 - accuracy: 0.9774 - val_loss: 2.4728 - val_accuracy: 0.6111\n",
      "Epoch 55/80\n",
      "29/29 [==============================] - 10s 329ms/step - loss: 1.6801 - accuracy: 0.9686 - val_loss: 2.4355 - val_accuracy: 0.5972\n",
      "Epoch 56/80\n",
      "29/29 [==============================] - 9s 322ms/step - loss: 1.6312 - accuracy: 0.9634 - val_loss: 2.3977 - val_accuracy: 0.5694\n",
      "Epoch 57/80\n",
      "29/29 [==============================] - 9s 322ms/step - loss: 1.5498 - accuracy: 0.9808 - val_loss: 2.3364 - val_accuracy: 0.6319\n",
      "Epoch 58/80\n",
      "29/29 [==============================] - 9s 315ms/step - loss: 1.5213 - accuracy: 0.9739 - val_loss: 2.3586 - val_accuracy: 0.5417\n",
      "Epoch 59/80\n",
      "29/29 [==============================] - 9s 315ms/step - loss: 1.4713 - accuracy: 0.9826 - val_loss: 2.2570 - val_accuracy: 0.5764\n",
      "Epoch 60/80\n",
      "29/29 [==============================] - 9s 323ms/step - loss: 1.4324 - accuracy: 0.9704 - val_loss: 2.2464 - val_accuracy: 0.5764\n",
      "Epoch 61/80\n",
      "29/29 [==============================] - 9s 327ms/step - loss: 1.4021 - accuracy: 0.9704 - val_loss: 2.2163 - val_accuracy: 0.5903\n",
      "Epoch 62/80\n",
      "29/29 [==============================] - 9s 310ms/step - loss: 1.3476 - accuracy: 0.9669 - val_loss: 2.1741 - val_accuracy: 0.6319\n",
      "Epoch 63/80\n",
      "29/29 [==============================] - 9s 300ms/step - loss: 1.2925 - accuracy: 0.9808 - val_loss: 2.1621 - val_accuracy: 0.6042\n",
      "Epoch 64/80\n",
      "29/29 [==============================] - 9s 300ms/step - loss: 1.2826 - accuracy: 0.9721 - val_loss: 2.0490 - val_accuracy: 0.6181\n",
      "Epoch 65/80\n",
      "29/29 [==============================] - 9s 298ms/step - loss: 1.2525 - accuracy: 0.9739 - val_loss: 2.0534 - val_accuracy: 0.6319\n",
      "Epoch 66/80\n",
      "29/29 [==============================] - 9s 300ms/step - loss: 1.1904 - accuracy: 0.9861 - val_loss: 2.0176 - val_accuracy: 0.6181\n",
      "Epoch 67/80\n",
      "29/29 [==============================] - 9s 303ms/step - loss: 1.1615 - accuracy: 0.9739 - val_loss: 2.0532 - val_accuracy: 0.5903\n",
      "Epoch 68/80\n",
      "29/29 [==============================] - 9s 304ms/step - loss: 1.1273 - accuracy: 0.9861 - val_loss: 1.9371 - val_accuracy: 0.6319\n",
      "Epoch 69/80\n",
      "29/29 [==============================] - 9s 299ms/step - loss: 1.0831 - accuracy: 0.9913 - val_loss: 1.9672 - val_accuracy: 0.5972\n",
      "Epoch 70/80\n",
      "29/29 [==============================] - 9s 298ms/step - loss: 1.0596 - accuracy: 0.9791 - val_loss: 1.9687 - val_accuracy: 0.5764\n",
      "Epoch 71/80\n",
      "29/29 [==============================] - 9s 303ms/step - loss: 1.0416 - accuracy: 0.9791 - val_loss: 1.8767 - val_accuracy: 0.6181\n",
      "Epoch 72/80\n",
      "29/29 [==============================] - 9s 317ms/step - loss: 0.9944 - accuracy: 0.9808 - val_loss: 1.8506 - val_accuracy: 0.6319\n",
      "Epoch 73/80\n",
      "29/29 [==============================] - 9s 320ms/step - loss: 0.9738 - accuracy: 0.9843 - val_loss: 1.8995 - val_accuracy: 0.5625\n",
      "Epoch 74/80\n",
      "29/29 [==============================] - 9s 320ms/step - loss: 0.9580 - accuracy: 0.9774 - val_loss: 1.8218 - val_accuracy: 0.5972\n",
      "Epoch 75/80\n",
      "29/29 [==============================] - 9s 317ms/step - loss: 0.9250 - accuracy: 0.9791 - val_loss: 1.7275 - val_accuracy: 0.6458\n",
      "Epoch 76/80\n",
      "29/29 [==============================] - 9s 309ms/step - loss: 0.9101 - accuracy: 0.9774 - val_loss: 1.7068 - val_accuracy: 0.6319\n",
      "Epoch 77/80\n",
      "29/29 [==============================] - 9s 315ms/step - loss: 0.9128 - accuracy: 0.9686 - val_loss: 1.7245 - val_accuracy: 0.6319\n",
      "Epoch 78/80\n",
      "29/29 [==============================] - 9s 315ms/step - loss: 0.8522 - accuracy: 0.9895 - val_loss: 1.6939 - val_accuracy: 0.6389\n",
      "Epoch 79/80\n",
      "29/29 [==============================] - 9s 326ms/step - loss: 0.8557 - accuracy: 0.9739 - val_loss: 1.6623 - val_accuracy: 0.6250\n",
      "Epoch 80/80\n",
      "29/29 [==============================] - 10s 344ms/step - loss: 0.8070 - accuracy: 0.9791 - val_loss: 1.6634 - val_accuracy: 0.6389\n"
     ]
    },
    {
     "data": {
      "text/plain": [
       "<keras.callbacks.History at 0x7fef4592d930>"
      ]
     },
     "execution_count": 31,
     "metadata": {},
     "output_type": "execute_result"
    }
   ],
   "source": [
    "model1.fit(mfcc1_train_reshaped,y1_train,validation_data=(mfcc1_val_reshaped,y1_val),batch_size=20,epochs=80)"
   ]
  },
  {
   "cell_type": "code",
   "execution_count": 5,
   "id": "516a2b50",
   "metadata": {},
   "outputs": [],
   "source": [
    "mfcc2_file = np.load(\"Features2D/npz_new/mfcc2_train_test.npz\")\n",
    "mfcc2_train = mfcc2_file['mfcc_train']\n",
    "y2_train = mfcc2_file['y_train']\n",
    "\n",
    "mfcc2_train,mfcc2_val,y2_train,y2_val = train_test_split(mfcc2_train,y2_train, \n",
    "                                                         train_size = 0.8,  \n",
    "                                                         random_state = 13, \n",
    "                                                         stratify= y2_train)"
   ]
  },
  {
   "cell_type": "code",
   "execution_count": 6,
   "id": "0a7e9c85",
   "metadata": {},
   "outputs": [],
   "source": [
    "# Feature Scaling\n",
    "mfcc2_train_scaled = (mfcc2_train - np.mean(mfcc2_train))/np.std(mfcc2_train)\n",
    "mfcc2_val_scaled = (mfcc2_val - np.mean(mfcc2_val))/np.std(mfcc2_val)"
   ]
  },
  {
   "cell_type": "code",
   "execution_count": 7,
   "id": "97aecc0d",
   "metadata": {},
   "outputs": [],
   "source": [
    "# Reshape the data\n",
    "N,row,col = mfcc2_train_scaled.shape\n",
    "mfcc2_train_reshaped = mfcc2_train_scaled.reshape((N,row,col,1))\n",
    "N,row,col = mfcc2_val_scaled.shape\n",
    "mfcc2_val_reshaped = mfcc2_val_scaled.reshape((N,row,col,1))"
   ]
  },
  {
   "cell_type": "code",
   "execution_count": 8,
   "id": "eb0e8b8d",
   "metadata": {
    "scrolled": true
   },
   "outputs": [
    {
     "name": "stdout",
     "output_type": "stream",
     "text": [
      "Model: \"CNN2D_2\"\n",
      "_________________________________________________________________\n",
      " Layer (type)                Output Shape              Param #   \n",
      "=================================================================\n",
      " Conv2D_1 (Conv2D)           (None, 120, 600, 8)       80        \n",
      "                                                                 \n",
      " MaxPooling2D_1 (MaxPooling2  (None, 120, 600, 8)      0         \n",
      " D)                                                              \n",
      "                                                                 \n",
      " BN1 (BatchNormalization)    (None, 120, 600, 8)       32        \n",
      "                                                                 \n",
      " Conv2D_2 (Conv2D)           (None, 120, 600, 8)       584       \n",
      "                                                                 \n",
      " MaxPooling2D_2 (MaxPooling2  (None, 60, 300, 8)       0         \n",
      " D)                                                              \n",
      "                                                                 \n",
      " BN2 (BatchNormalization)    (None, 60, 300, 8)        32        \n",
      "                                                                 \n",
      " Conv2D_3 (Conv2D)           (None, 60, 300, 8)        584       \n",
      "                                                                 \n",
      " MaxPooling2D_3 (MaxPooling2  (None, 30, 150, 8)       0         \n",
      " D)                                                              \n",
      "                                                                 \n",
      " BN3 (BatchNormalization)    (None, 30, 150, 8)        32        \n",
      "                                                                 \n",
      " Flatten (Flatten)           (None, 36000)             0         \n",
      "                                                                 \n",
      " Dense1 (Dense)              (None, 64)                2304064   \n",
      "                                                                 \n",
      " Dropout1 (Dropout)          (None, 64)                0         \n",
      "                                                                 \n",
      " Dense2 (Dense)              (None, 32)                2080      \n",
      "                                                                 \n",
      " Dropout2 (Dropout)          (None, 32)                0         \n",
      "                                                                 \n",
      " Softmax (Dense)             (None, 4)                 132       \n",
      "                                                                 \n",
      "=================================================================\n",
      "Total params: 2,307,620\n",
      "Trainable params: 2,307,572\n",
      "Non-trainable params: 48\n",
      "_________________________________________________________________\n"
     ]
    }
   ],
   "source": [
    "f1,k1,a1 = 8,3,'relu'\n",
    "mw1,mh1,sw1,sh1 = 2,3,1,1\n",
    "f2,k2,a2 = 8,3,'relu',\n",
    "mw2,mh2,sw2,sh2 = 2,3,2,2\n",
    "f3,k3,a3 = 8,3,'relu',\n",
    "mw3,mh3,sw3,sh3 = 2,3,2,2\n",
    "d1,dr1,da1,r1 = 64,0.2,'relu',0.2\n",
    "d2,dr2,da2,r2 = 32,0.2,'relu',0.2\n",
    "num = 2\n",
    "model2 = modelBuilder3L(mfcc2_train_reshaped,\n",
    "                        f1,k1,a1,\n",
    "                        mw1,mh1,sw1,sh1,\n",
    "                        f2,k2,a2,\n",
    "                        mw2,mh2,sw2,sh2,\n",
    "                        f3,k3,a3,\n",
    "                        mw3,mh3,sw3,sh3,\n",
    "                        d1,dr1,da1,r1,\n",
    "                        d2,dr2,da2,r2,\n",
    "                        num)"
   ]
  },
  {
   "cell_type": "code",
   "execution_count": 9,
   "id": "28b782aa",
   "metadata": {
    "scrolled": true
   },
   "outputs": [
    {
     "name": "stdout",
     "output_type": "stream",
     "text": [
      "Epoch 1/80\n",
      "15/15 [==============================] - 16s 932ms/step - loss: 34.2489 - accuracy: 0.3472 - val_loss: 32.2614 - val_accuracy: 0.3611\n",
      "Epoch 2/80\n",
      "15/15 [==============================] - 12s 799ms/step - loss: 30.3568 - accuracy: 0.5764 - val_loss: 28.8359 - val_accuracy: 0.4028\n",
      "Epoch 3/80\n",
      "15/15 [==============================] - 12s 780ms/step - loss: 26.8645 - accuracy: 0.6771 - val_loss: 25.6699 - val_accuracy: 0.3889\n",
      "Epoch 4/80\n",
      "15/15 [==============================] - 13s 897ms/step - loss: 23.7813 - accuracy: 0.7257 - val_loss: 22.9432 - val_accuracy: 0.3333\n",
      "Epoch 5/80\n",
      "15/15 [==============================] - 12s 800ms/step - loss: 21.2451 - accuracy: 0.7431 - val_loss: 20.6890 - val_accuracy: 0.3194\n",
      "Epoch 6/80\n",
      "15/15 [==============================] - 13s 867ms/step - loss: 19.0415 - accuracy: 0.8229 - val_loss: 18.8156 - val_accuracy: 0.2778\n",
      "Epoch 7/80\n",
      "15/15 [==============================] - 12s 797ms/step - loss: 17.2505 - accuracy: 0.8229 - val_loss: 17.2433 - val_accuracy: 0.3750\n",
      "Epoch 8/80\n",
      "15/15 [==============================] - 12s 787ms/step - loss: 15.6911 - accuracy: 0.8611 - val_loss: 15.9499 - val_accuracy: 0.3056\n",
      "Epoch 9/80\n",
      "15/15 [==============================] - 12s 794ms/step - loss: 14.4633 - accuracy: 0.8785 - val_loss: 14.9765 - val_accuracy: 0.2639\n",
      "Epoch 10/80\n",
      "15/15 [==============================] - 12s 814ms/step - loss: 13.3621 - accuracy: 0.9132 - val_loss: 14.0100 - val_accuracy: 0.2778\n",
      "Epoch 11/80\n",
      "15/15 [==============================] - 12s 816ms/step - loss: 12.5259 - accuracy: 0.9028 - val_loss: 13.0918 - val_accuracy: 0.2778\n",
      "Epoch 12/80\n",
      "15/15 [==============================] - 12s 820ms/step - loss: 11.7321 - accuracy: 0.9306 - val_loss: 12.6354 - val_accuracy: 0.2778\n",
      "Epoch 13/80\n",
      "15/15 [==============================] - 14s 911ms/step - loss: 11.1160 - accuracy: 0.9028 - val_loss: 12.1758 - val_accuracy: 0.2639\n",
      "Epoch 14/80\n",
      "15/15 [==============================] - 14s 965ms/step - loss: 10.5028 - accuracy: 0.9514 - val_loss: 11.7977 - val_accuracy: 0.2639\n",
      "Epoch 15/80\n",
      "15/15 [==============================] - 13s 850ms/step - loss: 10.0503 - accuracy: 0.9201 - val_loss: 11.4338 - val_accuracy: 0.2639\n",
      "Epoch 16/80\n",
      "15/15 [==============================] - 11s 756ms/step - loss: 9.5667 - accuracy: 0.9444 - val_loss: 10.8355 - val_accuracy: 0.2639\n",
      "Epoch 17/80\n",
      "15/15 [==============================] - 13s 858ms/step - loss: 9.1639 - accuracy: 0.9444 - val_loss: 10.8186 - val_accuracy: 0.2639\n",
      "Epoch 18/80\n",
      "15/15 [==============================] - 13s 858ms/step - loss: 8.8504 - accuracy: 0.9410 - val_loss: 10.9086 - val_accuracy: 0.2639\n",
      "Epoch 19/80\n",
      "15/15 [==============================] - 13s 861ms/step - loss: 8.5265 - accuracy: 0.9201 - val_loss: 10.2849 - val_accuracy: 0.2639\n",
      "Epoch 20/80\n",
      "15/15 [==============================] - 12s 820ms/step - loss: 8.1948 - accuracy: 0.9444 - val_loss: 9.9140 - val_accuracy: 0.2639\n",
      "Epoch 21/80\n",
      "15/15 [==============================] - 15s 998ms/step - loss: 7.9200 - accuracy: 0.9653 - val_loss: 9.5079 - val_accuracy: 0.2917\n",
      "Epoch 22/80\n",
      "15/15 [==============================] - 12s 820ms/step - loss: 7.6726 - accuracy: 0.9444 - val_loss: 9.4944 - val_accuracy: 0.2639\n",
      "Epoch 23/80\n",
      "15/15 [==============================] - 12s 818ms/step - loss: 7.4349 - accuracy: 0.9583 - val_loss: 9.3821 - val_accuracy: 0.2778\n",
      "Epoch 24/80\n",
      "15/15 [==============================] - 12s 814ms/step - loss: 7.1914 - accuracy: 0.9653 - val_loss: 8.9737 - val_accuracy: 0.3194\n",
      "Epoch 25/80\n",
      "15/15 [==============================] - 11s 741ms/step - loss: 6.9930 - accuracy: 0.9688 - val_loss: 8.4664 - val_accuracy: 0.3611\n",
      "Epoch 26/80\n",
      "15/15 [==============================] - 13s 844ms/step - loss: 6.8012 - accuracy: 0.9722 - val_loss: 8.3252 - val_accuracy: 0.3611\n",
      "Epoch 27/80\n",
      "15/15 [==============================] - 12s 800ms/step - loss: 6.6415 - accuracy: 0.9549 - val_loss: 8.2398 - val_accuracy: 0.3611\n",
      "Epoch 28/80\n",
      "15/15 [==============================] - 12s 784ms/step - loss: 6.4464 - accuracy: 0.9618 - val_loss: 7.5318 - val_accuracy: 0.5000\n",
      "Epoch 29/80\n",
      "15/15 [==============================] - 13s 849ms/step - loss: 6.3093 - accuracy: 0.9410 - val_loss: 7.4566 - val_accuracy: 0.4861\n",
      "Epoch 30/80\n",
      "15/15 [==============================] - 11s 746ms/step - loss: 6.1493 - accuracy: 0.9722 - val_loss: 7.5793 - val_accuracy: 0.4167\n",
      "Epoch 31/80\n",
      "15/15 [==============================] - 11s 717ms/step - loss: 5.9899 - accuracy: 0.9757 - val_loss: 6.5789 - val_accuracy: 0.6389\n",
      "Epoch 32/80\n",
      "15/15 [==============================] - 12s 825ms/step - loss: 5.8512 - accuracy: 0.9688 - val_loss: 6.6707 - val_accuracy: 0.6111\n",
      "Epoch 33/80\n",
      "15/15 [==============================] - 13s 884ms/step - loss: 5.7125 - accuracy: 0.9722 - val_loss: 6.7122 - val_accuracy: 0.5139\n",
      "Epoch 34/80\n",
      "15/15 [==============================] - 13s 880ms/step - loss: 5.5742 - accuracy: 0.9757 - val_loss: 6.1701 - val_accuracy: 0.6806\n",
      "Epoch 35/80\n",
      "15/15 [==============================] - 13s 848ms/step - loss: 5.4860 - accuracy: 0.9583 - val_loss: 6.0228 - val_accuracy: 0.6806\n",
      "Epoch 36/80\n",
      "15/15 [==============================] - 13s 865ms/step - loss: 5.3215 - accuracy: 0.9826 - val_loss: 5.8858 - val_accuracy: 0.7083\n",
      "Epoch 37/80\n",
      "15/15 [==============================] - 13s 880ms/step - loss: 5.1950 - accuracy: 0.9792 - val_loss: 5.7685 - val_accuracy: 0.6944\n",
      "Epoch 38/80\n",
      "15/15 [==============================] - 11s 764ms/step - loss: 5.0896 - accuracy: 0.9757 - val_loss: 5.4889 - val_accuracy: 0.7778\n",
      "Epoch 39/80\n",
      "15/15 [==============================] - 12s 836ms/step - loss: 4.9897 - accuracy: 0.9792 - val_loss: 5.5962 - val_accuracy: 0.7778\n",
      "Epoch 40/80\n",
      "15/15 [==============================] - 11s 760ms/step - loss: 4.9240 - accuracy: 0.9618 - val_loss: 5.3602 - val_accuracy: 0.7500\n",
      "Epoch 41/80\n",
      "15/15 [==============================] - 14s 906ms/step - loss: 4.7844 - accuracy: 0.9861 - val_loss: 5.2740 - val_accuracy: 0.6944\n",
      "Epoch 42/80\n",
      "15/15 [==============================] - 12s 775ms/step - loss: 4.7518 - accuracy: 0.9549 - val_loss: 5.2133 - val_accuracy: 0.7500\n",
      "Epoch 43/80\n",
      "15/15 [==============================] - 11s 715ms/step - loss: 4.6447 - accuracy: 0.9514 - val_loss: 5.0182 - val_accuracy: 0.7778\n",
      "Epoch 44/80\n",
      "15/15 [==============================] - 11s 709ms/step - loss: 4.5004 - accuracy: 0.9826 - val_loss: 5.0661 - val_accuracy: 0.7083\n",
      "Epoch 45/80\n",
      "15/15 [==============================] - 11s 714ms/step - loss: 4.4245 - accuracy: 0.9757 - val_loss: 4.8354 - val_accuracy: 0.8056\n",
      "Epoch 46/80\n",
      "15/15 [==============================] - 11s 705ms/step - loss: 4.3535 - accuracy: 0.9688 - val_loss: 4.8203 - val_accuracy: 0.7500\n",
      "Epoch 47/80\n",
      "15/15 [==============================] - 11s 739ms/step - loss: 4.2479 - accuracy: 0.9792 - val_loss: 4.7359 - val_accuracy: 0.7639\n",
      "Epoch 48/80\n",
      "15/15 [==============================] - 12s 813ms/step - loss: 4.1894 - accuracy: 0.9688 - val_loss: 4.6564 - val_accuracy: 0.7083\n",
      "Epoch 49/80\n",
      "15/15 [==============================] - 12s 790ms/step - loss: 4.1158 - accuracy: 0.9583 - val_loss: 4.5362 - val_accuracy: 0.7222\n",
      "Epoch 50/80\n",
      "15/15 [==============================] - 11s 767ms/step - loss: 4.0369 - accuracy: 0.9583 - val_loss: 4.4529 - val_accuracy: 0.7778\n",
      "Epoch 51/80\n",
      "15/15 [==============================] - 11s 756ms/step - loss: 3.9314 - accuracy: 0.9896 - val_loss: 4.3113 - val_accuracy: 0.7917\n",
      "Epoch 52/80\n",
      "15/15 [==============================] - 11s 764ms/step - loss: 3.9258 - accuracy: 0.9444 - val_loss: 4.3358 - val_accuracy: 0.7361\n",
      "Epoch 53/80\n",
      "15/15 [==============================] - 12s 806ms/step - loss: 3.8371 - accuracy: 0.9688 - val_loss: 4.2816 - val_accuracy: 0.7500\n",
      "Epoch 54/80\n",
      "15/15 [==============================] - 13s 849ms/step - loss: 3.7546 - accuracy: 0.9722 - val_loss: 4.1638 - val_accuracy: 0.7639\n",
      "Epoch 55/80\n",
      "15/15 [==============================] - 12s 788ms/step - loss: 3.6962 - accuracy: 0.9688 - val_loss: 4.0935 - val_accuracy: 0.7639\n",
      "Epoch 56/80\n",
      "15/15 [==============================] - 11s 750ms/step - loss: 3.6043 - accuracy: 0.9722 - val_loss: 4.0464 - val_accuracy: 0.7778\n",
      "Epoch 57/80\n",
      "15/15 [==============================] - 12s 837ms/step - loss: 3.5688 - accuracy: 0.9583 - val_loss: 3.9725 - val_accuracy: 0.7639\n",
      "Epoch 58/80\n",
      "15/15 [==============================] - 12s 766ms/step - loss: 3.4687 - accuracy: 0.9861 - val_loss: 3.8916 - val_accuracy: 0.7778\n",
      "Epoch 59/80\n",
      "15/15 [==============================] - 12s 788ms/step - loss: 3.3767 - accuracy: 0.9931 - val_loss: 3.8186 - val_accuracy: 0.7778\n",
      "Epoch 60/80\n",
      "15/15 [==============================] - 12s 774ms/step - loss: 3.3329 - accuracy: 0.9861 - val_loss: 3.8127 - val_accuracy: 0.7778\n",
      "Epoch 61/80\n",
      "15/15 [==============================] - 14s 920ms/step - loss: 3.2515 - accuracy: 0.9896 - val_loss: 3.6902 - val_accuracy: 0.8056\n",
      "Epoch 62/80\n",
      "15/15 [==============================] - 13s 898ms/step - loss: 3.2033 - accuracy: 0.9826 - val_loss: 3.6696 - val_accuracy: 0.7361\n",
      "Epoch 63/80\n",
      "15/15 [==============================] - 13s 845ms/step - loss: 3.1227 - accuracy: 0.9931 - val_loss: 3.5807 - val_accuracy: 0.7778\n",
      "Epoch 64/80\n",
      "15/15 [==============================] - 12s 786ms/step - loss: 3.0584 - accuracy: 0.9965 - val_loss: 3.5679 - val_accuracy: 0.7361\n",
      "Epoch 65/80\n",
      "15/15 [==============================] - 12s 801ms/step - loss: 3.0229 - accuracy: 0.9722 - val_loss: 3.4471 - val_accuracy: 0.7778\n",
      "Epoch 66/80\n",
      "15/15 [==============================] - 13s 837ms/step - loss: 2.9744 - accuracy: 0.9757 - val_loss: 3.3600 - val_accuracy: 0.7778\n",
      "Epoch 67/80\n",
      "15/15 [==============================] - 13s 863ms/step - loss: 2.9027 - accuracy: 0.9861 - val_loss: 3.3824 - val_accuracy: 0.7500\n",
      "Epoch 68/80\n",
      "15/15 [==============================] - 11s 762ms/step - loss: 2.8735 - accuracy: 0.9722 - val_loss: 3.2624 - val_accuracy: 0.7639\n",
      "Epoch 69/80\n",
      "15/15 [==============================] - 12s 794ms/step - loss: 2.7920 - accuracy: 0.9931 - val_loss: 3.3791 - val_accuracy: 0.7500\n",
      "Epoch 70/80\n",
      "15/15 [==============================] - 12s 767ms/step - loss: 2.7477 - accuracy: 0.9861 - val_loss: 3.1968 - val_accuracy: 0.7778\n",
      "Epoch 71/80\n",
      "15/15 [==============================] - 11s 757ms/step - loss: 2.7117 - accuracy: 0.9757 - val_loss: 3.1877 - val_accuracy: 0.7639\n",
      "Epoch 72/80\n",
      "15/15 [==============================] - 11s 734ms/step - loss: 2.6603 - accuracy: 0.9792 - val_loss: 3.0776 - val_accuracy: 0.7500\n",
      "Epoch 73/80\n",
      "15/15 [==============================] - 12s 804ms/step - loss: 2.5732 - accuracy: 0.9931 - val_loss: 3.0866 - val_accuracy: 0.7500\n",
      "Epoch 74/80\n",
      "15/15 [==============================] - 12s 817ms/step - loss: 2.5651 - accuracy: 0.9757 - val_loss: 2.9997 - val_accuracy: 0.7500\n",
      "Epoch 75/80\n",
      "15/15 [==============================] - 11s 745ms/step - loss: 2.5035 - accuracy: 0.9931 - val_loss: 2.9818 - val_accuracy: 0.7083\n",
      "Epoch 76/80\n",
      "15/15 [==============================] - 11s 765ms/step - loss: 2.4620 - accuracy: 0.9826 - val_loss: 2.9432 - val_accuracy: 0.7222\n",
      "Epoch 77/80\n",
      "15/15 [==============================] - 11s 728ms/step - loss: 2.4023 - accuracy: 0.9896 - val_loss: 2.8543 - val_accuracy: 0.7500\n",
      "Epoch 78/80\n",
      "15/15 [==============================] - 11s 711ms/step - loss: 2.3560 - accuracy: 0.9896 - val_loss: 2.7994 - val_accuracy: 0.7778\n",
      "Epoch 79/80\n",
      "15/15 [==============================] - 11s 734ms/step - loss: 2.3183 - accuracy: 0.9826 - val_loss: 2.7378 - val_accuracy: 0.7778\n",
      "Epoch 80/80\n",
      "15/15 [==============================] - 11s 764ms/step - loss: 2.2762 - accuracy: 0.9861 - val_loss: 2.7777 - val_accuracy: 0.7361\n"
     ]
    }
   ],
   "source": [
    "history2 = model2.fit(mfcc2_train_reshaped,y2_train,validation_data=(mfcc2_val_reshaped,y2_val),batch_size=20,epochs=80)"
   ]
  },
  {
   "cell_type": "code",
   "execution_count": 10,
   "id": "fa9049bb",
   "metadata": {},
   "outputs": [
    {
     "data": {
      "text/plain": [
       "Text(0, 0.5, 'loss')"
      ]
     },
     "execution_count": 10,
     "metadata": {},
     "output_type": "execute_result"
    },
    {
     "data": {
      "image/png": "[encoded data removed]",
      "text/plain": [
       "<Figure size 1200x400 with 2 Axes>"
      ]
     },
     "metadata": {},
     "output_type": "display_data"
    }
   ],
   "source": [
    "# Train and Validation accuracy and loss\n",
    "f = plt.figure(figsize = (12,4))\n",
    "\n",
    "plt.subplot(1,2,1)\n",
    "plt.title('train validation accuracy')\n",
    "plt.plot(history2.history['accuracy'])\n",
    "plt.plot(history2.history['val_accuracy'])\n",
    "plt.legend(['train','validation'])\n",
    "plt.xlabel('epoch')\n",
    "plt.ylabel('accuracy')\n",
    "\n",
    "\n",
    "plt.subplot(1,2,2)\n",
    "plt.title('train validation loss')\n",
    "plt.plot(history2.history['loss'])\n",
    "plt.plot(history2.history['val_loss'])\n",
    "plt.legend(['train','validation'])\n",
    "plt.xlabel('epoch')\n",
    "plt.ylabel('loss')"
   ]
  },
  {
   "cell_type": "code",
   "execution_count": 11,
   "id": "91a78282",
   "metadata": {},
   "outputs": [],
   "source": [
    "mfcc2_test = mfcc2_file['mfcc_test']\n",
    "y2_test_mfcc = mfcc2_file['y_test']"
   ]
  },
  {
   "cell_type": "code",
   "execution_count": 12,
   "id": "96a70ad1",
   "metadata": {},
   "outputs": [],
   "source": [
    "# Feature Scaling\n",
    "mfcc2_test_scaled = (mfcc2_test - np.mean(mfcc2_test))/np.std(mfcc2_test)\n",
    "\n",
    "# Reshape the data\n",
    "N,row,col = mfcc2_test_scaled.shape\n",
    "mfcc2_test_reshaped = mfcc2_test_scaled.reshape((N,row,col,1))"
   ]
  },
  {
   "cell_type": "code",
   "execution_count": 13,
   "id": "bfc23f2e",
   "metadata": {},
   "outputs": [
    {
     "name": "stdout",
     "output_type": "stream",
     "text": [
      "2/2 [==============================] - 1s 90ms/step\n"
     ]
    }
   ],
   "source": [
    "y1_prob = model2.predict(mfcc2_test_reshaped)\n",
    "y1_pred = np.argmax(y1_prob, axis = -1)"
   ]
  },
  {
   "cell_type": "code",
   "execution_count": 14,
   "id": "7ae2a2e5",
   "metadata": {},
   "outputs": [],
   "source": [
    "# Accuracy\n",
    "acc1_2d = round(accuracy_score(y1_pred,y2_test_mfcc),2)"
   ]
  },
  {
   "cell_type": "code",
   "execution_count": 15,
   "id": "b22fd43d",
   "metadata": {},
   "outputs": [],
   "source": [
    "# Confusion Matrix\n",
    "cm_mfcc = confusion_matrix(y2_test_mfcc,y1_pred)\n",
    "cm_2d_mfcc = ConfusionMatrixDisplay(confusion_matrix = cm_mfcc, display_labels = ['Angry', 'Happy', 'Relaxed', 'Sad'])"
   ]
  },
  {
   "cell_type": "code",
   "execution_count": 16,
   "id": "2017356c",
   "metadata": {
    "scrolled": false
   },
   "outputs": [
    {
     "name": "stdout",
     "output_type": "stream",
     "text": [
      "              precision    recall  f1-score   support\n",
      "\n",
      "       Angry       0.91      1.00      0.95        10\n",
      "       Happy       1.00      0.90      0.95        10\n",
      "     Relaxed       0.91      1.00      0.95        10\n",
      "         Sad       1.00      0.90      0.95        10\n",
      "\n",
      "    accuracy                           0.95        40\n",
      "   macro avg       0.95      0.95      0.95        40\n",
      "weighted avg       0.95      0.95      0.95        40\n",
      "\n"
     ]
    },
    {
     "data": {
      "image/png": "[encoded data removed]",
      "text/plain": [
       "<Figure size 640x480 with 2 Axes>"
      ]
     },
     "metadata": {},
     "output_type": "display_data"
    }
   ],
   "source": [
    "print(classification_report(y2_test_mfcc, y1_pred, target_names = ['Angry', 'Happy', 'Relaxed', 'Sad']))\n",
    "cm_2d_mfcc.plot()\n",
    "plt.show()"
   ]
  },
  {
   "cell_type": "markdown",
   "id": "4f0fa5d3",
   "metadata": {},
   "source": [
    "### 4.2 Spectrogram"
   ]
  },
  {
   "cell_type": "code",
   "execution_count": 215,
   "id": "e0edf2ee",
   "metadata": {
    "scrolled": true
   },
   "outputs": [],
   "source": [
    "# Load Spectrogram data set\n",
    "spec1_file = np.load(\"Features2D/npz_new/spec1_train_test.npz\")\n",
    "\n",
    "spec1_train = spec1_file['spec_train']\n",
    "y1_train = spec1_file['y_train']\n",
    "\n",
    "spec1_train,spec1_val,y1_train,y1_val = train_test_split(spec1_train,y1_train, \n",
    "                                                         train_size = 0.8,\n",
    "                                                         random_state = 13, \n",
    "                                                         stratify= y1_train)"
   ]
  },
  {
   "cell_type": "code",
   "execution_count": 216,
   "id": "e88d5179",
   "metadata": {},
   "outputs": [],
   "source": [
    "# Feature Scaling\n",
    "spec1_train_scaled = spec1_train / np.amax(spec1_train)\n",
    "spec1_val_scaled = spec1_val / np.amax(spec1_val)"
   ]
  },
  {
   "cell_type": "code",
   "execution_count": 217,
   "id": "4f14e0c9",
   "metadata": {},
   "outputs": [],
   "source": [
    "# Reshape the data\n",
    "N,row,col = spec1_train_scaled.shape\n",
    "spec1_train_reshaped = spec1_train_scaled.reshape((N,row,col,1))\n",
    "\n",
    "N,row,col = spec1_val_scaled.shape\n",
    "spec1_val_reshaped = spec1_val_scaled.reshape((N,row,col,1))"
   ]
  },
  {
   "cell_type": "code",
   "execution_count": 218,
   "id": "da77716e",
   "metadata": {
    "scrolled": true
   },
   "outputs": [
    {
     "name": "stdout",
     "output_type": "stream",
     "text": [
      "Model: \"CNN2D_3\"\n",
      "_________________________________________________________________\n",
      " Layer (type)                Output Shape              Param #   \n",
      "=================================================================\n",
      " Conv2D_1 (Conv2D)           (None, 200, 200, 8)       80        \n",
      "                                                                 \n",
      " MaxPooling2D_1 (MaxPooling2  (None, 100, 100, 8)      0         \n",
      " D)                                                              \n",
      "                                                                 \n",
      " BN1 (BatchNormalization)    (None, 100, 100, 8)       32        \n",
      "                                                                 \n",
      " Conv2D_2 (Conv2D)           (None, 100, 100, 8)       584       \n",
      "                                                                 \n",
      " MaxPooling2D_2 (MaxPooling2  (None, 50, 50, 8)        0         \n",
      " D)                                                              \n",
      "                                                                 \n",
      " BN2 (BatchNormalization)    (None, 50, 50, 8)         32        \n",
      "                                                                 \n",
      " Conv2D_3 (Conv2D)           (None, 50, 50, 16)        1168      \n",
      "                                                                 \n",
      " MaxPooling2D_3 (MaxPooling2  (None, 25, 25, 16)       0         \n",
      " D)                                                              \n",
      "                                                                 \n",
      " BN3 (BatchNormalization)    (None, 25, 25, 16)        64        \n",
      "                                                                 \n",
      " Flatten (Flatten)           (None, 10000)             0         \n",
      "                                                                 \n",
      " Dense1 (Dense)              (None, 64)                640064    \n",
      "                                                                 \n",
      " Dropout1 (Dropout)          (None, 64)                0         \n",
      "                                                                 \n",
      " Dense2 (Dense)              (None, 32)                2080      \n",
      "                                                                 \n",
      " Dropout2 (Dropout)          (None, 32)                0         \n",
      "                                                                 \n",
      " Softmax (Dense)             (None, 4)                 132       \n",
      "                                                                 \n",
      "=================================================================\n",
      "Total params: 644,236\n",
      "Trainable params: 644,172\n",
      "Non-trainable params: 64\n",
      "_________________________________________________________________\n"
     ]
    }
   ],
   "source": [
    "f1,k1,a1 = 8,3,'relu'\n",
    "mw1,mh1,sw1,sh1 = 3,3,2,2\n",
    "f2,k2,a2 = 8,3,'relu'\n",
    "mw2,mh2,sw2,sh2 = 3,3,2,2\n",
    "f3,k3,a3 = 16,3,'relu'\n",
    "mw3,mh3,sw3,sh3 = 3,3,2,2\n",
    "d1,dr1,da1,r1 = 64,0.2,'relu',0.2\n",
    "d2,dr2,da2,r2 = 32,0.2,'relu',0.2\n",
    "num = 3\n",
    "model3 = modelBuilder3L(spec1_train_reshaped,\n",
    "                        f1,k1,a1,\n",
    "                        mw1,mh1,sw1,sh1,\n",
    "                        f2,k2,a2,\n",
    "                        mw2,mh2,sw2,sh2,\n",
    "                        f3,k3,a3,\n",
    "                        mw3,mh3,sw3,sh3,\n",
    "                        d1,dr1,da1,r1,\n",
    "                        d2,dr2,da2,r2,\n",
    "                        num)"
   ]
  },
  {
   "cell_type": "code",
   "execution_count": 219,
   "id": "3342b58c",
   "metadata": {
    "scrolled": true
   },
   "outputs": [
    {
     "name": "stdout",
     "output_type": "stream",
     "text": [
      "Epoch 1/80\n",
      "29/29 [==============================] - 7s 190ms/step - loss: 34.0231 - accuracy: 0.3868 - val_loss: 32.3687 - val_accuracy: 0.3611\n",
      "Epoch 2/80\n",
      "29/29 [==============================] - 5s 181ms/step - loss: 30.5039 - accuracy: 0.5244 - val_loss: 29.0630 - val_accuracy: 0.2500\n",
      "Epoch 3/80\n",
      "29/29 [==============================] - 5s 183ms/step - loss: 27.1824 - accuracy: 0.5749 - val_loss: 25.9538 - val_accuracy: 0.2500\n",
      "Epoch 4/80\n",
      "29/29 [==============================] - 5s 181ms/step - loss: 24.2182 - accuracy: 0.5627 - val_loss: 23.2449 - val_accuracy: 0.2500\n",
      "Epoch 5/80\n",
      "29/29 [==============================] - 6s 198ms/step - loss: 21.5283 - accuracy: 0.6307 - val_loss: 20.8789 - val_accuracy: 0.2708\n",
      "Epoch 6/80\n",
      "29/29 [==============================] - 6s 194ms/step - loss: 19.2251 - accuracy: 0.6533 - val_loss: 18.7558 - val_accuracy: 0.2569\n",
      "Epoch 7/80\n",
      "29/29 [==============================] - 6s 197ms/step - loss: 17.1796 - accuracy: 0.7195 - val_loss: 17.1436 - val_accuracy: 0.3125\n",
      "Epoch 8/80\n",
      "29/29 [==============================] - 6s 202ms/step - loss: 15.5141 - accuracy: 0.7247 - val_loss: 15.6834 - val_accuracy: 0.4306\n",
      "Epoch 9/80\n",
      "29/29 [==============================] - 5s 183ms/step - loss: 14.0202 - accuracy: 0.7753 - val_loss: 14.4230 - val_accuracy: 0.3681\n",
      "Epoch 10/80\n",
      "29/29 [==============================] - 6s 202ms/step - loss: 12.7531 - accuracy: 0.8223 - val_loss: 13.3549 - val_accuracy: 0.3889\n",
      "Epoch 11/80\n",
      "29/29 [==============================] - 5s 186ms/step - loss: 11.6541 - accuracy: 0.8328 - val_loss: 12.2507 - val_accuracy: 0.3958\n",
      "Epoch 12/80\n",
      "29/29 [==============================] - 5s 181ms/step - loss: 10.6915 - accuracy: 0.8537 - val_loss: 11.3797 - val_accuracy: 0.3958\n",
      "Epoch 13/80\n",
      "29/29 [==============================] - 5s 187ms/step - loss: 9.8316 - accuracy: 0.8780 - val_loss: 10.6956 - val_accuracy: 0.3542\n",
      "Epoch 14/80\n",
      "29/29 [==============================] - 6s 194ms/step - loss: 9.1155 - accuracy: 0.8850 - val_loss: 9.8436 - val_accuracy: 0.4097\n",
      "Epoch 15/80\n",
      "29/29 [==============================] - 5s 181ms/step - loss: 8.4740 - accuracy: 0.9024 - val_loss: 9.3497 - val_accuracy: 0.3889\n",
      "Epoch 16/80\n",
      "29/29 [==============================] - 5s 179ms/step - loss: 7.8736 - accuracy: 0.9146 - val_loss: 8.7732 - val_accuracy: 0.4097\n",
      "Epoch 17/80\n",
      "29/29 [==============================] - 5s 180ms/step - loss: 7.3522 - accuracy: 0.9268 - val_loss: 8.1206 - val_accuracy: 0.4444\n",
      "Epoch 18/80\n",
      "29/29 [==============================] - 5s 180ms/step - loss: 6.9011 - accuracy: 0.9355 - val_loss: 7.6667 - val_accuracy: 0.4792\n",
      "Epoch 19/80\n",
      "29/29 [==============================] - 5s 180ms/step - loss: 6.4942 - accuracy: 0.9408 - val_loss: 7.1768 - val_accuracy: 0.4792\n",
      "Epoch 20/80\n",
      "29/29 [==============================] - 5s 179ms/step - loss: 6.1280 - accuracy: 0.9425 - val_loss: 6.8492 - val_accuracy: 0.5347\n",
      "Epoch 21/80\n",
      "29/29 [==============================] - 5s 186ms/step - loss: 5.7731 - accuracy: 0.9564 - val_loss: 6.4190 - val_accuracy: 0.5278\n",
      "Epoch 22/80\n",
      "29/29 [==============================] - 6s 194ms/step - loss: 5.4704 - accuracy: 0.9530 - val_loss: 6.1187 - val_accuracy: 0.5903\n",
      "Epoch 23/80\n",
      "29/29 [==============================] - 5s 174ms/step - loss: 5.1960 - accuracy: 0.9652 - val_loss: 5.8915 - val_accuracy: 0.5486\n",
      "Epoch 24/80\n",
      "29/29 [==============================] - 5s 176ms/step - loss: 4.9702 - accuracy: 0.9512 - val_loss: 5.6178 - val_accuracy: 0.5625\n",
      "Epoch 25/80\n",
      "29/29 [==============================] - 5s 175ms/step - loss: 4.7117 - accuracy: 0.9617 - val_loss: 5.4828 - val_accuracy: 0.5764\n",
      "Epoch 26/80\n",
      "29/29 [==============================] - 5s 186ms/step - loss: 4.5069 - accuracy: 0.9564 - val_loss: 5.2088 - val_accuracy: 0.6181\n",
      "Epoch 27/80\n",
      "29/29 [==============================] - 5s 186ms/step - loss: 4.3155 - accuracy: 0.9564 - val_loss: 5.0795 - val_accuracy: 0.5972\n",
      "Epoch 28/80\n",
      "29/29 [==============================] - 5s 182ms/step - loss: 4.1362 - accuracy: 0.9617 - val_loss: 4.8975 - val_accuracy: 0.6111\n",
      "Epoch 29/80\n",
      "29/29 [==============================] - 5s 182ms/step - loss: 3.9526 - accuracy: 0.9774 - val_loss: 4.7485 - val_accuracy: 0.5833\n",
      "Epoch 30/80\n",
      "29/29 [==============================] - 5s 181ms/step - loss: 3.7819 - accuracy: 0.9617 - val_loss: 4.7373 - val_accuracy: 0.5833\n",
      "Epoch 31/80\n",
      "29/29 [==============================] - 5s 183ms/step - loss: 3.6370 - accuracy: 0.9599 - val_loss: 4.4210 - val_accuracy: 0.5833\n",
      "Epoch 32/80\n",
      "29/29 [==============================] - 5s 188ms/step - loss: 3.5176 - accuracy: 0.9739 - val_loss: 4.3284 - val_accuracy: 0.5903\n",
      "Epoch 33/80\n",
      "29/29 [==============================] - 5s 184ms/step - loss: 3.3638 - accuracy: 0.9791 - val_loss: 4.1755 - val_accuracy: 0.5972\n",
      "Epoch 34/80\n",
      "29/29 [==============================] - 5s 184ms/step - loss: 3.2365 - accuracy: 0.9791 - val_loss: 4.0603 - val_accuracy: 0.6042\n",
      "Epoch 35/80\n",
      "29/29 [==============================] - 5s 182ms/step - loss: 3.1321 - accuracy: 0.9704 - val_loss: 3.9061 - val_accuracy: 0.5972\n",
      "Epoch 36/80\n",
      "29/29 [==============================] - 6s 212ms/step - loss: 3.0175 - accuracy: 0.9669 - val_loss: 3.8817 - val_accuracy: 0.5833\n",
      "Epoch 37/80\n",
      "29/29 [==============================] - 6s 207ms/step - loss: 2.9185 - accuracy: 0.9756 - val_loss: 3.7321 - val_accuracy: 0.5833\n",
      "Epoch 38/80\n",
      "29/29 [==============================] - 6s 208ms/step - loss: 2.7865 - accuracy: 0.9826 - val_loss: 3.5566 - val_accuracy: 0.5833\n",
      "Epoch 39/80\n",
      "29/29 [==============================] - 6s 192ms/step - loss: 2.7023 - accuracy: 0.9634 - val_loss: 3.5076 - val_accuracy: 0.5694\n",
      "Epoch 40/80\n",
      "29/29 [==============================] - 5s 179ms/step - loss: 2.6038 - accuracy: 0.9791 - val_loss: 3.4072 - val_accuracy: 0.5972\n",
      "Epoch 41/80\n",
      "29/29 [==============================] - 6s 205ms/step - loss: 2.5152 - accuracy: 0.9861 - val_loss: 3.3589 - val_accuracy: 0.5625\n",
      "Epoch 42/80\n",
      "29/29 [==============================] - 6s 199ms/step - loss: 2.4377 - accuracy: 0.9756 - val_loss: 3.2270 - val_accuracy: 0.5903\n",
      "Epoch 43/80\n",
      "29/29 [==============================] - 6s 196ms/step - loss: 2.3174 - accuracy: 0.9895 - val_loss: 3.1723 - val_accuracy: 0.5833\n",
      "Epoch 44/80\n",
      "29/29 [==============================] - 6s 191ms/step - loss: 2.2481 - accuracy: 0.9878 - val_loss: 3.0656 - val_accuracy: 0.5764\n",
      "Epoch 45/80\n",
      "29/29 [==============================] - 6s 195ms/step - loss: 2.1863 - accuracy: 0.9843 - val_loss: 3.0096 - val_accuracy: 0.5625\n",
      "Epoch 46/80\n",
      "29/29 [==============================] - 5s 177ms/step - loss: 2.1248 - accuracy: 0.9756 - val_loss: 2.9342 - val_accuracy: 0.6042\n",
      "Epoch 47/80\n",
      "29/29 [==============================] - 5s 186ms/step - loss: 2.0492 - accuracy: 0.9791 - val_loss: 2.8788 - val_accuracy: 0.6042\n",
      "Epoch 48/80\n",
      "29/29 [==============================] - 5s 186ms/step - loss: 1.9784 - accuracy: 0.9843 - val_loss: 2.8190 - val_accuracy: 0.5486\n",
      "Epoch 49/80\n",
      "29/29 [==============================] - 5s 185ms/step - loss: 1.9071 - accuracy: 0.9878 - val_loss: 2.8443 - val_accuracy: 0.5694\n",
      "Epoch 50/80\n",
      "29/29 [==============================] - 5s 186ms/step - loss: 1.8439 - accuracy: 0.9895 - val_loss: 2.7093 - val_accuracy: 0.5972\n",
      "Epoch 51/80\n",
      "29/29 [==============================] - 5s 185ms/step - loss: 1.7884 - accuracy: 0.9843 - val_loss: 2.6079 - val_accuracy: 0.6111\n",
      "Epoch 52/80\n",
      "29/29 [==============================] - 5s 186ms/step - loss: 1.7203 - accuracy: 0.9913 - val_loss: 2.6239 - val_accuracy: 0.6042\n",
      "Epoch 53/80\n",
      "29/29 [==============================] - 5s 186ms/step - loss: 1.6634 - accuracy: 0.9843 - val_loss: 2.5537 - val_accuracy: 0.5625\n",
      "Epoch 54/80\n",
      "29/29 [==============================] - 5s 187ms/step - loss: 1.6274 - accuracy: 0.9826 - val_loss: 2.4778 - val_accuracy: 0.5764\n",
      "Epoch 55/80\n",
      "29/29 [==============================] - 5s 185ms/step - loss: 1.5584 - accuracy: 0.9878 - val_loss: 2.4302 - val_accuracy: 0.5625\n",
      "Epoch 56/80\n",
      "29/29 [==============================] - 5s 188ms/step - loss: 1.5108 - accuracy: 0.9895 - val_loss: 2.3262 - val_accuracy: 0.5903\n",
      "Epoch 57/80\n",
      "29/29 [==============================] - 5s 190ms/step - loss: 1.4762 - accuracy: 0.9861 - val_loss: 2.3620 - val_accuracy: 0.5903\n",
      "Epoch 58/80\n",
      "29/29 [==============================] - 5s 182ms/step - loss: 1.4426 - accuracy: 0.9808 - val_loss: 2.2872 - val_accuracy: 0.5625\n",
      "Epoch 59/80\n",
      "29/29 [==============================] - 5s 181ms/step - loss: 1.3736 - accuracy: 0.9913 - val_loss: 2.2402 - val_accuracy: 0.6042\n",
      "Epoch 60/80\n",
      "29/29 [==============================] - 5s 184ms/step - loss: 1.3273 - accuracy: 0.9895 - val_loss: 2.1653 - val_accuracy: 0.5694\n",
      "Epoch 61/80\n",
      "29/29 [==============================] - 5s 183ms/step - loss: 1.2800 - accuracy: 0.9878 - val_loss: 2.1387 - val_accuracy: 0.5625\n",
      "Epoch 62/80\n",
      "29/29 [==============================] - 6s 197ms/step - loss: 1.2446 - accuracy: 0.9913 - val_loss: 2.0653 - val_accuracy: 0.5694\n",
      "Epoch 63/80\n",
      "29/29 [==============================] - 6s 211ms/step - loss: 1.2195 - accuracy: 0.9895 - val_loss: 2.0586 - val_accuracy: 0.6181\n",
      "Epoch 64/80\n",
      "29/29 [==============================] - 6s 197ms/step - loss: 1.1625 - accuracy: 0.9878 - val_loss: 2.0221 - val_accuracy: 0.5764\n",
      "Epoch 65/80\n",
      "29/29 [==============================] - 6s 206ms/step - loss: 1.1417 - accuracy: 0.9878 - val_loss: 2.0243 - val_accuracy: 0.5625\n",
      "Epoch 66/80\n",
      "29/29 [==============================] - 6s 199ms/step - loss: 1.1118 - accuracy: 0.9878 - val_loss: 1.9384 - val_accuracy: 0.5625\n",
      "Epoch 67/80\n",
      "29/29 [==============================] - 5s 188ms/step - loss: 1.0801 - accuracy: 0.9895 - val_loss: 1.9864 - val_accuracy: 0.5625\n",
      "Epoch 68/80\n",
      "29/29 [==============================] - 6s 191ms/step - loss: 1.0506 - accuracy: 0.9913 - val_loss: 1.8871 - val_accuracy: 0.5625\n",
      "Epoch 69/80\n",
      "29/29 [==============================] - 5s 188ms/step - loss: 1.0158 - accuracy: 0.9983 - val_loss: 1.8866 - val_accuracy: 0.5903\n",
      "Epoch 70/80\n",
      "29/29 [==============================] - 6s 190ms/step - loss: 0.9777 - accuracy: 0.9948 - val_loss: 1.8911 - val_accuracy: 0.6042\n",
      "Epoch 71/80\n",
      "29/29 [==============================] - 6s 223ms/step - loss: 0.9628 - accuracy: 0.9895 - val_loss: 1.8132 - val_accuracy: 0.5486\n",
      "Epoch 72/80\n",
      "29/29 [==============================] - 6s 209ms/step - loss: 0.9250 - accuracy: 0.9965 - val_loss: 1.7397 - val_accuracy: 0.6111\n",
      "Epoch 73/80\n",
      "29/29 [==============================] - 7s 234ms/step - loss: 0.9062 - accuracy: 0.9895 - val_loss: 1.8131 - val_accuracy: 0.5903\n",
      "Epoch 74/80\n",
      "29/29 [==============================] - 6s 196ms/step - loss: 0.8685 - accuracy: 0.9965 - val_loss: 1.7188 - val_accuracy: 0.5903\n",
      "Epoch 75/80\n",
      "29/29 [==============================] - 6s 192ms/step - loss: 0.8718 - accuracy: 0.9895 - val_loss: 1.7524 - val_accuracy: 0.5833\n",
      "Epoch 76/80\n",
      "29/29 [==============================] - 6s 192ms/step - loss: 0.8431 - accuracy: 0.9878 - val_loss: 1.7099 - val_accuracy: 0.5486\n",
      "Epoch 77/80\n",
      "29/29 [==============================] - 6s 199ms/step - loss: 0.8080 - accuracy: 0.9930 - val_loss: 1.7087 - val_accuracy: 0.5833\n",
      "Epoch 78/80\n",
      "29/29 [==============================] - 6s 200ms/step - loss: 0.8120 - accuracy: 0.9808 - val_loss: 1.6628 - val_accuracy: 0.5903\n",
      "Epoch 79/80\n",
      "29/29 [==============================] - 6s 201ms/step - loss: 0.7763 - accuracy: 0.9913 - val_loss: 1.6729 - val_accuracy: 0.5764\n",
      "Epoch 80/80\n",
      "29/29 [==============================] - 6s 193ms/step - loss: 0.7503 - accuracy: 0.9948 - val_loss: 1.6355 - val_accuracy: 0.5764\n"
     ]
    },
    {
     "data": {
      "text/plain": [
       "<keras.callbacks.History at 0x7fcd56acdfc0>"
      ]
     },
     "execution_count": 219,
     "metadata": {},
     "output_type": "execute_result"
    }
   ],
   "source": [
    "model3.fit(spec1_train_reshaped,y1_train,validation_data=(spec1_val_reshaped,y1_val),batch_size=20,epochs=80)"
   ]
  },
  {
   "cell_type": "code",
   "execution_count": 201,
   "id": "f1b97604",
   "metadata": {},
   "outputs": [],
   "source": [
    "# Load Spectrogram data set\n",
    "spec2_file = np.load(\"Features2D/npz_new/spec2_train_test.npz\")\n",
    "\n",
    "spec2_train = spec2_file['spec_train']\n",
    "y2_train = spec2_file['y_train']\n",
    "spec2_train,spec2_val,y2_train,y2_val = train_test_split(spec2_train,y2_train, \n",
    "                                                         train_size = 0.8, \n",
    "                                                         random_state = 13, \n",
    "                                                         stratify = y2_train)"
   ]
  },
  {
   "cell_type": "code",
   "execution_count": 202,
   "id": "17ff95e3",
   "metadata": {},
   "outputs": [],
   "source": [
    "# Feature Scaling\n",
    "spec2_train_scaled = spec2_train / np.amax(spec2_train)\n",
    "spec2_val_scaled = spec2_val / np.amax(spec2_val)"
   ]
  },
  {
   "cell_type": "code",
   "execution_count": 203,
   "id": "938f6a47",
   "metadata": {},
   "outputs": [],
   "source": [
    "# Reshape the data\n",
    "N,row,col = spec2_train_scaled.shape\n",
    "spec2_train_reshaped = spec2_train_scaled.reshape((N,row,col,1))\n",
    "N,row,col = spec2_val_scaled.shape\n",
    "spec2_val_reshaped = spec2_val_scaled.reshape((N,row,col,1))"
   ]
  },
  {
   "cell_type": "code",
   "execution_count": 204,
   "id": "a0ad9e5a",
   "metadata": {
    "scrolled": true
   },
   "outputs": [
    {
     "name": "stdout",
     "output_type": "stream",
     "text": [
      "Model: \"CNN2D_4\"\n",
      "_________________________________________________________________\n",
      " Layer (type)                Output Shape              Param #   \n",
      "=================================================================\n",
      " Conv2D_1 (Conv2D)           (None, 200, 200, 8)       80        \n",
      "                                                                 \n",
      " MaxPooling2D_1 (MaxPooling2  (None, 100, 100, 8)      0         \n",
      " D)                                                              \n",
      "                                                                 \n",
      " BN1 (BatchNormalization)    (None, 100, 100, 8)       32        \n",
      "                                                                 \n",
      " Conv2D_2 (Conv2D)           (None, 100, 100, 8)       584       \n",
      "                                                                 \n",
      " MaxPooling2D_2 (MaxPooling2  (None, 50, 50, 8)        0         \n",
      " D)                                                              \n",
      "                                                                 \n",
      " BN2 (BatchNormalization)    (None, 50, 50, 8)         32        \n",
      "                                                                 \n",
      " Conv2D_3 (Conv2D)           (None, 50, 50, 16)        1168      \n",
      "                                                                 \n",
      " MaxPooling2D_3 (MaxPooling2  (None, 25, 25, 16)       0         \n",
      " D)                                                              \n",
      "                                                                 \n",
      " BN3 (BatchNormalization)    (None, 25, 25, 16)        64        \n",
      "                                                                 \n",
      " Flatten (Flatten)           (None, 10000)             0         \n",
      "                                                                 \n",
      " Dense1 (Dense)              (None, 64)                640064    \n",
      "                                                                 \n",
      " Dropout1 (Dropout)          (None, 64)                0         \n",
      "                                                                 \n",
      " Dense2 (Dense)              (None, 32)                2080      \n",
      "                                                                 \n",
      " Dropout2 (Dropout)          (None, 32)                0         \n",
      "                                                                 \n",
      " Softmax (Dense)             (None, 4)                 132       \n",
      "                                                                 \n",
      "=================================================================\n",
      "Total params: 644,236\n",
      "Trainable params: 644,172\n",
      "Non-trainable params: 64\n",
      "_________________________________________________________________\n"
     ]
    }
   ],
   "source": [
    "f1,k1,a1 = 8,3,'relu'\n",
    "mw1,mh1,sw1,sh1 = 3,3,2,2\n",
    "f2,k2,a2 = 8,3,'relu'\n",
    "mw2,mh2,sw2,sh2 = 3,3,2,2\n",
    "f3,k3,a3 = 16,3,'relu'\n",
    "mw3,mh3,sw3,sh3 = 3,3,2,2\n",
    "d1,dr1,da1,r1 = 64,0.2,'relu',0.2\n",
    "d2,dr2,da2,r2 = 32,0.2,'relu',0.2\n",
    "num = 4\n",
    "model4 = modelBuilder3L(spec2_train_reshaped,\n",
    "                        f1,k1,a1,\n",
    "                        mw1,mh1,sw1,sh1,\n",
    "                        f2,k2,a2,\n",
    "                        mw2,mh2,sw2,sh2,\n",
    "                        f3,k3,a3,\n",
    "                        mw3,mh3,sw3,sh3,\n",
    "                        d1,dr1,da1,r1,\n",
    "                        d2,dr2,da2,r2,\n",
    "                        num)"
   ]
  },
  {
   "cell_type": "code",
   "execution_count": 205,
   "id": "b2d456b3",
   "metadata": {
    "scrolled": true
   },
   "outputs": [
    {
     "name": "stdout",
     "output_type": "stream",
     "text": [
      "Epoch 1/80\n",
      "15/15 [==============================] - 5s 195ms/step - loss: 34.9831 - accuracy: 0.2917 - val_loss: 33.8139 - val_accuracy: 0.3194\n",
      "Epoch 2/80\n",
      "15/15 [==============================] - 3s 193ms/step - loss: 32.8367 - accuracy: 0.4549 - val_loss: 32.1098 - val_accuracy: 0.2500\n",
      "Epoch 3/80\n",
      "15/15 [==============================] - 3s 176ms/step - loss: 30.9863 - accuracy: 0.5139 - val_loss: 30.4457 - val_accuracy: 0.2500\n",
      "Epoch 4/80\n",
      "15/15 [==============================] - 3s 182ms/step - loss: 29.1360 - accuracy: 0.6215 - val_loss: 28.9281 - val_accuracy: 0.2500\n",
      "Epoch 5/80\n",
      "15/15 [==============================] - 3s 182ms/step - loss: 27.3405 - accuracy: 0.6597 - val_loss: 27.5884 - val_accuracy: 0.2500\n",
      "Epoch 6/80\n",
      "15/15 [==============================] - 3s 197ms/step - loss: 25.7756 - accuracy: 0.6389 - val_loss: 26.1383 - val_accuracy: 0.2500\n",
      "Epoch 7/80\n",
      "15/15 [==============================] - 3s 184ms/step - loss: 24.1618 - accuracy: 0.7396 - val_loss: 24.9490 - val_accuracy: 0.2500\n",
      "Epoch 8/80\n",
      "15/15 [==============================] - 3s 188ms/step - loss: 22.6924 - accuracy: 0.7604 - val_loss: 23.9771 - val_accuracy: 0.2500\n",
      "Epoch 9/80\n",
      "15/15 [==============================] - 3s 180ms/step - loss: 21.3345 - accuracy: 0.7812 - val_loss: 22.8658 - val_accuracy: 0.2500\n",
      "Epoch 10/80\n",
      "15/15 [==============================] - 3s 179ms/step - loss: 20.0355 - accuracy: 0.8611 - val_loss: 21.9126 - val_accuracy: 0.2500\n",
      "Epoch 11/80\n",
      "15/15 [==============================] - 3s 182ms/step - loss: 18.8977 - accuracy: 0.8125 - val_loss: 21.2741 - val_accuracy: 0.2500\n",
      "Epoch 12/80\n",
      "15/15 [==============================] - 3s 176ms/step - loss: 17.7980 - accuracy: 0.8472 - val_loss: 20.0491 - val_accuracy: 0.2500\n",
      "Epoch 13/80\n",
      "15/15 [==============================] - 3s 181ms/step - loss: 16.7726 - accuracy: 0.8785 - val_loss: 18.8785 - val_accuracy: 0.2500\n",
      "Epoch 14/80\n",
      "15/15 [==============================] - 3s 182ms/step - loss: 15.8484 - accuracy: 0.8681 - val_loss: 18.1780 - val_accuracy: 0.2500\n",
      "Epoch 15/80\n",
      "15/15 [==============================] - 3s 182ms/step - loss: 14.9530 - accuracy: 0.8924 - val_loss: 17.8157 - val_accuracy: 0.2500\n",
      "Epoch 16/80\n",
      "15/15 [==============================] - 3s 182ms/step - loss: 14.0920 - accuracy: 0.9236 - val_loss: 17.3145 - val_accuracy: 0.2500\n",
      "Epoch 17/80\n",
      "15/15 [==============================] - 3s 179ms/step - loss: 13.3642 - accuracy: 0.8993 - val_loss: 16.9148 - val_accuracy: 0.2500\n",
      "Epoch 18/80\n",
      "15/15 [==============================] - 3s 182ms/step - loss: 12.6947 - accuracy: 0.9062 - val_loss: 15.6393 - val_accuracy: 0.2500\n",
      "Epoch 19/80\n",
      "15/15 [==============================] - 3s 173ms/step - loss: 12.0011 - accuracy: 0.9479 - val_loss: 15.4460 - val_accuracy: 0.2500\n",
      "Epoch 20/80\n",
      "15/15 [==============================] - 3s 175ms/step - loss: 11.3995 - accuracy: 0.9444 - val_loss: 15.0412 - val_accuracy: 0.2500\n",
      "Epoch 21/80\n",
      "15/15 [==============================] - 3s 182ms/step - loss: 10.8513 - accuracy: 0.9340 - val_loss: 14.4474 - val_accuracy: 0.2500\n",
      "Epoch 22/80\n",
      "15/15 [==============================] - 3s 193ms/step - loss: 10.3476 - accuracy: 0.9306 - val_loss: 13.6955 - val_accuracy: 0.2500\n",
      "Epoch 23/80\n",
      "15/15 [==============================] - 3s 195ms/step - loss: 9.8545 - accuracy: 0.9444 - val_loss: 13.5883 - val_accuracy: 0.2500\n",
      "Epoch 24/80\n",
      "15/15 [==============================] - 3s 184ms/step - loss: 9.3840 - accuracy: 0.9757 - val_loss: 12.7000 - val_accuracy: 0.2500\n",
      "Epoch 25/80\n",
      "15/15 [==============================] - 3s 193ms/step - loss: 8.9731 - accuracy: 0.9653 - val_loss: 12.3746 - val_accuracy: 0.2500\n",
      "Epoch 26/80\n",
      "15/15 [==============================] - 3s 189ms/step - loss: 8.5839 - accuracy: 0.9618 - val_loss: 11.6836 - val_accuracy: 0.2500\n",
      "Epoch 27/80\n",
      "15/15 [==============================] - 3s 188ms/step - loss: 8.2214 - accuracy: 0.9757 - val_loss: 10.8031 - val_accuracy: 0.2500\n",
      "Epoch 28/80\n",
      "15/15 [==============================] - 3s 181ms/step - loss: 7.8888 - accuracy: 0.9479 - val_loss: 11.0881 - val_accuracy: 0.2500\n",
      "Epoch 29/80\n",
      "15/15 [==============================] - 3s 190ms/step - loss: 7.5566 - accuracy: 0.9688 - val_loss: 10.6952 - val_accuracy: 0.2500\n",
      "Epoch 30/80\n",
      "15/15 [==============================] - 3s 188ms/step - loss: 7.2709 - accuracy: 0.9792 - val_loss: 9.7814 - val_accuracy: 0.3056\n",
      "Epoch 31/80\n",
      "15/15 [==============================] - 3s 197ms/step - loss: 7.0121 - accuracy: 0.9757 - val_loss: 9.0249 - val_accuracy: 0.3750\n",
      "Epoch 32/80\n",
      "15/15 [==============================] - 3s 190ms/step - loss: 6.7326 - accuracy: 0.9931 - val_loss: 8.6998 - val_accuracy: 0.3750\n",
      "Epoch 33/80\n",
      "15/15 [==============================] - 3s 177ms/step - loss: 6.5207 - accuracy: 0.9792 - val_loss: 8.4211 - val_accuracy: 0.4028\n",
      "Epoch 34/80\n",
      "15/15 [==============================] - 3s 175ms/step - loss: 6.3326 - accuracy: 0.9688 - val_loss: 7.7848 - val_accuracy: 0.4583\n",
      "Epoch 35/80\n",
      "15/15 [==============================] - 3s 191ms/step - loss: 6.0957 - accuracy: 0.9826 - val_loss: 7.4007 - val_accuracy: 0.5278\n",
      "Epoch 36/80\n",
      "15/15 [==============================] - 3s 184ms/step - loss: 5.9403 - accuracy: 0.9757 - val_loss: 7.1379 - val_accuracy: 0.5278\n",
      "Epoch 37/80\n",
      "15/15 [==============================] - 3s 197ms/step - loss: 5.7404 - accuracy: 0.9618 - val_loss: 6.6533 - val_accuracy: 0.6111\n",
      "Epoch 38/80\n",
      "15/15 [==============================] - 3s 190ms/step - loss: 5.5708 - accuracy: 0.9722 - val_loss: 6.3263 - val_accuracy: 0.6806\n",
      "Epoch 39/80\n",
      "15/15 [==============================] - 3s 178ms/step - loss: 5.4068 - accuracy: 0.9792 - val_loss: 6.1031 - val_accuracy: 0.6944\n",
      "Epoch 40/80\n",
      "15/15 [==============================] - 3s 174ms/step - loss: 5.2552 - accuracy: 0.9653 - val_loss: 5.7769 - val_accuracy: 0.7361\n",
      "Epoch 41/80\n",
      "15/15 [==============================] - 3s 174ms/step - loss: 5.1074 - accuracy: 0.9722 - val_loss: 5.5885 - val_accuracy: 0.7361\n",
      "Epoch 42/80\n",
      "15/15 [==============================] - 3s 174ms/step - loss: 4.9897 - accuracy: 0.9722 - val_loss: 5.5218 - val_accuracy: 0.7222\n",
      "Epoch 43/80\n",
      "15/15 [==============================] - 3s 190ms/step - loss: 4.8564 - accuracy: 0.9896 - val_loss: 5.3917 - val_accuracy: 0.7083\n",
      "Epoch 44/80\n",
      "15/15 [==============================] - 3s 208ms/step - loss: 4.7274 - accuracy: 0.9826 - val_loss: 5.1701 - val_accuracy: 0.7639\n",
      "Epoch 45/80\n",
      "15/15 [==============================] - 3s 206ms/step - loss: 4.6058 - accuracy: 0.9826 - val_loss: 5.0402 - val_accuracy: 0.8056\n",
      "Epoch 46/80\n",
      "15/15 [==============================] - 3s 200ms/step - loss: 4.4785 - accuracy: 0.9965 - val_loss: 4.9174 - val_accuracy: 0.7778\n",
      "Epoch 47/80\n",
      "15/15 [==============================] - 3s 205ms/step - loss: 4.3836 - accuracy: 0.9826 - val_loss: 4.8030 - val_accuracy: 0.7639\n",
      "Epoch 48/80\n",
      "15/15 [==============================] - 3s 203ms/step - loss: 4.2842 - accuracy: 0.9826 - val_loss: 4.7278 - val_accuracy: 0.7778\n",
      "Epoch 49/80\n",
      "15/15 [==============================] - 3s 195ms/step - loss: 4.2047 - accuracy: 0.9757 - val_loss: 4.6145 - val_accuracy: 0.7639\n",
      "Epoch 50/80\n",
      "15/15 [==============================] - 3s 199ms/step - loss: 4.0747 - accuracy: 0.9896 - val_loss: 4.4599 - val_accuracy: 0.8472\n",
      "Epoch 51/80\n",
      "15/15 [==============================] - 3s 199ms/step - loss: 4.0178 - accuracy: 0.9792 - val_loss: 4.4395 - val_accuracy: 0.7917\n",
      "Epoch 52/80\n",
      "15/15 [==============================] - 3s 203ms/step - loss: 3.9122 - accuracy: 0.9965 - val_loss: 4.3189 - val_accuracy: 0.8194\n",
      "Epoch 53/80\n",
      "15/15 [==============================] - 3s 182ms/step - loss: 3.8287 - accuracy: 0.9931 - val_loss: 4.2603 - val_accuracy: 0.8056\n",
      "Epoch 54/80\n",
      "15/15 [==============================] - 3s 185ms/step - loss: 3.7654 - accuracy: 0.9722 - val_loss: 4.2193 - val_accuracy: 0.7778\n",
      "Epoch 55/80\n",
      "15/15 [==============================] - 3s 184ms/step - loss: 3.6675 - accuracy: 0.9896 - val_loss: 4.1215 - val_accuracy: 0.7917\n",
      "Epoch 56/80\n",
      "15/15 [==============================] - 3s 179ms/step - loss: 3.5928 - accuracy: 0.9861 - val_loss: 4.0136 - val_accuracy: 0.8056\n",
      "Epoch 57/80\n",
      "15/15 [==============================] - 3s 189ms/step - loss: 3.5145 - accuracy: 0.9965 - val_loss: 3.9509 - val_accuracy: 0.7917\n"
     ]
    },
    {
     "name": "stdout",
     "output_type": "stream",
     "text": [
      "Epoch 58/80\n",
      "15/15 [==============================] - 3s 193ms/step - loss: 3.4643 - accuracy: 0.9861 - val_loss: 3.8638 - val_accuracy: 0.8056\n",
      "Epoch 59/80\n",
      "15/15 [==============================] - 3s 180ms/step - loss: 3.3960 - accuracy: 0.9792 - val_loss: 3.7834 - val_accuracy: 0.8056\n",
      "Epoch 60/80\n",
      "15/15 [==============================] - 3s 176ms/step - loss: 3.3145 - accuracy: 0.9896 - val_loss: 3.7033 - val_accuracy: 0.8194\n",
      "Epoch 61/80\n",
      "15/15 [==============================] - 3s 181ms/step - loss: 3.2728 - accuracy: 0.9757 - val_loss: 3.6457 - val_accuracy: 0.7639\n",
      "Epoch 62/80\n",
      "15/15 [==============================] - 3s 177ms/step - loss: 3.2073 - accuracy: 0.9931 - val_loss: 3.6342 - val_accuracy: 0.8056\n",
      "Epoch 63/80\n",
      "15/15 [==============================] - 3s 186ms/step - loss: 3.1267 - accuracy: 0.9965 - val_loss: 3.5316 - val_accuracy: 0.7778\n",
      "Epoch 64/80\n",
      "15/15 [==============================] - 3s 176ms/step - loss: 3.0933 - accuracy: 0.9792 - val_loss: 3.5189 - val_accuracy: 0.7639\n",
      "Epoch 65/80\n",
      "15/15 [==============================] - 3s 172ms/step - loss: 3.0285 - accuracy: 0.9896 - val_loss: 3.4639 - val_accuracy: 0.7917\n",
      "Epoch 66/80\n",
      "15/15 [==============================] - 3s 179ms/step - loss: 2.9656 - accuracy: 0.9931 - val_loss: 3.4244 - val_accuracy: 0.8056\n",
      "Epoch 67/80\n",
      "15/15 [==============================] - 3s 177ms/step - loss: 2.8761 - accuracy: 0.9965 - val_loss: 3.3124 - val_accuracy: 0.8194\n",
      "Epoch 68/80\n",
      "15/15 [==============================] - 3s 176ms/step - loss: 2.8473 - accuracy: 0.9931 - val_loss: 3.2625 - val_accuracy: 0.7917\n",
      "Epoch 69/80\n",
      "15/15 [==============================] - 3s 176ms/step - loss: 2.7809 - accuracy: 0.9965 - val_loss: 3.2475 - val_accuracy: 0.7917\n",
      "Epoch 70/80\n",
      "15/15 [==============================] - 3s 174ms/step - loss: 2.7383 - accuracy: 0.9896 - val_loss: 3.1708 - val_accuracy: 0.7778\n",
      "Epoch 71/80\n",
      "15/15 [==============================] - 3s 188ms/step - loss: 2.6752 - accuracy: 1.0000 - val_loss: 3.0853 - val_accuracy: 0.7917\n",
      "Epoch 72/80\n",
      "15/15 [==============================] - 3s 179ms/step - loss: 2.6289 - accuracy: 0.9931 - val_loss: 3.0313 - val_accuracy: 0.8056\n",
      "Epoch 73/80\n",
      "15/15 [==============================] - 3s 178ms/step - loss: 2.5853 - accuracy: 0.9861 - val_loss: 3.0507 - val_accuracy: 0.7778\n",
      "Epoch 74/80\n",
      "15/15 [==============================] - 3s 177ms/step - loss: 2.5359 - accuracy: 0.9896 - val_loss: 2.9973 - val_accuracy: 0.7639\n",
      "Epoch 75/80\n",
      "15/15 [==============================] - 3s 177ms/step - loss: 2.4879 - accuracy: 0.9896 - val_loss: 2.9229 - val_accuracy: 0.7778\n",
      "Epoch 76/80\n",
      "15/15 [==============================] - 3s 175ms/step - loss: 2.4523 - accuracy: 0.9896 - val_loss: 2.8433 - val_accuracy: 0.8056\n",
      "Epoch 77/80\n",
      "15/15 [==============================] - 3s 179ms/step - loss: 2.4053 - accuracy: 0.9965 - val_loss: 2.8400 - val_accuracy: 0.7778\n",
      "Epoch 78/80\n",
      "15/15 [==============================] - 3s 177ms/step - loss: 2.3461 - accuracy: 1.0000 - val_loss: 2.7578 - val_accuracy: 0.7917\n",
      "Epoch 79/80\n",
      "15/15 [==============================] - 3s 180ms/step - loss: 2.3012 - accuracy: 0.9861 - val_loss: 2.7274 - val_accuracy: 0.8333\n",
      "Epoch 80/80\n",
      "15/15 [==============================] - 3s 180ms/step - loss: 2.2575 - accuracy: 0.9931 - val_loss: 2.6571 - val_accuracy: 0.8472\n"
     ]
    }
   ],
   "source": [
    "history4 = model4.fit(spec2_train_reshaped,y2_train,validation_data=(spec2_val_reshaped,y2_val),batch_size=20,epochs=80)"
   ]
  },
  {
   "cell_type": "code",
   "execution_count": 213,
   "id": "ab81b54a",
   "metadata": {},
   "outputs": [
    {
     "data": {
      "text/plain": [
       "Text(0, 0.5, 'loss')"
      ]
     },
     "execution_count": 213,
     "metadata": {},
     "output_type": "execute_result"
    },
    {
     "data": {
      "image/png": "[encoded data removed]",
      "text/plain": [
       "<Figure size 1200x400 with 2 Axes>"
      ]
     },
     "metadata": {},
     "output_type": "display_data"
    }
   ],
   "source": [
    "# Train and Validation accuracy and loss\n",
    "f = plt.figure(figsize = (12,4))\n",
    "\n",
    "plt.subplot(1,2,1)\n",
    "plt.title('train validation accuracy')\n",
    "plt.plot(history4.history['accuracy'])\n",
    "plt.plot(history4.history['val_accuracy'])\n",
    "plt.legend(['train','validation'])\n",
    "plt.xlabel('epoch')\n",
    "plt.ylabel('accuracy')\n",
    "\n",
    "\n",
    "plt.subplot(1,2,2)\n",
    "plt.title('train validation loss')\n",
    "plt.plot(history4.history['loss'])\n",
    "plt.plot(history4.history['val_loss'])\n",
    "plt.legend(['train','validation'])\n",
    "plt.xlabel('epoch')\n",
    "plt.ylabel('loss')"
   ]
  },
  {
   "cell_type": "code",
   "execution_count": 207,
   "id": "fa01cbc1",
   "metadata": {},
   "outputs": [],
   "source": [
    "spec2_test = spec2_file['spec_test']\n",
    "y2_test_spec = spec2_file['y_test']"
   ]
  },
  {
   "cell_type": "code",
   "execution_count": 208,
   "id": "2f4a75e7",
   "metadata": {},
   "outputs": [],
   "source": [
    "# Feature Scaling\n",
    "spec2_test_scaled = spec2_test / np.amax(spec2_test)\n",
    "\n",
    "# Reshape the data\n",
    "N,row,col = spec2_test_scaled.shape\n",
    "spec2_test_reshaped = spec2_test_scaled.reshape((N,row,col,1))"
   ]
  },
  {
   "cell_type": "code",
   "execution_count": 209,
   "id": "1bc4e9d2",
   "metadata": {},
   "outputs": [
    {
     "name": "stdout",
     "output_type": "stream",
     "text": [
      "2/2 [==============================] - 0s 23ms/step\n"
     ]
    }
   ],
   "source": [
    "y2_prob = model4.predict(spec2_test_reshaped)\n",
    "y2_pred = np.argmax(y2_prob, axis = -1)"
   ]
  },
  {
   "cell_type": "code",
   "execution_count": 210,
   "id": "6e24d398",
   "metadata": {},
   "outputs": [],
   "source": [
    "# Accuracy\n",
    "acc2_2d = round(accuracy_score(y2_pred,y2_test_spec),2)"
   ]
  },
  {
   "cell_type": "code",
   "execution_count": 211,
   "id": "a47fffb1",
   "metadata": {},
   "outputs": [],
   "source": [
    "# Confusion Matrix\n",
    "cm_spec = confusion_matrix(y2_test_spec,y2_pred)\n",
    "cm_2d_spec = ConfusionMatrixDisplay(confusion_matrix = cm_spec, display_labels = ['Angry', 'Happy', 'Relaxed', 'Sad'])"
   ]
  },
  {
   "cell_type": "code",
   "execution_count": 212,
   "id": "89485764",
   "metadata": {
    "scrolled": false
   },
   "outputs": [
    {
     "name": "stdout",
     "output_type": "stream",
     "text": [
      "              precision    recall  f1-score   support\n",
      "\n",
      "       Angry       1.00      0.60      0.75        10\n",
      "       Happy       0.77      1.00      0.87        10\n",
      "     Relaxed       0.73      0.80      0.76        10\n",
      "         Sad       0.70      0.70      0.70        10\n",
      "\n",
      "    accuracy                           0.78        40\n",
      "   macro avg       0.80      0.78      0.77        40\n",
      "weighted avg       0.80      0.78      0.77        40\n",
      "\n"
     ]
    },
    {
     "data": {
      "image/png": "[encoded data removed]",
      "text/plain": [
       "<Figure size 640x480 with 2 Axes>"
      ]
     },
     "metadata": {},
     "output_type": "display_data"
    }
   ],
   "source": [
    "print(classification_report(y2_test_spec, y2_pred, target_names = ['Angry', 'Happy', 'Relaxed', 'Sad']))\n",
    "cm_2d_spec.plot()\n",
    "plt.show()"
   ]
  },
  {
   "cell_type": "markdown",
   "id": "a93c86f2",
   "metadata": {},
   "source": [
    "### 4.3 mel spectrogram"
   ]
  },
  {
   "cell_type": "code",
   "execution_count": 101,
   "id": "e9ced243",
   "metadata": {},
   "outputs": [],
   "source": [
    "# Load mel data set\n",
    "mel1_file = np.load(\"Features2D/npz_new/mel1_train_test.npz\")\n",
    "\n",
    "mel1_train = mel1_file['mel_train']\n",
    "y1_train = mel1_file['y_train']\n",
    "mel1_train,mel1_val,y1_train,y1_val = train_test_split(mel1_train,y1_train, \n",
    "                                                       train_size = 0.8, \n",
    "                                                       random_state = 13, \n",
    "                                                       stratify= y1_train)"
   ]
  },
  {
   "cell_type": "code",
   "execution_count": 102,
   "id": "bec79f5b",
   "metadata": {},
   "outputs": [],
   "source": [
    "# Feature Scaling\n",
    "mel1_train_scaled = (mel1_train - np.mean(mel1_train))/np.std(mel1_train)\n",
    "mel1_val_scaled = (mel1_val - np.mean(mel1_val))/np.std(mel1_val)"
   ]
  },
  {
   "cell_type": "code",
   "execution_count": 103,
   "id": "d0c14e8a",
   "metadata": {},
   "outputs": [],
   "source": [
    "# Reshape the data\n",
    "N,row,col = mel1_train_scaled.shape\n",
    "mel1_train_reshaped = mel1_train_scaled.reshape((N,row,col,1))\n",
    "\n",
    "N,row,col = mel1_val_scaled.shape\n",
    "mel1_val_reshaped = mel1_val_scaled.reshape((N,row,col,1))"
   ]
  },
  {
   "cell_type": "code",
   "execution_count": 104,
   "id": "2356fd9a",
   "metadata": {
    "scrolled": true
   },
   "outputs": [
    {
     "name": "stdout",
     "output_type": "stream",
     "text": [
      "Model: \"CNN2D_5\"\n",
      "_________________________________________________________________\n",
      " Layer (type)                Output Shape              Param #   \n",
      "=================================================================\n",
      " Conv2D_1 (Conv2D)           (None, 300, 400, 8)       80        \n",
      "                                                                 \n",
      " MaxPooling2D_1 (MaxPooling2  (None, 150, 200, 8)      0         \n",
      " D)                                                              \n",
      "                                                                 \n",
      " BN1 (BatchNormalization)    (None, 150, 200, 8)       32        \n",
      "                                                                 \n",
      " Conv2D_2 (Conv2D)           (None, 150, 200, 8)       584       \n",
      "                                                                 \n",
      " MaxPooling2D_2 (MaxPooling2  (None, 75, 100, 8)       0         \n",
      " D)                                                              \n",
      "                                                                 \n",
      " BN2 (BatchNormalization)    (None, 75, 100, 8)        32        \n",
      "                                                                 \n",
      " Conv2D_3 (Conv2D)           (None, 75, 100, 16)       3216      \n",
      "                                                                 \n",
      " MaxPooling2D_3 (MaxPooling2  (None, 38, 50, 16)       0         \n",
      " D)                                                              \n",
      "                                                                 \n",
      " BN3 (BatchNormalization)    (None, 38, 50, 16)        64        \n",
      "                                                                 \n",
      " Flatten (Flatten)           (None, 30400)             0         \n",
      "                                                                 \n",
      " Dense1 (Dense)              (None, 64)                1945664   \n",
      "                                                                 \n",
      " Dropout1 (Dropout)          (None, 64)                0         \n",
      "                                                                 \n",
      " Dense2 (Dense)              (None, 32)                2080      \n",
      "                                                                 \n",
      " Dropout2 (Dropout)          (None, 32)                0         \n",
      "                                                                 \n",
      " Softmax (Dense)             (None, 4)                 132       \n",
      "                                                                 \n",
      "=================================================================\n",
      "Total params: 1,951,884\n",
      "Trainable params: 1,951,820\n",
      "Non-trainable params: 64\n",
      "_________________________________________________________________\n"
     ]
    }
   ],
   "source": [
    "f1,k1,a1 = 8,3,'relu'\n",
    "mw1,mh1,sw1,sh1 = 2,3,2,2\n",
    "f2,k2,a2 = 8,3,'relu'\n",
    "mw2,mh2,sw2,sh2 = 2,3,2,2\n",
    "f3,k3,a3 = 16,3,'relu'\n",
    "mw3,mh3,sw3,sh3 = 2,3,2,2\n",
    "d1,dr1,da1,r1 = 64,0.2,'relu',0.2\n",
    "d2,dr2,da2,r2 = 32,0.2,'relu',0.2\n",
    "num = 5\n",
    "model5 = modelBuilder3L(mel1_train_reshaped,\n",
    "                        f1,k1,a1,\n",
    "                        mw1,mh1,sw1,sh1,\n",
    "                        f2,k2,a2,\n",
    "                        mw2,mh2,sw2,sh2,\n",
    "                        f3,k3,a3,\n",
    "                        mw3,mh3,sw3,sh3,\n",
    "                        d1,dr1,da1,r1,\n",
    "                        d2,dr2,da2,r2,\n",
    "                        num)"
   ]
  },
  {
   "cell_type": "code",
   "execution_count": 105,
   "id": "ce17673d",
   "metadata": {
    "scrolled": true
   },
   "outputs": [
    {
     "name": "stdout",
     "output_type": "stream",
     "text": [
      "Epoch 1/80\n",
      "29/29 [==============================] - 20s 618ms/step - loss: 33.4322 - accuracy: 0.3763 - val_loss: 30.8477 - val_accuracy: 0.2500\n",
      "Epoch 2/80\n",
      "29/29 [==============================] - 16s 541ms/step - loss: 28.2444 - accuracy: 0.4286 - val_loss: 26.0775 - val_accuracy: 0.2500\n",
      "Epoch 3/80\n",
      "29/29 [==============================] - 16s 549ms/step - loss: 23.6201 - accuracy: 0.4495 - val_loss: 22.5402 - val_accuracy: 0.2500\n",
      "Epoch 4/80\n",
      "29/29 [==============================] - 16s 538ms/step - loss: 20.0100 - accuracy: 0.4704 - val_loss: 19.8260 - val_accuracy: 0.2500\n",
      "Epoch 5/80\n",
      "29/29 [==============================] - 15s 534ms/step - loss: 17.1801 - accuracy: 0.4564 - val_loss: 17.0021 - val_accuracy: 0.2500\n",
      "Epoch 6/80\n",
      "29/29 [==============================] - 17s 588ms/step - loss: 14.9620 - accuracy: 0.4599 - val_loss: 15.8493 - val_accuracy: 0.2500\n",
      "Epoch 7/80\n",
      "29/29 [==============================] - 16s 538ms/step - loss: 13.2009 - accuracy: 0.5348 - val_loss: 13.5176 - val_accuracy: 0.2500\n",
      "Epoch 8/80\n",
      "29/29 [==============================] - 16s 538ms/step - loss: 11.7856 - accuracy: 0.5889 - val_loss: 11.9361 - val_accuracy: 0.2500\n",
      "Epoch 9/80\n",
      "29/29 [==============================] - 15s 523ms/step - loss: 10.7554 - accuracy: 0.5889 - val_loss: 10.7770 - val_accuracy: 0.2569\n",
      "Epoch 10/80\n",
      "29/29 [==============================] - 15s 535ms/step - loss: 9.8415 - accuracy: 0.6167 - val_loss: 10.2014 - val_accuracy: 0.2778\n",
      "Epoch 11/80\n",
      "29/29 [==============================] - 18s 622ms/step - loss: 9.1244 - accuracy: 0.6341 - val_loss: 9.5558 - val_accuracy: 0.3125\n",
      "Epoch 12/80\n",
      "29/29 [==============================] - 16s 549ms/step - loss: 8.4856 - accuracy: 0.6185 - val_loss: 8.6412 - val_accuracy: 0.4375\n",
      "Epoch 13/80\n",
      "29/29 [==============================] - 15s 527ms/step - loss: 7.9677 - accuracy: 0.6638 - val_loss: 8.1034 - val_accuracy: 0.4167\n",
      "Epoch 14/80\n",
      "29/29 [==============================] - 16s 537ms/step - loss: 7.5119 - accuracy: 0.6951 - val_loss: 7.6997 - val_accuracy: 0.4722\n",
      "Epoch 15/80\n",
      "29/29 [==============================] - 15s 527ms/step - loss: 7.1844 - accuracy: 0.6864 - val_loss: 7.3292 - val_accuracy: 0.4931\n",
      "Epoch 16/80\n",
      "29/29 [==============================] - 15s 523ms/step - loss: 6.8029 - accuracy: 0.7143 - val_loss: 6.9373 - val_accuracy: 0.5556\n",
      "Epoch 17/80\n",
      "29/29 [==============================] - 15s 531ms/step - loss: 6.4539 - accuracy: 0.7491 - val_loss: 6.7501 - val_accuracy: 0.5486\n",
      "Epoch 18/80\n",
      "29/29 [==============================] - 15s 523ms/step - loss: 6.1722 - accuracy: 0.7613 - val_loss: 6.4319 - val_accuracy: 0.5903\n",
      "Epoch 19/80\n",
      "29/29 [==============================] - 15s 532ms/step - loss: 5.9550 - accuracy: 0.7334 - val_loss: 6.2729 - val_accuracy: 0.5139\n",
      "Epoch 20/80\n",
      "29/29 [==============================] - 17s 602ms/step - loss: 5.6803 - accuracy: 0.7648 - val_loss: 6.0475 - val_accuracy: 0.5764\n",
      "Epoch 21/80\n",
      "29/29 [==============================] - 20s 686ms/step - loss: 5.4798 - accuracy: 0.7735 - val_loss: 5.8354 - val_accuracy: 0.5833\n",
      "Epoch 22/80\n",
      "29/29 [==============================] - 20s 701ms/step - loss: 5.1596 - accuracy: 0.8275 - val_loss: 5.6765 - val_accuracy: 0.5764\n",
      "Epoch 23/80\n",
      "29/29 [==============================] - 17s 597ms/step - loss: 5.0398 - accuracy: 0.8136 - val_loss: 5.5355 - val_accuracy: 0.5486\n",
      "Epoch 24/80\n",
      "29/29 [==============================] - 16s 548ms/step - loss: 4.9012 - accuracy: 0.8118 - val_loss: 5.2867 - val_accuracy: 0.5625\n",
      "Epoch 25/80\n",
      "29/29 [==============================] - 15s 527ms/step - loss: 4.7062 - accuracy: 0.8502 - val_loss: 5.2597 - val_accuracy: 0.5278\n",
      "Epoch 26/80\n",
      "29/29 [==============================] - 18s 617ms/step - loss: 4.5074 - accuracy: 0.8624 - val_loss: 5.0695 - val_accuracy: 0.5556\n",
      "Epoch 27/80\n",
      "29/29 [==============================] - 16s 552ms/step - loss: 4.3875 - accuracy: 0.8380 - val_loss: 4.9457 - val_accuracy: 0.5278\n",
      "Epoch 28/80\n",
      "29/29 [==============================] - 15s 522ms/step - loss: 4.1938 - accuracy: 0.8763 - val_loss: 4.7695 - val_accuracy: 0.5556\n",
      "Epoch 29/80\n",
      "29/29 [==============================] - 15s 524ms/step - loss: 4.0058 - accuracy: 0.9251 - val_loss: 4.7092 - val_accuracy: 0.5556\n",
      "Epoch 30/80\n",
      "29/29 [==============================] - 16s 535ms/step - loss: 3.8690 - accuracy: 0.9129 - val_loss: 4.5373 - val_accuracy: 0.5486\n",
      "Epoch 31/80\n",
      "29/29 [==============================] - 17s 591ms/step - loss: 3.7554 - accuracy: 0.8815 - val_loss: 4.4256 - val_accuracy: 0.5764\n",
      "Epoch 32/80\n",
      "29/29 [==============================] - 18s 619ms/step - loss: 3.6173 - accuracy: 0.8972 - val_loss: 4.3315 - val_accuracy: 0.5556\n",
      "Epoch 33/80\n",
      "29/29 [==============================] - 16s 559ms/step - loss: 3.5213 - accuracy: 0.9181 - val_loss: 4.1842 - val_accuracy: 0.5486\n",
      "Epoch 34/80\n",
      "29/29 [==============================] - 17s 581ms/step - loss: 3.3651 - accuracy: 0.9373 - val_loss: 4.2227 - val_accuracy: 0.5486\n",
      "Epoch 35/80\n",
      "29/29 [==============================] - 16s 560ms/step - loss: 3.2477 - accuracy: 0.9268 - val_loss: 4.0876 - val_accuracy: 0.5764\n",
      "Epoch 36/80\n",
      "29/29 [==============================] - 16s 541ms/step - loss: 3.1690 - accuracy: 0.9338 - val_loss: 3.9796 - val_accuracy: 0.5208\n",
      "Epoch 37/80\n",
      "29/29 [==============================] - 15s 518ms/step - loss: 3.0632 - accuracy: 0.9268 - val_loss: 3.8439 - val_accuracy: 0.5208\n",
      "Epoch 38/80\n",
      "29/29 [==============================] - 15s 521ms/step - loss: 2.9604 - accuracy: 0.9303 - val_loss: 3.7915 - val_accuracy: 0.5208\n",
      "Epoch 39/80\n",
      "29/29 [==============================] - 15s 528ms/step - loss: 2.8265 - accuracy: 0.9477 - val_loss: 3.6861 - val_accuracy: 0.5625\n",
      "Epoch 40/80\n",
      "29/29 [==============================] - 15s 521ms/step - loss: 2.7095 - accuracy: 0.9582 - val_loss: 3.5280 - val_accuracy: 0.5417\n",
      "Epoch 41/80\n",
      "29/29 [==============================] - 15s 525ms/step - loss: 2.6558 - accuracy: 0.9338 - val_loss: 3.5424 - val_accuracy: 0.5764\n",
      "Epoch 42/80\n",
      "29/29 [==============================] - 15s 515ms/step - loss: 2.5497 - accuracy: 0.9530 - val_loss: 3.4469 - val_accuracy: 0.5486\n",
      "Epoch 43/80\n",
      "29/29 [==============================] - 15s 532ms/step - loss: 2.4724 - accuracy: 0.9512 - val_loss: 3.4020 - val_accuracy: 0.5833\n",
      "Epoch 44/80\n",
      "29/29 [==============================] - 15s 526ms/step - loss: 2.3744 - accuracy: 0.9669 - val_loss: 3.2865 - val_accuracy: 0.5625\n",
      "Epoch 45/80\n",
      "29/29 [==============================] - 18s 612ms/step - loss: 2.3395 - accuracy: 0.9355 - val_loss: 3.2477 - val_accuracy: 0.5417\n",
      "Epoch 46/80\n",
      "29/29 [==============================] - 16s 565ms/step - loss: 2.2442 - accuracy: 0.9547 - val_loss: 3.1202 - val_accuracy: 0.5486\n",
      "Epoch 47/80\n",
      "29/29 [==============================] - 17s 600ms/step - loss: 2.1847 - accuracy: 0.9443 - val_loss: 2.9915 - val_accuracy: 0.5833\n",
      "Epoch 48/80\n",
      "29/29 [==============================] - 16s 567ms/step - loss: 2.0941 - accuracy: 0.9582 - val_loss: 3.0251 - val_accuracy: 0.5486\n",
      "Epoch 49/80\n",
      "29/29 [==============================] - 15s 508ms/step - loss: 2.0562 - accuracy: 0.9460 - val_loss: 2.9128 - val_accuracy: 0.5556\n",
      "Epoch 50/80\n",
      "29/29 [==============================] - 15s 510ms/step - loss: 1.9624 - accuracy: 0.9739 - val_loss: 2.8717 - val_accuracy: 0.5347\n",
      "Epoch 51/80\n",
      "29/29 [==============================] - 15s 506ms/step - loss: 1.9024 - accuracy: 0.9564 - val_loss: 2.8080 - val_accuracy: 0.5417\n",
      "Epoch 52/80\n",
      "29/29 [==============================] - 15s 513ms/step - loss: 1.8513 - accuracy: 0.9634 - val_loss: 2.7152 - val_accuracy: 0.5417\n",
      "Epoch 53/80\n",
      "29/29 [==============================] - 14s 493ms/step - loss: 1.7675 - accuracy: 0.9756 - val_loss: 2.7249 - val_accuracy: 0.5625\n",
      "Epoch 54/80\n",
      "29/29 [==============================] - 14s 490ms/step - loss: 1.7289 - accuracy: 0.9599 - val_loss: 2.5709 - val_accuracy: 0.5833\n",
      "Epoch 55/80\n",
      "29/29 [==============================] - 14s 494ms/step - loss: 1.6955 - accuracy: 0.9495 - val_loss: 2.5569 - val_accuracy: 0.5347\n",
      "Epoch 56/80\n",
      "29/29 [==============================] - 14s 495ms/step - loss: 1.6287 - accuracy: 0.9843 - val_loss: 2.5241 - val_accuracy: 0.5486\n",
      "Epoch 57/80\n",
      "29/29 [==============================] - 14s 494ms/step - loss: 1.5620 - accuracy: 0.9739 - val_loss: 2.5241 - val_accuracy: 0.5556\n"
     ]
    },
    {
     "name": "stdout",
     "output_type": "stream",
     "text": [
      "Epoch 58/80\n",
      "29/29 [==============================] - 14s 488ms/step - loss: 1.5449 - accuracy: 0.9547 - val_loss: 2.4790 - val_accuracy: 0.5417\n",
      "Epoch 59/80\n",
      "29/29 [==============================] - 14s 489ms/step - loss: 1.4881 - accuracy: 0.9634 - val_loss: 2.4589 - val_accuracy: 0.5625\n",
      "Epoch 60/80\n",
      "29/29 [==============================] - 14s 498ms/step - loss: 1.4355 - accuracy: 0.9791 - val_loss: 2.3801 - val_accuracy: 0.5556\n",
      "Epoch 61/80\n",
      "29/29 [==============================] - 14s 495ms/step - loss: 1.3852 - accuracy: 0.9704 - val_loss: 2.3123 - val_accuracy: 0.5486\n",
      "Epoch 62/80\n",
      "29/29 [==============================] - 14s 490ms/step - loss: 1.3557 - accuracy: 0.9739 - val_loss: 2.3460 - val_accuracy: 0.5139\n",
      "Epoch 63/80\n",
      "29/29 [==============================] - 14s 498ms/step - loss: 1.2985 - accuracy: 0.9774 - val_loss: 2.2120 - val_accuracy: 0.5625\n",
      "Epoch 64/80\n",
      "29/29 [==============================] - 14s 492ms/step - loss: 1.2671 - accuracy: 0.9808 - val_loss: 2.3168 - val_accuracy: 0.5486\n",
      "Epoch 65/80\n",
      "29/29 [==============================] - 14s 496ms/step - loss: 1.2188 - accuracy: 0.9826 - val_loss: 2.2545 - val_accuracy: 0.5625\n",
      "Epoch 66/80\n",
      "29/29 [==============================] - 14s 497ms/step - loss: 1.1823 - accuracy: 0.9808 - val_loss: 2.0630 - val_accuracy: 0.5625\n",
      "Epoch 67/80\n",
      "29/29 [==============================] - 16s 565ms/step - loss: 1.1426 - accuracy: 0.9774 - val_loss: 2.0286 - val_accuracy: 0.5764\n",
      "Epoch 68/80\n",
      "29/29 [==============================] - 15s 521ms/step - loss: 1.0869 - accuracy: 0.9808 - val_loss: 2.0235 - val_accuracy: 0.5347\n",
      "Epoch 69/80\n",
      "29/29 [==============================] - 16s 547ms/step - loss: 1.0442 - accuracy: 0.9826 - val_loss: 1.9952 - val_accuracy: 0.5486\n",
      "Epoch 70/80\n",
      "29/29 [==============================] - 16s 555ms/step - loss: 1.0137 - accuracy: 0.9861 - val_loss: 2.0452 - val_accuracy: 0.5347\n",
      "Epoch 71/80\n",
      "29/29 [==============================] - 16s 534ms/step - loss: 0.9993 - accuracy: 0.9826 - val_loss: 2.0196 - val_accuracy: 0.5694\n",
      "Epoch 72/80\n",
      "29/29 [==============================] - 15s 528ms/step - loss: 0.9797 - accuracy: 0.9843 - val_loss: 1.9144 - val_accuracy: 0.5694\n",
      "Epoch 73/80\n",
      "29/29 [==============================] - 15s 506ms/step - loss: 0.9471 - accuracy: 0.9791 - val_loss: 1.9048 - val_accuracy: 0.5764\n",
      "Epoch 74/80\n",
      "29/29 [==============================] - 15s 501ms/step - loss: 0.9279 - accuracy: 0.9826 - val_loss: 1.9066 - val_accuracy: 0.5556\n",
      "Epoch 75/80\n",
      "29/29 [==============================] - 15s 502ms/step - loss: 0.9131 - accuracy: 0.9791 - val_loss: 1.8970 - val_accuracy: 0.5625\n",
      "Epoch 76/80\n",
      "29/29 [==============================] - 15s 504ms/step - loss: 0.8922 - accuracy: 0.9791 - val_loss: 1.8040 - val_accuracy: 0.5486\n",
      "Epoch 77/80\n",
      "29/29 [==============================] - 15s 507ms/step - loss: 0.8634 - accuracy: 0.9791 - val_loss: 1.8304 - val_accuracy: 0.5694\n",
      "Epoch 78/80\n",
      "29/29 [==============================] - 15s 508ms/step - loss: 0.8429 - accuracy: 0.9826 - val_loss: 1.8076 - val_accuracy: 0.5625\n",
      "Epoch 79/80\n",
      "29/29 [==============================] - 15s 507ms/step - loss: 0.8205 - accuracy: 0.9791 - val_loss: 1.8543 - val_accuracy: 0.5625\n",
      "Epoch 80/80\n",
      "29/29 [==============================] - 15s 523ms/step - loss: 0.8080 - accuracy: 0.9808 - val_loss: 1.7931 - val_accuracy: 0.5694\n"
     ]
    },
    {
     "data": {
      "text/plain": [
       "<keras.callbacks.History at 0x7fd00f55a8f0>"
      ]
     },
     "execution_count": 105,
     "metadata": {},
     "output_type": "execute_result"
    }
   ],
   "source": [
    "model5.fit(mel1_train_reshaped,y1_train,validation_data=(mel1_val_reshaped,y1_val),batch_size=20,epochs=80)"
   ]
  },
  {
   "cell_type": "code",
   "execution_count": 185,
   "id": "8f9cfb3d",
   "metadata": {},
   "outputs": [],
   "source": [
    "# Load mel data set\n",
    "mel2_file = np.load(\"Features2D/npz_new/mel2_train_test.npz\")\n",
    "\n",
    "mel2_train = mel2_file['mel_train']\n",
    "y2_train = mel2_file['y_train']\n",
    "mel2_train,mel2_val,y2_train,y2_val = train_test_split(mel2_train,y2_train, \n",
    "                                                       train_size = 0.8, \n",
    "                                                       random_state = 13, \n",
    "                                                       stratify= y2_train)"
   ]
  },
  {
   "cell_type": "code",
   "execution_count": 186,
   "id": "0396f7b4",
   "metadata": {},
   "outputs": [],
   "source": [
    "# Feature Scaling\n",
    "mel2_train_scaled = (mel2_train - np.mean(mel2_train)) / np.std(mel2_train)\n",
    "mel2_val_scaled = (mel2_val - np.amin(mel2_val)) / np.std(mel2_val)"
   ]
  },
  {
   "cell_type": "code",
   "execution_count": 187,
   "id": "a9f041c5",
   "metadata": {},
   "outputs": [],
   "source": [
    "# Reshape the data\n",
    "N,row,col = mel2_train_scaled.shape\n",
    "mel2_train_reshaped = mel2_train_scaled.reshape((N,row,col,1))\n",
    "\n",
    "N,row,col = mel2_val_scaled.shape\n",
    "mel2_val_reshaped = mel2_val_scaled.reshape((N,row,col,1))"
   ]
  },
  {
   "cell_type": "code",
   "execution_count": 190,
   "id": "cb76884e",
   "metadata": {
    "scrolled": true
   },
   "outputs": [
    {
     "name": "stdout",
     "output_type": "stream",
     "text": [
      "Model: \"CNN2D_6\"\n",
      "_________________________________________________________________\n",
      " Layer (type)                Output Shape              Param #   \n",
      "=================================================================\n",
      " Conv2D_1 (Conv2D)           (None, 300, 400, 8)       80        \n",
      "                                                                 \n",
      " MaxPooling2D_1 (MaxPooling2  (None, 150, 200, 8)      0         \n",
      " D)                                                              \n",
      "                                                                 \n",
      " BN1 (BatchNormalization)    (None, 150, 200, 8)       32        \n",
      "                                                                 \n",
      " Conv2D_2 (Conv2D)           (None, 150, 200, 8)       584       \n",
      "                                                                 \n",
      " MaxPooling2D_2 (MaxPooling2  (None, 75, 100, 8)       0         \n",
      " D)                                                              \n",
      "                                                                 \n",
      " BN2 (BatchNormalization)    (None, 75, 100, 8)        32        \n",
      "                                                                 \n",
      " Conv2D_3 (Conv2D)           (None, 75, 100, 16)       1168      \n",
      "                                                                 \n",
      " MaxPooling2D_3 (MaxPooling2  (None, 38, 50, 16)       0         \n",
      " D)                                                              \n",
      "                                                                 \n",
      " BN3 (BatchNormalization)    (None, 38, 50, 16)        64        \n",
      "                                                                 \n",
      " Flatten (Flatten)           (None, 30400)             0         \n",
      "                                                                 \n",
      " Dense1 (Dense)              (None, 64)                1945664   \n",
      "                                                                 \n",
      " Dropout1 (Dropout)          (None, 64)                0         \n",
      "                                                                 \n",
      " Dense2 (Dense)              (None, 32)                2080      \n",
      "                                                                 \n",
      " Dropout2 (Dropout)          (None, 32)                0         \n",
      "                                                                 \n",
      " Softmax (Dense)             (None, 4)                 132       \n",
      "                                                                 \n",
      "=================================================================\n",
      "Total params: 1,949,836\n",
      "Trainable params: 1,949,772\n",
      "Non-trainable params: 64\n",
      "_________________________________________________________________\n"
     ]
    }
   ],
   "source": [
    "f1,k1,a1 = 8,3,'relu'\n",
    "mw1,mh1,sw1,sh1 = 2,3,2,2\n",
    "f2,k2,a2 = 8,3,'relu'\n",
    "mw2,mh2,sw2,sh2 = 2,3,2,2\n",
    "f3,k3,a3 = 16,3,'relu'\n",
    "mw3,mh3,sw3,sh3 = 2,3,2,2\n",
    "d1,dr1,da1,r1 = 64,0.2,'relu',0.2\n",
    "d2,dr2,da2,r2 = 32,0.2,'relu',0.2\n",
    "num = 6\n",
    "model6 = modelBuilder3L(mel2_train_reshaped,\n",
    "                        f1,k1,a1,\n",
    "                        mw1,mh1,sw1,sh1,\n",
    "                        f2,k2,a2,\n",
    "                        mw2,mh2,sw2,sh2,\n",
    "                        f3,k3,a3,\n",
    "                        mw3,mh3,sw3,sh3,\n",
    "                        d1,dr1,da1,r1,\n",
    "                        d2,dr2,da2,r2,\n",
    "                        num)"
   ]
  },
  {
   "cell_type": "code",
   "execution_count": 191,
   "id": "4fe71fb3",
   "metadata": {
    "scrolled": true
   },
   "outputs": [
    {
     "name": "stdout",
     "output_type": "stream",
     "text": [
      "Epoch 1/80\n",
      "15/15 [==============================] - 9s 487ms/step - loss: 34.4852 - accuracy: 0.4028 - val_loss: 32.8842 - val_accuracy: 0.3333\n",
      "Epoch 2/80\n",
      "15/15 [==============================] - 7s 469ms/step - loss: 31.3075 - accuracy: 0.5799 - val_loss: 29.9567 - val_accuracy: 0.4444\n",
      "Epoch 3/80\n",
      "15/15 [==============================] - 7s 466ms/step - loss: 28.3307 - accuracy: 0.6528 - val_loss: 27.2558 - val_accuracy: 0.4028\n",
      "Epoch 4/80\n",
      "15/15 [==============================] - 7s 441ms/step - loss: 25.7098 - accuracy: 0.7118 - val_loss: 24.9205 - val_accuracy: 0.3611\n",
      "Epoch 5/80\n",
      "15/15 [==============================] - 7s 440ms/step - loss: 23.3306 - accuracy: 0.7361 - val_loss: 22.8316 - val_accuracy: 0.3472\n",
      "Epoch 6/80\n",
      "15/15 [==============================] - 7s 474ms/step - loss: 21.2054 - accuracy: 0.8090 - val_loss: 21.2608 - val_accuracy: 0.2639\n",
      "Epoch 7/80\n",
      "15/15 [==============================] - 8s 509ms/step - loss: 19.4109 - accuracy: 0.8403 - val_loss: 19.8724 - val_accuracy: 0.2500\n",
      "Epoch 8/80\n",
      "15/15 [==============================] - 7s 453ms/step - loss: 17.8200 - accuracy: 0.8576 - val_loss: 18.4943 - val_accuracy: 0.2639\n",
      "Epoch 9/80\n",
      "15/15 [==============================] - 7s 452ms/step - loss: 16.4256 - accuracy: 0.8993 - val_loss: 17.2865 - val_accuracy: 0.2500\n",
      "Epoch 10/80\n",
      "15/15 [==============================] - 7s 468ms/step - loss: 15.2234 - accuracy: 0.9271 - val_loss: 16.3938 - val_accuracy: 0.2778\n",
      "Epoch 11/80\n",
      "15/15 [==============================] - 7s 446ms/step - loss: 14.2118 - accuracy: 0.9028 - val_loss: 15.5454 - val_accuracy: 0.2639\n",
      "Epoch 12/80\n",
      "15/15 [==============================] - 7s 482ms/step - loss: 13.2587 - accuracy: 0.9444 - val_loss: 14.5557 - val_accuracy: 0.3056\n",
      "Epoch 13/80\n",
      "15/15 [==============================] - 8s 522ms/step - loss: 12.4250 - accuracy: 0.9549 - val_loss: 14.3050 - val_accuracy: 0.2500\n",
      "Epoch 14/80\n",
      "15/15 [==============================] - 7s 485ms/step - loss: 11.7043 - accuracy: 0.9549 - val_loss: 13.5724 - val_accuracy: 0.2639\n",
      "Epoch 15/80\n",
      "15/15 [==============================] - 7s 468ms/step - loss: 11.0503 - accuracy: 0.9688 - val_loss: 12.9965 - val_accuracy: 0.3056\n",
      "Epoch 16/80\n",
      "15/15 [==============================] - 7s 491ms/step - loss: 10.4787 - accuracy: 0.9583 - val_loss: 12.7574 - val_accuracy: 0.2917\n",
      "Epoch 17/80\n",
      "15/15 [==============================] - 7s 497ms/step - loss: 9.9621 - accuracy: 0.9618 - val_loss: 11.9083 - val_accuracy: 0.3472\n",
      "Epoch 18/80\n",
      "15/15 [==============================] - 7s 494ms/step - loss: 9.4783 - accuracy: 0.9722 - val_loss: 11.6817 - val_accuracy: 0.3194\n",
      "Epoch 19/80\n",
      "15/15 [==============================] - 7s 470ms/step - loss: 9.0618 - accuracy: 0.9688 - val_loss: 11.5527 - val_accuracy: 0.3194\n",
      "Epoch 20/80\n",
      "15/15 [==============================] - 7s 450ms/step - loss: 8.7090 - accuracy: 0.9479 - val_loss: 10.8987 - val_accuracy: 0.3472\n",
      "Epoch 21/80\n",
      "15/15 [==============================] - 7s 450ms/step - loss: 8.3488 - accuracy: 0.9514 - val_loss: 9.5127 - val_accuracy: 0.5139\n",
      "Epoch 22/80\n",
      "15/15 [==============================] - 7s 457ms/step - loss: 8.0133 - accuracy: 0.9757 - val_loss: 9.8915 - val_accuracy: 0.4167\n",
      "Epoch 23/80\n",
      "15/15 [==============================] - 7s 469ms/step - loss: 7.7314 - accuracy: 0.9514 - val_loss: 8.8368 - val_accuracy: 0.5417\n",
      "Epoch 24/80\n",
      "15/15 [==============================] - 7s 488ms/step - loss: 7.4748 - accuracy: 0.9757 - val_loss: 9.2213 - val_accuracy: 0.4167\n",
      "Epoch 25/80\n",
      "15/15 [==============================] - 7s 473ms/step - loss: 7.2168 - accuracy: 0.9722 - val_loss: 8.6130 - val_accuracy: 0.5000\n",
      "Epoch 26/80\n",
      "15/15 [==============================] - 7s 463ms/step - loss: 6.9400 - accuracy: 0.9931 - val_loss: 8.4295 - val_accuracy: 0.5000\n",
      "Epoch 27/80\n",
      "15/15 [==============================] - 7s 460ms/step - loss: 6.7443 - accuracy: 0.9826 - val_loss: 7.8691 - val_accuracy: 0.5833\n",
      "Epoch 28/80\n",
      "15/15 [==============================] - 7s 469ms/step - loss: 6.5269 - accuracy: 0.9896 - val_loss: 7.8521 - val_accuracy: 0.5000\n",
      "Epoch 29/80\n",
      "15/15 [==============================] - 7s 465ms/step - loss: 6.3604 - accuracy: 0.9757 - val_loss: 7.0467 - val_accuracy: 0.6250\n",
      "Epoch 30/80\n",
      "15/15 [==============================] - 7s 468ms/step - loss: 6.1705 - accuracy: 0.9826 - val_loss: 6.9665 - val_accuracy: 0.5972\n",
      "Epoch 31/80\n",
      "15/15 [==============================] - 7s 483ms/step - loss: 6.0085 - accuracy: 0.9826 - val_loss: 7.0415 - val_accuracy: 0.5694\n",
      "Epoch 32/80\n",
      "15/15 [==============================] - 7s 465ms/step - loss: 5.8880 - accuracy: 0.9722 - val_loss: 6.6749 - val_accuracy: 0.6806\n",
      "Epoch 33/80\n",
      "15/15 [==============================] - 7s 474ms/step - loss: 5.7419 - accuracy: 0.9653 - val_loss: 6.4109 - val_accuracy: 0.6806\n",
      "Epoch 34/80\n",
      "15/15 [==============================] - 7s 480ms/step - loss: 5.5851 - accuracy: 0.9826 - val_loss: 5.9598 - val_accuracy: 0.7639\n",
      "Epoch 35/80\n",
      "15/15 [==============================] - 7s 470ms/step - loss: 5.4622 - accuracy: 0.9826 - val_loss: 6.1737 - val_accuracy: 0.6111\n",
      "Epoch 36/80\n",
      "15/15 [==============================] - 7s 486ms/step - loss: 5.3374 - accuracy: 0.9722 - val_loss: 5.9626 - val_accuracy: 0.7083\n",
      "Epoch 37/80\n",
      "15/15 [==============================] - 7s 481ms/step - loss: 5.1973 - accuracy: 0.9861 - val_loss: 5.6685 - val_accuracy: 0.7639\n",
      "Epoch 38/80\n",
      "15/15 [==============================] - 7s 481ms/step - loss: 5.0714 - accuracy: 0.9896 - val_loss: 5.6916 - val_accuracy: 0.7083\n",
      "Epoch 39/80\n",
      "15/15 [==============================] - 7s 483ms/step - loss: 4.9618 - accuracy: 0.9826 - val_loss: 5.4536 - val_accuracy: 0.7917\n",
      "Epoch 40/80\n",
      "15/15 [==============================] - 7s 472ms/step - loss: 4.8358 - accuracy: 0.9965 - val_loss: 5.3655 - val_accuracy: 0.7500\n",
      "Epoch 41/80\n",
      "15/15 [==============================] - 7s 472ms/step - loss: 4.7655 - accuracy: 0.9826 - val_loss: 5.4175 - val_accuracy: 0.6667\n",
      "Epoch 42/80\n",
      "15/15 [==============================] - 7s 474ms/step - loss: 4.6740 - accuracy: 0.9757 - val_loss: 5.1770 - val_accuracy: 0.7361\n",
      "Epoch 43/80\n",
      "15/15 [==============================] - 7s 469ms/step - loss: 4.5473 - accuracy: 0.9931 - val_loss: 5.0101 - val_accuracy: 0.7361\n",
      "Epoch 44/80\n",
      "15/15 [==============================] - 7s 456ms/step - loss: 4.4630 - accuracy: 0.9792 - val_loss: 4.8289 - val_accuracy: 0.8056\n",
      "Epoch 45/80\n",
      "15/15 [==============================] - 7s 477ms/step - loss: 4.3544 - accuracy: 0.9931 - val_loss: 4.9219 - val_accuracy: 0.7083\n",
      "Epoch 46/80\n",
      "15/15 [==============================] - 7s 478ms/step - loss: 4.2793 - accuracy: 0.9931 - val_loss: 4.7520 - val_accuracy: 0.7500\n",
      "Epoch 47/80\n",
      "15/15 [==============================] - 7s 495ms/step - loss: 4.1888 - accuracy: 0.9861 - val_loss: 4.5523 - val_accuracy: 0.8333\n",
      "Epoch 48/80\n",
      "15/15 [==============================] - 7s 478ms/step - loss: 4.1014 - accuracy: 0.9931 - val_loss: 4.7553 - val_accuracy: 0.6944\n",
      "Epoch 49/80\n",
      "15/15 [==============================] - 7s 482ms/step - loss: 4.0883 - accuracy: 0.9583 - val_loss: 4.3754 - val_accuracy: 0.8333\n",
      "Epoch 50/80\n",
      "15/15 [==============================] - 7s 482ms/step - loss: 3.9972 - accuracy: 0.9792 - val_loss: 4.4946 - val_accuracy: 0.7500\n",
      "Epoch 51/80\n",
      "15/15 [==============================] - 7s 494ms/step - loss: 3.9094 - accuracy: 0.9896 - val_loss: 4.3747 - val_accuracy: 0.7778\n",
      "Epoch 52/80\n",
      "15/15 [==============================] - 7s 498ms/step - loss: 3.8642 - accuracy: 0.9653 - val_loss: 4.4244 - val_accuracy: 0.7222\n",
      "Epoch 53/80\n",
      "15/15 [==============================] - 7s 490ms/step - loss: 3.7951 - accuracy: 0.9792 - val_loss: 4.2547 - val_accuracy: 0.7778\n",
      "Epoch 54/80\n",
      "15/15 [==============================] - 8s 501ms/step - loss: 3.7202 - accuracy: 0.9931 - val_loss: 4.1163 - val_accuracy: 0.8056\n",
      "Epoch 55/80\n",
      "15/15 [==============================] - 7s 491ms/step - loss: 3.6584 - accuracy: 0.9757 - val_loss: 4.1872 - val_accuracy: 0.7500\n",
      "Epoch 56/80\n",
      "15/15 [==============================] - 7s 481ms/step - loss: 3.5895 - accuracy: 0.9896 - val_loss: 4.0787 - val_accuracy: 0.7917\n",
      "Epoch 57/80\n",
      "15/15 [==============================] - 7s 476ms/step - loss: 3.5299 - accuracy: 0.9896 - val_loss: 3.9263 - val_accuracy: 0.8194\n",
      "Epoch 58/80\n",
      "15/15 [==============================] - 7s 485ms/step - loss: 3.4380 - accuracy: 0.9896 - val_loss: 3.7977 - val_accuracy: 0.8333\n",
      "Epoch 59/80\n",
      "15/15 [==============================] - 7s 482ms/step - loss: 3.3745 - accuracy: 0.9861 - val_loss: 3.7841 - val_accuracy: 0.8333\n",
      "Epoch 60/80\n",
      "15/15 [==============================] - 8s 524ms/step - loss: 3.2921 - accuracy: 0.9896 - val_loss: 3.6136 - val_accuracy: 0.8750\n",
      "Epoch 61/80\n",
      "15/15 [==============================] - 8s 526ms/step - loss: 3.2263 - accuracy: 0.9896 - val_loss: 3.5680 - val_accuracy: 0.8472\n",
      "Epoch 62/80\n",
      "15/15 [==============================] - 7s 488ms/step - loss: 3.1763 - accuracy: 0.9826 - val_loss: 3.5848 - val_accuracy: 0.8056\n",
      "Epoch 63/80\n",
      "15/15 [==============================] - 7s 474ms/step - loss: 3.1008 - accuracy: 0.9861 - val_loss: 3.7349 - val_accuracy: 0.7083\n",
      "Epoch 64/80\n",
      "15/15 [==============================] - 7s 472ms/step - loss: 3.0480 - accuracy: 0.9931 - val_loss: 3.3908 - val_accuracy: 0.8333\n",
      "Epoch 65/80\n",
      "15/15 [==============================] - 7s 465ms/step - loss: 2.9979 - accuracy: 0.9861 - val_loss: 3.4158 - val_accuracy: 0.7639\n",
      "Epoch 66/80\n",
      "15/15 [==============================] - 7s 486ms/step - loss: 2.9468 - accuracy: 0.9896 - val_loss: 3.2319 - val_accuracy: 0.8472\n",
      "Epoch 67/80\n",
      "15/15 [==============================] - 7s 494ms/step - loss: 2.9037 - accuracy: 0.9826 - val_loss: 3.3486 - val_accuracy: 0.8194\n",
      "Epoch 68/80\n",
      "15/15 [==============================] - 7s 482ms/step - loss: 2.8345 - accuracy: 0.9896 - val_loss: 3.1809 - val_accuracy: 0.8611\n",
      "Epoch 69/80\n",
      "15/15 [==============================] - 7s 473ms/step - loss: 2.7937 - accuracy: 0.9896 - val_loss: 3.1805 - val_accuracy: 0.8194\n",
      "Epoch 70/80\n",
      "15/15 [==============================] - 7s 473ms/step - loss: 2.7135 - accuracy: 0.9931 - val_loss: 3.1263 - val_accuracy: 0.8472\n",
      "Epoch 71/80\n",
      "15/15 [==============================] - 7s 473ms/step - loss: 2.6941 - accuracy: 0.9722 - val_loss: 3.0098 - val_accuracy: 0.8750\n",
      "Epoch 72/80\n",
      "15/15 [==============================] - 7s 474ms/step - loss: 2.6486 - accuracy: 0.9896 - val_loss: 3.1441 - val_accuracy: 0.7500\n",
      "Epoch 73/80\n",
      "15/15 [==============================] - 7s 481ms/step - loss: 2.6168 - accuracy: 0.9826 - val_loss: 3.0263 - val_accuracy: 0.8611\n",
      "Epoch 74/80\n",
      "15/15 [==============================] - 7s 481ms/step - loss: 2.5910 - accuracy: 0.9757 - val_loss: 3.2360 - val_accuracy: 0.6944\n",
      "Epoch 75/80\n",
      "15/15 [==============================] - 7s 478ms/step - loss: 2.5650 - accuracy: 0.9722 - val_loss: 2.9493 - val_accuracy: 0.8056\n",
      "Epoch 76/80\n",
      "15/15 [==============================] - 7s 489ms/step - loss: 2.5110 - accuracy: 0.9931 - val_loss: 2.9046 - val_accuracy: 0.7917\n",
      "Epoch 77/80\n",
      "15/15 [==============================] - 7s 489ms/step - loss: 2.4650 - accuracy: 0.9757 - val_loss: 2.9037 - val_accuracy: 0.8194\n",
      "Epoch 78/80\n",
      "15/15 [==============================] - 7s 480ms/step - loss: 2.3831 - accuracy: 0.9965 - val_loss: 2.7600 - val_accuracy: 0.8333\n",
      "Epoch 79/80\n",
      "15/15 [==============================] - 7s 492ms/step - loss: 2.3527 - accuracy: 0.9757 - val_loss: 2.7166 - val_accuracy: 0.8194\n",
      "Epoch 80/80\n",
      "15/15 [==============================] - 7s 492ms/step - loss: 2.2784 - accuracy: 0.9965 - val_loss: 2.6237 - val_accuracy: 0.8472\n"
     ]
    }
   ],
   "source": [
    "history6 = model6.fit(mel2_train_reshaped,y2_train,validation_data=(mel2_val_reshaped,y2_val),batch_size=20,epochs=80)"
   ]
  },
  {
   "cell_type": "code",
   "execution_count": 192,
   "id": "41b20697",
   "metadata": {},
   "outputs": [
    {
     "data": {
      "text/plain": [
       "Text(0, 0.5, 'loss')"
      ]
     },
     "execution_count": 192,
     "metadata": {},
     "output_type": "execute_result"
    },
    {
     "data": {
      "image/png": "[encoded data removed]",
      "text/plain": [
       "<Figure size 1200x400 with 2 Axes>"
      ]
     },
     "metadata": {},
     "output_type": "display_data"
    }
   ],
   "source": [
    "# Train and Validation accuracy and loss\n",
    "f = plt.figure(figsize = (12,4))\n",
    "\n",
    "plt.subplot(1,2,1)\n",
    "plt.title('train validation accuracy')\n",
    "plt.plot(history6.history['accuracy'])\n",
    "plt.plot(history6.history['val_accuracy'])\n",
    "plt.legend(['train','validation'])\n",
    "plt.xlabel('epoch')\n",
    "plt.ylabel('accuracy')\n",
    "\n",
    "\n",
    "plt.subplot(1,2,2)\n",
    "plt.title('train validation loss')\n",
    "plt.plot(history6.history['loss'])\n",
    "plt.plot(history6.history['val_loss'])\n",
    "plt.legend(['train','validation'])\n",
    "plt.xlabel('epoch')\n",
    "plt.ylabel('loss')"
   ]
  },
  {
   "cell_type": "code",
   "execution_count": 193,
   "id": "2e3f9d8b",
   "metadata": {},
   "outputs": [],
   "source": [
    "mel2_test = mel2_file['mel_test']\n",
    "y2_test_mel = mel2_file['y_test']"
   ]
  },
  {
   "cell_type": "code",
   "execution_count": 194,
   "id": "1d6bb499",
   "metadata": {},
   "outputs": [],
   "source": [
    "# Feature Scaling\n",
    "mel2_test_scaled = (mel2_test - np.mean(mel2_test)) / np.std(mel2_test)\n",
    "\n",
    "# Reshape the data\n",
    "N,row,col = mel2_test_scaled.shape\n",
    "mel2_test_reshaped = mel2_test_scaled.reshape((N,row,col,1))"
   ]
  },
  {
   "cell_type": "code",
   "execution_count": 195,
   "id": "02712725",
   "metadata": {},
   "outputs": [
    {
     "name": "stdout",
     "output_type": "stream",
     "text": [
      "2/2 [==============================] - 0s 60ms/step\n"
     ]
    }
   ],
   "source": [
    "y3_prob = model6.predict(mel2_test_reshaped)\n",
    "y3_pred = np.argmax(y3_prob, axis = -1)"
   ]
  },
  {
   "cell_type": "code",
   "execution_count": 196,
   "id": "4c035393",
   "metadata": {},
   "outputs": [],
   "source": [
    "# Accuracy\n",
    "acc3_2d = round(accuracy_score(y3_pred,y2_test_mel),2)"
   ]
  },
  {
   "cell_type": "code",
   "execution_count": 197,
   "id": "3182272f",
   "metadata": {},
   "outputs": [],
   "source": [
    "# Confusion Matrix\n",
    "cm_mel = confusion_matrix(y2_test_mel,y3_pred)\n",
    "cm_2d_mel = ConfusionMatrixDisplay(confusion_matrix = cm_mel, display_labels = ['Angry', 'Happy', 'Relaxed', 'Sad'])"
   ]
  },
  {
   "cell_type": "code",
   "execution_count": 198,
   "id": "13a65fe6",
   "metadata": {
    "scrolled": false
   },
   "outputs": [
    {
     "name": "stdout",
     "output_type": "stream",
     "text": [
      "              precision    recall  f1-score   support\n",
      "\n",
      "       Angry       0.91      1.00      0.95        10\n",
      "       Happy       1.00      0.90      0.95        10\n",
      "     Relaxed       0.82      0.90      0.86        10\n",
      "         Sad       0.89      0.80      0.84        10\n",
      "\n",
      "    accuracy                           0.90        40\n",
      "   macro avg       0.90      0.90      0.90        40\n",
      "weighted avg       0.90      0.90      0.90        40\n",
      "\n"
     ]
    },
    {
     "data": {
      "image/png": "[encoded data removed]",
      "text/plain": [
       "<Figure size 640x480 with 2 Axes>"
      ]
     },
     "metadata": {},
     "output_type": "display_data"
    }
   ],
   "source": [
    "print(classification_report(y2_test_mel, y3_pred, target_names = ['Angry', 'Happy', 'Relaxed', 'Sad']))\n",
    "cm_2d_mel.plot()\n",
    "plt.show()"
   ]
  },
  {
   "cell_type": "code",
   "execution_count": 220,
   "id": "95875072",
   "metadata": {},
   "outputs": [],
   "source": [
    "model2.save(os.getcwd() + \"/Features2D/Model/Conv2D_mfcc.h5\") \n",
    "model4.save(os.getcwd() + \"/Features2D/Model/Conv2D_spec.h5\") \n",
    "model6.save(os.getcwd() + \"/Features2D/Model/Conv2D_mel.h5\") "
   ]
  },
  {
   "cell_type": "markdown",
   "id": "bcd18d7c",
   "metadata": {},
   "source": [
    "## 5. Ensemble 3 models"
   ]
  },
  {
   "cell_type": "code",
   "execution_count": 221,
   "id": "4984d32d",
   "metadata": {},
   "outputs": [],
   "source": [
    "spec_file_ense = np.load(os.getcwd() + \"/Features2D/npz_new/spec2_train_test.npz\")\n",
    "spec_ense_train = spec_file_ense['spec_train']\n",
    "spec_ense_test = spec_file_ense['spec_test']\n",
    "y_ense_train = spec_file_ense['y_train']\n",
    "y_ense_test = spec_file_ense['y_test']\n",
    "model_spec = load_model(os.getcwd() + \"/Features2D/Model/Conv2D_spec.h5\")"
   ]
  },
  {
   "cell_type": "code",
   "execution_count": 222,
   "id": "9e4a5935",
   "metadata": {},
   "outputs": [],
   "source": [
    "mfcc_file_ense = np.load(os.getcwd() + \"/Features2D/npz_new/mfcc2_train_test.npz\")\n",
    "mfcc_ense_train = mfcc_file_ense['mfcc_train']\n",
    "mfcc_ense_test =mfcc_file_ense['mfcc_test']\n",
    "y1_ense_train = mfcc_file_ense['y_train']\n",
    "y1_ense_test = mfcc_file_ense['y_test']\n",
    "model_mfcc = load_model(os.getcwd() + \"/Features2D/Model/Conv2D_mfcc.h5\")"
   ]
  },
  {
   "cell_type": "code",
   "execution_count": 223,
   "id": "7a4e7602",
   "metadata": {},
   "outputs": [],
   "source": [
    "mel_file_ense = np.load(os.getcwd() + \"/Features2D/npz_new/mel2_train_test.npz\")\n",
    "mel_ense_train = mel_file_ense['mel_train']\n",
    "mel_ense_test =mel_file_ense['mel_test']\n",
    "y_ense_train = mel_file_ense['y_train']\n",
    "y_ense_test = mel_file_ense['y_test']\n",
    "model_mel = load_model(os.getcwd() + \"/Features2D/Model/Conv2D_mel.h5\")"
   ]
  },
  {
   "cell_type": "code",
   "execution_count": 224,
   "id": "227bfa6b",
   "metadata": {},
   "outputs": [],
   "source": [
    "# Feature Scaling\n",
    "mfcc_ense_train_scaled = (mfcc_ense_train - np.mean(mfcc_ense_train))/np.std(mfcc_ense_train)\n",
    "spec_ense_train_scaled = spec_ense_train / np.amax(spec_ense_train)\n",
    "mel_ense_train_scaled = (mel_ense_train - np.mean(mel_ense_train))/np.std(mel_ense_train)\n",
    "\n",
    "mfcc_ense_test_scaled = (mfcc_ense_test - np.mean(mfcc_ense_test))/np.std(mfcc_ense_test)\n",
    "spec_ense_test_scaled = spec_ense_test / np.amax(spec_ense_test)\n",
    "mel_ense_test_scaled = (mel_ense_test - np.mean(mel_ense_test))/np.std(mfcc_ense_test)\n",
    "\n",
    "\n",
    "# Reshape the data\n",
    "N,row,col = mfcc_ense_train_scaled.shape\n",
    "mfcc_ense_train_reshaped = mfcc_ense_train_scaled.reshape((N,row,col,1))\n",
    "N,row,col = spec_ense_train_scaled.shape\n",
    "spec_ense_train_reshaped = spec_ense_train_scaled.reshape((N,row,col,1))\n",
    "N,row,col = mel_ense_train_scaled.shape\n",
    "mel_ense_train_reshaped = mel_ense_train_scaled.reshape((N,row,col,1))\n",
    "\n",
    "N,row,col = mfcc_ense_test_scaled.shape\n",
    "mfcc_ense_test_reshaped = mfcc_ense_test_scaled.reshape((N,row,col,1))\n",
    "N,row,col = spec_ense_test_scaled.shape\n",
    "spec_ense_test_reshaped = spec_ense_test_scaled.reshape((N,row,col,1))\n",
    "N,row,col = mel_ense_test_scaled.shape\n",
    "mel_ense_test_reshaped = mel_ense_test_scaled.reshape((N,row,col,1))"
   ]
  },
  {
   "cell_type": "code",
   "execution_count": 225,
   "id": "04894359",
   "metadata": {},
   "outputs": [],
   "source": [
    "# Vote for most accuracte prediction\n",
    "def get_majority(pred) :\n",
    "    N = len(pred[0])\n",
    "    vote = []\n",
    "    for i in range(N) :\n",
    "        elements = [j[i] for j in pred]\n",
    "        elements = np.array(elements)\n",
    "        uniq, freq = np.unique(elements, return_counts= True)\n",
    "        vote.append(uniq[np.argmax(freq)])\n",
    "    \n",
    "    vote = np.array(vote)\n",
    "    return vote"
   ]
  },
  {
   "cell_type": "code",
   "execution_count": 234,
   "id": "d2af8729",
   "metadata": {},
   "outputs": [
    {
     "name": "stdout",
     "output_type": "stream",
     "text": [
      "12/12 [==============================] - 1s 75ms/step\n",
      "12/12 [==============================] - 3s 231ms/step\n",
      "12/12 [==============================] - 3s 210ms/step\n"
     ]
    }
   ],
   "source": [
    "# Train 3 models\n",
    "y_ense_prob1 = model_spec.predict(spec_ense_train_reshaped)\n",
    "y_ense_pred1 = np.argmax(y_ense_prob1, axis= -1)\n",
    "\n",
    "y_ense_prob2 = model_mfcc.predict(mfcc_ense_train_reshaped)\n",
    "y_ense_pred2 = np.argmax(y_ense_prob2, axis= -1)\n",
    "\n",
    "y_ense_prob3 = model_mel.predict(mel_ense_train_reshaped)\n",
    "y_ense_pred3 = np.argmax(y_ense_prob3, axis= -1)"
   ]
  },
  {
   "cell_type": "code",
   "execution_count": 235,
   "id": "d950deb1",
   "metadata": {},
   "outputs": [],
   "source": [
    "# 3 different predictions\n",
    "train_pred = [y_ense_pred1, y_ense_pred2, y_ense_pred3]"
   ]
  },
  {
   "cell_type": "code",
   "execution_count": 236,
   "id": "dc679b56",
   "metadata": {},
   "outputs": [],
   "source": [
    "y_train_pred = get_majority(train_pred)"
   ]
  },
  {
   "cell_type": "code",
   "execution_count": 237,
   "id": "b5d90b1b",
   "metadata": {},
   "outputs": [
    {
     "data": {
      "text/plain": [
       "0.9722"
      ]
     },
     "execution_count": 237,
     "metadata": {},
     "output_type": "execute_result"
    }
   ],
   "source": [
    "# Model Evaluation\n",
    "train_corr = len(y_train_pred) - np.count_nonzero(y_train_pred - y_ense_train)\n",
    "train_acc = np.round((train_corr/ len(y_train_pred)),4)\n",
    "train_acc"
   ]
  },
  {
   "cell_type": "code",
   "execution_count": 238,
   "id": "bd3637cc",
   "metadata": {},
   "outputs": [
    {
     "name": "stdout",
     "output_type": "stream",
     "text": [
      "2/2 [==============================] - 0s 25ms/step\n",
      "2/2 [==============================] - 0s 83ms/step\n",
      "2/2 [==============================] - 0s 64ms/step\n"
     ]
    }
   ],
   "source": [
    "# Test ensembled models\n",
    "y_test_prob1 = model_spec.predict(spec_ense_test_reshaped)\n",
    "y_test_pred1 = np.argmax(y_test_prob1, axis= -1)\n",
    "\n",
    "y_test_prob2 = model_mfcc.predict(mfcc_ense_test_reshaped)\n",
    "y_test_pred2 = np.argmax(y_test_prob2, axis= -1)\n",
    "\n",
    "y_test_prob3 = model_mel.predict(mel_ense_test_reshaped)\n",
    "y_test_pred3 = np.argmax(y_test_prob3, axis= -1)"
   ]
  },
  {
   "cell_type": "code",
   "execution_count": 239,
   "id": "7c4f3dfc",
   "metadata": {},
   "outputs": [],
   "source": [
    "test_pred = [y_test_pred1, y_test_pred2, y_test_pred3]"
   ]
  },
  {
   "cell_type": "code",
   "execution_count": 240,
   "id": "b1542c82",
   "metadata": {},
   "outputs": [],
   "source": [
    "y_test_pred = get_majority(test_pred)"
   ]
  },
  {
   "cell_type": "code",
   "execution_count": 241,
   "id": "27a0d193",
   "metadata": {},
   "outputs": [
    {
     "data": {
      "text/plain": [
       "0.825"
      ]
     },
     "execution_count": 241,
     "metadata": {},
     "output_type": "execute_result"
    }
   ],
   "source": [
    "# Model Evaluation\n",
    "test_corr = len(y_test_pred) - np.count_nonzero(y_test_pred - y_ense_test)\n",
    "test_acc = np.round((test_corr/ len(y_test_pred)),4)\n",
    "test_acc"
   ]
  },
  {
   "cell_type": "code",
   "execution_count": 242,
   "id": "ac31a9b3",
   "metadata": {},
   "outputs": [
    {
     "name": "stdout",
     "output_type": "stream",
     "text": [
      "              precision    recall  f1-score   support\n",
      "\n",
      "       Angry       0.71      1.00      0.83        10\n",
      "       Happy       0.91      1.00      0.95        10\n",
      "     Relaxed       0.80      0.80      0.80        10\n",
      "         Sad       1.00      0.50      0.67        10\n",
      "\n",
      "    accuracy                           0.82        40\n",
      "   macro avg       0.86      0.82      0.81        40\n",
      "weighted avg       0.86      0.82      0.81        40\n",
      "\n"
     ]
    },
    {
     "data": {
      "image/png": "[encoded data removed]",
      "text/plain": [
       "<Figure size 640x480 with 2 Axes>"
      ]
     },
     "metadata": {},
     "output_type": "display_data"
    }
   ],
   "source": [
    "# Confusion Matrix\n",
    "cm_ense = confusion_matrix(y_ense_test,y_test_pred)\n",
    "cm_display_ense = ConfusionMatrixDisplay(confusion_matrix = cm_ense, display_labels = ['Angry', 'Happy', 'Relaxed', 'Sad'])\n",
    "print(classification_report(y_ense_test, y_test_pred, target_names = ['Angry', 'Happy', 'Relaxed', 'Sad']))\n",
    "cm_display_ense.plot()\n",
    "plt.show()"
   ]
  },
  {
   "cell_type": "code",
   "execution_count": null,
   "id": "aa240803",
   "metadata": {},
   "outputs": [],
   "source": []
  }
 ],
 "metadata": {
  "kernelspec": {
   "display_name": "Python 3 (ipykernel)",
   "language": "python",
   "name": "python3"
  },
  "language_info": {
   "codemirror_mode": {
    "name": "ipython",
    "version": 3
   },
   "file_extension": ".py",
   "mimetype": "text/x-python",
   "name": "python",
   "nbconvert_exporter": "python",
   "pygments_lexer": "ipython3",
   "version": "3.10.9"
  }
 },
 "nbformat": 4,
 "nbformat_minor": 5
}
