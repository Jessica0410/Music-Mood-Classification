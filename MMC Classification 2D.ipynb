{
 "cells": [
  {
   "cell_type": "code",
   "execution_count": 1,
   "id": "0bfd832a",
   "metadata": {},
   "outputs": [],
   "source": [
    "import warnings\n",
    "warnings.filterwarnings(\"ignore\")"
   ]
  },
  {
   "cell_type": "code",
   "execution_count": 2,
   "id": "998b2508",
   "metadata": {},
   "outputs": [
    {
     "name": "stderr",
     "output_type": "stream",
     "text": [
      "2023-06-30 01:01:08.651850: I tensorflow/core/platform/cpu_feature_guard.cc:182] This TensorFlow binary is optimized to use available CPU instructions in performance-critical operations.\n",
      "To enable the following instructions: AVX2 FMA, in other operations, rebuild TensorFlow with the appropriate compiler flags.\n"
     ]
    }
   ],
   "source": [
    "import os\n",
    "import cv2\n",
    "import numpy as np\n",
    "import pandas as pd\n",
    "\n",
    "from sklearn.model_selection import train_test_split \n",
    "from sklearn.preprocessing import MinMaxScaler\n",
    "import tensorflow as tf\n",
    "from tensorflow.keras.models import Sequential,load_model\n",
    "from tensorflow.keras.layers import Conv2D, MaxPooling2D,BatchNormalization, Dense, Dropout, Flatten\n",
    "from tensorflow.keras.optimizers import Adam\n",
    "\n",
    "import matplotlib.pyplot as plt\n",
    "\n",
    "from sklearn.metrics import accuracy_score, confusion_matrix, classification_report, ConfusionMatrixDisplay"
   ]
  },
  {
   "cell_type": "markdown",
   "id": "7f714c67",
   "metadata": {},
   "source": [
    "## 2. Load npz file\n",
    "The features stored in a *.npz* file and here it will be loaded"
   ]
  },
  {
   "cell_type": "code",
   "execution_count": 3,
   "id": "3ba5571c",
   "metadata": {},
   "outputs": [],
   "source": [
    "f1 = np.load(\"Features2D/npz/Features1.npz\")"
   ]
  },
  {
   "cell_type": "code",
   "execution_count": 4,
   "id": "c1df6c88",
   "metadata": {},
   "outputs": [],
   "source": [
    "spec1 = f1['spec'] #(898,1025,1099)\n",
    "mfcc1 = f1['mfcc'] #(898,20,1099)\n",
    "mel1 = f1['mel']#(898,128,1099)\n",
    "y1 = f1['target']"
   ]
  },
  {
   "cell_type": "code",
   "execution_count": 5,
   "id": "a2863ecb",
   "metadata": {},
   "outputs": [],
   "source": [
    "f2 = np.load(\"Features2D/npz/Features2.npz\")"
   ]
  },
  {
   "cell_type": "code",
   "execution_count": 6,
   "id": "89e5c26b",
   "metadata": {},
   "outputs": [],
   "source": [
    "spec2 = f2['spec'] #(400,1025,1099)\n",
    "mfcc2 = f2['mfcc'] #(400,20,1099)\n",
    "mel2 = f2['mel']#(400,128,1099)\n",
    "y2 = f2['target']"
   ]
  },
  {
   "cell_type": "markdown",
   "id": "8121c06a",
   "metadata": {},
   "source": [
    "## 3. Data preprocessing\n",
    "### 3.1 Resize the data"
   ]
  },
  {
   "cell_type": "code",
   "execution_count": 7,
   "id": "352699a4",
   "metadata": {},
   "outputs": [],
   "source": [
    "mfcc1_resized = np.empty((mfcc1.shape[0], 120, 600))\n",
    "for i in range(0,898):\n",
    "    mfcc1_resized[i] = cv2.resize(mfcc1[i],(600,120))\n",
    "\n",
    "mfcc2_resized = np.empty((mfcc2.shape[0], 120, 600))\n",
    "for i in range(0,400):\n",
    "    mfcc2_resized[i] = cv2.resize(mfcc2[i],(600,120))"
   ]
  },
  {
   "cell_type": "code",
   "execution_count": 8,
   "id": "6f054b5d",
   "metadata": {},
   "outputs": [],
   "source": [
    "spec1_resized = np.empty((spec1.shape[0], 300, 300))\n",
    "for i in range(0,898):\n",
    "    spec1_resized[i] = cv2.resize(spec1[i],(300,300))\n",
    "\n",
    "spec2_resized = np.empty((spec2.shape[0], 300, 300))\n",
    "for i in range(0,400):\n",
    "    spec2_resized[i] = cv2.resize(spec2[i],(300,300))"
   ]
  },
  {
   "cell_type": "code",
   "execution_count": 9,
   "id": "b3079d12",
   "metadata": {},
   "outputs": [],
   "source": [
    "mel1_resized = np.empty((mel1.shape[0], 300, 400))\n",
    "for i in range(0,898):\n",
    "    mel1_resized[i] = cv2.resize(mel1[i],(400,300))\n",
    "\n",
    "mel2_resized = np.empty((mel2.shape[0], 300, 400))\n",
    "for i in range(0,400):\n",
    "    mel2_resized[i] = cv2.resize(mel2[i],(400,300))"
   ]
  },
  {
   "cell_type": "markdown",
   "id": "4c488960",
   "metadata": {},
   "source": [
    "### 3.2 Train Test Split"
   ]
  },
  {
   "cell_type": "code",
   "execution_count": 10,
   "id": "f6d6aaed",
   "metadata": {},
   "outputs": [],
   "source": [
    "mfcc1_train,mfcc1_test,y1_train,y1_test = train_test_split(mfcc1_resized,y1, \n",
    "                                                   train_size = 0.8, \n",
    "                                                   random_state = 13, \n",
    "                                                   stratify= y1)\n",
    "mfcc2_train,mfcc2_test,y2_train,y2_test = train_test_split(mfcc2_resized,y2, \n",
    "                                                   train_size = 0.9, \n",
    "                                                   random_state = 13, \n",
    "                                                   stratify= y2)"
   ]
  },
  {
   "cell_type": "code",
   "execution_count": 11,
   "id": "6dc21bca",
   "metadata": {},
   "outputs": [],
   "source": [
    "np.savez_compressed(\"Features2D/npz_new/mfcc1_train_test.npz\",\n",
    "                    mfcc_train = mfcc1_train, \n",
    "                    mfcc_test = mfcc1_test, \n",
    "                    y_train = y1_train, \n",
    "                    y_test= y1_test)\n",
    "\n",
    "np.savez_compressed(\"Features2D/npz_new/mfcc2_train_test.npz\",\n",
    "                    mfcc_train = mfcc2_train, \n",
    "                    mfcc_test = mfcc2_test, \n",
    "                    y_train = y2_train, \n",
    "                    y_test = y2_test)"
   ]
  },
  {
   "cell_type": "code",
   "execution_count": 12,
   "id": "8718d1fe",
   "metadata": {},
   "outputs": [],
   "source": [
    "spec1_train,spec1_test,y1_train,y1_test = train_test_split(spec1_resized,y1, \n",
    "                                                           train_size = 0.8,  \n",
    "                                                           random_state = 13, \n",
    "                                                           stratify = y1)\n",
    "spec2_train,spec2_test,y2_train,y2_test = train_test_split(spec2_resized,y2, \n",
    "                                                           train_size = 0.9, \n",
    "                                                           random_state = 13, \n",
    "                                                           stratify = y2)"
   ]
  },
  {
   "cell_type": "code",
   "execution_count": 13,
   "id": "72aea063",
   "metadata": {},
   "outputs": [],
   "source": [
    "np.savez_compressed(\"Features2D/npz_new/spec1_train_test.npz\",\n",
    "                    spec_train = spec1_train, \n",
    "                    spec_test = spec1_test, \n",
    "                    y_train = y1_train, \n",
    "                    y_test= y1_test)\n",
    "\n",
    "np.savez_compressed(\"Features2D/npz_new/spec2_train_test.npz\",\n",
    "                    spec_train = spec2_train, \n",
    "                    spec_test = spec2_test, \n",
    "                    y_train = y2_train, \n",
    "                    y_test = y2_test)"
   ]
  },
  {
   "cell_type": "code",
   "execution_count": 14,
   "id": "97fa540f",
   "metadata": {},
   "outputs": [],
   "source": [
    "mel1_train,mel1_test,y1_train,y1_test = train_test_split(mel1_resized,y1, \n",
    "                                                           train_size = 0.8,  \n",
    "                                                           random_state = 13, \n",
    "                                                           stratify = y1)\n",
    "mel2_train,mel2_test,y2_train,y2_test = train_test_split(mel2_resized,y2, \n",
    "                                                           train_size = 0.9,  \n",
    "                                                           random_state = 13, \n",
    "                                                           stratify = y2)"
   ]
  },
  {
   "cell_type": "code",
   "execution_count": 112,
   "id": "8c6c0f13",
   "metadata": {},
   "outputs": [],
   "source": [
    "np.savez_compressed(\"Features2D/npz_new/mel1_train_test.npz\",\n",
    "                    mel_train = mel1_train, \n",
    "                    mel_test = mel1_test, \n",
    "                    y_train = y1_train, \n",
    "                    y_test = y1_test)\n",
    "\n",
    "np.savez_compressed(\"Features2D/npz_new/mel2_train_test.npz\",\n",
    "                    mel_train = mel2_train, \n",
    "                    mel_test = mel2_test, \n",
    "                    y_train = y2_train, \n",
    "                    y_test = y2_test)"
   ]
  },
  {
   "cell_type": "markdown",
   "id": "1c240702",
   "metadata": {},
   "source": [
    "## 4. Classification"
   ]
  },
  {
   "cell_type": "code",
   "execution_count": 16,
   "id": "38dd2c67",
   "metadata": {
    "scrolled": true
   },
   "outputs": [],
   "source": [
    "# Train the model\n",
    "def modelBuilder3L(X_train,\n",
    "                   f1,k1,a1,\n",
    "                   mw1,mh1,sw1,sh1,\n",
    "                   f2,k2,a2,\n",
    "                   mw2,mh2,sw2,sh2,\n",
    "                   f3,k3,a3,\n",
    "                   mw3,mh3,sw3,sh3,\n",
    "                   d1,dr1,da1,r1,\n",
    "                   d2,dr2,da2,r2,\n",
    "                   num):\n",
    "    \n",
    "    '''\n",
    "    args:\n",
    "    \n",
    "    X_train: training data\n",
    "    f1,k1,a1: num of filters, filter size and activation func of 1st conv2D layer\n",
    "    mr1,mc1,sr1,sc1: filter size and strides of 1st MaxPooling2D layer\n",
    "    f2,k2,a2: num of filters, filter size and activation func of 2nd conv2D layer\n",
    "    mr2,mc2,sr2,sc2: filter size and strides of 2nd MaxPooling2D layer\n",
    "    f3,k3,a3: num of filters, filter size and activation func of 3rd conv2D layer\n",
    "    mr3,sc3,sr3,sc3: filter size and strides of 3rd MaxPooling2D layer\n",
    "    d1,dr1,da1, r1: num of units, dropout, activation func and regularizer para of 1st fully connected layer\n",
    "    d2,dr2,da2, r2: num of units, dropout, activation func and regularizer para of 2nd fully connected layer\n",
    "    num: integer for distinguishing different model\n",
    "    \n",
    "    return:\n",
    "    model\n",
    "    \n",
    "    '''\n",
    "    \n",
    "    N,row,col,Nc = X_train.shape\n",
    "    \n",
    "    model = Sequential(name = \"CNN2D_\"+str(num))\n",
    "    #L1\n",
    "    model.add(Conv2D(f1,(k1,k1),activation = a1,input_shape = (row,col,Nc), padding = 'same', name = 'Conv2D_1'))\n",
    "    model.add(MaxPooling2D((mw1,mh1), strides = (sw1,sh1), padding = 'same', name = 'MaxPooling2D_1'))\n",
    "    model.add(BatchNormalization(name = \"BN1\"))\n",
    "    \n",
    "    #L2\n",
    "    model.add(Conv2D(f2,(k2,k2), activation = a2, padding = 'same',name = 'Conv2D_2'))\n",
    "    model.add(MaxPooling2D((mw2,mh2),strides = (sw2,sh2), padding = 'same', name = 'MaxPooling2D_2'))\n",
    "    model.add(BatchNormalization(name = \"BN2\"))\n",
    "\n",
    "    #L3\n",
    "    model.add(Conv2D(f3,(k3,k3), activation = a3, padding = 'same',name = 'Conv2D_3'))\n",
    "    model.add(MaxPooling2D((mw3,mh3), strides = (sw3,sh3), padding = 'same', name = 'MaxPooling2D_3'))\n",
    "    model.add(BatchNormalization(name = \"BN3\"))\n",
    "   \n",
    "    #Flatten layer\n",
    "    model.add(Flatten(name = 'Flatten'))\n",
    "    #FC4\n",
    "    model.add(Dense(d1, activation = da1, kernel_regularizer = tf.keras.regularizers.L2(r1), name='Dense1'))\n",
    "    model.add(Dropout(dr1, name = \"Dropout1\"))\n",
    "    #FC5\n",
    "    model.add(Dense(d2, activation = da2, kernel_regularizer = tf.keras.regularizers.L2(r2), name='Dense2'))\n",
    "    model.add(Dropout(dr2, name = \"Dropout2\"))\n",
    "    #Softmax layer\n",
    "    model.add(Dense(4, activation ='softmax', name='Softmax'))\n",
    "\n",
    "    optimizer = Adam(learning_rate=0.0001)\n",
    "    model.compile(optimizer= optimizer, loss= 'sparse_categorical_crossentropy', metrics=['accuracy'])\n",
    "\n",
    "    model.summary()\n",
    "    \n",
    "    return model"
   ]
  },
  {
   "cell_type": "markdown",
   "id": "ef79333d",
   "metadata": {},
   "source": [
    "### 4.1 MFCC"
   ]
  },
  {
   "cell_type": "code",
   "execution_count": 27,
   "id": "9b5d3f8c",
   "metadata": {},
   "outputs": [],
   "source": [
    "# Load MFCC data set\n",
    "mfcc1_file = np.load(\"Features2D/npz_new/mfcc1_train_test.npz\")\n",
    "\n",
    "mfcc1_train = mfcc1_file['mfcc_train']\n",
    "y1_train = mfcc1_file['y_train']\n",
    "\n",
    "# validation set\n",
    "mfcc1_train,mfcc1_val,y1_train,y1_val = train_test_split(mfcc1_train,y1_train, \n",
    "                                                         train_size = 0.8,  \n",
    "                                                         random_state = 13, \n",
    "                                                         stratify= y1_train)"
   ]
  },
  {
   "cell_type": "code",
   "execution_count": 28,
   "id": "69c85f0a",
   "metadata": {},
   "outputs": [],
   "source": [
    "# Feature Scaling\n",
    "mfcc1_train_scaled = (mfcc1_train - np.mean(mfcc1_train))/np.std(mfcc1_train)\n",
    "mfcc1_val_scaled = (mfcc1_val - np.mean(mfcc1_val))/np.std(mfcc1_val)"
   ]
  },
  {
   "cell_type": "code",
   "execution_count": 29,
   "id": "0b1eeec0",
   "metadata": {},
   "outputs": [],
   "source": [
    "# Reshape the data\n",
    "N,row,col = mfcc1_train_scaled.shape\n",
    "mfcc1_train_reshaped = mfcc1_train_scaled.reshape((N,row,col,1))\n",
    "N,row,col = mfcc1_val_scaled.shape\n",
    "mfcc1_val_reshaped = mfcc1_val_scaled.reshape((N,row,col,1))"
   ]
  },
  {
   "cell_type": "code",
   "execution_count": 30,
   "id": "1f6f874e",
   "metadata": {
    "scrolled": true
   },
   "outputs": [
    {
     "name": "stdout",
     "output_type": "stream",
     "text": [
      "Model: \"CNN2D_1\"\n",
      "_________________________________________________________________\n",
      " Layer (type)                Output Shape              Param #   \n",
      "=================================================================\n",
      " Conv2D_1 (Conv2D)           (None, 120, 600, 8)       80        \n",
      "                                                                 \n",
      " MaxPooling2D_1 (MaxPooling2  (None, 60, 300, 8)       0         \n",
      " D)                                                              \n",
      "                                                                 \n",
      " BN1 (BatchNormalization)    (None, 60, 300, 8)        32        \n",
      "                                                                 \n",
      " Conv2D_2 (Conv2D)           (None, 60, 300, 8)        584       \n",
      "                                                                 \n",
      " MaxPooling2D_2 (MaxPooling2  (None, 30, 150, 8)       0         \n",
      " D)                                                              \n",
      "                                                                 \n",
      " BN2 (BatchNormalization)    (None, 30, 150, 8)        32        \n",
      "                                                                 \n",
      " Conv2D_3 (Conv2D)           (None, 30, 150, 16)       1168      \n",
      "                                                                 \n",
      " MaxPooling2D_3 (MaxPooling2  (None, 15, 75, 16)       0         \n",
      " D)                                                              \n",
      "                                                                 \n",
      " BN3 (BatchNormalization)    (None, 15, 75, 16)        64        \n",
      "                                                                 \n",
      " Flatten (Flatten)           (None, 18000)             0         \n",
      "                                                                 \n",
      " Dense1 (Dense)              (None, 64)                1152064   \n",
      "                                                                 \n",
      " Dropout1 (Dropout)          (None, 64)                0         \n",
      "                                                                 \n",
      " Dense2 (Dense)              (None, 32)                2080      \n",
      "                                                                 \n",
      " Dropout2 (Dropout)          (None, 32)                0         \n",
      "                                                                 \n",
      " Softmax (Dense)             (None, 4)                 132       \n",
      "                                                                 \n",
      "=================================================================\n",
      "Total params: 1,156,236\n",
      "Trainable params: 1,156,172\n",
      "Non-trainable params: 64\n",
      "_________________________________________________________________\n"
     ]
    }
   ],
   "source": [
    "f1,k1,a1 = 8,3,'relu'\n",
    "mw1,mh1,sw1,sh1 = 2,3,2,2\n",
    "f2,k2,a2 = 8,3,'relu'\n",
    "mw2,mh2,sw2,sh2 = 2,3,2,2\n",
    "f3,k3,a3 = 16,3,'relu'\n",
    "mw3,mh3,sw3,sh3 = 4,6,2,2\n",
    "d1,dr1,da1,r1 = 64,0.2,'relu',0.2\n",
    "d2,dr2,da2,r2 = 32,0.2,'relu',0.2\n",
    "num = 1\n",
    "\n",
    "model1 = modelBuilder3L(mfcc1_train_reshaped,\n",
    "                        f1,k1,a1,\n",
    "                        mw1,mh1,sw1,sh1,\n",
    "                        f2,k2,a2,\n",
    "                        mw2,mh2,sw2,sh2,\n",
    "                        f3,k3,a3,\n",
    "                        mw3,mh3,sw3,sh3,\n",
    "                        d1,dr1,da1,r1,\n",
    "                        d2,dr2,da2,r2,\n",
    "                        num)"
   ]
  },
  {
   "cell_type": "code",
   "execution_count": 31,
   "id": "dbf053f5",
   "metadata": {
    "scrolled": true
   },
   "outputs": [
    {
     "name": "stdout",
     "output_type": "stream",
     "text": [
      "Epoch 1/80\n",
      "29/29 [==============================] - 12s 337ms/step - loss: 32.7083 - accuracy: 0.2892 - val_loss: 29.3422 - val_accuracy: 0.3611\n",
      "Epoch 2/80\n",
      "29/29 [==============================] - 9s 319ms/step - loss: 26.5807 - accuracy: 0.3676 - val_loss: 23.8135 - val_accuracy: 0.4375\n",
      "Epoch 3/80\n",
      "29/29 [==============================] - 10s 350ms/step - loss: 21.6396 - accuracy: 0.4634 - val_loss: 19.6903 - val_accuracy: 0.4097\n",
      "Epoch 4/80\n",
      "29/29 [==============================] - 10s 338ms/step - loss: 17.9802 - accuracy: 0.4774 - val_loss: 16.5619 - val_accuracy: 0.4306\n",
      "Epoch 5/80\n",
      "29/29 [==============================] - 9s 293ms/step - loss: 15.2541 - accuracy: 0.5261 - val_loss: 14.4043 - val_accuracy: 0.3056\n",
      "Epoch 6/80\n",
      "29/29 [==============================] - 9s 308ms/step - loss: 13.2714 - accuracy: 0.5383 - val_loss: 12.6711 - val_accuracy: 0.3333\n",
      "Epoch 7/80\n",
      "29/29 [==============================] - 9s 310ms/step - loss: 11.7736 - accuracy: 0.5767 - val_loss: 11.4066 - val_accuracy: 0.3611\n",
      "Epoch 8/80\n",
      "29/29 [==============================] - 9s 311ms/step - loss: 10.5884 - accuracy: 0.6115 - val_loss: 10.7042 - val_accuracy: 0.2500\n",
      "Epoch 9/80\n",
      "29/29 [==============================] - 9s 313ms/step - loss: 9.7220 - accuracy: 0.6063 - val_loss: 9.7978 - val_accuracy: 0.3125\n",
      "Epoch 10/80\n",
      "29/29 [==============================] - 9s 311ms/step - loss: 9.0073 - accuracy: 0.6585 - val_loss: 9.2570 - val_accuracy: 0.2917\n",
      "Epoch 11/80\n",
      "29/29 [==============================] - 9s 311ms/step - loss: 8.4488 - accuracy: 0.6690 - val_loss: 8.6014 - val_accuracy: 0.3542\n",
      "Epoch 12/80\n",
      "29/29 [==============================] - 9s 315ms/step - loss: 7.9543 - accuracy: 0.6603 - val_loss: 8.2028 - val_accuracy: 0.3681\n",
      "Epoch 13/80\n",
      "29/29 [==============================] - 9s 315ms/step - loss: 7.5035 - accuracy: 0.7230 - val_loss: 7.6803 - val_accuracy: 0.4444\n",
      "Epoch 14/80\n",
      "29/29 [==============================] - 9s 321ms/step - loss: 7.1955 - accuracy: 0.6655 - val_loss: 7.3839 - val_accuracy: 0.4236\n",
      "Epoch 15/80\n",
      "29/29 [==============================] - 10s 344ms/step - loss: 6.7828 - accuracy: 0.7718 - val_loss: 7.0941 - val_accuracy: 0.4306\n",
      "Epoch 16/80\n",
      "29/29 [==============================] - 10s 344ms/step - loss: 6.5149 - accuracy: 0.7578 - val_loss: 6.8044 - val_accuracy: 0.4792\n",
      "Epoch 17/80\n",
      "29/29 [==============================] - 9s 328ms/step - loss: 6.2561 - accuracy: 0.7509 - val_loss: 6.4759 - val_accuracy: 0.5347\n",
      "Epoch 18/80\n",
      "29/29 [==============================] - 9s 320ms/step - loss: 5.9996 - accuracy: 0.7962 - val_loss: 6.2680 - val_accuracy: 0.5347\n",
      "Epoch 19/80\n",
      "29/29 [==============================] - 10s 329ms/step - loss: 5.7657 - accuracy: 0.8031 - val_loss: 6.0522 - val_accuracy: 0.5486\n",
      "Epoch 20/80\n",
      "29/29 [==============================] - 10s 329ms/step - loss: 5.5344 - accuracy: 0.8101 - val_loss: 5.8572 - val_accuracy: 0.5417\n",
      "Epoch 21/80\n",
      "29/29 [==============================] - 10s 338ms/step - loss: 5.3431 - accuracy: 0.8066 - val_loss: 5.6586 - val_accuracy: 0.5486\n",
      "Epoch 22/80\n",
      "29/29 [==============================] - 9s 326ms/step - loss: 5.1215 - accuracy: 0.8328 - val_loss: 5.4997 - val_accuracy: 0.5694\n",
      "Epoch 23/80\n",
      "29/29 [==============================] - 9s 324ms/step - loss: 4.9458 - accuracy: 0.8606 - val_loss: 5.2812 - val_accuracy: 0.5833\n",
      "Epoch 24/80\n",
      "29/29 [==============================] - 10s 340ms/step - loss: 4.7377 - accuracy: 0.8606 - val_loss: 5.1830 - val_accuracy: 0.5486\n",
      "Epoch 25/80\n",
      "29/29 [==============================] - 9s 321ms/step - loss: 4.5683 - accuracy: 0.8920 - val_loss: 5.0601 - val_accuracy: 0.5278\n",
      "Epoch 26/80\n",
      "29/29 [==============================] - 9s 326ms/step - loss: 4.4054 - accuracy: 0.8937 - val_loss: 4.9014 - val_accuracy: 0.5833\n",
      "Epoch 27/80\n",
      "29/29 [==============================] - 9s 316ms/step - loss: 4.2572 - accuracy: 0.8937 - val_loss: 4.8091 - val_accuracy: 0.5139\n",
      "Epoch 28/80\n",
      "29/29 [==============================] - 9s 312ms/step - loss: 4.1060 - accuracy: 0.9094 - val_loss: 4.6401 - val_accuracy: 0.5764\n",
      "Epoch 29/80\n",
      "29/29 [==============================] - 9s 323ms/step - loss: 3.9451 - accuracy: 0.9216 - val_loss: 4.5203 - val_accuracy: 0.5208\n",
      "Epoch 30/80\n",
      "29/29 [==============================] - 9s 321ms/step - loss: 3.8304 - accuracy: 0.9077 - val_loss: 4.3352 - val_accuracy: 0.5833\n",
      "Epoch 31/80\n",
      "29/29 [==============================] - 9s 325ms/step - loss: 3.6815 - accuracy: 0.9286 - val_loss: 4.2730 - val_accuracy: 0.5833\n",
      "Epoch 32/80\n",
      "29/29 [==============================] - 9s 326ms/step - loss: 3.5449 - accuracy: 0.9408 - val_loss: 4.1793 - val_accuracy: 0.5694\n",
      "Epoch 33/80\n",
      "29/29 [==============================] - 9s 323ms/step - loss: 3.4481 - accuracy: 0.9146 - val_loss: 4.0479 - val_accuracy: 0.5972\n",
      "Epoch 34/80\n",
      "29/29 [==============================] - 10s 333ms/step - loss: 3.3387 - accuracy: 0.9199 - val_loss: 3.9211 - val_accuracy: 0.5903\n",
      "Epoch 35/80\n",
      "29/29 [==============================] - 9s 315ms/step - loss: 3.2143 - accuracy: 0.9355 - val_loss: 3.8498 - val_accuracy: 0.5486\n",
      "Epoch 36/80\n",
      "29/29 [==============================] - 10s 333ms/step - loss: 3.0860 - accuracy: 0.9425 - val_loss: 3.7726 - val_accuracy: 0.5694\n",
      "Epoch 37/80\n",
      "29/29 [==============================] - 9s 307ms/step - loss: 2.9899 - accuracy: 0.9460 - val_loss: 3.6803 - val_accuracy: 0.6042\n",
      "Epoch 38/80\n",
      "29/29 [==============================] - 9s 325ms/step - loss: 2.9520 - accuracy: 0.9216 - val_loss: 3.5409 - val_accuracy: 0.5764\n",
      "Epoch 39/80\n",
      "29/29 [==============================] - 9s 320ms/step - loss: 2.8236 - accuracy: 0.9408 - val_loss: 3.5302 - val_accuracy: 0.5903\n",
      "Epoch 40/80\n",
      "29/29 [==============================] - 9s 316ms/step - loss: 2.7151 - accuracy: 0.9582 - val_loss: 3.3969 - val_accuracy: 0.5694\n",
      "Epoch 41/80\n",
      "29/29 [==============================] - 9s 318ms/step - loss: 2.6491 - accuracy: 0.9408 - val_loss: 3.2983 - val_accuracy: 0.5833\n",
      "Epoch 42/80\n",
      "29/29 [==============================] - 10s 350ms/step - loss: 2.5504 - accuracy: 0.9495 - val_loss: 3.2640 - val_accuracy: 0.5764\n",
      "Epoch 43/80\n",
      "29/29 [==============================] - 10s 326ms/step - loss: 2.4788 - accuracy: 0.9477 - val_loss: 3.2033 - val_accuracy: 0.5764\n",
      "Epoch 44/80\n",
      "29/29 [==============================] - 9s 320ms/step - loss: 2.4071 - accuracy: 0.9425 - val_loss: 3.1520 - val_accuracy: 0.5417\n",
      "Epoch 45/80\n",
      "29/29 [==============================] - 9s 316ms/step - loss: 2.3442 - accuracy: 0.9495 - val_loss: 3.0180 - val_accuracy: 0.5694\n",
      "Epoch 46/80\n",
      "29/29 [==============================] - 10s 333ms/step - loss: 2.2475 - accuracy: 0.9530 - val_loss: 3.0014 - val_accuracy: 0.5556\n",
      "Epoch 47/80\n",
      "29/29 [==============================] - 10s 332ms/step - loss: 2.1856 - accuracy: 0.9530 - val_loss: 2.8997 - val_accuracy: 0.5417\n",
      "Epoch 48/80\n",
      "29/29 [==============================] - 10s 336ms/step - loss: 2.0930 - accuracy: 0.9669 - val_loss: 2.8706 - val_accuracy: 0.5417\n",
      "Epoch 49/80\n",
      "29/29 [==============================] - 10s 331ms/step - loss: 2.0288 - accuracy: 0.9564 - val_loss: 2.7685 - val_accuracy: 0.5833\n",
      "Epoch 50/80\n",
      "29/29 [==============================] - 9s 320ms/step - loss: 1.9593 - accuracy: 0.9669 - val_loss: 2.7004 - val_accuracy: 0.6042\n",
      "Epoch 51/80\n",
      "29/29 [==============================] - 10s 329ms/step - loss: 1.9104 - accuracy: 0.9617 - val_loss: 2.6536 - val_accuracy: 0.5625\n",
      "Epoch 52/80\n",
      "29/29 [==============================] - 10s 346ms/step - loss: 1.8490 - accuracy: 0.9652 - val_loss: 2.6145 - val_accuracy: 0.5486\n",
      "Epoch 53/80\n",
      "29/29 [==============================] - 10s 346ms/step - loss: 1.7951 - accuracy: 0.9686 - val_loss: 2.5341 - val_accuracy: 0.6042\n",
      "Epoch 54/80\n",
      "29/29 [==============================] - 10s 329ms/step - loss: 1.7244 - accuracy: 0.9774 - val_loss: 2.4728 - val_accuracy: 0.6111\n",
      "Epoch 55/80\n",
      "29/29 [==============================] - 10s 329ms/step - loss: 1.6801 - accuracy: 0.9686 - val_loss: 2.4355 - val_accuracy: 0.5972\n",
      "Epoch 56/80\n",
      "29/29 [==============================] - 9s 322ms/step - loss: 1.6312 - accuracy: 0.9634 - val_loss: 2.3977 - val_accuracy: 0.5694\n",
      "Epoch 57/80\n",
      "29/29 [==============================] - 9s 322ms/step - loss: 1.5498 - accuracy: 0.9808 - val_loss: 2.3364 - val_accuracy: 0.6319\n",
      "Epoch 58/80\n",
      "29/29 [==============================] - 9s 315ms/step - loss: 1.5213 - accuracy: 0.9739 - val_loss: 2.3586 - val_accuracy: 0.5417\n",
      "Epoch 59/80\n",
      "29/29 [==============================] - 9s 315ms/step - loss: 1.4713 - accuracy: 0.9826 - val_loss: 2.2570 - val_accuracy: 0.5764\n",
      "Epoch 60/80\n",
      "29/29 [==============================] - 9s 323ms/step - loss: 1.4324 - accuracy: 0.9704 - val_loss: 2.2464 - val_accuracy: 0.5764\n",
      "Epoch 61/80\n",
      "29/29 [==============================] - 9s 327ms/step - loss: 1.4021 - accuracy: 0.9704 - val_loss: 2.2163 - val_accuracy: 0.5903\n",
      "Epoch 62/80\n",
      "29/29 [==============================] - 9s 310ms/step - loss: 1.3476 - accuracy: 0.9669 - val_loss: 2.1741 - val_accuracy: 0.6319\n",
      "Epoch 63/80\n",
      "29/29 [==============================] - 9s 300ms/step - loss: 1.2925 - accuracy: 0.9808 - val_loss: 2.1621 - val_accuracy: 0.6042\n",
      "Epoch 64/80\n",
      "29/29 [==============================] - 9s 300ms/step - loss: 1.2826 - accuracy: 0.9721 - val_loss: 2.0490 - val_accuracy: 0.6181\n",
      "Epoch 65/80\n",
      "29/29 [==============================] - 9s 298ms/step - loss: 1.2525 - accuracy: 0.9739 - val_loss: 2.0534 - val_accuracy: 0.6319\n",
      "Epoch 66/80\n",
      "29/29 [==============================] - 9s 300ms/step - loss: 1.1904 - accuracy: 0.9861 - val_loss: 2.0176 - val_accuracy: 0.6181\n",
      "Epoch 67/80\n",
      "29/29 [==============================] - 9s 303ms/step - loss: 1.1615 - accuracy: 0.9739 - val_loss: 2.0532 - val_accuracy: 0.5903\n",
      "Epoch 68/80\n",
      "29/29 [==============================] - 9s 304ms/step - loss: 1.1273 - accuracy: 0.9861 - val_loss: 1.9371 - val_accuracy: 0.6319\n",
      "Epoch 69/80\n",
      "29/29 [==============================] - 9s 299ms/step - loss: 1.0831 - accuracy: 0.9913 - val_loss: 1.9672 - val_accuracy: 0.5972\n",
      "Epoch 70/80\n",
      "29/29 [==============================] - 9s 298ms/step - loss: 1.0596 - accuracy: 0.9791 - val_loss: 1.9687 - val_accuracy: 0.5764\n",
      "Epoch 71/80\n",
      "29/29 [==============================] - 9s 303ms/step - loss: 1.0416 - accuracy: 0.9791 - val_loss: 1.8767 - val_accuracy: 0.6181\n",
      "Epoch 72/80\n",
      "29/29 [==============================] - 9s 317ms/step - loss: 0.9944 - accuracy: 0.9808 - val_loss: 1.8506 - val_accuracy: 0.6319\n",
      "Epoch 73/80\n",
      "29/29 [==============================] - 9s 320ms/step - loss: 0.9738 - accuracy: 0.9843 - val_loss: 1.8995 - val_accuracy: 0.5625\n",
      "Epoch 74/80\n",
      "29/29 [==============================] - 9s 320ms/step - loss: 0.9580 - accuracy: 0.9774 - val_loss: 1.8218 - val_accuracy: 0.5972\n",
      "Epoch 75/80\n",
      "29/29 [==============================] - 9s 317ms/step - loss: 0.9250 - accuracy: 0.9791 - val_loss: 1.7275 - val_accuracy: 0.6458\n",
      "Epoch 76/80\n",
      "29/29 [==============================] - 9s 309ms/step - loss: 0.9101 - accuracy: 0.9774 - val_loss: 1.7068 - val_accuracy: 0.6319\n",
      "Epoch 77/80\n",
      "29/29 [==============================] - 9s 315ms/step - loss: 0.9128 - accuracy: 0.9686 - val_loss: 1.7245 - val_accuracy: 0.6319\n",
      "Epoch 78/80\n",
      "29/29 [==============================] - 9s 315ms/step - loss: 0.8522 - accuracy: 0.9895 - val_loss: 1.6939 - val_accuracy: 0.6389\n",
      "Epoch 79/80\n",
      "29/29 [==============================] - 9s 326ms/step - loss: 0.8557 - accuracy: 0.9739 - val_loss: 1.6623 - val_accuracy: 0.6250\n",
      "Epoch 80/80\n",
      "29/29 [==============================] - 10s 344ms/step - loss: 0.8070 - accuracy: 0.9791 - val_loss: 1.6634 - val_accuracy: 0.6389\n"
     ]
    },
    {
     "data": {
      "text/plain": [
       "<keras.callbacks.History at 0x7fef4592d930>"
      ]
     },
     "execution_count": 31,
     "metadata": {},
     "output_type": "execute_result"
    }
   ],
   "source": [
    "model1.fit(mfcc1_train_reshaped,y1_train,validation_data=(mfcc1_val_reshaped,y1_val),batch_size=20,epochs=80)"
   ]
  },
  {
   "cell_type": "code",
   "execution_count": 17,
   "id": "516a2b50",
   "metadata": {},
   "outputs": [],
   "source": [
    "mfcc2_file = np.load(\"Features2D/npz_new/mfcc2_train_test.npz\")\n",
    "mfcc2_train = mfcc2_file['mfcc_train']\n",
    "y2_train = mfcc2_file['y_train']\n",
    "\n",
    "mfcc2_train,mfcc2_val,y2_train,y2_val = train_test_split(mfcc2_train,y2_train, \n",
    "                                                         train_size = 0.8,  \n",
    "                                                         random_state = 13, \n",
    "                                                         stratify= y2_train)"
   ]
  },
  {
   "cell_type": "code",
   "execution_count": 18,
   "id": "0a7e9c85",
   "metadata": {},
   "outputs": [],
   "source": [
    "# Feature Scaling\n",
    "mfcc2_train_scaled = (mfcc2_train - np.mean(mfcc2_train))/np.std(mfcc2_train)\n",
    "mfcc2_val_scaled = (mfcc2_val - np.mean(mfcc2_val))/np.std(mfcc2_val)"
   ]
  },
  {
   "cell_type": "code",
   "execution_count": 19,
   "id": "97aecc0d",
   "metadata": {},
   "outputs": [],
   "source": [
    "# Reshape the data\n",
    "N,row,col = mfcc2_train_scaled.shape\n",
    "mfcc2_train_reshaped = mfcc2_train_scaled.reshape((N,row,col,1))\n",
    "N,row,col = mfcc2_val_scaled.shape\n",
    "mfcc2_val_reshaped = mfcc2_val_scaled.reshape((N,row,col,1))"
   ]
  },
  {
   "cell_type": "code",
   "execution_count": 20,
   "id": "eb0e8b8d",
   "metadata": {
    "scrolled": true
   },
   "outputs": [
    {
     "name": "stdout",
     "output_type": "stream",
     "text": [
      "Model: \"CNN2D_2\"\n",
      "_________________________________________________________________\n",
      " Layer (type)                Output Shape              Param #   \n",
      "=================================================================\n",
      " Conv2D_1 (Conv2D)           (None, 120, 600, 8)       80        \n",
      "                                                                 \n",
      " MaxPooling2D_1 (MaxPooling2  (None, 60, 300, 8)       0         \n",
      " D)                                                              \n",
      "                                                                 \n",
      " BN1 (BatchNormalization)    (None, 60, 300, 8)        32        \n",
      "                                                                 \n",
      " Conv2D_2 (Conv2D)           (None, 60, 300, 8)        584       \n",
      "                                                                 \n",
      " MaxPooling2D_2 (MaxPooling2  (None, 30, 150, 8)       0         \n",
      " D)                                                              \n",
      "                                                                 \n",
      " BN2 (BatchNormalization)    (None, 30, 150, 8)        32        \n",
      "                                                                 \n",
      " Conv2D_3 (Conv2D)           (None, 30, 150, 8)        584       \n",
      "                                                                 \n",
      " MaxPooling2D_3 (MaxPooling2  (None, 15, 75, 8)        0         \n",
      " D)                                                              \n",
      "                                                                 \n",
      " BN3 (BatchNormalization)    (None, 15, 75, 8)         32        \n",
      "                                                                 \n",
      " Flatten (Flatten)           (None, 9000)              0         \n",
      "                                                                 \n",
      " Dense1 (Dense)              (None, 64)                576064    \n",
      "                                                                 \n",
      " Dropout1 (Dropout)          (None, 64)                0         \n",
      "                                                                 \n",
      " Dense2 (Dense)              (None, 32)                2080      \n",
      "                                                                 \n",
      " Dropout2 (Dropout)          (None, 32)                0         \n",
      "                                                                 \n",
      " Softmax (Dense)             (None, 4)                 132       \n",
      "                                                                 \n",
      "=================================================================\n",
      "Total params: 579,620\n",
      "Trainable params: 579,572\n",
      "Non-trainable params: 48\n",
      "_________________________________________________________________\n"
     ]
    }
   ],
   "source": [
    "f1,k1,a1 = 8,3,'relu'\n",
    "mw1,mh1,sw1,sh1 = 2,3,2,2\n",
    "f2,k2,a2 = 8,3,'relu',\n",
    "mw2,mh2,sw2,sh2 = 2,3,2,2\n",
    "f3,k3,a3 = 8,3,'relu',\n",
    "mw3,mh3,sw3,sh3 = 2,3,2,2\n",
    "d1,dr1,da1,r1 = 64,0.2,'relu',0.2\n",
    "d2,dr2,da2,r2 = 32,0.2,'relu',0.2\n",
    "num = 2\n",
    "model2 = modelBuilder3L(mfcc2_train_reshaped,\n",
    "                        f1,k1,a1,\n",
    "                        mw1,mh1,sw1,sh1,\n",
    "                        f2,k2,a2,\n",
    "                        mw2,mh2,sw2,sh2,\n",
    "                        f3,k3,a3,\n",
    "                        mw3,mh3,sw3,sh3,\n",
    "                        d1,dr1,da1,r1,\n",
    "                        d2,dr2,da2,r2,\n",
    "                        num)"
   ]
  },
  {
   "cell_type": "code",
   "execution_count": 21,
   "id": "28b782aa",
   "metadata": {
    "scrolled": true
   },
   "outputs": [
    {
     "name": "stdout",
     "output_type": "stream",
     "text": [
      "Epoch 1/80\n",
      "15/15 [==============================] - 8s 393ms/step - loss: 34.2848 - accuracy: 0.3021 - val_loss: 32.6667 - val_accuracy: 0.3056\n",
      "Epoch 2/80\n",
      "15/15 [==============================] - 5s 307ms/step - loss: 31.3979 - accuracy: 0.3958 - val_loss: 30.0932 - val_accuracy: 0.3611\n",
      "Epoch 3/80\n",
      "15/15 [==============================] - 4s 286ms/step - loss: 28.7585 - accuracy: 0.5278 - val_loss: 27.7155 - val_accuracy: 0.4306\n",
      "Epoch 4/80\n",
      "15/15 [==============================] - 4s 288ms/step - loss: 26.3753 - accuracy: 0.6007 - val_loss: 25.5676 - val_accuracy: 0.5417\n",
      "Epoch 5/80\n",
      "15/15 [==============================] - 4s 294ms/step - loss: 24.2542 - accuracy: 0.6771 - val_loss: 23.6331 - val_accuracy: 0.5694\n",
      "Epoch 6/80\n",
      "15/15 [==============================] - 4s 285ms/step - loss: 22.3965 - accuracy: 0.6771 - val_loss: 22.0124 - val_accuracy: 0.4306\n",
      "Epoch 7/80\n",
      "15/15 [==============================] - 5s 329ms/step - loss: 20.7915 - accuracy: 0.6736 - val_loss: 20.4121 - val_accuracy: 0.4306\n",
      "Epoch 8/80\n",
      "15/15 [==============================] - 7s 491ms/step - loss: 19.1529 - accuracy: 0.7708 - val_loss: 19.0748 - val_accuracy: 0.4167\n",
      "Epoch 9/80\n",
      "15/15 [==============================] - 7s 442ms/step - loss: 17.8560 - accuracy: 0.7639 - val_loss: 17.9161 - val_accuracy: 0.3472\n",
      "Epoch 10/80\n",
      "15/15 [==============================] - 6s 398ms/step - loss: 16.6119 - accuracy: 0.7951 - val_loss: 16.8573 - val_accuracy: 0.5000\n",
      "Epoch 11/80\n",
      "15/15 [==============================] - 5s 350ms/step - loss: 15.5573 - accuracy: 0.8229 - val_loss: 15.8523 - val_accuracy: 0.4167\n",
      "Epoch 12/80\n",
      "15/15 [==============================] - 5s 301ms/step - loss: 14.6089 - accuracy: 0.8542 - val_loss: 15.0862 - val_accuracy: 0.3333\n",
      "Epoch 13/80\n",
      "15/15 [==============================] - 5s 306ms/step - loss: 13.7442 - accuracy: 0.8924 - val_loss: 14.1276 - val_accuracy: 0.4722\n",
      "Epoch 14/80\n",
      "15/15 [==============================] - 5s 310ms/step - loss: 12.9452 - accuracy: 0.9028 - val_loss: 13.4529 - val_accuracy: 0.3889\n",
      "Epoch 15/80\n",
      "15/15 [==============================] - 5s 307ms/step - loss: 12.2840 - accuracy: 0.9062 - val_loss: 13.0548 - val_accuracy: 0.3472\n",
      "Epoch 16/80\n",
      "15/15 [==============================] - 5s 308ms/step - loss: 11.6744 - accuracy: 0.9028 - val_loss: 12.3009 - val_accuracy: 0.4167\n",
      "Epoch 17/80\n",
      "15/15 [==============================] - 4s 293ms/step - loss: 11.1103 - accuracy: 0.9201 - val_loss: 12.0059 - val_accuracy: 0.4167\n",
      "Epoch 18/80\n",
      "15/15 [==============================] - 4s 294ms/step - loss: 10.6141 - accuracy: 0.9306 - val_loss: 11.3636 - val_accuracy: 0.4167\n",
      "Epoch 19/80\n",
      "15/15 [==============================] - 5s 305ms/step - loss: 10.1580 - accuracy: 0.9062 - val_loss: 10.6941 - val_accuracy: 0.5278\n",
      "Epoch 20/80\n",
      "15/15 [==============================] - 5s 317ms/step - loss: 9.6884 - accuracy: 0.9549 - val_loss: 10.5793 - val_accuracy: 0.4028\n",
      "Epoch 21/80\n",
      "15/15 [==============================] - 5s 304ms/step - loss: 9.2572 - accuracy: 0.9792 - val_loss: 10.0775 - val_accuracy: 0.4444\n",
      "Epoch 22/80\n",
      "15/15 [==============================] - 5s 303ms/step - loss: 8.9668 - accuracy: 0.9444 - val_loss: 10.0538 - val_accuracy: 0.4028\n",
      "Epoch 23/80\n",
      "15/15 [==============================] - 5s 307ms/step - loss: 8.6664 - accuracy: 0.9410 - val_loss: 9.3670 - val_accuracy: 0.5278\n",
      "Epoch 24/80\n",
      "15/15 [==============================] - 4s 295ms/step - loss: 8.3201 - accuracy: 0.9618 - val_loss: 9.2225 - val_accuracy: 0.4306\n",
      "Epoch 25/80\n",
      "15/15 [==============================] - 6s 430ms/step - loss: 8.0320 - accuracy: 0.9757 - val_loss: 8.8696 - val_accuracy: 0.4444\n",
      "Epoch 26/80\n",
      "15/15 [==============================] - 5s 327ms/step - loss: 7.8129 - accuracy: 0.9549 - val_loss: 8.5042 - val_accuracy: 0.5556\n",
      "Epoch 27/80\n",
      "15/15 [==============================] - 5s 324ms/step - loss: 7.5340 - accuracy: 0.9688 - val_loss: 8.2636 - val_accuracy: 0.5417\n",
      "Epoch 28/80\n",
      "15/15 [==============================] - 5s 301ms/step - loss: 7.3396 - accuracy: 0.9549 - val_loss: 7.9702 - val_accuracy: 0.5972\n",
      "Epoch 29/80\n",
      "15/15 [==============================] - 5s 331ms/step - loss: 7.0893 - accuracy: 0.9757 - val_loss: 7.7780 - val_accuracy: 0.6111\n",
      "Epoch 30/80\n",
      "15/15 [==============================] - 5s 330ms/step - loss: 6.8834 - accuracy: 0.9826 - val_loss: 7.6431 - val_accuracy: 0.6111\n",
      "Epoch 31/80\n",
      "15/15 [==============================] - 5s 299ms/step - loss: 6.7008 - accuracy: 0.9792 - val_loss: 7.3976 - val_accuracy: 0.5972\n",
      "Epoch 32/80\n",
      "15/15 [==============================] - 5s 304ms/step - loss: 6.5590 - accuracy: 0.9549 - val_loss: 7.1359 - val_accuracy: 0.6528\n",
      "Epoch 33/80\n",
      "15/15 [==============================] - 5s 307ms/step - loss: 6.4016 - accuracy: 0.9757 - val_loss: 7.0065 - val_accuracy: 0.6250\n",
      "Epoch 34/80\n",
      "15/15 [==============================] - 4s 299ms/step - loss: 6.1945 - accuracy: 0.9757 - val_loss: 6.7288 - val_accuracy: 0.7222\n",
      "Epoch 35/80\n",
      "15/15 [==============================] - 5s 306ms/step - loss: 6.0497 - accuracy: 0.9826 - val_loss: 6.6304 - val_accuracy: 0.7083\n",
      "Epoch 36/80\n",
      "15/15 [==============================] - 5s 309ms/step - loss: 5.8644 - accuracy: 0.9826 - val_loss: 6.3720 - val_accuracy: 0.7361\n",
      "Epoch 37/80\n",
      "15/15 [==============================] - 5s 301ms/step - loss: 5.7673 - accuracy: 0.9757 - val_loss: 6.3132 - val_accuracy: 0.6944\n",
      "Epoch 38/80\n",
      "15/15 [==============================] - 5s 311ms/step - loss: 5.6176 - accuracy: 0.9861 - val_loss: 6.0740 - val_accuracy: 0.7639\n",
      "Epoch 39/80\n",
      "15/15 [==============================] - 5s 313ms/step - loss: 5.5111 - accuracy: 0.9826 - val_loss: 6.0941 - val_accuracy: 0.6806\n",
      "Epoch 40/80\n",
      "15/15 [==============================] - 5s 317ms/step - loss: 5.3533 - accuracy: 0.9861 - val_loss: 5.8200 - val_accuracy: 0.7361\n",
      "Epoch 41/80\n",
      "15/15 [==============================] - 4s 294ms/step - loss: 5.2382 - accuracy: 0.9861 - val_loss: 5.6647 - val_accuracy: 0.7361\n",
      "Epoch 42/80\n",
      "15/15 [==============================] - 4s 299ms/step - loss: 5.1398 - accuracy: 0.9861 - val_loss: 5.5760 - val_accuracy: 0.7361\n",
      "Epoch 43/80\n",
      "15/15 [==============================] - 4s 283ms/step - loss: 5.0173 - accuracy: 0.9861 - val_loss: 5.4297 - val_accuracy: 0.7639\n",
      "Epoch 44/80\n",
      "15/15 [==============================] - 5s 305ms/step - loss: 4.9079 - accuracy: 0.9792 - val_loss: 5.3558 - val_accuracy: 0.7639\n",
      "Epoch 45/80\n",
      "15/15 [==============================] - 5s 308ms/step - loss: 4.7957 - accuracy: 0.9826 - val_loss: 5.2693 - val_accuracy: 0.7361\n",
      "Epoch 46/80\n",
      "15/15 [==============================] - 4s 298ms/step - loss: 4.7137 - accuracy: 0.9653 - val_loss: 5.1272 - val_accuracy: 0.7500\n",
      "Epoch 47/80\n",
      "15/15 [==============================] - 5s 306ms/step - loss: 4.5962 - accuracy: 0.9896 - val_loss: 5.0299 - val_accuracy: 0.7778\n",
      "Epoch 48/80\n",
      "15/15 [==============================] - 5s 311ms/step - loss: 4.4835 - accuracy: 0.9965 - val_loss: 4.9483 - val_accuracy: 0.7639\n",
      "Epoch 49/80\n",
      "15/15 [==============================] - 5s 300ms/step - loss: 4.4008 - accuracy: 0.9861 - val_loss: 4.8544 - val_accuracy: 0.7639\n",
      "Epoch 50/80\n",
      "15/15 [==============================] - 5s 310ms/step - loss: 4.3214 - accuracy: 0.9861 - val_loss: 4.7781 - val_accuracy: 0.7222\n",
      "Epoch 51/80\n",
      "15/15 [==============================] - 5s 312ms/step - loss: 4.2259 - accuracy: 0.9896 - val_loss: 4.6499 - val_accuracy: 0.7500\n",
      "Epoch 52/80\n",
      "15/15 [==============================] - 4s 295ms/step - loss: 4.1364 - accuracy: 0.9826 - val_loss: 4.6160 - val_accuracy: 0.6944\n",
      "Epoch 53/80\n",
      "15/15 [==============================] - 4s 298ms/step - loss: 4.0833 - accuracy: 0.9826 - val_loss: 4.4712 - val_accuracy: 0.7778\n",
      "Epoch 54/80\n",
      "15/15 [==============================] - 4s 296ms/step - loss: 3.9937 - accuracy: 0.9861 - val_loss: 4.4444 - val_accuracy: 0.6944\n",
      "Epoch 55/80\n",
      "15/15 [==============================] - 4s 297ms/step - loss: 3.8981 - accuracy: 0.9861 - val_loss: 4.3326 - val_accuracy: 0.7639\n",
      "Epoch 56/80\n",
      "15/15 [==============================] - 5s 319ms/step - loss: 3.8170 - accuracy: 0.9861 - val_loss: 4.2764 - val_accuracy: 0.7222\n",
      "Epoch 57/80\n",
      "15/15 [==============================] - 5s 310ms/step - loss: 3.7282 - accuracy: 0.9931 - val_loss: 4.1534 - val_accuracy: 0.7917\n",
      "Epoch 58/80\n",
      "15/15 [==============================] - 5s 303ms/step - loss: 3.6625 - accuracy: 0.9896 - val_loss: 4.1388 - val_accuracy: 0.7222\n",
      "Epoch 59/80\n",
      "15/15 [==============================] - 5s 314ms/step - loss: 3.6004 - accuracy: 0.9826 - val_loss: 4.0490 - val_accuracy: 0.7639\n",
      "Epoch 60/80\n",
      "15/15 [==============================] - 4s 294ms/step - loss: 3.5197 - accuracy: 0.9826 - val_loss: 4.0192 - val_accuracy: 0.7639\n",
      "Epoch 61/80\n",
      "15/15 [==============================] - 4s 286ms/step - loss: 3.4547 - accuracy: 0.9826 - val_loss: 3.8747 - val_accuracy: 0.7778\n",
      "Epoch 62/80\n",
      "15/15 [==============================] - 4s 296ms/step - loss: 3.3710 - accuracy: 0.9965 - val_loss: 3.8523 - val_accuracy: 0.7361\n",
      "Epoch 63/80\n",
      "15/15 [==============================] - 4s 296ms/step - loss: 3.3169 - accuracy: 0.9861 - val_loss: 3.7463 - val_accuracy: 0.7500\n",
      "Epoch 64/80\n",
      "15/15 [==============================] - 4s 288ms/step - loss: 3.2486 - accuracy: 0.9896 - val_loss: 3.7249 - val_accuracy: 0.7639\n",
      "Epoch 65/80\n",
      "15/15 [==============================] - 4s 298ms/step - loss: 3.1885 - accuracy: 0.9965 - val_loss: 3.6512 - val_accuracy: 0.7639\n",
      "Epoch 66/80\n",
      "15/15 [==============================] - 4s 296ms/step - loss: 3.1242 - accuracy: 0.9931 - val_loss: 3.5677 - val_accuracy: 0.7361\n",
      "Epoch 67/80\n",
      "15/15 [==============================] - 4s 286ms/step - loss: 3.0852 - accuracy: 0.9792 - val_loss: 3.5133 - val_accuracy: 0.7778\n",
      "Epoch 68/80\n",
      "15/15 [==============================] - 4s 297ms/step - loss: 3.0009 - accuracy: 0.9965 - val_loss: 3.4396 - val_accuracy: 0.7778\n",
      "Epoch 69/80\n",
      "15/15 [==============================] - 4s 295ms/step - loss: 2.9581 - accuracy: 0.9826 - val_loss: 3.3814 - val_accuracy: 0.7778\n",
      "Epoch 70/80\n",
      "15/15 [==============================] - 4s 289ms/step - loss: 2.8870 - accuracy: 0.9965 - val_loss: 3.3382 - val_accuracy: 0.7778\n",
      "Epoch 71/80\n",
      "15/15 [==============================] - 4s 300ms/step - loss: 2.8282 - accuracy: 0.9896 - val_loss: 3.2975 - val_accuracy: 0.7778\n",
      "Epoch 72/80\n",
      "15/15 [==============================] - 4s 294ms/step - loss: 2.7764 - accuracy: 0.9896 - val_loss: 3.1991 - val_accuracy: 0.8056\n",
      "Epoch 73/80\n",
      "15/15 [==============================] - 4s 289ms/step - loss: 2.7174 - accuracy: 0.9896 - val_loss: 3.1473 - val_accuracy: 0.7778\n",
      "Epoch 74/80\n",
      "15/15 [==============================] - 4s 297ms/step - loss: 2.6878 - accuracy: 0.9861 - val_loss: 3.0882 - val_accuracy: 0.7778\n",
      "Epoch 75/80\n",
      "15/15 [==============================] - 4s 295ms/step - loss: 2.6191 - accuracy: 0.9861 - val_loss: 3.0641 - val_accuracy: 0.7917\n",
      "Epoch 76/80\n",
      "15/15 [==============================] - 5s 318ms/step - loss: 2.5846 - accuracy: 0.9792 - val_loss: 2.9876 - val_accuracy: 0.7639\n",
      "Epoch 77/80\n",
      "15/15 [==============================] - 5s 304ms/step - loss: 2.5293 - accuracy: 0.9965 - val_loss: 2.9457 - val_accuracy: 0.7778\n",
      "Epoch 78/80\n",
      "15/15 [==============================] - 5s 301ms/step - loss: 2.4773 - accuracy: 0.9931 - val_loss: 2.9290 - val_accuracy: 0.7778\n",
      "Epoch 79/80\n",
      "15/15 [==============================] - 4s 293ms/step - loss: 2.4304 - accuracy: 0.9931 - val_loss: 2.8594 - val_accuracy: 0.8194\n",
      "Epoch 80/80\n",
      "15/15 [==============================] - 5s 319ms/step - loss: 2.3843 - accuracy: 0.9896 - val_loss: 2.8340 - val_accuracy: 0.7361\n"
     ]
    }
   ],
   "source": [
    "history2 = model2.fit(mfcc2_train_reshaped,y2_train,validation_data=(mfcc2_val_reshaped,y2_val),batch_size=20,epochs=80)"
   ]
  },
  {
   "cell_type": "code",
   "execution_count": 22,
   "id": "fa9049bb",
   "metadata": {},
   "outputs": [
    {
     "data": {
      "text/plain": [
       "Text(0, 0.5, 'loss')"
      ]
     },
     "execution_count": 22,
     "metadata": {},
     "output_type": "execute_result"
    },
    {
     "data": {
      "image/png": "[encoded data removed]",
      "text/plain": [
       "<Figure size 1200x400 with 2 Axes>"
      ]
     },
     "metadata": {},
     "output_type": "display_data"
    }
   ],
   "source": [
    "# Train and Validation accuracy and loss\n",
    "f = plt.figure(figsize = (12,4))\n",
    "\n",
    "plt.subplot(1,2,1)\n",
    "plt.title('train validation accuracy')\n",
    "plt.plot(history2.history['accuracy'])\n",
    "plt.plot(history2.history['val_accuracy'])\n",
    "plt.legend(['train','validation'])\n",
    "plt.xlabel('epoch')\n",
    "plt.ylabel('accuracy')\n",
    "\n",
    "\n",
    "plt.subplot(1,2,2)\n",
    "plt.title('train validation loss')\n",
    "plt.plot(history2.history['loss'])\n",
    "plt.plot(history2.history['val_loss'])\n",
    "plt.legend(['train','validation'])\n",
    "plt.xlabel('epoch')\n",
    "plt.ylabel('loss')"
   ]
  },
  {
   "cell_type": "code",
   "execution_count": 23,
   "id": "91a78282",
   "metadata": {},
   "outputs": [],
   "source": [
    "mfcc2_test = mfcc2_file['mfcc_test']\n",
    "y2_test_mfcc = mfcc2_file['y_test']"
   ]
  },
  {
   "cell_type": "code",
   "execution_count": 24,
   "id": "96a70ad1",
   "metadata": {},
   "outputs": [],
   "source": [
    "# Feature Scaling\n",
    "mfcc2_test_scaled = (mfcc2_test - np.mean(mfcc2_test))/np.std(mfcc2_test)\n",
    "\n",
    "# Reshape the data\n",
    "N,row,col = mfcc2_test_scaled.shape\n",
    "mfcc2_test_reshaped = mfcc2_test_scaled.reshape((N,row,col,1))"
   ]
  },
  {
   "cell_type": "code",
   "execution_count": 25,
   "id": "bfc23f2e",
   "metadata": {},
   "outputs": [
    {
     "name": "stdout",
     "output_type": "stream",
     "text": [
      "2/2 [==============================] - 1s 82ms/step\n"
     ]
    }
   ],
   "source": [
    "y1_prob = model2.predict(mfcc2_test_reshaped)\n",
    "y1_pred = np.argmax(y1_prob, axis = -1)"
   ]
  },
  {
   "cell_type": "code",
   "execution_count": 26,
   "id": "7ae2a2e5",
   "metadata": {},
   "outputs": [],
   "source": [
    "# Accuracy\n",
    "acc1_2d = round(accuracy_score(y1_pred,y2_test_mfcc),2)"
   ]
  },
  {
   "cell_type": "code",
   "execution_count": 27,
   "id": "b22fd43d",
   "metadata": {},
   "outputs": [],
   "source": [
    "# Confusion Matrix\n",
    "cm_mfcc = confusion_matrix(y2_test_mfcc,y1_pred)\n",
    "cm_2d_mfcc = ConfusionMatrixDisplay(confusion_matrix = cm_mfcc, display_labels = ['Angry', 'Happy', 'Relaxed', 'Sad'])"
   ]
  },
  {
   "cell_type": "code",
   "execution_count": 28,
   "id": "2017356c",
   "metadata": {
    "scrolled": false
   },
   "outputs": [
    {
     "name": "stdout",
     "output_type": "stream",
     "text": [
      "              precision    recall  f1-score   support\n",
      "\n",
      "       Angry       1.00      1.00      1.00        10\n",
      "       Happy       0.83      1.00      0.91        10\n",
      "     Relaxed       0.89      0.80      0.84        10\n",
      "         Sad       0.89      0.80      0.84        10\n",
      "\n",
      "    accuracy                           0.90        40\n",
      "   macro avg       0.90      0.90      0.90        40\n",
      "weighted avg       0.90      0.90      0.90        40\n",
      "\n"
     ]
    },
    {
     "data": {
      "image/png": "[encoded data removed]",
      "text/plain": [
       "<Figure size 640x480 with 2 Axes>"
      ]
     },
     "metadata": {},
     "output_type": "display_data"
    }
   ],
   "source": [
    "print(classification_report(y2_test_mfcc, y1_pred, target_names = ['Angry', 'Happy', 'Relaxed', 'Sad']))\n",
    "cm_2d_mfcc.plot()\n",
    "plt.show()"
   ]
  },
  {
   "cell_type": "markdown",
   "id": "4f0fa5d3",
   "metadata": {},
   "source": [
    "### 4.2 Spectrogram"
   ]
  },
  {
   "cell_type": "code",
   "execution_count": 80,
   "id": "e0edf2ee",
   "metadata": {
    "scrolled": true
   },
   "outputs": [],
   "source": [
    "# Load Spectrogram data set\n",
    "spec1_file = np.load(\"Features2D/npz_new/spec1_train_test.npz\")\n",
    "\n",
    "spec1_train = spec1_file['spec_train']\n",
    "y1_train = spec1_file['y_train']\n",
    "\n",
    "spec1_train,spec1_val,y1_train,y1_val = train_test_split(spec1_train,y1_train, \n",
    "                                                         train_size = 0.8,\n",
    "                                                         random_state = 13, \n",
    "                                                         stratify= y1_train)"
   ]
  },
  {
   "cell_type": "code",
   "execution_count": 81,
   "id": "e88d5179",
   "metadata": {},
   "outputs": [],
   "source": [
    "# Feature Scaling\n",
    "spec1_train_scaled = spec1_train / np.amax(spec1_train)\n",
    "spec1_val_scaled = spec1_val / np.amax(spec1_val)"
   ]
  },
  {
   "cell_type": "code",
   "execution_count": 82,
   "id": "4f14e0c9",
   "metadata": {},
   "outputs": [],
   "source": [
    "# Reshape the data\n",
    "N,row,col = spec1_train_scaled.shape\n",
    "spec1_train_reshaped = spec1_train_scaled.reshape((N,row,col,1))\n",
    "\n",
    "N,row,col = spec1_val_scaled.shape\n",
    "spec1_val_reshaped = spec1_val_scaled.reshape((N,row,col,1))"
   ]
  },
  {
   "cell_type": "code",
   "execution_count": 83,
   "id": "da77716e",
   "metadata": {
    "scrolled": true
   },
   "outputs": [
    {
     "name": "stdout",
     "output_type": "stream",
     "text": [
      "Model: \"CNN2D_3\"\n",
      "_________________________________________________________________\n",
      " Layer (type)                Output Shape              Param #   \n",
      "=================================================================\n",
      " Conv2D_1 (Conv2D)           (None, 300, 300, 5)       50        \n",
      "                                                                 \n",
      " MaxPooling2D_1 (MaxPooling2  (None, 150, 150, 5)      0         \n",
      " D)                                                              \n",
      "                                                                 \n",
      " BN1 (BatchNormalization)    (None, 150, 150, 5)       20        \n",
      "                                                                 \n",
      " Conv2D_2 (Conv2D)           (None, 150, 150, 8)       368       \n",
      "                                                                 \n",
      " MaxPooling2D_2 (MaxPooling2  (None, 75, 75, 8)        0         \n",
      " D)                                                              \n",
      "                                                                 \n",
      " BN2 (BatchNormalization)    (None, 75, 75, 8)         32        \n",
      "                                                                 \n",
      " Conv2D_3 (Conv2D)           (None, 75, 75, 16)        1168      \n",
      "                                                                 \n",
      " MaxPooling2D_3 (MaxPooling2  (None, 38, 38, 16)       0         \n",
      " D)                                                              \n",
      "                                                                 \n",
      " BN3 (BatchNormalization)    (None, 38, 38, 16)        64        \n",
      "                                                                 \n",
      " Flatten (Flatten)           (None, 23104)             0         \n",
      "                                                                 \n",
      " Dense1 (Dense)              (None, 64)                1478720   \n",
      "                                                                 \n",
      " Dropout1 (Dropout)          (None, 64)                0         \n",
      "                                                                 \n",
      " Dense2 (Dense)              (None, 32)                2080      \n",
      "                                                                 \n",
      " Dropout2 (Dropout)          (None, 32)                0         \n",
      "                                                                 \n",
      " Softmax (Dense)             (None, 4)                 132       \n",
      "                                                                 \n",
      "=================================================================\n",
      "Total params: 1,482,634\n",
      "Trainable params: 1,482,576\n",
      "Non-trainable params: 58\n",
      "_________________________________________________________________\n"
     ]
    }
   ],
   "source": [
    "f1,k1,a1 = 5,3,'relu'\n",
    "mw1,mh1,sw1,sh1 = 3,3,2,2\n",
    "f2,k2,a2 = 8,3,'relu'\n",
    "mw2,mh2,sw2,sh2 = 3,3,2,2\n",
    "f3,k3,a3 = 16,3,'relu'\n",
    "mw3,mh3,sw3,sh3 = 3,3,2,2\n",
    "d1,dr1,da1,r1 = 64,0.2,'relu',0.2\n",
    "d2,dr2,da2,r2 = 32,0.2,'relu',0.2\n",
    "num = 3\n",
    "model3 = modelBuilder3L(spec1_train_reshaped,\n",
    "                        f1,k1,a1,\n",
    "                        mw1,mh1,sw1,sh1,\n",
    "                        f2,k2,a2,\n",
    "                        mw2,mh2,sw2,sh2,\n",
    "                        f3,k3,a3,\n",
    "                        mw3,mh3,sw3,sh3,\n",
    "                        d1,dr1,da1,r1,\n",
    "                        d2,dr2,da2,r2,\n",
    "                        num)"
   ]
  },
  {
   "cell_type": "code",
   "execution_count": 17,
   "id": "3342b58c",
   "metadata": {
    "scrolled": true
   },
   "outputs": [
    {
     "name": "stdout",
     "output_type": "stream",
     "text": [
      "Epoch 1/80\n",
      "29/29 [==============================] - 21s 650ms/step - loss: 33.8302 - accuracy: 0.4199 - val_loss: 31.6609 - val_accuracy: 0.2569\n",
      "Epoch 2/80\n",
      "29/29 [==============================] - 14s 494ms/step - loss: 29.4773 - accuracy: 0.5244 - val_loss: 27.6527 - val_accuracy: 0.2917\n",
      "Epoch 3/80\n",
      "29/29 [==============================] - 12s 399ms/step - loss: 25.6020 - accuracy: 0.5436 - val_loss: 24.0639 - val_accuracy: 0.3750\n",
      "Epoch 4/80\n",
      "29/29 [==============================] - 13s 444ms/step - loss: 22.1381 - accuracy: 0.6045 - val_loss: 21.3829 - val_accuracy: 0.2569\n",
      "Epoch 5/80\n",
      "29/29 [==============================] - 14s 470ms/step - loss: 19.3225 - accuracy: 0.6359 - val_loss: 18.6483 - val_accuracy: 0.3472\n",
      "Epoch 6/80\n",
      "29/29 [==============================] - 14s 497ms/step - loss: 16.9368 - accuracy: 0.7021 - val_loss: 16.6603 - val_accuracy: 0.4444\n",
      "Epoch 7/80\n",
      "29/29 [==============================] - 14s 486ms/step - loss: 15.0088 - accuracy: 0.7422 - val_loss: 15.2690 - val_accuracy: 0.2500\n",
      "Epoch 8/80\n",
      "29/29 [==============================] - 16s 546ms/step - loss: 13.4430 - accuracy: 0.8066 - val_loss: 13.6714 - val_accuracy: 0.3958\n",
      "Epoch 9/80\n",
      "29/29 [==============================] - 14s 484ms/step - loss: 12.1179 - accuracy: 0.8171 - val_loss: 12.6152 - val_accuracy: 0.3958\n",
      "Epoch 10/80\n",
      "29/29 [==============================] - 11s 388ms/step - loss: 11.0061 - accuracy: 0.8659 - val_loss: 11.4874 - val_accuracy: 0.4653\n",
      "Epoch 11/80\n",
      "29/29 [==============================] - 11s 392ms/step - loss: 10.0413 - accuracy: 0.8920 - val_loss: 10.6413 - val_accuracy: 0.5556\n",
      "Epoch 12/80\n",
      "29/29 [==============================] - 11s 391ms/step - loss: 9.2838 - accuracy: 0.8920 - val_loss: 10.0761 - val_accuracy: 0.4583\n",
      "Epoch 13/80\n",
      "29/29 [==============================] - 12s 413ms/step - loss: 8.5787 - accuracy: 0.9268 - val_loss: 9.6314 - val_accuracy: 0.4236\n",
      "Epoch 14/80\n",
      "29/29 [==============================] - 12s 414ms/step - loss: 8.0090 - accuracy: 0.9321 - val_loss: 9.0729 - val_accuracy: 0.4306\n",
      "Epoch 15/80\n",
      "29/29 [==============================] - 13s 457ms/step - loss: 7.4976 - accuracy: 0.9408 - val_loss: 8.9462 - val_accuracy: 0.4028\n",
      "Epoch 16/80\n",
      "29/29 [==============================] - 12s 414ms/step - loss: 7.0502 - accuracy: 0.9390 - val_loss: 8.4284 - val_accuracy: 0.4236\n",
      "Epoch 17/80\n",
      "29/29 [==============================] - 15s 502ms/step - loss: 6.6170 - accuracy: 0.9547 - val_loss: 7.8582 - val_accuracy: 0.4375\n",
      "Epoch 18/80\n",
      "29/29 [==============================] - 11s 389ms/step - loss: 6.2965 - accuracy: 0.9460 - val_loss: 7.4042 - val_accuracy: 0.4375\n",
      "Epoch 19/80\n",
      "29/29 [==============================] - 12s 402ms/step - loss: 5.9558 - accuracy: 0.9599 - val_loss: 6.9722 - val_accuracy: 0.4792\n",
      "Epoch 20/80\n",
      "29/29 [==============================] - 12s 418ms/step - loss: 5.6802 - accuracy: 0.9686 - val_loss: 6.6526 - val_accuracy: 0.5347\n",
      "Epoch 21/80\n",
      "29/29 [==============================] - 11s 387ms/step - loss: 5.4095 - accuracy: 0.9652 - val_loss: 6.4286 - val_accuracy: 0.5556\n",
      "Epoch 22/80\n",
      "29/29 [==============================] - 12s 414ms/step - loss: 5.1788 - accuracy: 0.9652 - val_loss: 6.1921 - val_accuracy: 0.5625\n",
      "Epoch 23/80\n",
      "29/29 [==============================] - 13s 439ms/step - loss: 4.9628 - accuracy: 0.9582 - val_loss: 5.8025 - val_accuracy: 0.6250\n",
      "Epoch 24/80\n",
      "29/29 [==============================] - 14s 465ms/step - loss: 4.7752 - accuracy: 0.9547 - val_loss: 5.4654 - val_accuracy: 0.6319\n",
      "Epoch 25/80\n",
      "29/29 [==============================] - 12s 398ms/step - loss: 4.5914 - accuracy: 0.9617 - val_loss: 5.4313 - val_accuracy: 0.6111\n",
      "Epoch 26/80\n",
      "29/29 [==============================] - 11s 395ms/step - loss: 4.3914 - accuracy: 0.9686 - val_loss: 5.1216 - val_accuracy: 0.6389\n",
      "Epoch 27/80\n",
      "29/29 [==============================] - 11s 390ms/step - loss: 4.2036 - accuracy: 0.9808 - val_loss: 5.1139 - val_accuracy: 0.5903\n",
      "Epoch 28/80\n",
      "29/29 [==============================] - 11s 390ms/step - loss: 4.0597 - accuracy: 0.9791 - val_loss: 4.8948 - val_accuracy: 0.6875\n",
      "Epoch 29/80\n",
      "29/29 [==============================] - 13s 433ms/step - loss: 3.9313 - accuracy: 0.9686 - val_loss: 4.7263 - val_accuracy: 0.5833\n",
      "Epoch 30/80\n",
      "29/29 [==============================] - 13s 433ms/step - loss: 3.8187 - accuracy: 0.9634 - val_loss: 4.6032 - val_accuracy: 0.6250\n",
      "Epoch 31/80\n",
      "29/29 [==============================] - 12s 398ms/step - loss: 3.6589 - accuracy: 0.9774 - val_loss: 4.4628 - val_accuracy: 0.6458\n",
      "Epoch 32/80\n",
      "29/29 [==============================] - 11s 390ms/step - loss: 3.5327 - accuracy: 0.9704 - val_loss: 4.3964 - val_accuracy: 0.6597\n",
      "Epoch 33/80\n",
      "29/29 [==============================] - 12s 412ms/step - loss: 3.3882 - accuracy: 0.9895 - val_loss: 4.2018 - val_accuracy: 0.6528\n",
      "Epoch 34/80\n",
      "29/29 [==============================] - 13s 435ms/step - loss: 3.2720 - accuracy: 0.9843 - val_loss: 4.1647 - val_accuracy: 0.6319\n",
      "Epoch 35/80\n",
      "29/29 [==============================] - 12s 404ms/step - loss: 3.1557 - accuracy: 0.9878 - val_loss: 3.9678 - val_accuracy: 0.6181\n",
      "Epoch 36/80\n",
      "29/29 [==============================] - 12s 410ms/step - loss: 3.0218 - accuracy: 0.9878 - val_loss: 3.9178 - val_accuracy: 0.6389\n",
      "Epoch 37/80\n",
      "29/29 [==============================] - 12s 420ms/step - loss: 2.9435 - accuracy: 0.9739 - val_loss: 3.7643 - val_accuracy: 0.6111\n",
      "Epoch 38/80\n",
      "29/29 [==============================] - 11s 395ms/step - loss: 2.8705 - accuracy: 0.9739 - val_loss: 3.6981 - val_accuracy: 0.6319\n",
      "Epoch 39/80\n",
      "29/29 [==============================] - 13s 445ms/step - loss: 2.7871 - accuracy: 0.9634 - val_loss: 3.6673 - val_accuracy: 0.6458\n",
      "Epoch 40/80\n",
      "29/29 [==============================] - 13s 440ms/step - loss: 2.7017 - accuracy: 0.9739 - val_loss: 3.5495 - val_accuracy: 0.6319\n",
      "Epoch 41/80\n",
      "29/29 [==============================] - 12s 412ms/step - loss: 2.5943 - accuracy: 0.9861 - val_loss: 3.5253 - val_accuracy: 0.6458\n",
      "Epoch 42/80\n",
      "29/29 [==============================] - 11s 391ms/step - loss: 2.4944 - accuracy: 0.9791 - val_loss: 3.3384 - val_accuracy: 0.5972\n",
      "Epoch 43/80\n",
      "29/29 [==============================] - 11s 392ms/step - loss: 2.4034 - accuracy: 0.9826 - val_loss: 3.2757 - val_accuracy: 0.6111\n",
      "Epoch 44/80\n",
      "29/29 [==============================] - 11s 393ms/step - loss: 2.3326 - accuracy: 0.9791 - val_loss: 3.2879 - val_accuracy: 0.5764\n",
      "Epoch 45/80\n",
      "29/29 [==============================] - 12s 398ms/step - loss: 2.2687 - accuracy: 0.9826 - val_loss: 3.1377 - val_accuracy: 0.6111\n",
      "Epoch 46/80\n",
      "29/29 [==============================] - 11s 396ms/step - loss: 2.1872 - accuracy: 0.9826 - val_loss: 3.0398 - val_accuracy: 0.6111\n",
      "Epoch 47/80\n",
      "29/29 [==============================] - 12s 400ms/step - loss: 2.0977 - accuracy: 0.9913 - val_loss: 3.0369 - val_accuracy: 0.6042\n",
      "Epoch 48/80\n",
      "29/29 [==============================] - 12s 404ms/step - loss: 2.0258 - accuracy: 0.9913 - val_loss: 2.8798 - val_accuracy: 0.6250\n",
      "Epoch 49/80\n",
      "29/29 [==============================] - 12s 399ms/step - loss: 1.9743 - accuracy: 0.9843 - val_loss: 2.9096 - val_accuracy: 0.5972\n",
      "Epoch 50/80\n",
      "29/29 [==============================] - 12s 403ms/step - loss: 1.9068 - accuracy: 0.9808 - val_loss: 2.9974 - val_accuracy: 0.5556\n",
      "Epoch 51/80\n",
      "29/29 [==============================] - 12s 397ms/step - loss: 1.8547 - accuracy: 0.9878 - val_loss: 2.6514 - val_accuracy: 0.6042\n",
      "Epoch 52/80\n",
      "29/29 [==============================] - 12s 400ms/step - loss: 1.7740 - accuracy: 0.9861 - val_loss: 2.7437 - val_accuracy: 0.5625\n",
      "Epoch 53/80\n",
      "29/29 [==============================] - 12s 397ms/step - loss: 1.7152 - accuracy: 0.9895 - val_loss: 2.5791 - val_accuracy: 0.6042\n",
      "Epoch 54/80\n",
      "29/29 [==============================] - 12s 411ms/step - loss: 1.6619 - accuracy: 0.9913 - val_loss: 2.7084 - val_accuracy: 0.5694\n",
      "Epoch 55/80\n",
      "29/29 [==============================] - 12s 398ms/step - loss: 1.6122 - accuracy: 0.9913 - val_loss: 2.4883 - val_accuracy: 0.6111\n",
      "Epoch 56/80\n",
      "29/29 [==============================] - 12s 418ms/step - loss: 1.5455 - accuracy: 0.9878 - val_loss: 2.4155 - val_accuracy: 0.6319\n",
      "Epoch 57/80\n",
      "29/29 [==============================] - 12s 414ms/step - loss: 1.5082 - accuracy: 0.9826 - val_loss: 2.3938 - val_accuracy: 0.6111\n",
      "Epoch 58/80\n",
      "29/29 [==============================] - 12s 407ms/step - loss: 1.4729 - accuracy: 0.9878 - val_loss: 2.2997 - val_accuracy: 0.6319\n",
      "Epoch 59/80\n",
      "29/29 [==============================] - 12s 400ms/step - loss: 1.4266 - accuracy: 0.9791 - val_loss: 2.2689 - val_accuracy: 0.5903\n",
      "Epoch 60/80\n",
      "29/29 [==============================] - 12s 397ms/step - loss: 1.3790 - accuracy: 0.9895 - val_loss: 2.3141 - val_accuracy: 0.5903\n",
      "Epoch 61/80\n",
      "29/29 [==============================] - 12s 397ms/step - loss: 1.3319 - accuracy: 0.9930 - val_loss: 2.2111 - val_accuracy: 0.5972\n",
      "Epoch 62/80\n",
      "29/29 [==============================] - 12s 399ms/step - loss: 1.2757 - accuracy: 0.9913 - val_loss: 2.1355 - val_accuracy: 0.6111\n",
      "Epoch 63/80\n",
      "29/29 [==============================] - 12s 401ms/step - loss: 1.2650 - accuracy: 0.9878 - val_loss: 2.1609 - val_accuracy: 0.6389\n",
      "Epoch 64/80\n",
      "29/29 [==============================] - 11s 393ms/step - loss: 1.2050 - accuracy: 0.9965 - val_loss: 2.1514 - val_accuracy: 0.6042\n",
      "Epoch 65/80\n",
      "29/29 [==============================] - 11s 389ms/step - loss: 1.1717 - accuracy: 0.9878 - val_loss: 2.1018 - val_accuracy: 0.5903\n",
      "Epoch 66/80\n",
      "29/29 [==============================] - 11s 381ms/step - loss: 1.1486 - accuracy: 0.9843 - val_loss: 2.0831 - val_accuracy: 0.6111\n",
      "Epoch 67/80\n",
      "29/29 [==============================] - 12s 413ms/step - loss: 1.0976 - accuracy: 0.9948 - val_loss: 2.0713 - val_accuracy: 0.5972\n",
      "Epoch 68/80\n",
      "29/29 [==============================] - 12s 400ms/step - loss: 1.0728 - accuracy: 0.9913 - val_loss: 1.9378 - val_accuracy: 0.6042\n",
      "Epoch 69/80\n",
      "29/29 [==============================] - 12s 398ms/step - loss: 1.0536 - accuracy: 0.9774 - val_loss: 2.0953 - val_accuracy: 0.5903\n",
      "Epoch 70/80\n",
      "29/29 [==============================] - 11s 393ms/step - loss: 1.0359 - accuracy: 0.9861 - val_loss: 1.9800 - val_accuracy: 0.6111\n",
      "Epoch 71/80\n",
      "29/29 [==============================] - 12s 398ms/step - loss: 1.0102 - accuracy: 0.9808 - val_loss: 1.9632 - val_accuracy: 0.6181\n",
      "Epoch 72/80\n",
      "29/29 [==============================] - 11s 394ms/step - loss: 0.9805 - accuracy: 0.9826 - val_loss: 1.9600 - val_accuracy: 0.5903\n",
      "Epoch 73/80\n",
      "29/29 [==============================] - 11s 397ms/step - loss: 0.9515 - accuracy: 0.9843 - val_loss: 1.8874 - val_accuracy: 0.6111\n",
      "Epoch 74/80\n",
      "29/29 [==============================] - 11s 394ms/step - loss: 0.8919 - accuracy: 0.9983 - val_loss: 1.7712 - val_accuracy: 0.6250\n",
      "Epoch 75/80\n",
      "29/29 [==============================] - 11s 396ms/step - loss: 0.8406 - accuracy: 0.9965 - val_loss: 1.7880 - val_accuracy: 0.5903\n",
      "Epoch 76/80\n",
      "29/29 [==============================] - 11s 396ms/step - loss: 0.8475 - accuracy: 0.9895 - val_loss: 1.6448 - val_accuracy: 0.5972\n",
      "Epoch 77/80\n",
      "29/29 [==============================] - 11s 396ms/step - loss: 0.8094 - accuracy: 0.9948 - val_loss: 1.6856 - val_accuracy: 0.6111\n",
      "Epoch 78/80\n",
      "29/29 [==============================] - 11s 393ms/step - loss: 0.7909 - accuracy: 0.9861 - val_loss: 1.8007 - val_accuracy: 0.5833\n",
      "Epoch 79/80\n",
      "29/29 [==============================] - 11s 397ms/step - loss: 0.7985 - accuracy: 0.9878 - val_loss: 1.7255 - val_accuracy: 0.6181\n",
      "Epoch 80/80\n",
      "29/29 [==============================] - 11s 395ms/step - loss: 0.7737 - accuracy: 0.9808 - val_loss: 1.7379 - val_accuracy: 0.6250\n"
     ]
    },
    {
     "data": {
      "text/plain": [
       "<keras.callbacks.History at 0x7feeaddd1270>"
      ]
     },
     "execution_count": 17,
     "metadata": {},
     "output_type": "execute_result"
    }
   ],
   "source": [
    "model3.fit(spec1_train_reshaped,y1_train,validation_data=(spec1_val_reshaped,y1_val),batch_size=20,epochs=80)"
   ]
  },
  {
   "cell_type": "code",
   "execution_count": 29,
   "id": "f1b97604",
   "metadata": {},
   "outputs": [],
   "source": [
    "# Load Spectrogram data set\n",
    "spec2_file = np.load(\"Features2D/npz_new/spec2_train_test.npz\")\n",
    "\n",
    "spec2_train = spec2_file['spec_train']\n",
    "y2_train = spec2_file['y_train']\n",
    "spec2_train,spec2_val,y2_train,y2_val = train_test_split(spec2_train,y2_train, \n",
    "                                                         train_size = 0.8, \n",
    "                                                         random_state = 13, \n",
    "                                                         stratify = y2_train)"
   ]
  },
  {
   "cell_type": "code",
   "execution_count": 30,
   "id": "17ff95e3",
   "metadata": {},
   "outputs": [],
   "source": [
    "# Feature Scaling\n",
    "spec2_train_scaled = spec2_train / np.amax(spec2_train)\n",
    "spec2_val_scaled = spec2_val / np.amax(spec2_val)"
   ]
  },
  {
   "cell_type": "code",
   "execution_count": 31,
   "id": "938f6a47",
   "metadata": {},
   "outputs": [],
   "source": [
    "# Reshape the data\n",
    "N,row,col = spec2_train_scaled.shape\n",
    "spec2_train_reshaped = spec2_train_scaled.reshape((N,row,col,1))\n",
    "N,row,col = spec2_val_scaled.shape\n",
    "spec2_val_reshaped = spec2_val_scaled.reshape((N,row,col,1))"
   ]
  },
  {
   "cell_type": "code",
   "execution_count": 32,
   "id": "a0ad9e5a",
   "metadata": {
    "scrolled": true
   },
   "outputs": [
    {
     "name": "stdout",
     "output_type": "stream",
     "text": [
      "Model: \"CNN2D_4\"\n",
      "_________________________________________________________________\n",
      " Layer (type)                Output Shape              Param #   \n",
      "=================================================================\n",
      " Conv2D_1 (Conv2D)           (None, 300, 300, 5)       50        \n",
      "                                                                 \n",
      " MaxPooling2D_1 (MaxPooling2  (None, 150, 150, 5)      0         \n",
      " D)                                                              \n",
      "                                                                 \n",
      " BN1 (BatchNormalization)    (None, 150, 150, 5)       20        \n",
      "                                                                 \n",
      " Conv2D_2 (Conv2D)           (None, 150, 150, 8)       368       \n",
      "                                                                 \n",
      " MaxPooling2D_2 (MaxPooling2  (None, 75, 75, 8)        0         \n",
      " D)                                                              \n",
      "                                                                 \n",
      " BN2 (BatchNormalization)    (None, 75, 75, 8)         32        \n",
      "                                                                 \n",
      " Conv2D_3 (Conv2D)           (None, 75, 75, 16)        1168      \n",
      "                                                                 \n",
      " MaxPooling2D_3 (MaxPooling2  (None, 38, 38, 16)       0         \n",
      " D)                                                              \n",
      "                                                                 \n",
      " BN3 (BatchNormalization)    (None, 38, 38, 16)        64        \n",
      "                                                                 \n",
      " Flatten (Flatten)           (None, 23104)             0         \n",
      "                                                                 \n",
      " Dense1 (Dense)              (None, 64)                1478720   \n",
      "                                                                 \n",
      " Dropout1 (Dropout)          (None, 64)                0         \n",
      "                                                                 \n",
      " Dense2 (Dense)              (None, 32)                2080      \n",
      "                                                                 \n",
      " Dropout2 (Dropout)          (None, 32)                0         \n",
      "                                                                 \n",
      " Softmax (Dense)             (None, 4)                 132       \n",
      "                                                                 \n",
      "=================================================================\n",
      "Total params: 1,482,634\n",
      "Trainable params: 1,482,576\n",
      "Non-trainable params: 58\n",
      "_________________________________________________________________\n"
     ]
    }
   ],
   "source": [
    "f1,k1,a1 = 5,3,'relu'\n",
    "mw1,mh1,sw1,sh1 = 3,3,2,2\n",
    "f2,k2,a2 = 8,3,'relu'\n",
    "mw2,mh2,sw2,sh2 = 3,3,2,2\n",
    "f3,k3,a3 = 16,3,'relu'\n",
    "mw3,mh3,sw3,sh3 = 3,3,2,2\n",
    "d1,dr1,da1,r1 = 64,0.2,'relu',0.2\n",
    "d2,dr2,da2,r2 = 32,0.2,'relu',0.2\n",
    "num = 4\n",
    "model4 = modelBuilder3L(spec2_train_reshaped,\n",
    "                        f1,k1,a1,\n",
    "                        mw1,mh1,sw1,sh1,\n",
    "                        f2,k2,a2,\n",
    "                        mw2,mh2,sw2,sh2,\n",
    "                        f3,k3,a3,\n",
    "                        mw3,mh3,sw3,sh3,\n",
    "                        d1,dr1,da1,r1,\n",
    "                        d2,dr2,da2,r2,\n",
    "                        num)"
   ]
  },
  {
   "cell_type": "code",
   "execution_count": 33,
   "id": "b2d456b3",
   "metadata": {
    "scrolled": true
   },
   "outputs": [
    {
     "name": "stdout",
     "output_type": "stream",
     "text": [
      "Epoch 1/80\n",
      "15/15 [==============================] - 10s 514ms/step - loss: 34.4192 - accuracy: 0.4444 - val_loss: 33.4561 - val_accuracy: 0.3889\n",
      "Epoch 2/80\n",
      "15/15 [==============================] - 7s 462ms/step - loss: 32.2662 - accuracy: 0.5729 - val_loss: 31.5020 - val_accuracy: 0.3056\n",
      "Epoch 3/80\n",
      "15/15 [==============================] - 7s 436ms/step - loss: 29.9825 - accuracy: 0.7014 - val_loss: 29.5901 - val_accuracy: 0.2500\n",
      "Epoch 4/80\n",
      "15/15 [==============================] - 7s 448ms/step - loss: 27.9290 - accuracy: 0.7708 - val_loss: 27.7398 - val_accuracy: 0.2500\n",
      "Epoch 5/80\n",
      "15/15 [==============================] - 7s 435ms/step - loss: 25.9103 - accuracy: 0.8576 - val_loss: 26.0233 - val_accuracy: 0.2500\n",
      "Epoch 6/80\n",
      "15/15 [==============================] - 6s 431ms/step - loss: 24.0775 - accuracy: 0.8681 - val_loss: 24.4574 - val_accuracy: 0.2500\n",
      "Epoch 7/80\n",
      "15/15 [==============================] - 7s 430ms/step - loss: 22.3337 - accuracy: 0.8785 - val_loss: 22.9351 - val_accuracy: 0.2500\n",
      "Epoch 8/80\n",
      "15/15 [==============================] - 7s 439ms/step - loss: 20.7254 - accuracy: 0.8958 - val_loss: 21.6846 - val_accuracy: 0.2500\n",
      "Epoch 9/80\n",
      "15/15 [==============================] - 6s 429ms/step - loss: 19.2522 - accuracy: 0.9271 - val_loss: 20.5136 - val_accuracy: 0.2500\n",
      "Epoch 10/80\n",
      "15/15 [==============================] - 7s 428ms/step - loss: 17.8848 - accuracy: 0.9340 - val_loss: 19.0651 - val_accuracy: 0.2500\n",
      "Epoch 11/80\n",
      "15/15 [==============================] - 7s 442ms/step - loss: 16.6605 - accuracy: 0.9375 - val_loss: 17.9185 - val_accuracy: 0.2500\n",
      "Epoch 12/80\n",
      "15/15 [==============================] - 6s 426ms/step - loss: 15.5765 - accuracy: 0.9375 - val_loss: 16.8270 - val_accuracy: 0.2500\n",
      "Epoch 13/80\n",
      "15/15 [==============================] - 7s 435ms/step - loss: 14.6132 - accuracy: 0.9167 - val_loss: 16.3850 - val_accuracy: 0.2500\n",
      "Epoch 14/80\n",
      "15/15 [==============================] - 7s 443ms/step - loss: 13.6276 - accuracy: 0.9583 - val_loss: 15.2053 - val_accuracy: 0.2500\n",
      "Epoch 15/80\n",
      "15/15 [==============================] - 7s 447ms/step - loss: 12.8061 - accuracy: 0.9514 - val_loss: 14.3939 - val_accuracy: 0.2500\n",
      "Epoch 16/80\n",
      "15/15 [==============================] - 7s 447ms/step - loss: 11.9975 - accuracy: 0.9826 - val_loss: 13.8258 - val_accuracy: 0.2500\n",
      "Epoch 17/80\n",
      "15/15 [==============================] - 7s 443ms/step - loss: 11.3252 - accuracy: 0.9792 - val_loss: 13.6884 - val_accuracy: 0.2500\n",
      "Epoch 18/80\n",
      "15/15 [==============================] - 7s 437ms/step - loss: 10.7220 - accuracy: 0.9583 - val_loss: 13.0768 - val_accuracy: 0.2500\n",
      "Epoch 19/80\n",
      "15/15 [==============================] - 7s 439ms/step - loss: 10.1197 - accuracy: 0.9722 - val_loss: 12.2068 - val_accuracy: 0.2500\n",
      "Epoch 20/80\n",
      "15/15 [==============================] - 7s 442ms/step - loss: 9.6025 - accuracy: 0.9722 - val_loss: 11.6375 - val_accuracy: 0.2500\n",
      "Epoch 21/80\n",
      "15/15 [==============================] - 7s 434ms/step - loss: 9.1040 - accuracy: 0.9792 - val_loss: 11.3449 - val_accuracy: 0.2500\n",
      "Epoch 22/80\n",
      "15/15 [==============================] - 7s 446ms/step - loss: 8.6820 - accuracy: 0.9792 - val_loss: 10.4966 - val_accuracy: 0.2500\n",
      "Epoch 23/80\n",
      "15/15 [==============================] - 9s 578ms/step - loss: 8.2765 - accuracy: 0.9826 - val_loss: 9.8172 - val_accuracy: 0.2639\n",
      "Epoch 24/80\n",
      "15/15 [==============================] - 7s 462ms/step - loss: 7.9092 - accuracy: 0.9757 - val_loss: 9.6080 - val_accuracy: 0.2639\n",
      "Epoch 25/80\n",
      "15/15 [==============================] - 7s 441ms/step - loss: 7.5826 - accuracy: 0.9826 - val_loss: 9.2426 - val_accuracy: 0.2639\n",
      "Epoch 26/80\n",
      "15/15 [==============================] - 7s 470ms/step - loss: 7.3000 - accuracy: 0.9722 - val_loss: 9.0676 - val_accuracy: 0.2639\n",
      "Epoch 27/80\n",
      "15/15 [==============================] - 7s 501ms/step - loss: 6.9857 - accuracy: 0.9826 - val_loss: 8.6679 - val_accuracy: 0.3056\n",
      "Epoch 28/80\n",
      "15/15 [==============================] - 7s 487ms/step - loss: 6.7293 - accuracy: 0.9826 - val_loss: 8.0359 - val_accuracy: 0.3611\n",
      "Epoch 29/80\n",
      "15/15 [==============================] - 7s 442ms/step - loss: 6.5431 - accuracy: 0.9757 - val_loss: 7.6193 - val_accuracy: 0.4306\n",
      "Epoch 30/80\n",
      "15/15 [==============================] - 7s 454ms/step - loss: 6.3021 - accuracy: 0.9792 - val_loss: 7.4213 - val_accuracy: 0.4722\n",
      "Epoch 31/80\n",
      "15/15 [==============================] - 7s 502ms/step - loss: 6.1015 - accuracy: 0.9861 - val_loss: 7.1569 - val_accuracy: 0.4861\n",
      "Epoch 32/80\n",
      "15/15 [==============================] - 7s 466ms/step - loss: 5.8986 - accuracy: 0.9792 - val_loss: 6.6740 - val_accuracy: 0.6389\n",
      "Epoch 33/80\n",
      "15/15 [==============================] - 7s 462ms/step - loss: 5.7369 - accuracy: 0.9688 - val_loss: 6.6296 - val_accuracy: 0.5278\n",
      "Epoch 34/80\n",
      "15/15 [==============================] - 7s 441ms/step - loss: 5.5595 - accuracy: 0.9861 - val_loss: 6.3054 - val_accuracy: 0.6667\n",
      "Epoch 35/80\n",
      "15/15 [==============================] - 7s 450ms/step - loss: 5.4012 - accuracy: 0.9896 - val_loss: 6.0717 - val_accuracy: 0.6667\n",
      "Epoch 36/80\n",
      "15/15 [==============================] - 6s 423ms/step - loss: 5.3003 - accuracy: 0.9757 - val_loss: 5.9341 - val_accuracy: 0.6667\n",
      "Epoch 37/80\n",
      "15/15 [==============================] - 7s 450ms/step - loss: 5.1297 - accuracy: 0.9931 - val_loss: 5.9081 - val_accuracy: 0.6111\n",
      "Epoch 38/80\n",
      "15/15 [==============================] - 7s 444ms/step - loss: 5.0105 - accuracy: 0.9861 - val_loss: 5.6054 - val_accuracy: 0.7222\n",
      "Epoch 39/80\n",
      "15/15 [==============================] - 6s 422ms/step - loss: 4.9029 - accuracy: 0.9722 - val_loss: 5.5258 - val_accuracy: 0.6944\n",
      "Epoch 40/80\n",
      "15/15 [==============================] - 7s 440ms/step - loss: 4.7592 - accuracy: 0.9931 - val_loss: 5.2665 - val_accuracy: 0.7778\n",
      "Epoch 41/80\n",
      "15/15 [==============================] - 6s 433ms/step - loss: 4.6641 - accuracy: 0.9826 - val_loss: 5.2579 - val_accuracy: 0.6944\n",
      "Epoch 42/80\n",
      "15/15 [==============================] - 6s 422ms/step - loss: 4.5504 - accuracy: 0.9861 - val_loss: 5.1442 - val_accuracy: 0.7500\n",
      "Epoch 43/80\n",
      "15/15 [==============================] - 6s 433ms/step - loss: 4.4712 - accuracy: 0.9861 - val_loss: 4.9373 - val_accuracy: 0.7639\n",
      "Epoch 44/80\n",
      "15/15 [==============================] - 7s 438ms/step - loss: 4.3776 - accuracy: 0.9826 - val_loss: 4.8814 - val_accuracy: 0.7917\n",
      "Epoch 45/80\n",
      "15/15 [==============================] - 7s 435ms/step - loss: 4.2553 - accuracy: 0.9965 - val_loss: 4.7645 - val_accuracy: 0.7500\n",
      "Epoch 46/80\n",
      "15/15 [==============================] - 6s 431ms/step - loss: 4.1778 - accuracy: 0.9826 - val_loss: 4.6666 - val_accuracy: 0.7778\n",
      "Epoch 47/80\n",
      "15/15 [==============================] - 7s 489ms/step - loss: 4.0906 - accuracy: 0.9861 - val_loss: 4.5493 - val_accuracy: 0.7778\n",
      "Epoch 48/80\n",
      "15/15 [==============================] - 7s 442ms/step - loss: 4.0093 - accuracy: 0.9861 - val_loss: 4.5023 - val_accuracy: 0.8194\n",
      "Epoch 49/80\n",
      "15/15 [==============================] - 7s 457ms/step - loss: 3.9188 - accuracy: 0.9896 - val_loss: 4.3903 - val_accuracy: 0.7917\n",
      "Epoch 50/80\n",
      "15/15 [==============================] - 7s 447ms/step - loss: 3.8418 - accuracy: 0.9896 - val_loss: 4.3352 - val_accuracy: 0.7639\n",
      "Epoch 51/80\n",
      "15/15 [==============================] - 7s 452ms/step - loss: 3.7802 - accuracy: 0.9861 - val_loss: 4.2988 - val_accuracy: 0.7778\n",
      "Epoch 52/80\n",
      "15/15 [==============================] - 7s 494ms/step - loss: 3.6927 - accuracy: 0.9931 - val_loss: 4.1161 - val_accuracy: 0.7917\n",
      "Epoch 53/80\n",
      "15/15 [==============================] - 8s 518ms/step - loss: 3.6260 - accuracy: 0.9861 - val_loss: 4.1424 - val_accuracy: 0.7361\n",
      "Epoch 54/80\n",
      "15/15 [==============================] - 7s 451ms/step - loss: 3.5662 - accuracy: 0.9861 - val_loss: 3.9986 - val_accuracy: 0.7778\n",
      "Epoch 55/80\n",
      "15/15 [==============================] - 7s 447ms/step - loss: 3.5390 - accuracy: 0.9688 - val_loss: 3.9900 - val_accuracy: 0.7917\n",
      "Epoch 56/80\n",
      "15/15 [==============================] - 7s 461ms/step - loss: 3.4491 - accuracy: 0.9896 - val_loss: 3.8548 - val_accuracy: 0.8056\n",
      "Epoch 57/80\n",
      "15/15 [==============================] - 7s 481ms/step - loss: 3.3849 - accuracy: 0.9861 - val_loss: 3.8472 - val_accuracy: 0.7778\n",
      "Epoch 58/80\n",
      "15/15 [==============================] - 7s 463ms/step - loss: 3.3059 - accuracy: 0.9861 - val_loss: 3.6713 - val_accuracy: 0.8194\n",
      "Epoch 59/80\n",
      "15/15 [==============================] - 7s 472ms/step - loss: 3.2709 - accuracy: 0.9792 - val_loss: 3.6799 - val_accuracy: 0.8333\n",
      "Epoch 60/80\n",
      "15/15 [==============================] - 7s 480ms/step - loss: 3.1959 - accuracy: 0.9792 - val_loss: 3.6487 - val_accuracy: 0.8056\n",
      "Epoch 61/80\n",
      "15/15 [==============================] - 7s 462ms/step - loss: 3.1208 - accuracy: 0.9965 - val_loss: 3.6651 - val_accuracy: 0.7639\n",
      "Epoch 62/80\n",
      "15/15 [==============================] - 7s 448ms/step - loss: 3.0628 - accuracy: 0.9965 - val_loss: 3.5347 - val_accuracy: 0.7917\n",
      "Epoch 63/80\n",
      "15/15 [==============================] - 7s 461ms/step - loss: 3.0078 - accuracy: 0.9965 - val_loss: 3.4325 - val_accuracy: 0.7917\n",
      "Epoch 64/80\n",
      "15/15 [==============================] - 7s 483ms/step - loss: 2.9327 - accuracy: 0.9965 - val_loss: 3.3899 - val_accuracy: 0.7500\n",
      "Epoch 65/80\n",
      "15/15 [==============================] - 7s 469ms/step - loss: 2.8901 - accuracy: 0.9861 - val_loss: 3.3058 - val_accuracy: 0.7639\n",
      "Epoch 66/80\n",
      "15/15 [==============================] - 7s 449ms/step - loss: 2.8339 - accuracy: 0.9931 - val_loss: 3.2839 - val_accuracy: 0.8056\n",
      "Epoch 67/80\n",
      "15/15 [==============================] - 7s 457ms/step - loss: 2.7953 - accuracy: 0.9792 - val_loss: 3.2389 - val_accuracy: 0.7639\n",
      "Epoch 68/80\n",
      "15/15 [==============================] - 7s 445ms/step - loss: 2.7237 - accuracy: 0.9931 - val_loss: 3.2621 - val_accuracy: 0.7778\n",
      "Epoch 69/80\n",
      "15/15 [==============================] - 7s 441ms/step - loss: 2.6857 - accuracy: 0.9861 - val_loss: 3.3150 - val_accuracy: 0.7778\n",
      "Epoch 70/80\n",
      "15/15 [==============================] - 7s 463ms/step - loss: 2.6474 - accuracy: 0.9792 - val_loss: 3.2709 - val_accuracy: 0.7222\n",
      "Epoch 71/80\n",
      "15/15 [==============================] - 7s 451ms/step - loss: 2.6059 - accuracy: 0.9896 - val_loss: 3.0545 - val_accuracy: 0.7778\n",
      "Epoch 72/80\n",
      "15/15 [==============================] - 8s 502ms/step - loss: 2.5798 - accuracy: 0.9722 - val_loss: 2.9962 - val_accuracy: 0.8194\n",
      "Epoch 73/80\n",
      "15/15 [==============================] - 6s 424ms/step - loss: 2.5274 - accuracy: 0.9896 - val_loss: 3.0088 - val_accuracy: 0.8194\n",
      "Epoch 74/80\n",
      "15/15 [==============================] - 7s 451ms/step - loss: 2.4696 - accuracy: 0.9965 - val_loss: 2.9152 - val_accuracy: 0.8056\n",
      "Epoch 75/80\n",
      "15/15 [==============================] - 7s 457ms/step - loss: 2.4262 - accuracy: 0.9931 - val_loss: 2.8709 - val_accuracy: 0.7639\n",
      "Epoch 76/80\n",
      "15/15 [==============================] - 7s 448ms/step - loss: 2.3742 - accuracy: 0.9896 - val_loss: 2.7972 - val_accuracy: 0.8056\n",
      "Epoch 77/80\n",
      "15/15 [==============================] - 7s 484ms/step - loss: 2.3231 - accuracy: 0.9931 - val_loss: 2.7739 - val_accuracy: 0.7917\n",
      "Epoch 78/80\n",
      "15/15 [==============================] - 7s 442ms/step - loss: 2.2520 - accuracy: 1.0000 - val_loss: 2.7285 - val_accuracy: 0.7917\n",
      "Epoch 79/80\n",
      "15/15 [==============================] - 7s 448ms/step - loss: 2.2241 - accuracy: 0.9896 - val_loss: 2.6726 - val_accuracy: 0.8056\n",
      "Epoch 80/80\n",
      "15/15 [==============================] - 7s 450ms/step - loss: 2.1702 - accuracy: 0.9965 - val_loss: 2.5930 - val_accuracy: 0.8056\n"
     ]
    }
   ],
   "source": [
    "history4 = model4.fit(spec2_train_reshaped,y2_train,validation_data=(spec2_val_reshaped,y2_val),batch_size=20,epochs=80)"
   ]
  },
  {
   "cell_type": "code",
   "execution_count": 34,
   "id": "ab81b54a",
   "metadata": {},
   "outputs": [
    {
     "data": {
      "text/plain": [
       "Text(0, 0.5, 'loss')"
      ]
     },
     "execution_count": 34,
     "metadata": {},
     "output_type": "execute_result"
    },
    {
     "data": {
      "image/png": "[encoded data removed]",
      "text/plain": [
       "<Figure size 1200x400 with 2 Axes>"
      ]
     },
     "metadata": {},
     "output_type": "display_data"
    }
   ],
   "source": [
    "# Train and Validation accuracy and loss\n",
    "f = plt.figure(figsize = (12,4))\n",
    "\n",
    "plt.subplot(1,2,1)\n",
    "plt.title('train validation accuracy')\n",
    "plt.plot(history4.history['accuracy'])\n",
    "plt.plot(history4.history['val_accuracy'])\n",
    "plt.legend(['train','validation'])\n",
    "plt.xlabel('epoch')\n",
    "plt.ylabel('accuracy')\n",
    "\n",
    "\n",
    "plt.subplot(1,2,2)\n",
    "plt.title('train validation loss')\n",
    "plt.plot(history4.history['loss'])\n",
    "plt.plot(history4.history['val_loss'])\n",
    "plt.legend(['train','validation'])\n",
    "plt.xlabel('epoch')\n",
    "plt.ylabel('loss')"
   ]
  },
  {
   "cell_type": "code",
   "execution_count": 35,
   "id": "fa01cbc1",
   "metadata": {},
   "outputs": [],
   "source": [
    "spec2_test = spec2_file['spec_test']\n",
    "y2_test_spec = spec2_file['y_test']"
   ]
  },
  {
   "cell_type": "code",
   "execution_count": 36,
   "id": "2f4a75e7",
   "metadata": {},
   "outputs": [],
   "source": [
    "# Feature Scaling\n",
    "spec2_test_scaled = spec2_test / np.amax(spec2_test)\n",
    "\n",
    "# Reshape the data\n",
    "N,row,col = spec2_test_scaled.shape\n",
    "spec2_test_reshaped = spec2_test_scaled.reshape((N,row,col,1))"
   ]
  },
  {
   "cell_type": "code",
   "execution_count": 37,
   "id": "1bc4e9d2",
   "metadata": {},
   "outputs": [
    {
     "name": "stdout",
     "output_type": "stream",
     "text": [
      "2/2 [==============================] - 1s 64ms/step\n"
     ]
    }
   ],
   "source": [
    "y2_prob = model4.predict(spec2_test_reshaped)\n",
    "y2_pred = np.argmax(y2_prob, axis = -1)"
   ]
  },
  {
   "cell_type": "code",
   "execution_count": 38,
   "id": "6e24d398",
   "metadata": {},
   "outputs": [],
   "source": [
    "# Accuracy\n",
    "acc2_2d = round(accuracy_score(y2_pred,y2_test_spec),2)"
   ]
  },
  {
   "cell_type": "code",
   "execution_count": 39,
   "id": "a47fffb1",
   "metadata": {},
   "outputs": [],
   "source": [
    "# Confusion Matrix\n",
    "cm_spec = confusion_matrix(y2_test_spec,y2_pred)\n",
    "cm_2d_spec = ConfusionMatrixDisplay(confusion_matrix = cm_spec, display_labels = ['Angry', 'Happy', 'Relaxed', 'Sad'])"
   ]
  },
  {
   "cell_type": "code",
   "execution_count": 40,
   "id": "89485764",
   "metadata": {
    "scrolled": false
   },
   "outputs": [
    {
     "name": "stdout",
     "output_type": "stream",
     "text": [
      "              precision    recall  f1-score   support\n",
      "\n",
      "       Angry       1.00      0.90      0.95        10\n",
      "       Happy       0.83      1.00      0.91        10\n",
      "     Relaxed       0.75      0.60      0.67        10\n",
      "         Sad       0.64      0.70      0.67        10\n",
      "\n",
      "    accuracy                           0.80        40\n",
      "   macro avg       0.80      0.80      0.80        40\n",
      "weighted avg       0.80      0.80      0.80        40\n",
      "\n"
     ]
    },
    {
     "data": {
      "image/png": "[encoded data removed]",
      "text/plain": [
       "<Figure size 640x480 with 2 Axes>"
      ]
     },
     "metadata": {},
     "output_type": "display_data"
    }
   ],
   "source": [
    "print(classification_report(y2_test_spec, y2_pred, target_names = ['Angry', 'Happy', 'Relaxed', 'Sad']))\n",
    "cm_2d_spec.plot()\n",
    "plt.show()"
   ]
  },
  {
   "cell_type": "markdown",
   "id": "a93c86f2",
   "metadata": {},
   "source": [
    "### 4.3 mel spectrogram"
   ]
  },
  {
   "cell_type": "code",
   "execution_count": 101,
   "id": "e9ced243",
   "metadata": {},
   "outputs": [],
   "source": [
    "# Load mel data set\n",
    "mel1_file = np.load(\"Features2D/npz_new/mel1_train_test.npz\")\n",
    "\n",
    "mel1_train = mel1_file['mel_train']\n",
    "y1_train = mel1_file['y_train']\n",
    "mel1_train,mel1_val,y1_train,y1_val = train_test_split(mel1_train,y1_train, \n",
    "                                                       train_size = 0.8, \n",
    "                                                       random_state = 13, \n",
    "                                                       stratify= y1_train)"
   ]
  },
  {
   "cell_type": "code",
   "execution_count": 102,
   "id": "bec79f5b",
   "metadata": {},
   "outputs": [],
   "source": [
    "# Feature Scaling\n",
    "mel1_train_scaled = (mel1_train - np.mean(mel1_train))/np.std(mel1_train)\n",
    "mel1_val_scaled = (mel1_val - np.mean(mel1_val))/np.std(mel1_val)"
   ]
  },
  {
   "cell_type": "code",
   "execution_count": 103,
   "id": "d0c14e8a",
   "metadata": {},
   "outputs": [],
   "source": [
    "# Reshape the data\n",
    "N,row,col = mel1_train_scaled.shape\n",
    "mel1_train_reshaped = mel1_train_scaled.reshape((N,row,col,1))\n",
    "\n",
    "N,row,col = mel1_val_scaled.shape\n",
    "mel1_val_reshaped = mel1_val_scaled.reshape((N,row,col,1))"
   ]
  },
  {
   "cell_type": "code",
   "execution_count": 104,
   "id": "2356fd9a",
   "metadata": {
    "scrolled": true
   },
   "outputs": [
    {
     "name": "stdout",
     "output_type": "stream",
     "text": [
      "Model: \"CNN2D_5\"\n",
      "_________________________________________________________________\n",
      " Layer (type)                Output Shape              Param #   \n",
      "=================================================================\n",
      " Conv2D_1 (Conv2D)           (None, 300, 400, 8)       80        \n",
      "                                                                 \n",
      " MaxPooling2D_1 (MaxPooling2  (None, 150, 200, 8)      0         \n",
      " D)                                                              \n",
      "                                                                 \n",
      " BN1 (BatchNormalization)    (None, 150, 200, 8)       32        \n",
      "                                                                 \n",
      " Conv2D_2 (Conv2D)           (None, 150, 200, 8)       584       \n",
      "                                                                 \n",
      " MaxPooling2D_2 (MaxPooling2  (None, 75, 100, 8)       0         \n",
      " D)                                                              \n",
      "                                                                 \n",
      " BN2 (BatchNormalization)    (None, 75, 100, 8)        32        \n",
      "                                                                 \n",
      " Conv2D_3 (Conv2D)           (None, 75, 100, 16)       3216      \n",
      "                                                                 \n",
      " MaxPooling2D_3 (MaxPooling2  (None, 38, 50, 16)       0         \n",
      " D)                                                              \n",
      "                                                                 \n",
      " BN3 (BatchNormalization)    (None, 38, 50, 16)        64        \n",
      "                                                                 \n",
      " Flatten (Flatten)           (None, 30400)             0         \n",
      "                                                                 \n",
      " Dense1 (Dense)              (None, 64)                1945664   \n",
      "                                                                 \n",
      " Dropout1 (Dropout)          (None, 64)                0         \n",
      "                                                                 \n",
      " Dense2 (Dense)              (None, 32)                2080      \n",
      "                                                                 \n",
      " Dropout2 (Dropout)          (None, 32)                0         \n",
      "                                                                 \n",
      " Softmax (Dense)             (None, 4)                 132       \n",
      "                                                                 \n",
      "=================================================================\n",
      "Total params: 1,951,884\n",
      "Trainable params: 1,951,820\n",
      "Non-trainable params: 64\n",
      "_________________________________________________________________\n"
     ]
    }
   ],
   "source": [
    "f1,k1,a1 = 8,3,'relu'\n",
    "mw1,mh1,sw1,sh1 = 2,3,2,2\n",
    "f2,k2,a2 = 8,3,'relu'\n",
    "mw2,mh2,sw2,sh2 = 2,3,2,2\n",
    "f3,k3,a3 = 16,3,'relu'\n",
    "mw3,mh3,sw3,sh3 = 2,3,2,2\n",
    "d1,dr1,da1,r1 = 64,0.2,'relu',0.2\n",
    "d2,dr2,da2,r2 = 32,0.2,'relu',0.2\n",
    "num = 5\n",
    "model5 = modelBuilder3L(mel1_train_reshaped,\n",
    "                        f1,k1,a1,\n",
    "                        mw1,mh1,sw1,sh1,\n",
    "                        f2,k2,a2,\n",
    "                        mw2,mh2,sw2,sh2,\n",
    "                        f3,k3,a3,\n",
    "                        mw3,mh3,sw3,sh3,\n",
    "                        d1,dr1,da1,r1,\n",
    "                        d2,dr2,da2,r2,\n",
    "                        num)"
   ]
  },
  {
   "cell_type": "code",
   "execution_count": 105,
   "id": "ce17673d",
   "metadata": {
    "scrolled": true
   },
   "outputs": [
    {
     "name": "stdout",
     "output_type": "stream",
     "text": [
      "Epoch 1/80\n",
      "29/29 [==============================] - 20s 618ms/step - loss: 33.4322 - accuracy: 0.3763 - val_loss: 30.8477 - val_accuracy: 0.2500\n",
      "Epoch 2/80\n",
      "29/29 [==============================] - 16s 541ms/step - loss: 28.2444 - accuracy: 0.4286 - val_loss: 26.0775 - val_accuracy: 0.2500\n",
      "Epoch 3/80\n",
      "29/29 [==============================] - 16s 549ms/step - loss: 23.6201 - accuracy: 0.4495 - val_loss: 22.5402 - val_accuracy: 0.2500\n",
      "Epoch 4/80\n",
      "29/29 [==============================] - 16s 538ms/step - loss: 20.0100 - accuracy: 0.4704 - val_loss: 19.8260 - val_accuracy: 0.2500\n",
      "Epoch 5/80\n",
      "29/29 [==============================] - 15s 534ms/step - loss: 17.1801 - accuracy: 0.4564 - val_loss: 17.0021 - val_accuracy: 0.2500\n",
      "Epoch 6/80\n",
      "29/29 [==============================] - 17s 588ms/step - loss: 14.9620 - accuracy: 0.4599 - val_loss: 15.8493 - val_accuracy: 0.2500\n",
      "Epoch 7/80\n",
      "29/29 [==============================] - 16s 538ms/step - loss: 13.2009 - accuracy: 0.5348 - val_loss: 13.5176 - val_accuracy: 0.2500\n",
      "Epoch 8/80\n",
      "29/29 [==============================] - 16s 538ms/step - loss: 11.7856 - accuracy: 0.5889 - val_loss: 11.9361 - val_accuracy: 0.2500\n",
      "Epoch 9/80\n",
      "29/29 [==============================] - 15s 523ms/step - loss: 10.7554 - accuracy: 0.5889 - val_loss: 10.7770 - val_accuracy: 0.2569\n",
      "Epoch 10/80\n",
      "29/29 [==============================] - 15s 535ms/step - loss: 9.8415 - accuracy: 0.6167 - val_loss: 10.2014 - val_accuracy: 0.2778\n",
      "Epoch 11/80\n",
      "29/29 [==============================] - 18s 622ms/step - loss: 9.1244 - accuracy: 0.6341 - val_loss: 9.5558 - val_accuracy: 0.3125\n",
      "Epoch 12/80\n",
      "29/29 [==============================] - 16s 549ms/step - loss: 8.4856 - accuracy: 0.6185 - val_loss: 8.6412 - val_accuracy: 0.4375\n",
      "Epoch 13/80\n",
      "29/29 [==============================] - 15s 527ms/step - loss: 7.9677 - accuracy: 0.6638 - val_loss: 8.1034 - val_accuracy: 0.4167\n",
      "Epoch 14/80\n",
      "29/29 [==============================] - 16s 537ms/step - loss: 7.5119 - accuracy: 0.6951 - val_loss: 7.6997 - val_accuracy: 0.4722\n",
      "Epoch 15/80\n",
      "29/29 [==============================] - 15s 527ms/step - loss: 7.1844 - accuracy: 0.6864 - val_loss: 7.3292 - val_accuracy: 0.4931\n",
      "Epoch 16/80\n",
      "29/29 [==============================] - 15s 523ms/step - loss: 6.8029 - accuracy: 0.7143 - val_loss: 6.9373 - val_accuracy: 0.5556\n",
      "Epoch 17/80\n",
      "29/29 [==============================] - 15s 531ms/step - loss: 6.4539 - accuracy: 0.7491 - val_loss: 6.7501 - val_accuracy: 0.5486\n",
      "Epoch 18/80\n",
      "29/29 [==============================] - 15s 523ms/step - loss: 6.1722 - accuracy: 0.7613 - val_loss: 6.4319 - val_accuracy: 0.5903\n",
      "Epoch 19/80\n",
      "29/29 [==============================] - 15s 532ms/step - loss: 5.9550 - accuracy: 0.7334 - val_loss: 6.2729 - val_accuracy: 0.5139\n",
      "Epoch 20/80\n",
      "29/29 [==============================] - 17s 602ms/step - loss: 5.6803 - accuracy: 0.7648 - val_loss: 6.0475 - val_accuracy: 0.5764\n",
      "Epoch 21/80\n",
      "29/29 [==============================] - 20s 686ms/step - loss: 5.4798 - accuracy: 0.7735 - val_loss: 5.8354 - val_accuracy: 0.5833\n",
      "Epoch 22/80\n",
      "29/29 [==============================] - 20s 701ms/step - loss: 5.1596 - accuracy: 0.8275 - val_loss: 5.6765 - val_accuracy: 0.5764\n",
      "Epoch 23/80\n",
      "29/29 [==============================] - 17s 597ms/step - loss: 5.0398 - accuracy: 0.8136 - val_loss: 5.5355 - val_accuracy: 0.5486\n",
      "Epoch 24/80\n",
      "29/29 [==============================] - 16s 548ms/step - loss: 4.9012 - accuracy: 0.8118 - val_loss: 5.2867 - val_accuracy: 0.5625\n",
      "Epoch 25/80\n",
      "29/29 [==============================] - 15s 527ms/step - loss: 4.7062 - accuracy: 0.8502 - val_loss: 5.2597 - val_accuracy: 0.5278\n",
      "Epoch 26/80\n",
      "29/29 [==============================] - 18s 617ms/step - loss: 4.5074 - accuracy: 0.8624 - val_loss: 5.0695 - val_accuracy: 0.5556\n",
      "Epoch 27/80\n",
      "29/29 [==============================] - 16s 552ms/step - loss: 4.3875 - accuracy: 0.8380 - val_loss: 4.9457 - val_accuracy: 0.5278\n",
      "Epoch 28/80\n",
      "29/29 [==============================] - 15s 522ms/step - loss: 4.1938 - accuracy: 0.8763 - val_loss: 4.7695 - val_accuracy: 0.5556\n",
      "Epoch 29/80\n",
      "29/29 [==============================] - 15s 524ms/step - loss: 4.0058 - accuracy: 0.9251 - val_loss: 4.7092 - val_accuracy: 0.5556\n",
      "Epoch 30/80\n",
      "29/29 [==============================] - 16s 535ms/step - loss: 3.8690 - accuracy: 0.9129 - val_loss: 4.5373 - val_accuracy: 0.5486\n",
      "Epoch 31/80\n",
      "29/29 [==============================] - 17s 591ms/step - loss: 3.7554 - accuracy: 0.8815 - val_loss: 4.4256 - val_accuracy: 0.5764\n",
      "Epoch 32/80\n",
      "29/29 [==============================] - 18s 619ms/step - loss: 3.6173 - accuracy: 0.8972 - val_loss: 4.3315 - val_accuracy: 0.5556\n",
      "Epoch 33/80\n",
      "29/29 [==============================] - 16s 559ms/step - loss: 3.5213 - accuracy: 0.9181 - val_loss: 4.1842 - val_accuracy: 0.5486\n",
      "Epoch 34/80\n",
      "29/29 [==============================] - 17s 581ms/step - loss: 3.3651 - accuracy: 0.9373 - val_loss: 4.2227 - val_accuracy: 0.5486\n",
      "Epoch 35/80\n",
      "29/29 [==============================] - 16s 560ms/step - loss: 3.2477 - accuracy: 0.9268 - val_loss: 4.0876 - val_accuracy: 0.5764\n",
      "Epoch 36/80\n",
      "29/29 [==============================] - 16s 541ms/step - loss: 3.1690 - accuracy: 0.9338 - val_loss: 3.9796 - val_accuracy: 0.5208\n",
      "Epoch 37/80\n",
      "29/29 [==============================] - 15s 518ms/step - loss: 3.0632 - accuracy: 0.9268 - val_loss: 3.8439 - val_accuracy: 0.5208\n",
      "Epoch 38/80\n",
      "29/29 [==============================] - 15s 521ms/step - loss: 2.9604 - accuracy: 0.9303 - val_loss: 3.7915 - val_accuracy: 0.5208\n",
      "Epoch 39/80\n",
      "29/29 [==============================] - 15s 528ms/step - loss: 2.8265 - accuracy: 0.9477 - val_loss: 3.6861 - val_accuracy: 0.5625\n",
      "Epoch 40/80\n",
      "29/29 [==============================] - 15s 521ms/step - loss: 2.7095 - accuracy: 0.9582 - val_loss: 3.5280 - val_accuracy: 0.5417\n",
      "Epoch 41/80\n",
      "29/29 [==============================] - 15s 525ms/step - loss: 2.6558 - accuracy: 0.9338 - val_loss: 3.5424 - val_accuracy: 0.5764\n",
      "Epoch 42/80\n",
      "29/29 [==============================] - 15s 515ms/step - loss: 2.5497 - accuracy: 0.9530 - val_loss: 3.4469 - val_accuracy: 0.5486\n",
      "Epoch 43/80\n",
      "29/29 [==============================] - 15s 532ms/step - loss: 2.4724 - accuracy: 0.9512 - val_loss: 3.4020 - val_accuracy: 0.5833\n",
      "Epoch 44/80\n",
      "29/29 [==============================] - 15s 526ms/step - loss: 2.3744 - accuracy: 0.9669 - val_loss: 3.2865 - val_accuracy: 0.5625\n",
      "Epoch 45/80\n",
      "29/29 [==============================] - 18s 612ms/step - loss: 2.3395 - accuracy: 0.9355 - val_loss: 3.2477 - val_accuracy: 0.5417\n",
      "Epoch 46/80\n",
      "29/29 [==============================] - 16s 565ms/step - loss: 2.2442 - accuracy: 0.9547 - val_loss: 3.1202 - val_accuracy: 0.5486\n",
      "Epoch 47/80\n",
      "29/29 [==============================] - 17s 600ms/step - loss: 2.1847 - accuracy: 0.9443 - val_loss: 2.9915 - val_accuracy: 0.5833\n",
      "Epoch 48/80\n",
      "29/29 [==============================] - 16s 567ms/step - loss: 2.0941 - accuracy: 0.9582 - val_loss: 3.0251 - val_accuracy: 0.5486\n",
      "Epoch 49/80\n",
      "29/29 [==============================] - 15s 508ms/step - loss: 2.0562 - accuracy: 0.9460 - val_loss: 2.9128 - val_accuracy: 0.5556\n",
      "Epoch 50/80\n",
      "29/29 [==============================] - 15s 510ms/step - loss: 1.9624 - accuracy: 0.9739 - val_loss: 2.8717 - val_accuracy: 0.5347\n",
      "Epoch 51/80\n",
      "29/29 [==============================] - 15s 506ms/step - loss: 1.9024 - accuracy: 0.9564 - val_loss: 2.8080 - val_accuracy: 0.5417\n",
      "Epoch 52/80\n",
      "29/29 [==============================] - 15s 513ms/step - loss: 1.8513 - accuracy: 0.9634 - val_loss: 2.7152 - val_accuracy: 0.5417\n",
      "Epoch 53/80\n",
      "29/29 [==============================] - 14s 493ms/step - loss: 1.7675 - accuracy: 0.9756 - val_loss: 2.7249 - val_accuracy: 0.5625\n",
      "Epoch 54/80\n",
      "29/29 [==============================] - 14s 490ms/step - loss: 1.7289 - accuracy: 0.9599 - val_loss: 2.5709 - val_accuracy: 0.5833\n",
      "Epoch 55/80\n",
      "29/29 [==============================] - 14s 494ms/step - loss: 1.6955 - accuracy: 0.9495 - val_loss: 2.5569 - val_accuracy: 0.5347\n",
      "Epoch 56/80\n",
      "29/29 [==============================] - 14s 495ms/step - loss: 1.6287 - accuracy: 0.9843 - val_loss: 2.5241 - val_accuracy: 0.5486\n",
      "Epoch 57/80\n",
      "29/29 [==============================] - 14s 494ms/step - loss: 1.5620 - accuracy: 0.9739 - val_loss: 2.5241 - val_accuracy: 0.5556\n"
     ]
    },
    {
     "name": "stdout",
     "output_type": "stream",
     "text": [
      "Epoch 58/80\n",
      "29/29 [==============================] - 14s 488ms/step - loss: 1.5449 - accuracy: 0.9547 - val_loss: 2.4790 - val_accuracy: 0.5417\n",
      "Epoch 59/80\n",
      "29/29 [==============================] - 14s 489ms/step - loss: 1.4881 - accuracy: 0.9634 - val_loss: 2.4589 - val_accuracy: 0.5625\n",
      "Epoch 60/80\n",
      "29/29 [==============================] - 14s 498ms/step - loss: 1.4355 - accuracy: 0.9791 - val_loss: 2.3801 - val_accuracy: 0.5556\n",
      "Epoch 61/80\n",
      "29/29 [==============================] - 14s 495ms/step - loss: 1.3852 - accuracy: 0.9704 - val_loss: 2.3123 - val_accuracy: 0.5486\n",
      "Epoch 62/80\n",
      "29/29 [==============================] - 14s 490ms/step - loss: 1.3557 - accuracy: 0.9739 - val_loss: 2.3460 - val_accuracy: 0.5139\n",
      "Epoch 63/80\n",
      "29/29 [==============================] - 14s 498ms/step - loss: 1.2985 - accuracy: 0.9774 - val_loss: 2.2120 - val_accuracy: 0.5625\n",
      "Epoch 64/80\n",
      "29/29 [==============================] - 14s 492ms/step - loss: 1.2671 - accuracy: 0.9808 - val_loss: 2.3168 - val_accuracy: 0.5486\n",
      "Epoch 65/80\n",
      "29/29 [==============================] - 14s 496ms/step - loss: 1.2188 - accuracy: 0.9826 - val_loss: 2.2545 - val_accuracy: 0.5625\n",
      "Epoch 66/80\n",
      "29/29 [==============================] - 14s 497ms/step - loss: 1.1823 - accuracy: 0.9808 - val_loss: 2.0630 - val_accuracy: 0.5625\n",
      "Epoch 67/80\n",
      "29/29 [==============================] - 16s 565ms/step - loss: 1.1426 - accuracy: 0.9774 - val_loss: 2.0286 - val_accuracy: 0.5764\n",
      "Epoch 68/80\n",
      "29/29 [==============================] - 15s 521ms/step - loss: 1.0869 - accuracy: 0.9808 - val_loss: 2.0235 - val_accuracy: 0.5347\n",
      "Epoch 69/80\n",
      "29/29 [==============================] - 16s 547ms/step - loss: 1.0442 - accuracy: 0.9826 - val_loss: 1.9952 - val_accuracy: 0.5486\n",
      "Epoch 70/80\n",
      "29/29 [==============================] - 16s 555ms/step - loss: 1.0137 - accuracy: 0.9861 - val_loss: 2.0452 - val_accuracy: 0.5347\n",
      "Epoch 71/80\n",
      "29/29 [==============================] - 16s 534ms/step - loss: 0.9993 - accuracy: 0.9826 - val_loss: 2.0196 - val_accuracy: 0.5694\n",
      "Epoch 72/80\n",
      "29/29 [==============================] - 15s 528ms/step - loss: 0.9797 - accuracy: 0.9843 - val_loss: 1.9144 - val_accuracy: 0.5694\n",
      "Epoch 73/80\n",
      "29/29 [==============================] - 15s 506ms/step - loss: 0.9471 - accuracy: 0.9791 - val_loss: 1.9048 - val_accuracy: 0.5764\n",
      "Epoch 74/80\n",
      "29/29 [==============================] - 15s 501ms/step - loss: 0.9279 - accuracy: 0.9826 - val_loss: 1.9066 - val_accuracy: 0.5556\n",
      "Epoch 75/80\n",
      "29/29 [==============================] - 15s 502ms/step - loss: 0.9131 - accuracy: 0.9791 - val_loss: 1.8970 - val_accuracy: 0.5625\n",
      "Epoch 76/80\n",
      "29/29 [==============================] - 15s 504ms/step - loss: 0.8922 - accuracy: 0.9791 - val_loss: 1.8040 - val_accuracy: 0.5486\n",
      "Epoch 77/80\n",
      "29/29 [==============================] - 15s 507ms/step - loss: 0.8634 - accuracy: 0.9791 - val_loss: 1.8304 - val_accuracy: 0.5694\n",
      "Epoch 78/80\n",
      "29/29 [==============================] - 15s 508ms/step - loss: 0.8429 - accuracy: 0.9826 - val_loss: 1.8076 - val_accuracy: 0.5625\n",
      "Epoch 79/80\n",
      "29/29 [==============================] - 15s 507ms/step - loss: 0.8205 - accuracy: 0.9791 - val_loss: 1.8543 - val_accuracy: 0.5625\n",
      "Epoch 80/80\n",
      "29/29 [==============================] - 15s 523ms/step - loss: 0.8080 - accuracy: 0.9808 - val_loss: 1.7931 - val_accuracy: 0.5694\n"
     ]
    },
    {
     "data": {
      "text/plain": [
       "<keras.callbacks.History at 0x7fd00f55a8f0>"
      ]
     },
     "execution_count": 105,
     "metadata": {},
     "output_type": "execute_result"
    }
   ],
   "source": [
    "model5.fit(mel1_train_reshaped,y1_train,validation_data=(mel1_val_reshaped,y1_val),batch_size=20,epochs=80)"
   ]
  },
  {
   "cell_type": "code",
   "execution_count": 51,
   "id": "8f9cfb3d",
   "metadata": {},
   "outputs": [],
   "source": [
    "# Load mel data set\n",
    "mel2_file = np.load(\"Features2D/npz_new/mel2_train_test.npz\")\n",
    "\n",
    "mel2_train = mel2_file['mel_train']\n",
    "y2_train = mel2_file['y_train']\n",
    "mel2_train,mel2_val,y2_train,y2_val = train_test_split(mel2_train,y2_train, \n",
    "                                                       train_size = 0.8, \n",
    "                                                       random_state = 13, \n",
    "                                                       stratify= y2_train)"
   ]
  },
  {
   "cell_type": "code",
   "execution_count": 52,
   "id": "0396f7b4",
   "metadata": {},
   "outputs": [],
   "source": [
    "# Feature Scaling\n",
    "mel2_train_scaled = (mel2_train - np.mean(mel2_train)) / np.std(mel2_train)\n",
    "mel2_val_scaled = (mel2_val - np.amin(mel2_val)) / np.std(mel2_val)"
   ]
  },
  {
   "cell_type": "code",
   "execution_count": 53,
   "id": "a9f041c5",
   "metadata": {},
   "outputs": [],
   "source": [
    "# Reshape the data\n",
    "N,row,col = mel2_train_scaled.shape\n",
    "mel2_train_reshaped = mel2_train_scaled.reshape((N,row,col,1))\n",
    "\n",
    "N,row,col = mel2_val_scaled.shape\n",
    "mel2_val_reshaped = mel2_val_scaled.reshape((N,row,col,1))"
   ]
  },
  {
   "cell_type": "code",
   "execution_count": 88,
   "id": "cb76884e",
   "metadata": {
    "scrolled": true
   },
   "outputs": [
    {
     "name": "stdout",
     "output_type": "stream",
     "text": [
      "Model: \"CNN2D_6\"\n",
      "_________________________________________________________________\n",
      " Layer (type)                Output Shape              Param #   \n",
      "=================================================================\n",
      " Conv2D_1 (Conv2D)           (None, 300, 400, 8)       80        \n",
      "                                                                 \n",
      " MaxPooling2D_1 (MaxPooling2  (None, 150, 200, 8)      0         \n",
      " D)                                                              \n",
      "                                                                 \n",
      " BN1 (BatchNormalization)    (None, 150, 200, 8)       32        \n",
      "                                                                 \n",
      " Conv2D_2 (Conv2D)           (None, 150, 200, 8)       584       \n",
      "                                                                 \n",
      " MaxPooling2D_2 (MaxPooling2  (None, 75, 100, 8)       0         \n",
      " D)                                                              \n",
      "                                                                 \n",
      " BN2 (BatchNormalization)    (None, 75, 100, 8)        32        \n",
      "                                                                 \n",
      " Conv2D_3 (Conv2D)           (None, 75, 100, 16)       1168      \n",
      "                                                                 \n",
      " MaxPooling2D_3 (MaxPooling2  (None, 38, 50, 16)       0         \n",
      " D)                                                              \n",
      "                                                                 \n",
      " BN3 (BatchNormalization)    (None, 38, 50, 16)        64        \n",
      "                                                                 \n",
      " Flatten (Flatten)           (None, 30400)             0         \n",
      "                                                                 \n",
      " Dense1 (Dense)              (None, 64)                1945664   \n",
      "                                                                 \n",
      " Dropout1 (Dropout)          (None, 64)                0         \n",
      "                                                                 \n",
      " Dense2 (Dense)              (None, 32)                2080      \n",
      "                                                                 \n",
      " Dropout2 (Dropout)          (None, 32)                0         \n",
      "                                                                 \n",
      " Softmax (Dense)             (None, 4)                 132       \n",
      "                                                                 \n",
      "=================================================================\n",
      "Total params: 1,949,836\n",
      "Trainable params: 1,949,772\n",
      "Non-trainable params: 64\n",
      "_________________________________________________________________\n"
     ]
    }
   ],
   "source": [
    "f1,k1,a1 = 8,3,'relu'\n",
    "mw1,mh1,sw1,sh1 = 2,3,2,2\n",
    "f2,k2,a2 = 8,3,'relu'\n",
    "mw2,mh2,sw2,sh2 = 2,3,2,2\n",
    "f3,k3,a3 = 16,3,'relu'\n",
    "mw3,mh3,sw3,sh3 = 2,3,2,2\n",
    "d1,dr1,da1,r1 = 64,0.2,'relu',0.2\n",
    "d2,dr2,da2,r2 = 32,0.2,'relu',0.2\n",
    "num = 6\n",
    "model6 = modelBuilder3L(mel2_train_reshaped,\n",
    "                        f1,k1,a1,\n",
    "                        mw1,mh1,sw1,sh1,\n",
    "                        f2,k2,a2,\n",
    "                        mw2,mh2,sw2,sh2,\n",
    "                        f3,k3,a3,\n",
    "                        mw3,mh3,sw3,sh3,\n",
    "                        d1,dr1,da1,r1,\n",
    "                        d2,dr2,da2,r2,\n",
    "                        num)"
   ]
  },
  {
   "cell_type": "code",
   "execution_count": 89,
   "id": "4fe71fb3",
   "metadata": {
    "scrolled": true
   },
   "outputs": [
    {
     "name": "stdout",
     "output_type": "stream",
     "text": [
      "Epoch 1/80\n",
      "15/15 [==============================] - 13s 662ms/step - loss: 34.8135 - accuracy: 0.4236 - val_loss: 33.2904 - val_accuracy: 0.5833\n",
      "Epoch 2/80\n",
      "15/15 [==============================] - 9s 608ms/step - loss: 31.7204 - accuracy: 0.5868 - val_loss: 30.4967 - val_accuracy: 0.4722\n",
      "Epoch 3/80\n",
      "15/15 [==============================] - 8s 519ms/step - loss: 28.7805 - accuracy: 0.6910 - val_loss: 27.7586 - val_accuracy: 0.3750\n",
      "Epoch 4/80\n",
      "15/15 [==============================] - 8s 529ms/step - loss: 26.0131 - accuracy: 0.7361 - val_loss: 25.2757 - val_accuracy: 0.3889\n",
      "Epoch 5/80\n",
      "15/15 [==============================] - 8s 541ms/step - loss: 23.5495 - accuracy: 0.7778 - val_loss: 23.0970 - val_accuracy: 0.3333\n",
      "Epoch 6/80\n",
      "15/15 [==============================] - 9s 563ms/step - loss: 21.3652 - accuracy: 0.7951 - val_loss: 21.2679 - val_accuracy: 0.2500\n",
      "Epoch 7/80\n",
      "15/15 [==============================] - 7s 494ms/step - loss: 19.5391 - accuracy: 0.8368 - val_loss: 19.7662 - val_accuracy: 0.2500\n",
      "Epoch 8/80\n",
      "15/15 [==============================] - 8s 514ms/step - loss: 17.9098 - accuracy: 0.8646 - val_loss: 18.3608 - val_accuracy: 0.2500\n",
      "Epoch 9/80\n",
      "15/15 [==============================] - 7s 493ms/step - loss: 16.5234 - accuracy: 0.8924 - val_loss: 16.9684 - val_accuracy: 0.2917\n",
      "Epoch 10/80\n",
      "15/15 [==============================] - 7s 497ms/step - loss: 15.2242 - accuracy: 0.9410 - val_loss: 15.9562 - val_accuracy: 0.2778\n",
      "Epoch 11/80\n",
      "15/15 [==============================] - 8s 522ms/step - loss: 14.2170 - accuracy: 0.9201 - val_loss: 14.9395 - val_accuracy: 0.2917\n",
      "Epoch 12/80\n",
      "15/15 [==============================] - 8s 551ms/step - loss: 13.2641 - accuracy: 0.9375 - val_loss: 14.2747 - val_accuracy: 0.2639\n",
      "Epoch 13/80\n",
      "15/15 [==============================] - 8s 545ms/step - loss: 12.4511 - accuracy: 0.9410 - val_loss: 13.4018 - val_accuracy: 0.3194\n",
      "Epoch 14/80\n",
      "15/15 [==============================] - 8s 524ms/step - loss: 11.6766 - accuracy: 0.9653 - val_loss: 12.8285 - val_accuracy: 0.3194\n",
      "Epoch 15/80\n",
      "15/15 [==============================] - 7s 490ms/step - loss: 11.0503 - accuracy: 0.9549 - val_loss: 12.1234 - val_accuracy: 0.3333\n",
      "Epoch 16/80\n",
      "15/15 [==============================] - 7s 470ms/step - loss: 10.4687 - accuracy: 0.9688 - val_loss: 11.6306 - val_accuracy: 0.3333\n",
      "Epoch 17/80\n",
      "15/15 [==============================] - 11s 740ms/step - loss: 9.9802 - accuracy: 0.9410 - val_loss: 11.4643 - val_accuracy: 0.2778\n",
      "Epoch 18/80\n",
      "15/15 [==============================] - 9s 619ms/step - loss: 9.5167 - accuracy: 0.9688 - val_loss: 10.9586 - val_accuracy: 0.2778\n",
      "Epoch 19/80\n",
      "15/15 [==============================] - 9s 603ms/step - loss: 9.0902 - accuracy: 0.9618 - val_loss: 10.9358 - val_accuracy: 0.2500\n",
      "Epoch 20/80\n",
      "15/15 [==============================] - 7s 485ms/step - loss: 8.6947 - accuracy: 0.9722 - val_loss: 10.2826 - val_accuracy: 0.3056\n",
      "Epoch 21/80\n",
      "15/15 [==============================] - 7s 476ms/step - loss: 8.3601 - accuracy: 0.9618 - val_loss: 9.6542 - val_accuracy: 0.3472\n",
      "Epoch 22/80\n",
      "15/15 [==============================] - 8s 562ms/step - loss: 8.0644 - accuracy: 0.9583 - val_loss: 9.2492 - val_accuracy: 0.4583\n",
      "Epoch 23/80\n",
      "15/15 [==============================] - 7s 479ms/step - loss: 7.7567 - accuracy: 0.9757 - val_loss: 8.9773 - val_accuracy: 0.4583\n",
      "Epoch 24/80\n",
      "15/15 [==============================] - 7s 459ms/step - loss: 7.5123 - accuracy: 0.9514 - val_loss: 8.7854 - val_accuracy: 0.4306\n",
      "Epoch 25/80\n",
      "15/15 [==============================] - 7s 463ms/step - loss: 7.2381 - accuracy: 0.9826 - val_loss: 8.4335 - val_accuracy: 0.4722\n",
      "Epoch 26/80\n",
      "15/15 [==============================] - 7s 480ms/step - loss: 7.0045 - accuracy: 0.9722 - val_loss: 8.2808 - val_accuracy: 0.4722\n",
      "Epoch 27/80\n",
      "15/15 [==============================] - 9s 634ms/step - loss: 6.7815 - accuracy: 0.9861 - val_loss: 7.7800 - val_accuracy: 0.5694\n",
      "Epoch 28/80\n",
      "15/15 [==============================] - 10s 689ms/step - loss: 6.6033 - accuracy: 0.9757 - val_loss: 7.4587 - val_accuracy: 0.5556\n",
      "Epoch 29/80\n",
      "15/15 [==============================] - 13s 862ms/step - loss: 6.4040 - accuracy: 0.9826 - val_loss: 7.3199 - val_accuracy: 0.5417\n",
      "Epoch 30/80\n",
      "15/15 [==============================] - 8s 531ms/step - loss: 6.2354 - accuracy: 0.9757 - val_loss: 7.1083 - val_accuracy: 0.5694\n",
      "Epoch 31/80\n",
      "15/15 [==============================] - 7s 496ms/step - loss: 6.0498 - accuracy: 0.9826 - val_loss: 7.0360 - val_accuracy: 0.5556\n",
      "Epoch 32/80\n",
      "15/15 [==============================] - 7s 485ms/step - loss: 5.9025 - accuracy: 0.9722 - val_loss: 7.0732 - val_accuracy: 0.5278\n",
      "Epoch 33/80\n",
      "15/15 [==============================] - 10s 681ms/step - loss: 5.7764 - accuracy: 0.9653 - val_loss: 6.6036 - val_accuracy: 0.5972\n",
      "Epoch 34/80\n",
      "15/15 [==============================] - 9s 533ms/step - loss: 5.6218 - accuracy: 0.9896 - val_loss: 6.7812 - val_accuracy: 0.5278\n",
      "Epoch 35/80\n",
      "15/15 [==============================] - 8s 525ms/step - loss: 5.4967 - accuracy: 0.9792 - val_loss: 6.7835 - val_accuracy: 0.5139\n",
      "Epoch 36/80\n",
      "15/15 [==============================] - 8s 504ms/step - loss: 5.3703 - accuracy: 0.9792 - val_loss: 6.1075 - val_accuracy: 0.6111\n",
      "Epoch 37/80\n",
      "15/15 [==============================] - 7s 466ms/step - loss: 5.2537 - accuracy: 0.9722 - val_loss: 5.8192 - val_accuracy: 0.7500\n",
      "Epoch 38/80\n",
      "15/15 [==============================] - 7s 484ms/step - loss: 5.1476 - accuracy: 0.9861 - val_loss: 5.8437 - val_accuracy: 0.6528\n",
      "Epoch 39/80\n",
      "15/15 [==============================] - 7s 481ms/step - loss: 5.0272 - accuracy: 0.9861 - val_loss: 5.6429 - val_accuracy: 0.6806\n",
      "Epoch 40/80\n",
      "15/15 [==============================] - 8s 560ms/step - loss: 4.9188 - accuracy: 0.9896 - val_loss: 5.4769 - val_accuracy: 0.7083\n",
      "Epoch 41/80\n",
      "15/15 [==============================] - 7s 474ms/step - loss: 4.8138 - accuracy: 0.9896 - val_loss: 5.5646 - val_accuracy: 0.6528\n",
      "Epoch 42/80\n",
      "15/15 [==============================] - 7s 476ms/step - loss: 4.7043 - accuracy: 0.9931 - val_loss: 5.7083 - val_accuracy: 0.5694\n",
      "Epoch 43/80\n",
      "15/15 [==============================] - 7s 487ms/step - loss: 4.6158 - accuracy: 0.9757 - val_loss: 5.3179 - val_accuracy: 0.6806\n",
      "Epoch 44/80\n",
      "15/15 [==============================] - 8s 540ms/step - loss: 4.5137 - accuracy: 0.9826 - val_loss: 5.2066 - val_accuracy: 0.6944\n",
      "Epoch 45/80\n",
      "15/15 [==============================] - 8s 533ms/step - loss: 4.4259 - accuracy: 0.9861 - val_loss: 4.9319 - val_accuracy: 0.7917\n",
      "Epoch 46/80\n",
      "15/15 [==============================] - 7s 489ms/step - loss: 4.3426 - accuracy: 0.9861 - val_loss: 4.9002 - val_accuracy: 0.7361\n",
      "Epoch 47/80\n",
      "15/15 [==============================] - 7s 494ms/step - loss: 4.2331 - accuracy: 0.9931 - val_loss: 4.8112 - val_accuracy: 0.7500\n",
      "Epoch 48/80\n",
      "15/15 [==============================] - 7s 457ms/step - loss: 4.2031 - accuracy: 0.9688 - val_loss: 4.7286 - val_accuracy: 0.7500\n",
      "Epoch 49/80\n",
      "15/15 [==============================] - 8s 572ms/step - loss: 4.1199 - accuracy: 0.9861 - val_loss: 4.8490 - val_accuracy: 0.6806\n",
      "Epoch 50/80\n",
      "15/15 [==============================] - 9s 574ms/step - loss: 4.0337 - accuracy: 0.9826 - val_loss: 4.5911 - val_accuracy: 0.7222\n",
      "Epoch 51/80\n",
      "15/15 [==============================] - 7s 490ms/step - loss: 3.9543 - accuracy: 0.9826 - val_loss: 4.3858 - val_accuracy: 0.8194\n",
      "Epoch 52/80\n",
      "15/15 [==============================] - 8s 523ms/step - loss: 3.8738 - accuracy: 0.9896 - val_loss: 4.4113 - val_accuracy: 0.7361\n",
      "Epoch 53/80\n",
      "15/15 [==============================] - 9s 564ms/step - loss: 3.8081 - accuracy: 0.9931 - val_loss: 4.2772 - val_accuracy: 0.8194\n",
      "Epoch 54/80\n",
      "15/15 [==============================] - 7s 457ms/step - loss: 3.7255 - accuracy: 0.9896 - val_loss: 4.2112 - val_accuracy: 0.8194\n",
      "Epoch 55/80\n",
      "15/15 [==============================] - 7s 469ms/step - loss: 3.6809 - accuracy: 0.9861 - val_loss: 4.1422 - val_accuracy: 0.7917\n",
      "Epoch 56/80\n",
      "15/15 [==============================] - 7s 487ms/step - loss: 3.6056 - accuracy: 0.9826 - val_loss: 4.1296 - val_accuracy: 0.7778\n",
      "Epoch 57/80\n",
      "15/15 [==============================] - 7s 482ms/step - loss: 3.5372 - accuracy: 0.9826 - val_loss: 4.0369 - val_accuracy: 0.7917\n",
      "Epoch 58/80\n",
      "15/15 [==============================] - 7s 473ms/step - loss: 3.4554 - accuracy: 0.9896 - val_loss: 4.2993 - val_accuracy: 0.6111\n",
      "Epoch 59/80\n",
      "15/15 [==============================] - 7s 477ms/step - loss: 3.4006 - accuracy: 0.9965 - val_loss: 4.1197 - val_accuracy: 0.6806\n",
      "Epoch 60/80\n",
      "15/15 [==============================] - 7s 467ms/step - loss: 3.3358 - accuracy: 0.9931 - val_loss: 3.9010 - val_accuracy: 0.7778\n",
      "Epoch 61/80\n",
      "15/15 [==============================] - 7s 503ms/step - loss: 3.2757 - accuracy: 0.9896 - val_loss: 3.6786 - val_accuracy: 0.8333\n",
      "Epoch 62/80\n",
      "15/15 [==============================] - 7s 487ms/step - loss: 3.2147 - accuracy: 0.9931 - val_loss: 3.6784 - val_accuracy: 0.8194\n",
      "Epoch 63/80\n",
      "15/15 [==============================] - 7s 476ms/step - loss: 3.1685 - accuracy: 0.9826 - val_loss: 3.6407 - val_accuracy: 0.8333\n",
      "Epoch 64/80\n",
      "15/15 [==============================] - 7s 476ms/step - loss: 3.1148 - accuracy: 0.9896 - val_loss: 3.5147 - val_accuracy: 0.8194\n",
      "Epoch 65/80\n",
      "15/15 [==============================] - 8s 559ms/step - loss: 3.0625 - accuracy: 0.9861 - val_loss: 3.5427 - val_accuracy: 0.8056\n",
      "Epoch 66/80\n",
      "15/15 [==============================] - 8s 507ms/step - loss: 3.0009 - accuracy: 0.9931 - val_loss: 3.5052 - val_accuracy: 0.8194\n",
      "Epoch 67/80\n",
      "15/15 [==============================] - 7s 471ms/step - loss: 2.9774 - accuracy: 0.9792 - val_loss: 3.4390 - val_accuracy: 0.7917\n",
      "Epoch 68/80\n",
      "15/15 [==============================] - 7s 466ms/step - loss: 2.9140 - accuracy: 0.9896 - val_loss: 3.5248 - val_accuracy: 0.7500\n",
      "Epoch 69/80\n",
      "15/15 [==============================] - 9s 610ms/step - loss: 2.8510 - accuracy: 1.0000 - val_loss: 3.3645 - val_accuracy: 0.7917\n",
      "Epoch 70/80\n",
      "15/15 [==============================] - 8s 553ms/step - loss: 2.7798 - accuracy: 0.9965 - val_loss: 3.6096 - val_accuracy: 0.6667\n",
      "Epoch 71/80\n",
      "15/15 [==============================] - 7s 499ms/step - loss: 2.7352 - accuracy: 0.9896 - val_loss: 3.3727 - val_accuracy: 0.7639\n",
      "Epoch 72/80\n",
      "15/15 [==============================] - 8s 541ms/step - loss: 2.6742 - accuracy: 0.9861 - val_loss: 3.1417 - val_accuracy: 0.8194\n",
      "Epoch 73/80\n",
      "15/15 [==============================] - 8s 520ms/step - loss: 2.6377 - accuracy: 0.9896 - val_loss: 3.1703 - val_accuracy: 0.7639\n",
      "Epoch 74/80\n",
      "15/15 [==============================] - 7s 482ms/step - loss: 2.5950 - accuracy: 0.9931 - val_loss: 3.1514 - val_accuracy: 0.7778\n",
      "Epoch 75/80\n",
      "15/15 [==============================] - 8s 501ms/step - loss: 2.5321 - accuracy: 0.9826 - val_loss: 3.0937 - val_accuracy: 0.7361\n",
      "Epoch 76/80\n",
      "15/15 [==============================] - 8s 516ms/step - loss: 2.4886 - accuracy: 0.9896 - val_loss: 3.0164 - val_accuracy: 0.7917\n",
      "Epoch 77/80\n",
      "15/15 [==============================] - 8s 511ms/step - loss: 2.4764 - accuracy: 0.9792 - val_loss: 2.9259 - val_accuracy: 0.8056\n",
      "Epoch 78/80\n",
      "15/15 [==============================] - 8s 509ms/step - loss: 2.4208 - accuracy: 0.9826 - val_loss: 2.9255 - val_accuracy: 0.7778\n",
      "Epoch 79/80\n",
      "15/15 [==============================] - 7s 496ms/step - loss: 2.3533 - accuracy: 1.0000 - val_loss: 2.8512 - val_accuracy: 0.8056\n",
      "Epoch 80/80\n",
      "15/15 [==============================] - 9s 576ms/step - loss: 2.3264 - accuracy: 0.9861 - val_loss: 2.9394 - val_accuracy: 0.7639\n"
     ]
    }
   ],
   "source": [
    "history6 = model6.fit(mel2_train_reshaped,y2_train,validation_data=(mel2_val_reshaped,y2_val),batch_size=20,epochs=80)"
   ]
  },
  {
   "cell_type": "code",
   "execution_count": 90,
   "id": "41b20697",
   "metadata": {},
   "outputs": [
    {
     "data": {
      "text/plain": [
       "Text(0, 0.5, 'loss')"
      ]
     },
     "execution_count": 90,
     "metadata": {},
     "output_type": "execute_result"
    },
    {
     "data": {
      "image/png": "[encoded data removed]",
      "text/plain": [
       "<Figure size 1200x400 with 2 Axes>"
      ]
     },
     "metadata": {},
     "output_type": "display_data"
    }
   ],
   "source": [
    "# Train and Validation accuracy and loss\n",
    "f = plt.figure(figsize = (12,4))\n",
    "\n",
    "plt.subplot(1,2,1)\n",
    "plt.title('train validation accuracy')\n",
    "plt.plot(history6.history['accuracy'])\n",
    "plt.plot(history6.history['val_accuracy'])\n",
    "plt.legend(['train','validation'])\n",
    "plt.xlabel('epoch')\n",
    "plt.ylabel('accuracy')\n",
    "\n",
    "\n",
    "plt.subplot(1,2,2)\n",
    "plt.title('train validation loss')\n",
    "plt.plot(history6.history['loss'])\n",
    "plt.plot(history6.history['val_loss'])\n",
    "plt.legend(['train','validation'])\n",
    "plt.xlabel('epoch')\n",
    "plt.ylabel('loss')"
   ]
  },
  {
   "cell_type": "code",
   "execution_count": 91,
   "id": "2e3f9d8b",
   "metadata": {},
   "outputs": [],
   "source": [
    "mel2_test = mel2_file['mel_test']\n",
    "y2_test_mel = mel2_file['y_test']"
   ]
  },
  {
   "cell_type": "code",
   "execution_count": 92,
   "id": "1d6bb499",
   "metadata": {},
   "outputs": [],
   "source": [
    "# Feature Scaling\n",
    "mel2_test_scaled = (mel2_test - np.mean(mel2_test)) / np.std(mel2_test)\n",
    "\n",
    "# Reshape the data\n",
    "N,row,col = mel2_test_scaled.shape\n",
    "mel2_test_reshaped = mel2_test_scaled.reshape((N,row,col,1))"
   ]
  },
  {
   "cell_type": "code",
   "execution_count": 93,
   "id": "02712725",
   "metadata": {},
   "outputs": [
    {
     "name": "stdout",
     "output_type": "stream",
     "text": [
      "2/2 [==============================] - 1s 78ms/step\n"
     ]
    }
   ],
   "source": [
    "y3_prob = model6.predict(mel2_test_reshaped)\n",
    "y3_pred = np.argmax(y3_prob, axis = -1)"
   ]
  },
  {
   "cell_type": "code",
   "execution_count": 94,
   "id": "4c035393",
   "metadata": {},
   "outputs": [],
   "source": [
    "# Accuracy\n",
    "acc3_2d = round(accuracy_score(y3_pred,y2_test_mel),2)"
   ]
  },
  {
   "cell_type": "code",
   "execution_count": 95,
   "id": "3182272f",
   "metadata": {},
   "outputs": [],
   "source": [
    "# Confusion Matrix\n",
    "cm_mel = confusion_matrix(y2_test_mel,y3_pred)\n",
    "cm_2d_mel = ConfusionMatrixDisplay(confusion_matrix = cm_mel, display_labels = ['Angry', 'Happy', 'Relaxed', 'Sad'])"
   ]
  },
  {
   "cell_type": "code",
   "execution_count": 96,
   "id": "13a65fe6",
   "metadata": {
    "scrolled": false
   },
   "outputs": [
    {
     "name": "stdout",
     "output_type": "stream",
     "text": [
      "              precision    recall  f1-score   support\n",
      "\n",
      "       Angry       0.91      1.00      0.95        10\n",
      "       Happy       1.00      0.90      0.95        10\n",
      "     Relaxed       0.69      0.90      0.78        10\n",
      "         Sad       0.86      0.60      0.71        10\n",
      "\n",
      "    accuracy                           0.85        40\n",
      "   macro avg       0.86      0.85      0.85        40\n",
      "weighted avg       0.86      0.85      0.85        40\n",
      "\n"
     ]
    },
    {
     "data": {
      "image/png": "[encoded data removed]",
      "text/plain": [
       "<Figure size 640x480 with 2 Axes>"
      ]
     },
     "metadata": {},
     "output_type": "display_data"
    }
   ],
   "source": [
    "print(classification_report(y2_test_mel, y3_pred, target_names = ['Angry', 'Happy', 'Relaxed', 'Sad']))\n",
    "cm_2d_mel.plot()\n",
    "plt.show()"
   ]
  },
  {
   "cell_type": "code",
   "execution_count": 97,
   "id": "95875072",
   "metadata": {},
   "outputs": [],
   "source": [
    "model2.save(os.getcwd() + \"/Features2D/Model/Conv2D_mfcc.h5\") \n",
    "model4.save(os.getcwd() + \"/Features2D/Model/Conv2D_spec.h5\") \n",
    "model6.save(os.getcwd() + \"/Features2D/Model/Conv2D_mel.h5\") "
   ]
  },
  {
   "cell_type": "markdown",
   "id": "bcd18d7c",
   "metadata": {},
   "source": [
    "## 5. Ensemble 3 models"
   ]
  },
  {
   "cell_type": "code",
   "execution_count": 98,
   "id": "4984d32d",
   "metadata": {},
   "outputs": [],
   "source": [
    "spec_file_ense = np.load(os.getcwd() + \"/Features2D/npz_new/spec2_train_test.npz\")\n",
    "spec_ense_train = spec_file_ense['spec_train']\n",
    "spec_ense_test = spec_file_ense['spec_test']\n",
    "y_ense_train = spec_file_ense['y_train']\n",
    "y_ense_test = spec_file_ense['y_test']\n",
    "model_spec = load_model(os.getcwd() + \"/Features2D/Model/Conv2D_spec.h5\")"
   ]
  },
  {
   "cell_type": "code",
   "execution_count": 99,
   "id": "9e4a5935",
   "metadata": {},
   "outputs": [],
   "source": [
    "mfcc_file_ense = np.load(os.getcwd() + \"/Features2D/npz_new/mfcc2_train_test.npz\")\n",
    "mfcc_ense_train = mfcc_file_ense['mfcc_train']\n",
    "mfcc_ense_test =mfcc_file_ense['mfcc_test']\n",
    "y1_ense_train = mfcc_file_ense['y_train']\n",
    "y1_ense_test = mfcc_file_ense['y_test']\n",
    "model_mfcc = load_model(os.getcwd() + \"/Features2D/Model/Conv2D_mfcc.h5\")"
   ]
  },
  {
   "cell_type": "code",
   "execution_count": 100,
   "id": "7a4e7602",
   "metadata": {},
   "outputs": [],
   "source": [
    "mel_file_ense = np.load(os.getcwd() + \"/Features2D/npz_new/mel2_train_test.npz\")\n",
    "mel_ense_train = mel_file_ense['mel_train']\n",
    "mel_ense_test =mel_file_ense['mel_test']\n",
    "y_ense_train = mel_file_ense['y_train']\n",
    "y_ense_test = mel_file_ense['y_test']\n",
    "model_mel = load_model(os.getcwd() + \"/Features2D/Model/Conv2D_mel.h5\")"
   ]
  },
  {
   "cell_type": "code",
   "execution_count": 101,
   "id": "227bfa6b",
   "metadata": {},
   "outputs": [],
   "source": [
    "# Feature Scaling\n",
    "mfcc_ense_train_scaled = (mfcc_ense_train - np.mean(mfcc_ense_train))/np.std(mfcc_ense_train)\n",
    "spec_ense_train_scaled = spec_ense_train / np.amax(spec_ense_train)\n",
    "mel_ense_train_scaled = (mel_ense_train - np.mean(mel_ense_train))/np.std(mel_ense_train)\n",
    "\n",
    "mfcc_ense_test_scaled = (mfcc_ense_test - np.mean(mfcc_ense_test))/np.std(mfcc_ense_test)\n",
    "spec_ense_test_scaled = spec_ense_test / np.amax(spec_ense_test)\n",
    "mel_ense_test_scaled = (mel_ense_test - np.mean(mel_ense_test))/np.std(mfcc_ense_test)\n",
    "\n",
    "\n",
    "# Reshape the data\n",
    "N,row,col = mfcc_ense_train_scaled.shape\n",
    "mfcc_ense_train_reshaped = mfcc_ense_train_scaled.reshape((N,row,col,1))\n",
    "N,row,col = spec_ense_train_scaled.shape\n",
    "spec_ense_train_reshaped = spec_ense_train_scaled.reshape((N,row,col,1))\n",
    "N,row,col = mel_ense_train_scaled.shape\n",
    "mel_ense_train_reshaped = mel_ense_train_scaled.reshape((N,row,col,1))\n",
    "\n",
    "N,row,col = mfcc_ense_test_scaled.shape\n",
    "mfcc_ense_test_reshaped = mfcc_ense_test_scaled.reshape((N,row,col,1))\n",
    "N,row,col = spec_ense_test_scaled.shape\n",
    "spec_ense_test_reshaped = spec_ense_test_scaled.reshape((N,row,col,1))\n",
    "N,row,col = mel_ense_test_scaled.shape\n",
    "mel_ense_test_reshaped = mel_ense_test_scaled.reshape((N,row,col,1))"
   ]
  },
  {
   "cell_type": "code",
   "execution_count": 102,
   "id": "04894359",
   "metadata": {},
   "outputs": [],
   "source": [
    "def get_majority(pred) :\n",
    "    N = len(pred[0])\n",
    "    vote = []\n",
    "    for i in range(N) :\n",
    "        elements = [j[i] for j in pred]\n",
    "        elements = np.array(elements)\n",
    "        uniq, freq = np.unique(elements, return_counts= True)\n",
    "        vote.append(uniq[np.argmax(freq)])\n",
    "    \n",
    "    vote = np.array(vote)\n",
    "    return vote"
   ]
  },
  {
   "cell_type": "code",
   "execution_count": 113,
   "id": "d2af8729",
   "metadata": {},
   "outputs": [
    {
     "name": "stdout",
     "output_type": "stream",
     "text": [
      "12/12 [==============================] - 3s 238ms/step\n",
      "12/12 [==============================] - 2s 188ms/step\n",
      "12/12 [==============================] - 4s 256ms/step\n"
     ]
    }
   ],
   "source": [
    "# Train 3 models\n",
    "y_ense_prob1 = model_spec.predict(spec_ense_train_reshaped)\n",
    "y_ense_pred1 = np.argmax(y_ense_prob1, axis= -1)\n",
    "\n",
    "y_ense_prob2 = model_mfcc.predict(mfcc_ense_train_reshaped)\n",
    "y_ense_pred2 = np.argmax(y_ense_prob2, axis= -1)\n",
    "\n",
    "y_ense_prob3 = model_mel.predict(mel_ense_train_reshaped)\n",
    "y_ense_pred3 = np.argmax(y_ense_prob3, axis= -1)"
   ]
  },
  {
   "cell_type": "code",
   "execution_count": 114,
   "id": "d950deb1",
   "metadata": {},
   "outputs": [],
   "source": [
    "# 3 different predictions\n",
    "train_pred = [y_ense_pred1, y_ense_pred2, y_ense_pred3]"
   ]
  },
  {
   "cell_type": "code",
   "execution_count": 115,
   "id": "dc679b56",
   "metadata": {},
   "outputs": [],
   "source": [
    "y_train_pred = get_majority(train_pred)"
   ]
  },
  {
   "cell_type": "code",
   "execution_count": 116,
   "id": "b5d90b1b",
   "metadata": {},
   "outputs": [
    {
     "data": {
      "text/plain": [
       "0.9667"
      ]
     },
     "execution_count": 116,
     "metadata": {},
     "output_type": "execute_result"
    }
   ],
   "source": [
    "# Model Evaluation\n",
    "train_corr = len(y_train_pred) - np.count_nonzero(y_train_pred - y_ense_train)\n",
    "train_acc = np.round((train_corr/ len(y_train_pred)),4)\n",
    "train_acc"
   ]
  },
  {
   "cell_type": "code",
   "execution_count": 117,
   "id": "bd3637cc",
   "metadata": {},
   "outputs": [
    {
     "name": "stdout",
     "output_type": "stream",
     "text": [
      "2/2 [==============================] - 0s 71ms/step\n",
      "2/2 [==============================] - 0s 55ms/step\n",
      "2/2 [==============================] - 1s 267ms/step\n"
     ]
    }
   ],
   "source": [
    "# Test ensembled models\n",
    "y_test_prob1 = model_spec.predict(spec_ense_test_reshaped)\n",
    "y_test_pred1 = np.argmax(y_test_prob1, axis= -1)\n",
    "\n",
    "y_test_prob2 = model_mfcc.predict(mfcc_ense_test_reshaped)\n",
    "y_test_pred2 = np.argmax(y_test_prob2, axis= -1)\n",
    "\n",
    "y_test_prob3 = model_mel.predict(mel_ense_test_reshaped)\n",
    "y_test_pred3 = np.argmax(y_test_prob3, axis= -1)"
   ]
  },
  {
   "cell_type": "code",
   "execution_count": 118,
   "id": "7c4f3dfc",
   "metadata": {},
   "outputs": [],
   "source": [
    "test_pred = [y_test_pred1, y_test_pred2, y_test_pred3]"
   ]
  },
  {
   "cell_type": "code",
   "execution_count": 119,
   "id": "b1542c82",
   "metadata": {},
   "outputs": [],
   "source": [
    "y_test_pred = get_majority(test_pred)"
   ]
  },
  {
   "cell_type": "code",
   "execution_count": 120,
   "id": "27a0d193",
   "metadata": {},
   "outputs": [
    {
     "data": {
      "text/plain": [
       "0.8"
      ]
     },
     "execution_count": 120,
     "metadata": {},
     "output_type": "execute_result"
    }
   ],
   "source": [
    "# Model Evaluation\n",
    "test_corr = len(y_test_pred) - np.count_nonzero(y_test_pred - y_ense_test)\n",
    "test_acc = np.round((test_corr/ len(y_test_pred)),4)\n",
    "test_acc"
   ]
  },
  {
   "cell_type": "code",
   "execution_count": 121,
   "id": "ac31a9b3",
   "metadata": {},
   "outputs": [
    {
     "name": "stdout",
     "output_type": "stream",
     "text": [
      "              precision    recall  f1-score   support\n",
      "\n",
      "       Angry       0.67      1.00      0.80        10\n",
      "       Happy       0.91      1.00      0.95        10\n",
      "     Relaxed       0.86      0.60      0.71        10\n",
      "         Sad       0.86      0.60      0.71        10\n",
      "\n",
      "    accuracy                           0.80        40\n",
      "   macro avg       0.82      0.80      0.79        40\n",
      "weighted avg       0.82      0.80      0.79        40\n",
      "\n"
     ]
    },
    {
     "data": {
      "image/png": "[encoded data removed]",
      "text/plain": [
       "<Figure size 640x480 with 2 Axes>"
      ]
     },
     "metadata": {},
     "output_type": "display_data"
    }
   ],
   "source": [
    "# Confusion Matrix\n",
    "cm_ense = confusion_matrix(y_ense_test,y_test_pred)\n",
    "cm_display_ense = ConfusionMatrixDisplay(confusion_matrix = cm_ense, display_labels = ['Angry', 'Happy', 'Relaxed', 'Sad'])\n",
    "print(classification_report(y_ense_test, y_test_pred, target_names = ['Angry', 'Happy', 'Relaxed', 'Sad']))\n",
    "cm_display_ense.plot()\n",
    "plt.show()"
   ]
  },
  {
   "cell_type": "code",
   "execution_count": null,
   "id": "aa240803",
   "metadata": {},
   "outputs": [],
   "source": []
  }
 ],
 "metadata": {
  "kernelspec": {
   "display_name": "Python 3 (ipykernel)",
   "language": "python",
   "name": "python3"
  },
  "language_info": {
   "codemirror_mode": {
    "name": "ipython",
    "version": 3
   },
   "file_extension": ".py",
   "mimetype": "text/x-python",
   "name": "python",
   "nbconvert_exporter": "python",
   "pygments_lexer": "ipython3",
   "version": "3.10.9"
  }
 },
 "nbformat": 4,
 "nbformat_minor": 5
}
