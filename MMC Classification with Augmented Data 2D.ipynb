{
 "cells": [
  {
   "cell_type": "code",
   "execution_count": 1,
   "id": "467ed1d0",
   "metadata": {},
   "outputs": [],
   "source": [
    "import warnings\n",
    "warnings.filterwarnings(\"ignore\")"
   ]
  },
  {
   "cell_type": "code",
   "execution_count": 2,
   "id": "5d9be511",
   "metadata": {},
   "outputs": [
    {
     "name": "stderr",
     "output_type": "stream",
     "text": [
      "2023-06-21 12:41:19.468627: I tensorflow/core/platform/cpu_feature_guard.cc:182] This TensorFlow binary is optimized to use available CPU instructions in performance-critical operations.\n",
      "To enable the following instructions: AVX2 FMA, in other operations, rebuild TensorFlow with the appropriate compiler flags.\n"
     ]
    }
   ],
   "source": [
    "import os\n",
    "import cv2\n",
    "import numpy as np\n",
    "import pandas as pd\n",
    "\n",
    "from sklearn.model_selection import train_test_split \n",
    "import tensorflow as tf\n",
    "from tensorflow.keras.models import Sequential, load_model\n",
    "from tensorflow.keras.layers import Conv2D, MaxPooling2D,BatchNormalization, Dense, Dropout, Flatten\n",
    "from tensorflow.keras.optimizers import Adam\n",
    "\n",
    "import matplotlib.pyplot as plt\n",
    "\n",
    "from sklearn.metrics import accuracy_score, confusion_matrix, classification_report, ConfusionMatrixDisplay"
   ]
  },
  {
   "cell_type": "code",
   "execution_count": 3,
   "id": "4631b1c8",
   "metadata": {},
   "outputs": [],
   "source": [
    "f = np.load(\"Features2D/npz/Features2.npz\")\n",
    "f_noise = np.load(\"Features2D/npz/Features_noise.npz\")\n",
    "f_shift = np.load(\"Features2D/npz/Features_shift.npz\")"
   ]
  },
  {
   "cell_type": "code",
   "execution_count": 4,
   "id": "db963bab",
   "metadata": {},
   "outputs": [],
   "source": [
    "spec = f['spec'] #(400,1025,1099)\n",
    "mfcc = f['mfcc'] #(400,20,1099)\n",
    "mel = f['mel']#(400,128,1099)\n",
    "y = f['target']"
   ]
  },
  {
   "cell_type": "code",
   "execution_count": 5,
   "id": "54482a18",
   "metadata": {},
   "outputs": [],
   "source": [
    "spec_noise = f_noise['spec'] #(400,1025,1099)\n",
    "mfcc_noise = f_noise['mfcc'] #(400,20,1099)\n",
    "mel_noise = f_noise['mel']#(400,128,1099)\n",
    "y_noise = f_noise['target']"
   ]
  },
  {
   "cell_type": "code",
   "execution_count": 6,
   "id": "57eac514",
   "metadata": {},
   "outputs": [],
   "source": [
    "spec_shift = f_shift['spec'] #(400,1025,1099)\n",
    "mfcc_shift = f_shift['mfcc'] #(400,20,1099)\n",
    "mel_shift = f_shift['mel']#(400,128,1099)\n",
    "y_shift = f_shift['target']"
   ]
  },
  {
   "cell_type": "markdown",
   "id": "d9448b9d",
   "metadata": {},
   "source": [
    "## 3. Data Preprocessing\n",
    "### 3.1 Resize the data"
   ]
  },
  {
   "cell_type": "code",
   "execution_count": 7,
   "id": "b0a48043",
   "metadata": {},
   "outputs": [],
   "source": [
    "mfcc_resized = np.empty((400, 120, 600))\n",
    "mfcc_noise_resized = np.empty((400, 120, 600))\n",
    "mfcc_shift_resized = np.empty((400, 120, 600))\n",
    "\n",
    "for i in range(0,400):\n",
    "    mfcc_resized[i] = cv2.resize(mfcc[i],(600,120))\n",
    "    mfcc_noise_resized[i] = cv2.resize(mfcc_noise[i],(600,120))\n",
    "    mfcc_shift_resized[i] = cv2.resize(mfcc_shift[i],(600,120))"
   ]
  },
  {
   "cell_type": "code",
   "execution_count": 8,
   "id": "3fa96a8a",
   "metadata": {},
   "outputs": [],
   "source": [
    "spec_resized = np.empty((400, 200, 200))\n",
    "spec_noise_resized = np.empty((400, 200, 200))\n",
    "spec_shift_resized = np.empty((400, 200, 200))\n",
    "\n",
    "for i in range(0,400):\n",
    "    spec_resized[i] = cv2.resize(spec[i],(200,200))\n",
    "    spec_noise_resized[i] = cv2.resize(spec_noise[i],(200,200))\n",
    "    spec_shift_resized[i] = cv2.resize(spec_shift[i],(200,200))"
   ]
  },
  {
   "cell_type": "code",
   "execution_count": 9,
   "id": "d782e4ae",
   "metadata": {},
   "outputs": [],
   "source": [
    "mel_resized = np.empty((400, 300, 400))\n",
    "mel_noise_resized = np.empty((400, 300, 400))\n",
    "mel_shift_resized = np.empty((400, 300, 400))\n",
    "\n",
    "for i in range(0,400):\n",
    "    mel_resized[i] = cv2.resize(mel[i],(400,300))\n",
    "    mel_noise_resized[i] = cv2.resize(mel_noise[i],(400,300))\n",
    "    mel_shift_resized[i] = cv2.resize(mel_shift[i],(400,300))"
   ]
  },
  {
   "cell_type": "markdown",
   "id": "fe37f7e2",
   "metadata": {},
   "source": [
    "### 3.2 Train Test Split"
   ]
  },
  {
   "cell_type": "code",
   "execution_count": 10,
   "id": "184ed362",
   "metadata": {},
   "outputs": [],
   "source": [
    "mfcc0_train,mfcc_test,y0_train,y_test = train_test_split(mfcc_resized,y, \n",
    "                                                         train_size = 0.7, \n",
    "                                                         random_state = 13, \n",
    "                                                         stratify= y)\n",
    "mfcc_train_agumented = np.concatenate((mfcc0_train,mfcc_noise_resized,mfcc_shift_resized))\n",
    "y1_train_agumented = np.concatenate((y0_train,y_noise,y_shift))"
   ]
  },
  {
   "cell_type": "code",
   "execution_count": 11,
   "id": "a7c14703",
   "metadata": {},
   "outputs": [],
   "source": [
    "spec0_train,spec_test,y0_train,y_test = train_test_split(spec_resized,y, \n",
    "                                                   train_size = 0.7, \n",
    "                                                   random_state = 13, \n",
    "                                                   stratify= y)\n",
    "spec_train_agumented = np.concatenate((spec0_train,spec_noise_resized,spec_shift_resized))\n",
    "y2_train_agumented = np.concatenate((y0_train,y_noise,y_shift))"
   ]
  },
  {
   "cell_type": "code",
   "execution_count": 12,
   "id": "d08ead48",
   "metadata": {},
   "outputs": [],
   "source": [
    "mel0_train,mel_test,y0_train,y_test = train_test_split(mel_resized,y, \n",
    "                                                       train_size = 0.7, \n",
    "                                                       random_state = 13, \n",
    "                                                       stratify= y)\n",
    "mel_train_agumented = np.concatenate((mel0_train,mel_noise_resized,mel_shift_resized))\n",
    "y3_train_agumented = np.concatenate((y0_train,y_noise,y_shift))"
   ]
  },
  {
   "cell_type": "code",
   "execution_count": 13,
   "id": "d7aebd72",
   "metadata": {},
   "outputs": [],
   "source": [
    "np.savez_compressed(\"Features2D/npz_new/mfcc_train_test_agumented.npz\",\n",
    "                    mfcc_train = mfcc_train_agumented, \n",
    "                    mfcc_test = mfcc_test, \n",
    "                    y_train = y1_train_agumented, \n",
    "                    y_test = y_test)"
   ]
  },
  {
   "cell_type": "code",
   "execution_count": 14,
   "id": "caa7a683",
   "metadata": {},
   "outputs": [],
   "source": [
    "np.savez_compressed(\"Features2D/npz_new/spec_train_test_agumented.npz\",\n",
    "                    spec_train = spec_train_agumented, \n",
    "                    spec_test = spec_test, \n",
    "                    y_train = y2_train_agumented, \n",
    "                    y_test = y_test)"
   ]
  },
  {
   "cell_type": "code",
   "execution_count": 15,
   "id": "2822e3c8",
   "metadata": {},
   "outputs": [],
   "source": [
    "np.savez_compressed(\"Features2D/npz_new/mel_train_test_agumented.npz\",\n",
    "                    mel_train = mel_train_agumented, \n",
    "                    mel_test = mel_test, \n",
    "                    y_train = y3_train_agumented, \n",
    "                    y_test = y_test)"
   ]
  },
  {
   "cell_type": "markdown",
   "id": "adb83584",
   "metadata": {},
   "source": [
    "### 3.2 Feature Scaling"
   ]
  },
  {
   "cell_type": "code",
   "execution_count": 16,
   "id": "9a40b74c",
   "metadata": {},
   "outputs": [],
   "source": [
    "spec_scaled = spec_resized / np.amax(spec_resized)\n",
    "mfcc_scaled = (mfcc_resized - np.mean(mfcc_resized))/np.std(mfcc_resized)\n",
    "mel_scaled = mel_resized / np.amax(mel_resized)\n",
    "\n",
    "spec_noise_scaled = spec_noise_resized / np.amax(spec_noise_resized)\n",
    "mfcc_noise_scaled = (mfcc_noise_resized - np.mean(mfcc_noise_resized))/np.std(mfcc_noise_resized)\n",
    "mel_noise_scaled = mel_noise_resized / np.amax(mel_noise_resized)\n",
    "\n",
    "spec_shift_scaled = spec_shift_resized / np.amax(spec_shift_resized)\n",
    "mfcc_shift_scaled = (mfcc_shift_resized - np.mean(mfcc_shift_resized))/np.std(mfcc_shift_resized)\n",
    "mel_shift_scaled = mel_shift_resized / np.amax(mel_shift_resized)"
   ]
  },
  {
   "cell_type": "markdown",
   "id": "158f5626",
   "metadata": {},
   "source": [
    "### 3.3. Reshape Data"
   ]
  },
  {
   "cell_type": "code",
   "execution_count": 17,
   "id": "095ac704",
   "metadata": {},
   "outputs": [],
   "source": [
    "N,row,col = mfcc_scaled.shape\n",
    "mfcc_reshaped = mfcc_scaled.reshape((N,row,col,1))\n",
    "N,row,col = mfcc_noise_scaled.shape\n",
    "mfcc_noise_reshaped = mfcc_noise_scaled.reshape((N,row,col,1))\n",
    "N,row,col = mfcc_shift_scaled.shape\n",
    "mfcc_shift_reshaped = mfcc_shift_scaled.reshape((N,row,col,1))"
   ]
  },
  {
   "cell_type": "code",
   "execution_count": 18,
   "id": "3050cd2c",
   "metadata": {},
   "outputs": [],
   "source": [
    "N,row,col = spec_scaled.shape\n",
    "spec_reshaped = spec_scaled.reshape((N,row,col,1))\n",
    "N,row,col = spec_noise_scaled.shape\n",
    "spec_noise_reshaped = spec_noise_scaled.reshape((N,row,col,1))\n",
    "N,row,col = spec_shift_scaled.shape\n",
    "spec_shift_reshaped = spec_shift_scaled.reshape((N,row,col,1))"
   ]
  },
  {
   "cell_type": "code",
   "execution_count": 19,
   "id": "b3c57cc2",
   "metadata": {},
   "outputs": [],
   "source": [
    "N,row,col = mel_scaled.shape\n",
    "mel_reshaped = mel_scaled.reshape((N,row,col,1))\n",
    "N,row,col = mel_noise_scaled.shape\n",
    "mel_noise_reshaped = mel_noise_scaled.reshape((N,row,col,1))\n",
    "N,row,col = mel_shift_scaled.shape\n",
    "mel_shift_reshaped = mel_shift_scaled.reshape((N,row,col,1))"
   ]
  },
  {
   "cell_type": "markdown",
   "id": "16e372df",
   "metadata": {},
   "source": [
    "## 4. Classification"
   ]
  },
  {
   "cell_type": "code",
   "execution_count": 20,
   "id": "a6ed8c63",
   "metadata": {},
   "outputs": [],
   "source": [
    "# Train the model\n",
    "def modelBuilder3L(X_train,\n",
    "                   f1,k1,a1,\n",
    "                   mr1,mc1,sr1,sc1,\n",
    "                   f2,k2,a2,\n",
    "                   mr2,mc2,sr2,sc2,\n",
    "                   f3,k3,a3,\n",
    "                   mr3,m3,sr3,sc3,\n",
    "                   d1,dr1,da1,r1,\n",
    "                   d2,dr2,da2,r2,\n",
    "                   num):\n",
    "    \n",
    "    '''\n",
    "    args:\n",
    "    \n",
    "    X_train: training data\n",
    "    f1,k1,a1: num of filters, filter size and activation func of 1st conv2D layer\n",
    "    mr1,mc1,sr1,sc1: filter size and strides of 1st MaxPooling2D layer\n",
    "    f2,k2,a2: num of filters, filter size and activation func of 2nd conv2D layer\n",
    "    mr2,mc2,sr2,sc2: filter size and strides of 2nd MaxPooling2D layer\n",
    "    f3,k3,a3: num of filters, filter size and activation func of 3rd conv2D layer\n",
    "    mr3,sc3,sr3,sc3: filter size and strides of 3rd MaxPooling2D layer\n",
    "    d1,dr1,da1, r1: num of units, dropout, activation func and regularizer para of 1st fully connected layer\n",
    "    d2,dr2,da2, r2: num of units, dropout, activation func and regularizer para of 2nd fully connected layer\n",
    "    num: integer for distinguishing different model\n",
    "    \n",
    "    return:\n",
    "    model\n",
    "    \n",
    "    '''\n",
    "    \n",
    "    N,row,col,Nc = X_train.shape\n",
    "    \n",
    "    model = Sequential(name = \"CNN2D_\"+str(num))\n",
    "    #L1\n",
    "    model.add(Conv2D(f1,(k1,k1),activation = a1,input_shape = (row,col,Nc), padding = 'same', name = 'Conv2D_1'))\n",
    "    model.add(MaxPooling2D((mw1,mh1), strides = (sw1,sh1), padding = 'same', name = 'MaxPooling2D_1'))\n",
    "    model.add(BatchNormalization(name = \"BN1\"))\n",
    "    \n",
    "    #L2\n",
    "    model.add(Conv2D(f2,(k2,k2), activation = a2, padding = 'same',name = 'Conv2D_2'))\n",
    "    model.add(MaxPooling2D((mw2,mh2),strides = (sw2,sh2), padding = 'same', name = 'MaxPooling2D_2'))\n",
    "    model.add(BatchNormalization(name = \"BN2\"))\n",
    "\n",
    "    #L3\n",
    "    model.add(Conv2D(f3,(k3,k3), activation = a3, padding = 'same',name = 'Conv2D_3'))\n",
    "    model.add(MaxPooling2D((mw3,mh3), strides = (sw3,sh3), padding = 'same', name = 'MaxPooling2D_3'))\n",
    "    model.add(BatchNormalization(name = \"BN3\"))\n",
    "   \n",
    "    #Flatten layer\n",
    "    model.add(Flatten(name = 'Flatten'))\n",
    "    #FC4\n",
    "    model.add(Dense(d1, activation = da1, kernel_regularizer = tf.keras.regularizers.L2(r1), name='Dense1'))\n",
    "    model.add(Dropout(dr1, name = \"Dropout1\"))\n",
    "    #FC5\n",
    "    model.add(Dense(d2, activation = da2, kernel_regularizer = tf.keras.regularizers.L2(r2), name='Dense2'))\n",
    "    model.add(Dropout(dr2, name = \"Dropout2\"))\n",
    "    #Softmax layer\n",
    "    model.add(Dense(4, activation ='softmax', name='Softmax'))\n",
    "\n",
    "    optimizer = Adam(learning_rate=0.0001)\n",
    "    model.compile(optimizer= optimizer, loss= 'sparse_categorical_crossentropy', metrics=['accuracy'])\n",
    "\n",
    "    model.summary()\n",
    "    \n",
    "    return model"
   ]
  },
  {
   "cell_type": "markdown",
   "id": "14441af7",
   "metadata": {},
   "source": [
    "### 4.1 MFCC"
   ]
  },
  {
   "cell_type": "code",
   "execution_count": 21,
   "id": "87351dfe",
   "metadata": {},
   "outputs": [],
   "source": [
    "# Load MFCC data set\n",
    "mfcc_file = np.load(\"Features2D/npz_new/mfcc_train_test_agumented.npz\")\n",
    "\n",
    "mfcc_train = mfcc_file['mfcc_train']\n",
    "y1_train = mfcc_file['y_train']\n",
    "\n",
    "# validation set\n",
    "mfcc_train,mfcc_val,y1_train,y1_val = train_test_split(mfcc_train,y1_train, \n",
    "                                                       train_size = 0.8,  \n",
    "                                                       random_state = 13, \n",
    "                                                       stratify= y1_train)"
   ]
  },
  {
   "cell_type": "code",
   "execution_count": 22,
   "id": "a4f24a0c",
   "metadata": {},
   "outputs": [],
   "source": [
    "# Feature Scaling\n",
    "mfcc_train_scaled = (mfcc_train - np.mean(mfcc_train))/np.std(mfcc_train)\n",
    "mfcc_val_scaled = (mfcc_val - np.mean(mfcc_val))/np.std(mfcc_val)"
   ]
  },
  {
   "cell_type": "code",
   "execution_count": 23,
   "id": "064762a7",
   "metadata": {},
   "outputs": [],
   "source": [
    "# Reshape the data\n",
    "N,row,col = mfcc_train_scaled.shape\n",
    "mfcc_train_reshaped = mfcc_train_scaled.reshape((N,row,col,1))\n",
    "N,row,col = mfcc_val_scaled.shape\n",
    "mfcc_val_reshaped = mfcc_val_scaled.reshape((N,row,col,1))"
   ]
  },
  {
   "cell_type": "code",
   "execution_count": 24,
   "id": "52bd0099",
   "metadata": {
    "scrolled": true
   },
   "outputs": [
    {
     "name": "stdout",
     "output_type": "stream",
     "text": [
      "Model: \"CNN2D_1\"\n",
      "_________________________________________________________________\n",
      " Layer (type)                Output Shape              Param #   \n",
      "=================================================================\n",
      " Conv2D_1 (Conv2D)           (None, 120, 600, 8)       80        \n",
      "                                                                 \n",
      " MaxPooling2D_1 (MaxPooling2  (None, 60, 300, 8)       0         \n",
      " D)                                                              \n",
      "                                                                 \n",
      " BN1 (BatchNormalization)    (None, 60, 300, 8)        32        \n",
      "                                                                 \n",
      " Conv2D_2 (Conv2D)           (None, 60, 300, 8)        584       \n",
      "                                                                 \n",
      " MaxPooling2D_2 (MaxPooling2  (None, 30, 150, 8)       0         \n",
      " D)                                                              \n",
      "                                                                 \n",
      " BN2 (BatchNormalization)    (None, 30, 150, 8)        32        \n",
      "                                                                 \n",
      " Conv2D_3 (Conv2D)           (None, 30, 150, 16)       1168      \n",
      "                                                                 \n",
      " MaxPooling2D_3 (MaxPooling2  (None, 15, 75, 16)       0         \n",
      " D)                                                              \n",
      "                                                                 \n",
      " BN3 (BatchNormalization)    (None, 15, 75, 16)        64        \n",
      "                                                                 \n",
      " Flatten (Flatten)           (None, 18000)             0         \n",
      "                                                                 \n",
      " Dense1 (Dense)              (None, 64)                1152064   \n",
      "                                                                 \n",
      " Dropout1 (Dropout)          (None, 64)                0         \n",
      "                                                                 \n",
      " Dense2 (Dense)              (None, 32)                2080      \n",
      "                                                                 \n",
      " Dropout2 (Dropout)          (None, 32)                0         \n",
      "                                                                 \n",
      " Softmax (Dense)             (None, 4)                 132       \n",
      "                                                                 \n",
      "=================================================================\n",
      "Total params: 1,156,236\n",
      "Trainable params: 1,156,172\n",
      "Non-trainable params: 64\n",
      "_________________________________________________________________\n"
     ]
    }
   ],
   "source": [
    "f1,k1,a1 = 8,3,'relu'\n",
    "mw1,mh1,sw1,sh1 = 2,3,2,2\n",
    "f2,k2,a2 = 8,3,'relu'\n",
    "mw2,mh2,sw2,sh2 = 2,3,2,2\n",
    "f3,k3,a3 = 16,3,'relu'\n",
    "mw3,mh3,sw3,sh3 = 2,3,2,2\n",
    "d1,dr1,da1,r1 = 64,0.2,'relu',0.2\n",
    "d2,dr2,da2,r2 = 32,0.2,'relu',0.2\n",
    "num = 1\n",
    "\n",
    "model1 = modelBuilder3L(mfcc_train_reshaped,\n",
    "                        f1,k1,a1,\n",
    "                        mw1,mh1,sw1,sh1,\n",
    "                        f2,k2,a2,\n",
    "                        mw2,mh2,sw2,sh2,\n",
    "                        f3,k3,a3,\n",
    "                        mw3,mh3,sw3,sh3,\n",
    "                        d1,dr1,da1,r1,\n",
    "                        d2,dr2,da2,r2,\n",
    "                        num)"
   ]
  },
  {
   "cell_type": "code",
   "execution_count": 25,
   "id": "0fd0055a",
   "metadata": {
    "scrolled": true
   },
   "outputs": [
    {
     "name": "stdout",
     "output_type": "stream",
     "text": [
      "Epoch 1/80\n",
      "44/44 [==============================] - 25s 505ms/step - loss: 30.7412 - accuracy: 0.4792 - val_loss: 26.5305 - val_accuracy: 0.2500\n",
      "Epoch 2/80\n",
      "44/44 [==============================] - 22s 504ms/step - loss: 22.6687 - accuracy: 0.6516 - val_loss: 20.6962 - val_accuracy: 0.2500\n",
      "Epoch 3/80\n",
      "44/44 [==============================] - 15s 339ms/step - loss: 17.4487 - accuracy: 0.7373 - val_loss: 17.1448 - val_accuracy: 0.2500\n",
      "Epoch 4/80\n",
      "44/44 [==============================] - 17s 380ms/step - loss: 14.0572 - accuracy: 0.7824 - val_loss: 15.5915 - val_accuracy: 0.2500\n",
      "Epoch 5/80\n",
      "44/44 [==============================] - 15s 341ms/step - loss: 11.8365 - accuracy: 0.8322 - val_loss: 15.1725 - val_accuracy: 0.2500\n",
      "Epoch 6/80\n",
      "44/44 [==============================] - 16s 364ms/step - loss: 10.2750 - accuracy: 0.8669 - val_loss: 13.0728 - val_accuracy: 0.2500\n",
      "Epoch 7/80\n",
      "44/44 [==============================] - 14s 328ms/step - loss: 9.1167 - accuracy: 0.8854 - val_loss: 11.5405 - val_accuracy: 0.2593\n",
      "Epoch 8/80\n",
      "44/44 [==============================] - 14s 317ms/step - loss: 8.2577 - accuracy: 0.9016 - val_loss: 9.5723 - val_accuracy: 0.2824\n",
      "Epoch 9/80\n",
      "44/44 [==============================] - 14s 325ms/step - loss: 7.5815 - accuracy: 0.9005 - val_loss: 8.8075 - val_accuracy: 0.3565\n",
      "Epoch 10/80\n",
      "44/44 [==============================] - 15s 334ms/step - loss: 7.0057 - accuracy: 0.9306 - val_loss: 7.1417 - val_accuracy: 0.7500\n",
      "Epoch 11/80\n",
      "44/44 [==============================] - 16s 355ms/step - loss: 6.4805 - accuracy: 0.9456 - val_loss: 6.7306 - val_accuracy: 0.7269\n",
      "Epoch 12/80\n",
      "44/44 [==============================] - 14s 323ms/step - loss: 6.0554 - accuracy: 0.9398 - val_loss: 6.3083 - val_accuracy: 0.7222\n",
      "Epoch 13/80\n",
      "44/44 [==============================] - 14s 308ms/step - loss: 5.6616 - accuracy: 0.9502 - val_loss: 5.7010 - val_accuracy: 0.8380\n",
      "Epoch 14/80\n",
      "44/44 [==============================] - 15s 349ms/step - loss: 5.3348 - accuracy: 0.9514 - val_loss: 5.4314 - val_accuracy: 0.8241\n",
      "Epoch 15/80\n",
      "44/44 [==============================] - 14s 327ms/step - loss: 5.0075 - accuracy: 0.9618 - val_loss: 5.0973 - val_accuracy: 0.8472\n",
      "Epoch 16/80\n",
      "44/44 [==============================] - 14s 326ms/step - loss: 4.7288 - accuracy: 0.9664 - val_loss: 4.8637 - val_accuracy: 0.8148\n",
      "Epoch 17/80\n",
      "44/44 [==============================] - 15s 349ms/step - loss: 4.4546 - accuracy: 0.9676 - val_loss: 4.5704 - val_accuracy: 0.8565\n",
      "Epoch 18/80\n",
      "44/44 [==============================] - 17s 375ms/step - loss: 4.2093 - accuracy: 0.9664 - val_loss: 4.3592 - val_accuracy: 0.8287\n",
      "Epoch 19/80\n",
      "44/44 [==============================] - 14s 322ms/step - loss: 3.9722 - accuracy: 0.9711 - val_loss: 4.1041 - val_accuracy: 0.8611\n",
      "Epoch 20/80\n",
      "44/44 [==============================] - 15s 336ms/step - loss: 3.7523 - accuracy: 0.9722 - val_loss: 3.9001 - val_accuracy: 0.8380\n",
      "Epoch 21/80\n",
      "44/44 [==============================] - 14s 320ms/step - loss: 3.6308 - accuracy: 0.9479 - val_loss: 3.7840 - val_accuracy: 0.8380\n",
      "Epoch 22/80\n",
      "44/44 [==============================] - 14s 312ms/step - loss: 3.3982 - accuracy: 0.9757 - val_loss: 3.5692 - val_accuracy: 0.8519\n",
      "Epoch 23/80\n",
      "44/44 [==============================] - 14s 324ms/step - loss: 3.1957 - accuracy: 0.9769 - val_loss: 3.3822 - val_accuracy: 0.8472\n",
      "Epoch 24/80\n",
      "44/44 [==============================] - 14s 317ms/step - loss: 3.0607 - accuracy: 0.9722 - val_loss: 3.2097 - val_accuracy: 0.8611\n",
      "Epoch 25/80\n",
      "44/44 [==============================] - 14s 317ms/step - loss: 2.8821 - accuracy: 0.9699 - val_loss: 3.0697 - val_accuracy: 0.8426\n",
      "Epoch 26/80\n",
      "44/44 [==============================] - 15s 332ms/step - loss: 2.7198 - accuracy: 0.9815 - val_loss: 2.9446 - val_accuracy: 0.8519\n",
      "Epoch 27/80\n",
      "44/44 [==============================] - 14s 313ms/step - loss: 2.5618 - accuracy: 0.9780 - val_loss: 2.7465 - val_accuracy: 0.8565\n",
      "Epoch 28/80\n",
      "44/44 [==============================] - 16s 354ms/step - loss: 2.4241 - accuracy: 0.9711 - val_loss: 2.5950 - val_accuracy: 0.8611\n",
      "Epoch 29/80\n",
      "44/44 [==============================] - 15s 333ms/step - loss: 2.2943 - accuracy: 0.9803 - val_loss: 2.4860 - val_accuracy: 0.8519\n",
      "Epoch 30/80\n",
      "44/44 [==============================] - 15s 328ms/step - loss: 2.1834 - accuracy: 0.9826 - val_loss: 2.3709 - val_accuracy: 0.8657\n",
      "Epoch 31/80\n",
      "44/44 [==============================] - 15s 342ms/step - loss: 2.0808 - accuracy: 0.9803 - val_loss: 2.3280 - val_accuracy: 0.8380\n",
      "Epoch 32/80\n",
      "44/44 [==============================] - 14s 321ms/step - loss: 1.9731 - accuracy: 0.9815 - val_loss: 2.1595 - val_accuracy: 0.8704\n",
      "Epoch 33/80\n",
      "44/44 [==============================] - 15s 328ms/step - loss: 1.8911 - accuracy: 0.9780 - val_loss: 2.1115 - val_accuracy: 0.8333\n",
      "Epoch 34/80\n",
      "44/44 [==============================] - 13s 295ms/step - loss: 1.7604 - accuracy: 0.9873 - val_loss: 1.9629 - val_accuracy: 0.8565\n",
      "Epoch 35/80\n",
      "44/44 [==============================] - 14s 327ms/step - loss: 1.6999 - accuracy: 0.9745 - val_loss: 1.9339 - val_accuracy: 0.8333\n",
      "Epoch 36/80\n",
      "44/44 [==============================] - 15s 348ms/step - loss: 1.5875 - accuracy: 0.9850 - val_loss: 1.8223 - val_accuracy: 0.8426\n",
      "Epoch 37/80\n",
      "44/44 [==============================] - 15s 343ms/step - loss: 1.5220 - accuracy: 0.9815 - val_loss: 1.7206 - val_accuracy: 0.8611\n",
      "Epoch 38/80\n",
      "44/44 [==============================] - 15s 334ms/step - loss: 1.4419 - accuracy: 0.9792 - val_loss: 1.6557 - val_accuracy: 0.8565\n",
      "Epoch 39/80\n",
      "44/44 [==============================] - 14s 315ms/step - loss: 1.3871 - accuracy: 0.9676 - val_loss: 1.6055 - val_accuracy: 0.8565\n",
      "Epoch 40/80\n",
      "44/44 [==============================] - 14s 328ms/step - loss: 1.2989 - accuracy: 0.9815 - val_loss: 1.5038 - val_accuracy: 0.8750\n",
      "Epoch 41/80\n",
      "44/44 [==============================] - 15s 345ms/step - loss: 1.2506 - accuracy: 0.9803 - val_loss: 1.4655 - val_accuracy: 0.8657\n",
      "Epoch 42/80\n",
      "44/44 [==============================] - 13s 306ms/step - loss: 1.1980 - accuracy: 0.9745 - val_loss: 1.4036 - val_accuracy: 0.8611\n",
      "Epoch 43/80\n",
      "44/44 [==============================] - 14s 323ms/step - loss: 1.1347 - accuracy: 0.9850 - val_loss: 1.3558 - val_accuracy: 0.8519\n",
      "Epoch 44/80\n",
      "44/44 [==============================] - 14s 317ms/step - loss: 1.0737 - accuracy: 0.9792 - val_loss: 1.2933 - val_accuracy: 0.8565\n",
      "Epoch 45/80\n",
      "44/44 [==============================] - 13s 292ms/step - loss: 1.0258 - accuracy: 0.9850 - val_loss: 1.2271 - val_accuracy: 0.8750\n",
      "Epoch 46/80\n",
      "44/44 [==============================] - 13s 293ms/step - loss: 0.9678 - accuracy: 0.9907 - val_loss: 1.2261 - val_accuracy: 0.8565\n",
      "Epoch 47/80\n",
      "44/44 [==============================] - 13s 300ms/step - loss: 0.9505 - accuracy: 0.9815 - val_loss: 1.1895 - val_accuracy: 0.8519\n",
      "Epoch 48/80\n",
      "44/44 [==============================] - 13s 293ms/step - loss: 0.9179 - accuracy: 0.9780 - val_loss: 1.1388 - val_accuracy: 0.8657\n",
      "Epoch 49/80\n",
      "44/44 [==============================] - 14s 311ms/step - loss: 0.8879 - accuracy: 0.9850 - val_loss: 1.1021 - val_accuracy: 0.8565\n",
      "Epoch 50/80\n",
      "44/44 [==============================] - 15s 350ms/step - loss: 0.8425 - accuracy: 0.9803 - val_loss: 1.0477 - val_accuracy: 0.8843\n",
      "Epoch 51/80\n",
      "44/44 [==============================] - 14s 329ms/step - loss: 0.8068 - accuracy: 0.9838 - val_loss: 1.0925 - val_accuracy: 0.8380\n",
      "Epoch 52/80\n",
      "44/44 [==============================] - 14s 315ms/step - loss: 0.7686 - accuracy: 0.9815 - val_loss: 0.9868 - val_accuracy: 0.8843\n",
      "Epoch 53/80\n",
      "44/44 [==============================] - 14s 329ms/step - loss: 0.7234 - accuracy: 0.9873 - val_loss: 0.9730 - val_accuracy: 0.8472\n",
      "Epoch 54/80\n",
      "44/44 [==============================] - 14s 319ms/step - loss: 0.7180 - accuracy: 0.9838 - val_loss: 0.9008 - val_accuracy: 0.8796\n",
      "Epoch 55/80\n",
      "44/44 [==============================] - 14s 322ms/step - loss: 0.6721 - accuracy: 0.9838 - val_loss: 0.9894 - val_accuracy: 0.8380\n",
      "Epoch 56/80\n",
      "44/44 [==============================] - 14s 322ms/step - loss: 0.6648 - accuracy: 0.9803 - val_loss: 0.9310 - val_accuracy: 0.8611\n",
      "Epoch 57/80\n",
      "44/44 [==============================] - 14s 317ms/step - loss: 0.6394 - accuracy: 0.9826 - val_loss: 0.8877 - val_accuracy: 0.8472\n",
      "Epoch 58/80\n",
      "44/44 [==============================] - 14s 312ms/step - loss: 0.6081 - accuracy: 0.9873 - val_loss: 0.8135 - val_accuracy: 0.8796\n",
      "Epoch 59/80\n",
      "44/44 [==============================] - 14s 326ms/step - loss: 0.5855 - accuracy: 0.9838 - val_loss: 0.8391 - val_accuracy: 0.8241\n",
      "Epoch 60/80\n",
      "44/44 [==============================] - 13s 302ms/step - loss: 0.5645 - accuracy: 0.9873 - val_loss: 0.8220 - val_accuracy: 0.8472\n",
      "Epoch 61/80\n",
      "44/44 [==============================] - 14s 322ms/step - loss: 0.5487 - accuracy: 0.9826 - val_loss: 0.7825 - val_accuracy: 0.8750\n",
      "Epoch 62/80\n",
      "44/44 [==============================] - 14s 326ms/step - loss: 0.5335 - accuracy: 0.9850 - val_loss: 0.7630 - val_accuracy: 0.8843\n",
      "Epoch 63/80\n",
      "44/44 [==============================] - 14s 323ms/step - loss: 0.5159 - accuracy: 0.9861 - val_loss: 0.7692 - val_accuracy: 0.8657\n",
      "Epoch 64/80\n",
      "44/44 [==============================] - 14s 319ms/step - loss: 0.5058 - accuracy: 0.9884 - val_loss: 0.7696 - val_accuracy: 0.8657\n",
      "Epoch 65/80\n",
      "44/44 [==============================] - 14s 313ms/step - loss: 0.4724 - accuracy: 0.9919 - val_loss: 0.7298 - val_accuracy: 0.8657\n",
      "Epoch 66/80\n",
      "44/44 [==============================] - 14s 316ms/step - loss: 0.4785 - accuracy: 0.9884 - val_loss: 0.7123 - val_accuracy: 0.8519\n",
      "Epoch 67/80\n",
      "44/44 [==============================] - 14s 310ms/step - loss: 0.4438 - accuracy: 0.9919 - val_loss: 0.6769 - val_accuracy: 0.8889\n",
      "Epoch 68/80\n",
      "44/44 [==============================] - 14s 324ms/step - loss: 0.4582 - accuracy: 0.9861 - val_loss: 0.6935 - val_accuracy: 0.8611\n",
      "Epoch 69/80\n",
      "44/44 [==============================] - 14s 319ms/step - loss: 0.4619 - accuracy: 0.9757 - val_loss: 0.7989 - val_accuracy: 0.8472\n",
      "Epoch 70/80\n",
      "44/44 [==============================] - 14s 313ms/step - loss: 0.4615 - accuracy: 0.9838 - val_loss: 0.7875 - val_accuracy: 0.8472\n",
      "Epoch 71/80\n",
      "44/44 [==============================] - 14s 322ms/step - loss: 0.4521 - accuracy: 0.9838 - val_loss: 0.7102 - val_accuracy: 0.8472\n",
      "Epoch 72/80\n",
      "44/44 [==============================] - 15s 334ms/step - loss: 0.4270 - accuracy: 0.9826 - val_loss: 0.7494 - val_accuracy: 0.8333\n",
      "Epoch 73/80\n",
      "44/44 [==============================] - 14s 309ms/step - loss: 0.4435 - accuracy: 0.9803 - val_loss: 0.6966 - val_accuracy: 0.8519\n",
      "Epoch 74/80\n",
      "44/44 [==============================] - 14s 315ms/step - loss: 0.4245 - accuracy: 0.9850 - val_loss: 0.7087 - val_accuracy: 0.8241\n",
      "Epoch 75/80\n",
      "44/44 [==============================] - 15s 331ms/step - loss: 0.4463 - accuracy: 0.9861 - val_loss: 0.7306 - val_accuracy: 0.8287\n",
      "Epoch 76/80\n",
      "44/44 [==============================] - 14s 318ms/step - loss: 0.4024 - accuracy: 0.9873 - val_loss: 0.6648 - val_accuracy: 0.8565\n",
      "Epoch 77/80\n",
      "44/44 [==============================] - 14s 318ms/step - loss: 0.3757 - accuracy: 0.9919 - val_loss: 0.6421 - val_accuracy: 0.8472\n",
      "Epoch 78/80\n",
      "44/44 [==============================] - 15s 331ms/step - loss: 0.3766 - accuracy: 0.9873 - val_loss: 0.5923 - val_accuracy: 0.8796\n",
      "Epoch 79/80\n",
      "44/44 [==============================] - 14s 329ms/step - loss: 0.3827 - accuracy: 0.9792 - val_loss: 0.6570 - val_accuracy: 0.8611\n",
      "Epoch 80/80\n",
      "44/44 [==============================] - 15s 343ms/step - loss: 0.4041 - accuracy: 0.9838 - val_loss: 0.6666 - val_accuracy: 0.8750\n"
     ]
    }
   ],
   "source": [
    "history1 = model1.fit(mfcc_train_reshaped,y1_train,validation_data=(mfcc_val_reshaped,y1_val),batch_size=20,epochs=80)"
   ]
  },
  {
   "cell_type": "code",
   "execution_count": 26,
   "id": "87ef3dbe",
   "metadata": {},
   "outputs": [],
   "source": [
    "model1.save(os.getcwd() + \"/Features2D/Model/Conv2D_mfcc_agumented.h5\")"
   ]
  },
  {
   "cell_type": "code",
   "execution_count": 27,
   "id": "54a70c0d",
   "metadata": {},
   "outputs": [
    {
     "data": {
      "text/plain": [
       "Text(0, 0.5, 'loss')"
      ]
     },
     "execution_count": 27,
     "metadata": {},
     "output_type": "execute_result"
    },
    {
     "data": {
      "image/png": "[encoded data removed]",
      "text/plain": [
       "<Figure size 1200x400 with 2 Axes>"
      ]
     },
     "metadata": {},
     "output_type": "display_data"
    }
   ],
   "source": [
    "# Train and Validation accuracy and loss\n",
    "f = plt.figure(figsize = (12,4))\n",
    "\n",
    "plt.subplot(1,2,1)\n",
    "plt.title('train validation accuracy')\n",
    "plt.plot(history1.history['accuracy'])\n",
    "plt.plot(history1.history['val_accuracy'])\n",
    "plt.legend(['train','validation'])\n",
    "plt.xlabel('epoch')\n",
    "plt.ylabel('accuracy')\n",
    "\n",
    "\n",
    "plt.subplot(1,2,2)\n",
    "plt.title('train validation loss')\n",
    "plt.plot(history1.history['loss'])\n",
    "plt.plot(history1.history['val_loss'])\n",
    "plt.legend(['train','validation'])\n",
    "plt.xlabel('epoch')\n",
    "plt.ylabel('loss')"
   ]
  },
  {
   "cell_type": "code",
   "execution_count": 28,
   "id": "1f2037e5",
   "metadata": {},
   "outputs": [],
   "source": [
    "mfcc_test = mfcc_file['mfcc_test']\n",
    "y_test_mfcc = mfcc_file['y_test']"
   ]
  },
  {
   "cell_type": "code",
   "execution_count": 29,
   "id": "86e7da56",
   "metadata": {},
   "outputs": [],
   "source": [
    "# Feature Scaling\n",
    "mfcc_test_scaled = (mfcc_test - np.mean(mfcc_test))/np.std(mfcc_test)\n",
    "# Reshape the data\n",
    "N,row,col = mfcc_test_scaled.shape\n",
    "mfcc_test_reshaped = mfcc_test_scaled.reshape((N,row,col,1))"
   ]
  },
  {
   "cell_type": "code",
   "execution_count": 30,
   "id": "b327d080",
   "metadata": {},
   "outputs": [
    {
     "name": "stdout",
     "output_type": "stream",
     "text": [
      "4/4 [==============================] - 1s 127ms/step\n"
     ]
    }
   ],
   "source": [
    "y1_prob = model1.predict(mfcc_test_reshaped)\n",
    "y1_pred = np.argmax(y1_prob, axis = -1)"
   ]
  },
  {
   "cell_type": "code",
   "execution_count": 31,
   "id": "ac44691f",
   "metadata": {},
   "outputs": [],
   "source": [
    "# Accuracy\n",
    "acc_mfcc = round(accuracy_score(y1_pred,y_test_mfcc),2)"
   ]
  },
  {
   "cell_type": "code",
   "execution_count": 32,
   "id": "ca5050e7",
   "metadata": {},
   "outputs": [
    {
     "name": "stdout",
     "output_type": "stream",
     "text": [
      "              precision    recall  f1-score   support\n",
      "\n",
      "       Angry       0.97      0.97      0.97        30\n",
      "       Happy       0.97      1.00      0.98        30\n",
      "     Relaxed       0.94      1.00      0.97        30\n",
      "         Sad       1.00      0.90      0.95        30\n",
      "\n",
      "    accuracy                           0.97       120\n",
      "   macro avg       0.97      0.97      0.97       120\n",
      "weighted avg       0.97      0.97      0.97       120\n",
      "\n"
     ]
    },
    {
     "data": {
      "image/png": "[encoded data removed]",
      "text/plain": [
       "<Figure size 640x480 with 2 Axes>"
      ]
     },
     "metadata": {},
     "output_type": "display_data"
    }
   ],
   "source": [
    "# Confusion Matrix\n",
    "cm_mfcc = confusion_matrix(y_test_mfcc,y1_pred)\n",
    "cm_display_mfcc = ConfusionMatrixDisplay(confusion_matrix = cm_mfcc, display_labels = ['Angry', 'Happy', 'Relaxed', 'Sad'])\n",
    "print(classification_report(y_test_mfcc, y1_pred, target_names = ['Angry', 'Happy', 'Relaxed', 'Sad']))\n",
    "cm_display_mfcc.plot()\n",
    "plt.show()"
   ]
  },
  {
   "cell_type": "markdown",
   "id": "7ca332de",
   "metadata": {},
   "source": [
    "### 4.2 Spectrogram "
   ]
  },
  {
   "cell_type": "code",
   "execution_count": 33,
   "id": "aee04d80",
   "metadata": {},
   "outputs": [],
   "source": [
    "# Load Spectrogram data set\n",
    "spec_file = np.load(\"Features2D/npz_new/spec_train_test_agumented.npz\")\n",
    "\n",
    "spec_train = spec_file['spec_train']\n",
    "y2_train = spec_file['y_train']\n",
    "\n",
    "spec_train,spec_val,y2_train,y2_val = train_test_split(spec_train,y2_train, \n",
    "                                                       train_size = 0.8,\n",
    "                                                       random_state = 13, \n",
    "                                                       stratify= y2_train)\n"
   ]
  },
  {
   "cell_type": "code",
   "execution_count": 34,
   "id": "0ebc91cf",
   "metadata": {},
   "outputs": [],
   "source": [
    "# Feature Scaling\n",
    "spec_train_scaled = spec_train / np.amax(spec_train)\n",
    "spec_val_scaled = spec_val / np.amax(spec_val)"
   ]
  },
  {
   "cell_type": "code",
   "execution_count": 35,
   "id": "5f1f4078",
   "metadata": {},
   "outputs": [],
   "source": [
    "# Reshape the data\n",
    "N,row,col = spec_train_scaled.shape\n",
    "spec_train_reshaped = spec_train_scaled.reshape((N,row,col,1))\n",
    "N,row,col = spec_val_scaled.shape\n",
    "spec_val_reshaped = spec_val_scaled.reshape((N,row,col,1))"
   ]
  },
  {
   "cell_type": "code",
   "execution_count": 36,
   "id": "e25a3e5e",
   "metadata": {
    "scrolled": true
   },
   "outputs": [
    {
     "name": "stdout",
     "output_type": "stream",
     "text": [
      "Model: \"CNN2D_2\"\n",
      "_________________________________________________________________\n",
      " Layer (type)                Output Shape              Param #   \n",
      "=================================================================\n",
      " Conv2D_1 (Conv2D)           (None, 200, 200, 8)       80        \n",
      "                                                                 \n",
      " MaxPooling2D_1 (MaxPooling2  (None, 100, 100, 8)      0         \n",
      " D)                                                              \n",
      "                                                                 \n",
      " BN1 (BatchNormalization)    (None, 100, 100, 8)       32        \n",
      "                                                                 \n",
      " Conv2D_2 (Conv2D)           (None, 100, 100, 8)       584       \n",
      "                                                                 \n",
      " MaxPooling2D_2 (MaxPooling2  (None, 50, 50, 8)        0         \n",
      " D)                                                              \n",
      "                                                                 \n",
      " BN2 (BatchNormalization)    (None, 50, 50, 8)         32        \n",
      "                                                                 \n",
      " Conv2D_3 (Conv2D)           (None, 50, 50, 16)        1168      \n",
      "                                                                 \n",
      " MaxPooling2D_3 (MaxPooling2  (None, 25, 25, 16)       0         \n",
      " D)                                                              \n",
      "                                                                 \n",
      " BN3 (BatchNormalization)    (None, 25, 25, 16)        64        \n",
      "                                                                 \n",
      " Flatten (Flatten)           (None, 10000)             0         \n",
      "                                                                 \n",
      " Dense1 (Dense)              (None, 64)                640064    \n",
      "                                                                 \n",
      " Dropout1 (Dropout)          (None, 64)                0         \n",
      "                                                                 \n",
      " Dense2 (Dense)              (None, 32)                2080      \n",
      "                                                                 \n",
      " Dropout2 (Dropout)          (None, 32)                0         \n",
      "                                                                 \n",
      " Softmax (Dense)             (None, 4)                 132       \n",
      "                                                                 \n",
      "=================================================================\n",
      "Total params: 644,236\n",
      "Trainable params: 644,172\n",
      "Non-trainable params: 64\n",
      "_________________________________________________________________\n"
     ]
    }
   ],
   "source": [
    "f1,k1,a1 = 8,3,'relu'\n",
    "mw1,mh1,sw1,sh1 = 3,3,2,2\n",
    "f2,k2,a2 = 8,3,'relu'\n",
    "mw2,mh2,sw2,sh2 = 3,3,2,2\n",
    "f3,k3,a3 = 16,3,'relu'\n",
    "mw3,mh3,sw3,sh3 = 3,3,2,2\n",
    "d1,dr1,da1,r1 = 64,0.2,'relu',0.2\n",
    "d2,dr2,da2,r2 = 32,0.2,'relu',0.2\n",
    "num = 2\n",
    "model2 = modelBuilder3L(spec_train_reshaped,\n",
    "                        f1,k1,a1,\n",
    "                        mw1,mh1,sw1,sh1,\n",
    "                        f2,k2,a2,\n",
    "                        mw2,mh2,sw2,sh2,\n",
    "                        f3,k3,a3,\n",
    "                        mw3,mh3,sw3,sh3,\n",
    "                        d1,dr1,da1,r1,\n",
    "                        d2,dr2,da2,r2,\n",
    "                        num)"
   ]
  },
  {
   "cell_type": "code",
   "execution_count": 37,
   "id": "9a503680",
   "metadata": {
    "scrolled": true
   },
   "outputs": [
    {
     "name": "stdout",
     "output_type": "stream",
     "text": [
      "Epoch 1/80\n",
      "44/44 [==============================] - 11s 210ms/step - loss: 33.0447 - accuracy: 0.4387 - val_loss: 30.5030 - val_accuracy: 0.3704\n",
      "Epoch 2/80\n",
      "44/44 [==============================] - 9s 194ms/step - loss: 27.8546 - accuracy: 0.5741 - val_loss: 26.0688 - val_accuracy: 0.2500\n",
      "Epoch 3/80\n",
      "44/44 [==============================] - 8s 191ms/step - loss: 23.4371 - accuracy: 0.6597 - val_loss: 22.9384 - val_accuracy: 0.2500\n",
      "Epoch 4/80\n",
      "44/44 [==============================] - 9s 205ms/step - loss: 19.8116 - accuracy: 0.7118 - val_loss: 21.0300 - val_accuracy: 0.2500\n",
      "Epoch 5/80\n",
      "44/44 [==============================] - 9s 193ms/step - loss: 16.9327 - accuracy: 0.7384 - val_loss: 19.1434 - val_accuracy: 0.2500\n",
      "Epoch 6/80\n",
      "44/44 [==============================] - 9s 197ms/step - loss: 14.6012 - accuracy: 0.7685 - val_loss: 17.5855 - val_accuracy: 0.2500\n",
      "Epoch 7/80\n",
      "44/44 [==============================] - 9s 199ms/step - loss: 12.7276 - accuracy: 0.7963 - val_loss: 15.6521 - val_accuracy: 0.2500\n",
      "Epoch 8/80\n",
      "44/44 [==============================] - 9s 204ms/step - loss: 11.1534 - accuracy: 0.8403 - val_loss: 13.6385 - val_accuracy: 0.2546\n",
      "Epoch 9/80\n",
      "44/44 [==============================] - 9s 195ms/step - loss: 9.8798 - accuracy: 0.8692 - val_loss: 12.1891 - val_accuracy: 0.2546\n",
      "Epoch 10/80\n",
      "44/44 [==============================] - 9s 203ms/step - loss: 8.8324 - accuracy: 0.9109 - val_loss: 9.9494 - val_accuracy: 0.3056\n",
      "Epoch 11/80\n",
      "44/44 [==============================] - 10s 235ms/step - loss: 8.0359 - accuracy: 0.8576 - val_loss: 8.5721 - val_accuracy: 0.5185\n",
      "Epoch 12/80\n",
      "44/44 [==============================] - 10s 217ms/step - loss: 7.2818 - accuracy: 0.9028 - val_loss: 7.5710 - val_accuracy: 0.5972\n",
      "Epoch 13/80\n",
      "44/44 [==============================] - 9s 194ms/step - loss: 6.6718 - accuracy: 0.9039 - val_loss: 6.7924 - val_accuracy: 0.7083\n",
      "Epoch 14/80\n",
      "44/44 [==============================] - 9s 211ms/step - loss: 6.1731 - accuracy: 0.9074 - val_loss: 6.1935 - val_accuracy: 0.7824\n",
      "Epoch 15/80\n",
      "44/44 [==============================] - 9s 204ms/step - loss: 5.6950 - accuracy: 0.9259 - val_loss: 5.7197 - val_accuracy: 0.8148\n",
      "Epoch 16/80\n",
      "44/44 [==============================] - 9s 207ms/step - loss: 5.3244 - accuracy: 0.9167 - val_loss: 5.3305 - val_accuracy: 0.8056\n",
      "Epoch 17/80\n",
      "44/44 [==============================] - 9s 209ms/step - loss: 4.9541 - accuracy: 0.9201 - val_loss: 4.9528 - val_accuracy: 0.8333\n",
      "Epoch 18/80\n",
      "44/44 [==============================] - 9s 203ms/step - loss: 4.5955 - accuracy: 0.9491 - val_loss: 4.7016 - val_accuracy: 0.8241\n",
      "Epoch 19/80\n",
      "44/44 [==============================] - 9s 199ms/step - loss: 4.3328 - accuracy: 0.9502 - val_loss: 4.3962 - val_accuracy: 0.8333\n",
      "Epoch 20/80\n",
      "44/44 [==============================] - 9s 205ms/step - loss: 4.0705 - accuracy: 0.9433 - val_loss: 4.2897 - val_accuracy: 0.7778\n",
      "Epoch 21/80\n",
      "44/44 [==============================] - 9s 201ms/step - loss: 3.8175 - accuracy: 0.9502 - val_loss: 3.9220 - val_accuracy: 0.8380\n",
      "Epoch 22/80\n",
      "44/44 [==============================] - 9s 196ms/step - loss: 3.6042 - accuracy: 0.9560 - val_loss: 3.7435 - val_accuracy: 0.8380\n",
      "Epoch 23/80\n",
      "44/44 [==============================] - 9s 197ms/step - loss: 3.4262 - accuracy: 0.9479 - val_loss: 3.5145 - val_accuracy: 0.8519\n",
      "Epoch 24/80\n",
      "44/44 [==============================] - 9s 198ms/step - loss: 3.2336 - accuracy: 0.9560 - val_loss: 3.3444 - val_accuracy: 0.8426\n",
      "Epoch 25/80\n",
      "44/44 [==============================] - 9s 206ms/step - loss: 3.0517 - accuracy: 0.9618 - val_loss: 3.1777 - val_accuracy: 0.8380\n",
      "Epoch 26/80\n",
      "44/44 [==============================] - 8s 185ms/step - loss: 2.8920 - accuracy: 0.9630 - val_loss: 3.0236 - val_accuracy: 0.8426\n",
      "Epoch 27/80\n",
      "44/44 [==============================] - 8s 192ms/step - loss: 2.7651 - accuracy: 0.9572 - val_loss: 2.9882 - val_accuracy: 0.7917\n",
      "Epoch 28/80\n",
      "44/44 [==============================] - 9s 200ms/step - loss: 2.6084 - accuracy: 0.9734 - val_loss: 2.7426 - val_accuracy: 0.8333\n",
      "Epoch 29/80\n",
      "44/44 [==============================] - 9s 196ms/step - loss: 2.4705 - accuracy: 0.9699 - val_loss: 2.6472 - val_accuracy: 0.8426\n",
      "Epoch 30/80\n",
      "44/44 [==============================] - 8s 182ms/step - loss: 2.3741 - accuracy: 0.9502 - val_loss: 2.4979 - val_accuracy: 0.8519\n",
      "Epoch 31/80\n",
      "44/44 [==============================] - 8s 184ms/step - loss: 2.2409 - accuracy: 0.9653 - val_loss: 2.3861 - val_accuracy: 0.8611\n",
      "Epoch 32/80\n",
      "44/44 [==============================] - 9s 209ms/step - loss: 2.1398 - accuracy: 0.9572 - val_loss: 2.2909 - val_accuracy: 0.8426\n",
      "Epoch 33/80\n",
      "44/44 [==============================] - 8s 184ms/step - loss: 2.0337 - accuracy: 0.9653 - val_loss: 2.2225 - val_accuracy: 0.8148\n",
      "Epoch 34/80\n",
      "44/44 [==============================] - 8s 177ms/step - loss: 1.9242 - accuracy: 0.9676 - val_loss: 2.0865 - val_accuracy: 0.8565\n",
      "Epoch 35/80\n",
      "44/44 [==============================] - 8s 182ms/step - loss: 1.8515 - accuracy: 0.9641 - val_loss: 1.9956 - val_accuracy: 0.8750\n",
      "Epoch 36/80\n",
      "44/44 [==============================] - 8s 180ms/step - loss: 1.7526 - accuracy: 0.9722 - val_loss: 1.9072 - val_accuracy: 0.8565\n",
      "Epoch 37/80\n",
      "44/44 [==============================] - 8s 177ms/step - loss: 1.6786 - accuracy: 0.9664 - val_loss: 1.8675 - val_accuracy: 0.8287\n",
      "Epoch 38/80\n",
      "44/44 [==============================] - 8s 180ms/step - loss: 1.6130 - accuracy: 0.9641 - val_loss: 1.7514 - val_accuracy: 0.8704\n",
      "Epoch 39/80\n",
      "44/44 [==============================] - 8s 177ms/step - loss: 1.5229 - accuracy: 0.9769 - val_loss: 1.7400 - val_accuracy: 0.8241\n",
      "Epoch 40/80\n",
      "44/44 [==============================] - 8s 180ms/step - loss: 1.4404 - accuracy: 0.9780 - val_loss: 1.6016 - val_accuracy: 0.8519\n",
      "Epoch 41/80\n",
      "44/44 [==============================] - 8s 178ms/step - loss: 1.3765 - accuracy: 0.9676 - val_loss: 1.5800 - val_accuracy: 0.8287\n",
      "Epoch 42/80\n",
      "44/44 [==============================] - 8s 177ms/step - loss: 1.3198 - accuracy: 0.9722 - val_loss: 1.4926 - val_accuracy: 0.8657\n",
      "Epoch 43/80\n",
      "44/44 [==============================] - 8s 181ms/step - loss: 1.2583 - accuracy: 0.9699 - val_loss: 1.4308 - val_accuracy: 0.8565\n",
      "Epoch 44/80\n",
      "44/44 [==============================] - 8s 180ms/step - loss: 1.2076 - accuracy: 0.9838 - val_loss: 1.3840 - val_accuracy: 0.8704\n",
      "Epoch 45/80\n",
      "44/44 [==============================] - 8s 181ms/step - loss: 1.1668 - accuracy: 0.9618 - val_loss: 1.3634 - val_accuracy: 0.8565\n",
      "Epoch 46/80\n",
      "44/44 [==============================] - 8s 180ms/step - loss: 1.0895 - accuracy: 0.9815 - val_loss: 1.2668 - val_accuracy: 0.8843\n",
      "Epoch 47/80\n",
      "44/44 [==============================] - 8s 179ms/step - loss: 1.0490 - accuracy: 0.9757 - val_loss: 1.2883 - val_accuracy: 0.8426\n",
      "Epoch 48/80\n",
      "44/44 [==============================] - 8s 181ms/step - loss: 1.0034 - accuracy: 0.9769 - val_loss: 1.2011 - val_accuracy: 0.8519\n",
      "Epoch 49/80\n",
      "44/44 [==============================] - 8s 176ms/step - loss: 0.9810 - accuracy: 0.9722 - val_loss: 1.1841 - val_accuracy: 0.8519\n",
      "Epoch 50/80\n",
      "44/44 [==============================] - 8s 183ms/step - loss: 0.9248 - accuracy: 0.9792 - val_loss: 1.1183 - val_accuracy: 0.8565\n",
      "Epoch 51/80\n",
      "44/44 [==============================] - 8s 180ms/step - loss: 0.8868 - accuracy: 0.9769 - val_loss: 1.1021 - val_accuracy: 0.8565\n",
      "Epoch 52/80\n",
      "44/44 [==============================] - 8s 178ms/step - loss: 0.8628 - accuracy: 0.9722 - val_loss: 1.1168 - val_accuracy: 0.8380\n",
      "Epoch 53/80\n",
      "44/44 [==============================] - 8s 180ms/step - loss: 0.8505 - accuracy: 0.9838 - val_loss: 1.0549 - val_accuracy: 0.8426\n",
      "Epoch 54/80\n",
      "44/44 [==============================] - 8s 178ms/step - loss: 0.8005 - accuracy: 0.9803 - val_loss: 0.9829 - val_accuracy: 0.8843\n",
      "Epoch 55/80\n",
      "44/44 [==============================] - 8s 180ms/step - loss: 0.7583 - accuracy: 0.9861 - val_loss: 0.9625 - val_accuracy: 0.8565\n",
      "Epoch 56/80\n",
      "44/44 [==============================] - 8s 180ms/step - loss: 0.7372 - accuracy: 0.9780 - val_loss: 0.9275 - val_accuracy: 0.8611\n",
      "Epoch 57/80\n",
      "44/44 [==============================] - 8s 177ms/step - loss: 0.7176 - accuracy: 0.9769 - val_loss: 0.9066 - val_accuracy: 0.8843\n",
      "Epoch 58/80\n",
      "44/44 [==============================] - 8s 183ms/step - loss: 0.6906 - accuracy: 0.9826 - val_loss: 0.8903 - val_accuracy: 0.8657\n",
      "Epoch 59/80\n",
      "44/44 [==============================] - 8s 181ms/step - loss: 0.6844 - accuracy: 0.9803 - val_loss: 0.8778 - val_accuracy: 0.8704\n",
      "Epoch 60/80\n",
      "44/44 [==============================] - 8s 176ms/step - loss: 0.6488 - accuracy: 0.9815 - val_loss: 0.8626 - val_accuracy: 0.8843\n",
      "Epoch 61/80\n",
      "44/44 [==============================] - 8s 180ms/step - loss: 0.6280 - accuracy: 0.9838 - val_loss: 0.8208 - val_accuracy: 0.8796\n",
      "Epoch 62/80\n",
      "44/44 [==============================] - 8s 178ms/step - loss: 0.6099 - accuracy: 0.9815 - val_loss: 0.8311 - val_accuracy: 0.8704\n",
      "Epoch 63/80\n",
      "44/44 [==============================] - 8s 177ms/step - loss: 0.5959 - accuracy: 0.9780 - val_loss: 0.8007 - val_accuracy: 0.8611\n",
      "Epoch 64/80\n",
      "44/44 [==============================] - 8s 180ms/step - loss: 0.5689 - accuracy: 0.9815 - val_loss: 0.7694 - val_accuracy: 0.8889\n",
      "Epoch 65/80\n",
      "44/44 [==============================] - 8s 177ms/step - loss: 0.5844 - accuracy: 0.9792 - val_loss: 0.7750 - val_accuracy: 0.8843\n",
      "Epoch 66/80\n",
      "44/44 [==============================] - 8s 180ms/step - loss: 0.5605 - accuracy: 0.9792 - val_loss: 0.7756 - val_accuracy: 0.8472\n",
      "Epoch 67/80\n",
      "44/44 [==============================] - 8s 182ms/step - loss: 0.5350 - accuracy: 0.9861 - val_loss: 0.7409 - val_accuracy: 0.8657\n",
      "Epoch 68/80\n",
      "44/44 [==============================] - 8s 176ms/step - loss: 0.5423 - accuracy: 0.9803 - val_loss: 0.7534 - val_accuracy: 0.8657\n",
      "Epoch 69/80\n",
      "44/44 [==============================] - 8s 180ms/step - loss: 0.5169 - accuracy: 0.9850 - val_loss: 0.6912 - val_accuracy: 0.9120\n",
      "Epoch 70/80\n",
      "44/44 [==============================] - 8s 181ms/step - loss: 0.4885 - accuracy: 0.9873 - val_loss: 0.6906 - val_accuracy: 0.9074\n",
      "Epoch 71/80\n",
      "44/44 [==============================] - 8s 176ms/step - loss: 0.4928 - accuracy: 0.9826 - val_loss: 0.7155 - val_accuracy: 0.8472\n",
      "Epoch 72/80\n",
      "44/44 [==============================] - 8s 181ms/step - loss: 0.4822 - accuracy: 0.9896 - val_loss: 0.6663 - val_accuracy: 0.8981\n",
      "Epoch 73/80\n",
      "44/44 [==============================] - 8s 184ms/step - loss: 0.4789 - accuracy: 0.9850 - val_loss: 0.6945 - val_accuracy: 0.8889\n",
      "Epoch 74/80\n",
      "44/44 [==============================] - 8s 190ms/step - loss: 0.4581 - accuracy: 0.9838 - val_loss: 0.6623 - val_accuracy: 0.8704\n",
      "Epoch 75/80\n",
      "44/44 [==============================] - 8s 193ms/step - loss: 0.4508 - accuracy: 0.9873 - val_loss: 0.6544 - val_accuracy: 0.8843\n",
      "Epoch 76/80\n",
      "44/44 [==============================] - 8s 183ms/step - loss: 0.4550 - accuracy: 0.9792 - val_loss: 0.6864 - val_accuracy: 0.8657\n",
      "Epoch 77/80\n",
      "44/44 [==============================] - 8s 183ms/step - loss: 0.4542 - accuracy: 0.9873 - val_loss: 0.6427 - val_accuracy: 0.8843\n",
      "Epoch 78/80\n",
      "44/44 [==============================] - 8s 182ms/step - loss: 0.4422 - accuracy: 0.9803 - val_loss: 0.6449 - val_accuracy: 0.8935\n",
      "Epoch 79/80\n",
      "44/44 [==============================] - 8s 184ms/step - loss: 0.4319 - accuracy: 0.9919 - val_loss: 0.6476 - val_accuracy: 0.8843\n",
      "Epoch 80/80\n",
      "44/44 [==============================] - 8s 181ms/step - loss: 0.4204 - accuracy: 0.9884 - val_loss: 0.6220 - val_accuracy: 0.8796\n"
     ]
    }
   ],
   "source": [
    "history2 = model2.fit(spec_train_reshaped,y2_train,validation_data=(spec_val_reshaped,y2_val),batch_size=20,epochs=80)"
   ]
  },
  {
   "cell_type": "code",
   "execution_count": 38,
   "id": "a1fde966",
   "metadata": {},
   "outputs": [],
   "source": [
    "# Save model\n",
    "model2.save(os.getcwd() + \"/Features2D/Model/Conv2D_spec_agumented.h5\") "
   ]
  },
  {
   "cell_type": "code",
   "execution_count": 39,
   "id": "0a4637d3",
   "metadata": {},
   "outputs": [
    {
     "data": {
      "text/plain": [
       "Text(0, 0.5, 'loss')"
      ]
     },
     "execution_count": 39,
     "metadata": {},
     "output_type": "execute_result"
    },
    {
     "data": {
      "image/png": "[encoded data removed]",
      "text/plain": [
       "<Figure size 1200x400 with 2 Axes>"
      ]
     },
     "metadata": {},
     "output_type": "display_data"
    }
   ],
   "source": [
    "# Train and Validation accuracy and loss\n",
    "f = plt.figure(figsize = (12,4))\n",
    "\n",
    "plt.subplot(1,2,1)\n",
    "plt.title('train validation accuracy')\n",
    "plt.plot(history2.history['accuracy'])\n",
    "plt.plot(history2.history['val_accuracy'])\n",
    "plt.legend(['train','validation'])\n",
    "plt.xlabel('epoch')\n",
    "plt.ylabel('accuracy')\n",
    "\n",
    "\n",
    "plt.subplot(1,2,2)\n",
    "plt.title('train validation loss')\n",
    "plt.plot(history2.history['loss'])\n",
    "plt.plot(history2.history['val_loss'])\n",
    "plt.legend(['train','validation'])\n",
    "plt.xlabel('epoch')\n",
    "plt.ylabel('loss')"
   ]
  },
  {
   "cell_type": "code",
   "execution_count": 40,
   "id": "68603b8c",
   "metadata": {},
   "outputs": [],
   "source": [
    "spec_test = spec_file['spec_test']\n",
    "y_test_spec = spec_file['y_test']"
   ]
  },
  {
   "cell_type": "code",
   "execution_count": 41,
   "id": "e42f2a3c",
   "metadata": {},
   "outputs": [],
   "source": [
    "# Feature Scaling\n",
    "spec_test_scaled = spec_test / np.amax(spec_test)\n",
    "\n",
    "# Reshape the data\n",
    "N,row,col = spec_test_scaled.shape\n",
    "spec_test_reshaped = spec_test_scaled.reshape((N,row,col,1))"
   ]
  },
  {
   "cell_type": "code",
   "execution_count": 42,
   "id": "ad1e99d4",
   "metadata": {},
   "outputs": [
    {
     "name": "stdout",
     "output_type": "stream",
     "text": [
      "4/4 [==============================] - 0s 71ms/step\n"
     ]
    }
   ],
   "source": [
    "y2_prob = model2.predict(spec_test_reshaped)\n",
    "y2_pred = np.argmax(y2_prob, axis = -1)"
   ]
  },
  {
   "cell_type": "code",
   "execution_count": 43,
   "id": "993754a4",
   "metadata": {},
   "outputs": [
    {
     "data": {
      "text/plain": [
       "0.95"
      ]
     },
     "execution_count": 43,
     "metadata": {},
     "output_type": "execute_result"
    }
   ],
   "source": [
    "# Accuracy\n",
    "acc_spec = round(accuracy_score(y2_pred,y_test_spec),2)\n",
    "acc_spec"
   ]
  },
  {
   "cell_type": "code",
   "execution_count": 44,
   "id": "b222d33c",
   "metadata": {},
   "outputs": [
    {
     "name": "stdout",
     "output_type": "stream",
     "text": [
      "              precision    recall  f1-score   support\n",
      "\n",
      "       Angry       1.00      0.93      0.97        30\n",
      "       Happy       0.97      1.00      0.98        30\n",
      "     Relaxed       0.93      0.93      0.93        30\n",
      "         Sad       0.90      0.93      0.92        30\n",
      "\n",
      "    accuracy                           0.95       120\n",
      "   macro avg       0.95      0.95      0.95       120\n",
      "weighted avg       0.95      0.95      0.95       120\n",
      "\n"
     ]
    },
    {
     "data": {
      "image/png": "[encoded data removed]",
      "text/plain": [
       "<Figure size 640x480 with 2 Axes>"
      ]
     },
     "metadata": {},
     "output_type": "display_data"
    }
   ],
   "source": [
    "# Confusion Matrix\n",
    "cm_spec = confusion_matrix(y_test_spec,y2_pred)\n",
    "cm_display_spec = ConfusionMatrixDisplay(confusion_matrix = cm_spec, display_labels = ['Angry', 'Happy', 'Relaxed', 'Sad'])\n",
    "print(classification_report(y_test_spec, y2_pred, target_names = ['Angry', 'Happy', 'Relaxed', 'Sad']))\n",
    "cm_display_spec.plot()\n",
    "plt.show()"
   ]
  },
  {
   "cell_type": "markdown",
   "id": "8c0f5456",
   "metadata": {},
   "source": [
    "### 4.3 Mel Spectrogram"
   ]
  },
  {
   "cell_type": "code",
   "execution_count": 45,
   "id": "23b2c9a1",
   "metadata": {},
   "outputs": [],
   "source": [
    "mel_file = np.load(\"Features2D/npz_new/mel_train_test_agumented.npz\")\n",
    "\n",
    "mel_train = mel_file['mel_train']\n",
    "y3_train = mel_file['y_train']\n",
    "mel_train,mel_val,y3_train,y3_val = train_test_split(mel_train,y3_train, \n",
    "                                                     train_size = 0.8, \n",
    "                                                     random_state = 13, \n",
    "                                                     stratify= y3_train)"
   ]
  },
  {
   "cell_type": "code",
   "execution_count": 46,
   "id": "c9377980",
   "metadata": {},
   "outputs": [],
   "source": [
    "# Feature Scaling\n",
    "mel_train_scaled = (mel_train - np.mean(mel_train))/np.std(mel_train)\n",
    "mel_val_scaled = (mel_val - np.mean(mel_val))/np.std(mel_val)"
   ]
  },
  {
   "cell_type": "code",
   "execution_count": 47,
   "id": "0d5aa99d",
   "metadata": {},
   "outputs": [],
   "source": [
    "# Reshape the data\n",
    "N,row,col = mel_train_scaled.shape\n",
    "mel_train_reshaped = mel_train_scaled.reshape((N,row,col,1))\n",
    "\n",
    "N,row,col = mel_val_scaled.shape\n",
    "mel_val_reshaped = mel_val_scaled.reshape((N,row,col,1))"
   ]
  },
  {
   "cell_type": "code",
   "execution_count": 48,
   "id": "bfa600a6",
   "metadata": {
    "scrolled": true
   },
   "outputs": [
    {
     "name": "stdout",
     "output_type": "stream",
     "text": [
      "Model: \"CNN2D_3\"\n",
      "_________________________________________________________________\n",
      " Layer (type)                Output Shape              Param #   \n",
      "=================================================================\n",
      " Conv2D_1 (Conv2D)           (None, 300, 400, 8)       80        \n",
      "                                                                 \n",
      " MaxPooling2D_1 (MaxPooling2  (None, 150, 200, 8)      0         \n",
      " D)                                                              \n",
      "                                                                 \n",
      " BN1 (BatchNormalization)    (None, 150, 200, 8)       32        \n",
      "                                                                 \n",
      " Conv2D_2 (Conv2D)           (None, 150, 200, 8)       584       \n",
      "                                                                 \n",
      " MaxPooling2D_2 (MaxPooling2  (None, 75, 100, 8)       0         \n",
      " D)                                                              \n",
      "                                                                 \n",
      " BN2 (BatchNormalization)    (None, 75, 100, 8)        32        \n",
      "                                                                 \n",
      " Conv2D_3 (Conv2D)           (None, 75, 100, 16)       1168      \n",
      "                                                                 \n",
      " MaxPooling2D_3 (MaxPooling2  (None, 38, 50, 16)       0         \n",
      " D)                                                              \n",
      "                                                                 \n",
      " BN3 (BatchNormalization)    (None, 38, 50, 16)        64        \n",
      "                                                                 \n",
      " Flatten (Flatten)           (None, 30400)             0         \n",
      "                                                                 \n",
      " Dense1 (Dense)              (None, 64)                1945664   \n",
      "                                                                 \n",
      " Dropout1 (Dropout)          (None, 64)                0         \n",
      "                                                                 \n",
      " Dense2 (Dense)              (None, 32)                2080      \n",
      "                                                                 \n",
      " Dropout2 (Dropout)          (None, 32)                0         \n",
      "                                                                 \n",
      " Softmax (Dense)             (None, 4)                 132       \n",
      "                                                                 \n",
      "=================================================================\n",
      "Total params: 1,949,836\n",
      "Trainable params: 1,949,772\n",
      "Non-trainable params: 64\n",
      "_________________________________________________________________\n"
     ]
    }
   ],
   "source": [
    "f1,k1,a1 = 8,3,'relu'\n",
    "mw1,mh1,sw1,sh1 = 2,3,2,2\n",
    "f2,k2,a2 = 8,3,'relu'\n",
    "mw2,mh2,sw2,sh2 = 2,3,2,2\n",
    "f3,k3,a3 = 16,3,'relu'\n",
    "mw3,mh3,sw3,sh3 = 2,3,2,2\n",
    "d1,dr1,da1,r1 = 64,0.2,'relu',0.2\n",
    "d2,dr2,da2,r2 = 32,0.2,'relu',0.2\n",
    "num = 3\n",
    "model3 = modelBuilder3L(mel_train_reshaped,\n",
    "                        f1,k1,a1,\n",
    "                        mw1,mh1,sw1,sh1,\n",
    "                        f2,k2,a2,\n",
    "                        mw2,mh2,sw2,sh2,\n",
    "                        f3,k3,a3,\n",
    "                        mw3,mh3,sw3,sh3,\n",
    "                        d1,dr1,da1,r1,\n",
    "                        d2,dr2,da2,r2,\n",
    "                        num)"
   ]
  },
  {
   "cell_type": "code",
   "execution_count": 49,
   "id": "c359f915",
   "metadata": {
    "scrolled": true
   },
   "outputs": [
    {
     "name": "stdout",
     "output_type": "stream",
     "text": [
      "Epoch 1/80\n",
      "44/44 [==============================] - 25s 504ms/step - loss: 31.6717 - accuracy: 0.5069 - val_loss: 27.8993 - val_accuracy: 0.5509\n",
      "Epoch 2/80\n",
      "44/44 [==============================] - 21s 478ms/step - loss: 24.2368 - accuracy: 0.6887 - val_loss: 21.4496 - val_accuracy: 0.5648\n",
      "Epoch 3/80\n",
      "44/44 [==============================] - 21s 468ms/step - loss: 18.8156 - accuracy: 0.7662 - val_loss: 17.1390 - val_accuracy: 0.5972\n",
      "Epoch 4/80\n",
      "44/44 [==============================] - 20s 459ms/step - loss: 15.0470 - accuracy: 0.8310 - val_loss: 14.0896 - val_accuracy: 0.5880\n",
      "Epoch 5/80\n",
      "44/44 [==============================] - 20s 460ms/step - loss: 12.4899 - accuracy: 0.8889 - val_loss: 12.1420 - val_accuracy: 0.5556\n",
      "Epoch 6/80\n",
      "44/44 [==============================] - 20s 464ms/step - loss: 10.6847 - accuracy: 0.8877 - val_loss: 10.5005 - val_accuracy: 0.6343\n",
      "Epoch 7/80\n",
      "44/44 [==============================] - 20s 460ms/step - loss: 9.3443 - accuracy: 0.9062 - val_loss: 8.9322 - val_accuracy: 0.8657\n",
      "Epoch 8/80\n",
      "44/44 [==============================] - 20s 462ms/step - loss: 8.2778 - accuracy: 0.9410 - val_loss: 8.0122 - val_accuracy: 0.8519\n",
      "Epoch 9/80\n",
      "44/44 [==============================] - 20s 461ms/step - loss: 7.4729 - accuracy: 0.9433 - val_loss: 7.2367 - val_accuracy: 0.8935\n",
      "Epoch 10/80\n",
      "44/44 [==============================] - 21s 476ms/step - loss: 6.8153 - accuracy: 0.9456 - val_loss: 6.5866 - val_accuracy: 0.9259\n",
      "Epoch 11/80\n",
      "44/44 [==============================] - 20s 460ms/step - loss: 6.2907 - accuracy: 0.9456 - val_loss: 6.0776 - val_accuracy: 0.9167\n",
      "Epoch 12/80\n",
      "44/44 [==============================] - 24s 549ms/step - loss: 5.8409 - accuracy: 0.9514 - val_loss: 5.6864 - val_accuracy: 0.9167\n",
      "Epoch 13/80\n",
      "44/44 [==============================] - 38s 872ms/step - loss: 5.4756 - accuracy: 0.9398 - val_loss: 5.3526 - val_accuracy: 0.9213\n",
      "Epoch 14/80\n",
      "44/44 [==============================] - 21s 467ms/step - loss: 5.0949 - accuracy: 0.9572 - val_loss: 5.0217 - val_accuracy: 0.9259\n",
      "Epoch 15/80\n",
      "44/44 [==============================] - 325s 8s/step - loss: 4.7957 - accuracy: 0.9502 - val_loss: 4.7179 - val_accuracy: 0.9074\n",
      "Epoch 16/80\n",
      "44/44 [==============================] - 20s 446ms/step - loss: 4.5259 - accuracy: 0.9479 - val_loss: 4.4669 - val_accuracy: 0.9259\n",
      "Epoch 17/80\n",
      "44/44 [==============================] - 324s 8s/step - loss: 4.2716 - accuracy: 0.9664 - val_loss: 4.2340 - val_accuracy: 0.9259\n",
      "Epoch 18/80\n",
      "44/44 [==============================] - 20s 462ms/step - loss: 4.0553 - accuracy: 0.9630 - val_loss: 4.0261 - val_accuracy: 0.9306\n",
      "Epoch 19/80\n",
      "44/44 [==============================] - 20s 460ms/step - loss: 3.7978 - accuracy: 0.9676 - val_loss: 3.8076 - val_accuracy: 0.9259\n",
      "Epoch 20/80\n",
      "44/44 [==============================] - 180s 4s/step - loss: 3.6004 - accuracy: 0.9711 - val_loss: 3.6101 - val_accuracy: 0.9259\n",
      "Epoch 21/80\n",
      "44/44 [==============================] - 22s 495ms/step - loss: 3.4330 - accuracy: 0.9664 - val_loss: 3.4566 - val_accuracy: 0.9120\n",
      "Epoch 22/80\n",
      "44/44 [==============================] - 22s 507ms/step - loss: 3.3257 - accuracy: 0.9549 - val_loss: 3.3050 - val_accuracy: 0.9306\n",
      "Epoch 23/80\n",
      "44/44 [==============================] - 25s 578ms/step - loss: 3.1066 - accuracy: 0.9769 - val_loss: 3.1007 - val_accuracy: 0.9306\n",
      "Epoch 24/80\n",
      "44/44 [==============================] - 24s 558ms/step - loss: 2.9254 - accuracy: 0.9815 - val_loss: 2.9442 - val_accuracy: 0.9352\n",
      "Epoch 25/80\n",
      "44/44 [==============================] - 24s 556ms/step - loss: 2.7859 - accuracy: 0.9734 - val_loss: 2.8129 - val_accuracy: 0.9259\n",
      "Epoch 26/80\n",
      "44/44 [==============================] - 24s 554ms/step - loss: 2.6618 - accuracy: 0.9688 - val_loss: 2.6997 - val_accuracy: 0.9028\n",
      "Epoch 27/80\n",
      "44/44 [==============================] - 23s 528ms/step - loss: 2.6321 - accuracy: 0.9387 - val_loss: 2.6320 - val_accuracy: 0.9213\n",
      "Epoch 28/80\n",
      "44/44 [==============================] - 24s 545ms/step - loss: 2.4478 - accuracy: 0.9757 - val_loss: 2.5541 - val_accuracy: 0.8889\n",
      "Epoch 29/80\n",
      "44/44 [==============================] - 25s 571ms/step - loss: 2.3213 - accuracy: 0.9688 - val_loss: 2.3651 - val_accuracy: 0.9120\n",
      "Epoch 30/80\n",
      "44/44 [==============================] - 24s 541ms/step - loss: 2.1845 - accuracy: 0.9757 - val_loss: 2.2269 - val_accuracy: 0.9213\n",
      "Epoch 31/80\n",
      "44/44 [==============================] - 23s 516ms/step - loss: 2.0700 - accuracy: 0.9792 - val_loss: 2.1905 - val_accuracy: 0.9074\n",
      "Epoch 32/80\n",
      "44/44 [==============================] - 23s 523ms/step - loss: 1.9709 - accuracy: 0.9769 - val_loss: 2.0303 - val_accuracy: 0.9074\n",
      "Epoch 33/80\n",
      "44/44 [==============================] - 24s 542ms/step - loss: 1.8716 - accuracy: 0.9780 - val_loss: 1.9373 - val_accuracy: 0.9352\n",
      "Epoch 34/80\n",
      "44/44 [==============================] - 23s 532ms/step - loss: 1.7987 - accuracy: 0.9688 - val_loss: 1.8975 - val_accuracy: 0.9167\n",
      "Epoch 35/80\n",
      "44/44 [==============================] - 21s 488ms/step - loss: 1.7166 - accuracy: 0.9769 - val_loss: 1.7704 - val_accuracy: 0.9352\n",
      "Epoch 36/80\n",
      "44/44 [==============================] - 23s 531ms/step - loss: 1.6002 - accuracy: 0.9861 - val_loss: 1.6600 - val_accuracy: 0.9352\n",
      "Epoch 37/80\n",
      "44/44 [==============================] - 24s 552ms/step - loss: 1.5226 - accuracy: 0.9745 - val_loss: 1.6165 - val_accuracy: 0.9120\n",
      "Epoch 38/80\n",
      "44/44 [==============================] - 24s 533ms/step - loss: 1.4568 - accuracy: 0.9850 - val_loss: 1.5417 - val_accuracy: 0.9074\n",
      "Epoch 39/80\n",
      "44/44 [==============================] - 24s 545ms/step - loss: 1.3922 - accuracy: 0.9722 - val_loss: 1.4787 - val_accuracy: 0.9352\n",
      "Epoch 40/80\n",
      "44/44 [==============================] - 23s 520ms/step - loss: 1.3257 - accuracy: 0.9850 - val_loss: 1.4248 - val_accuracy: 0.9074\n",
      "Epoch 41/80\n",
      "44/44 [==============================] - 23s 532ms/step - loss: 1.2405 - accuracy: 0.9838 - val_loss: 1.3070 - val_accuracy: 0.9352\n",
      "Epoch 42/80\n",
      "44/44 [==============================] - 24s 540ms/step - loss: 1.1982 - accuracy: 0.9780 - val_loss: 1.3339 - val_accuracy: 0.9074\n",
      "Epoch 43/80\n",
      "44/44 [==============================] - 23s 524ms/step - loss: 1.1884 - accuracy: 0.9699 - val_loss: 1.2581 - val_accuracy: 0.9444\n",
      "Epoch 44/80\n",
      "44/44 [==============================] - 23s 523ms/step - loss: 1.1178 - accuracy: 0.9838 - val_loss: 1.2190 - val_accuracy: 0.9120\n",
      "Epoch 45/80\n",
      "44/44 [==============================] - 23s 529ms/step - loss: 1.0478 - accuracy: 0.9792 - val_loss: 1.2812 - val_accuracy: 0.8750\n",
      "Epoch 46/80\n",
      "44/44 [==============================] - 23s 521ms/step - loss: 1.0318 - accuracy: 0.9711 - val_loss: 1.1663 - val_accuracy: 0.8981\n",
      "Epoch 47/80\n",
      "44/44 [==============================] - 21s 487ms/step - loss: 0.9448 - accuracy: 0.9896 - val_loss: 1.0203 - val_accuracy: 0.9398\n",
      "Epoch 48/80\n",
      "44/44 [==============================] - 24s 538ms/step - loss: 0.9876 - accuracy: 0.9653 - val_loss: 1.0765 - val_accuracy: 0.9167\n",
      "Epoch 49/80\n",
      "44/44 [==============================] - 23s 516ms/step - loss: 0.9135 - accuracy: 0.9838 - val_loss: 0.9831 - val_accuracy: 0.9444\n",
      "Epoch 50/80\n",
      "44/44 [==============================] - 22s 496ms/step - loss: 0.8754 - accuracy: 0.9769 - val_loss: 0.9329 - val_accuracy: 0.9398\n",
      "Epoch 51/80\n",
      "44/44 [==============================] - 24s 549ms/step - loss: 0.7937 - accuracy: 0.9873 - val_loss: 0.8720 - val_accuracy: 0.9444\n",
      "Epoch 52/80\n",
      "44/44 [==============================] - 22s 512ms/step - loss: 0.7513 - accuracy: 0.9861 - val_loss: 0.9238 - val_accuracy: 0.8981\n",
      "Epoch 53/80\n",
      "44/44 [==============================] - 23s 527ms/step - loss: 0.7687 - accuracy: 0.9734 - val_loss: 0.8948 - val_accuracy: 0.9120\n",
      "Epoch 54/80\n",
      "44/44 [==============================] - 24s 542ms/step - loss: 0.7757 - accuracy: 0.9734 - val_loss: 0.9447 - val_accuracy: 0.9120\n",
      "Epoch 55/80\n",
      "44/44 [==============================] - 27s 614ms/step - loss: 0.6843 - accuracy: 0.9954 - val_loss: 0.7914 - val_accuracy: 0.9306\n",
      "Epoch 56/80\n",
      "44/44 [==============================] - 22s 489ms/step - loss: 0.6369 - accuracy: 0.9884 - val_loss: 0.7788 - val_accuracy: 0.9167\n",
      "Epoch 57/80\n",
      "44/44 [==============================] - 25s 576ms/step - loss: 0.6235 - accuracy: 0.9873 - val_loss: 0.7628 - val_accuracy: 0.9167\n",
      "Epoch 58/80\n",
      "44/44 [==============================] - 25s 573ms/step - loss: 0.6107 - accuracy: 0.9826 - val_loss: 0.8677 - val_accuracy: 0.8704\n",
      "Epoch 59/80\n",
      "44/44 [==============================] - 22s 505ms/step - loss: 0.6161 - accuracy: 0.9803 - val_loss: 0.6926 - val_accuracy: 0.9491\n",
      "Epoch 60/80\n",
      "44/44 [==============================] - 24s 542ms/step - loss: 0.5858 - accuracy: 0.9803 - val_loss: 0.7041 - val_accuracy: 0.9259\n",
      "Epoch 61/80\n",
      "44/44 [==============================] - 25s 569ms/step - loss: 0.5410 - accuracy: 0.9826 - val_loss: 0.6732 - val_accuracy: 0.9167\n",
      "Epoch 62/80\n",
      "44/44 [==============================] - 23s 519ms/step - loss: 0.5190 - accuracy: 0.9861 - val_loss: 0.6480 - val_accuracy: 0.9259\n",
      "Epoch 63/80\n",
      "44/44 [==============================] - 23s 532ms/step - loss: 0.5003 - accuracy: 0.9884 - val_loss: 0.6071 - val_accuracy: 0.9398\n",
      "Epoch 64/80\n",
      "44/44 [==============================] - 21s 466ms/step - loss: 0.4929 - accuracy: 0.9873 - val_loss: 0.6036 - val_accuracy: 0.9213\n",
      "Epoch 65/80\n",
      "44/44 [==============================] - 23s 527ms/step - loss: 0.4830 - accuracy: 0.9884 - val_loss: 0.5853 - val_accuracy: 0.9167\n",
      "Epoch 66/80\n",
      "44/44 [==============================] - 25s 561ms/step - loss: 0.4598 - accuracy: 0.9803 - val_loss: 0.5718 - val_accuracy: 0.9444\n",
      "Epoch 67/80\n",
      "44/44 [==============================] - 22s 506ms/step - loss: 0.4511 - accuracy: 0.9873 - val_loss: 0.5927 - val_accuracy: 0.9167\n",
      "Epoch 68/80\n",
      "44/44 [==============================] - 23s 533ms/step - loss: 0.4341 - accuracy: 0.9907 - val_loss: 0.5541 - val_accuracy: 0.9259\n",
      "Epoch 69/80\n",
      "44/44 [==============================] - 22s 495ms/step - loss: 0.4135 - accuracy: 0.9919 - val_loss: 0.5511 - val_accuracy: 0.9306\n",
      "Epoch 70/80\n",
      "44/44 [==============================] - 23s 524ms/step - loss: 0.3959 - accuracy: 0.9907 - val_loss: 0.5235 - val_accuracy: 0.9306\n",
      "Epoch 71/80\n",
      "44/44 [==============================] - 23s 522ms/step - loss: 0.3984 - accuracy: 0.9873 - val_loss: 0.5725 - val_accuracy: 0.9074\n",
      "Epoch 72/80\n",
      "44/44 [==============================] - 22s 503ms/step - loss: 0.3929 - accuracy: 0.9873 - val_loss: 0.5077 - val_accuracy: 0.9398\n",
      "Epoch 73/80\n",
      "44/44 [==============================] - 30s 684ms/step - loss: 0.4227 - accuracy: 0.9769 - val_loss: 0.5428 - val_accuracy: 0.9306\n",
      "Epoch 74/80\n",
      "44/44 [==============================] - 25s 581ms/step - loss: 0.4631 - accuracy: 0.9769 - val_loss: 0.5464 - val_accuracy: 0.9398\n",
      "Epoch 75/80\n",
      "44/44 [==============================] - 24s 542ms/step - loss: 0.4213 - accuracy: 0.9861 - val_loss: 0.5186 - val_accuracy: 0.9398\n",
      "Epoch 76/80\n",
      "44/44 [==============================] - 22s 511ms/step - loss: 0.3986 - accuracy: 0.9815 - val_loss: 0.4752 - val_accuracy: 0.9537\n",
      "Epoch 77/80\n",
      "44/44 [==============================] - 24s 538ms/step - loss: 0.4641 - accuracy: 0.9699 - val_loss: 0.6926 - val_accuracy: 0.8843\n",
      "Epoch 78/80\n",
      "44/44 [==============================] - 24s 549ms/step - loss: 0.4164 - accuracy: 0.9826 - val_loss: 0.4911 - val_accuracy: 0.9491\n",
      "Epoch 79/80\n",
      "44/44 [==============================] - 23s 522ms/step - loss: 0.4012 - accuracy: 0.9884 - val_loss: 0.4933 - val_accuracy: 0.9444\n",
      "Epoch 80/80\n",
      "44/44 [==============================] - 23s 524ms/step - loss: 0.3561 - accuracy: 0.9919 - val_loss: 0.5141 - val_accuracy: 0.9306\n"
     ]
    }
   ],
   "source": [
    "history3 = model3.fit(mel_train_reshaped,y3_train,validation_data=(mel_val_reshaped,y3_val),batch_size=20,epochs=80)"
   ]
  },
  {
   "cell_type": "code",
   "execution_count": 50,
   "id": "8f1bc1b5",
   "metadata": {},
   "outputs": [],
   "source": [
    "model3.save(os.getcwd() + \"/Features2D/Model/Conv2D_mel_agumented.h5\") "
   ]
  },
  {
   "cell_type": "code",
   "execution_count": 51,
   "id": "0dacccd0",
   "metadata": {},
   "outputs": [
    {
     "data": {
      "text/plain": [
       "Text(0, 0.5, 'loss')"
      ]
     },
     "execution_count": 51,
     "metadata": {},
     "output_type": "execute_result"
    },
    {
     "data": {
      "image/png": "[encoded data removed]",
      "text/plain": [
       "<Figure size 1200x400 with 2 Axes>"
      ]
     },
     "metadata": {},
     "output_type": "display_data"
    }
   ],
   "source": [
    "# Train and Validation accuracy and loss\n",
    "f = plt.figure(figsize = (12,4))\n",
    "\n",
    "plt.subplot(1,2,1)\n",
    "plt.title('train validation accuracy')\n",
    "plt.plot(history3.history['accuracy'])\n",
    "plt.plot(history3.history['val_accuracy'])\n",
    "plt.legend(['train','validation'])\n",
    "plt.xlabel('epoch')\n",
    "plt.ylabel('accuracy')\n",
    "\n",
    "\n",
    "plt.subplot(1,2,2)\n",
    "plt.title('train validation loss')\n",
    "plt.plot(history3.history['loss'])\n",
    "plt.plot(history3.history['val_loss'])\n",
    "plt.legend(['train','validation'])\n",
    "plt.xlabel('epoch')\n",
    "plt.ylabel('loss')"
   ]
  },
  {
   "cell_type": "code",
   "execution_count": 52,
   "id": "e5985931",
   "metadata": {},
   "outputs": [],
   "source": [
    "mel_test = mel_file['mel_test']\n",
    "y_test_mel = mel_file['y_test']"
   ]
  },
  {
   "cell_type": "code",
   "execution_count": 53,
   "id": "aab860b1",
   "metadata": {},
   "outputs": [],
   "source": [
    "mel_test_scaled = (mel_test - np.mean(mel_test))/np.std(mel_test)\n",
    "\n",
    "# Reshape the data\n",
    "N,row,col = mel_test_scaled.shape\n",
    "mel_test_reshaped = mel_test_scaled.reshape((N,row,col,1))"
   ]
  },
  {
   "cell_type": "code",
   "execution_count": 54,
   "id": "dc2e7218",
   "metadata": {},
   "outputs": [
    {
     "name": "stdout",
     "output_type": "stream",
     "text": [
      "4/4 [==============================] - 1s 252ms/step\n"
     ]
    }
   ],
   "source": [
    "y3_prob = model3.predict(mel_test_reshaped)\n",
    "y3_pred = np.argmax(y3_prob, axis = -1)"
   ]
  },
  {
   "cell_type": "code",
   "execution_count": 55,
   "id": "e6e0d2f8",
   "metadata": {},
   "outputs": [
    {
     "data": {
      "text/plain": [
       "0.96"
      ]
     },
     "execution_count": 55,
     "metadata": {},
     "output_type": "execute_result"
    }
   ],
   "source": [
    "# Accuracy\n",
    "acc_mel = round(accuracy_score(y3_pred,y_test_mel),2)\n",
    "acc_mel"
   ]
  },
  {
   "cell_type": "code",
   "execution_count": 56,
   "id": "0b95e2b8",
   "metadata": {},
   "outputs": [
    {
     "name": "stdout",
     "output_type": "stream",
     "text": [
      "              precision    recall  f1-score   support\n",
      "\n",
      "       Angry       1.00      0.90      0.95        30\n",
      "       Happy       0.94      1.00      0.97        30\n",
      "     Relaxed       0.94      0.97      0.95        30\n",
      "         Sad       0.97      0.97      0.97        30\n",
      "\n",
      "    accuracy                           0.96       120\n",
      "   macro avg       0.96      0.96      0.96       120\n",
      "weighted avg       0.96      0.96      0.96       120\n",
      "\n"
     ]
    },
    {
     "data": {
      "image/png": "[encoded data removed]",
      "text/plain": [
       "<Figure size 640x480 with 2 Axes>"
      ]
     },
     "metadata": {},
     "output_type": "display_data"
    }
   ],
   "source": [
    "# Confusion Matrix\n",
    "cm_mel = confusion_matrix(y_test_mel,y3_pred)\n",
    "cm_display_mel = ConfusionMatrixDisplay(confusion_matrix = cm_mel, display_labels = ['Angry', 'Happy', 'Relaxed', 'Sad'])\n",
    "print(classification_report(y_test_mel, y3_pred, target_names = ['Angry', 'Happy', 'Relaxed', 'Sad']))\n",
    "cm_display_mel.plot()\n",
    "plt.show()"
   ]
  },
  {
   "cell_type": "markdown",
   "id": "afd38ef4",
   "metadata": {},
   "source": [
    "## 5. Ensenble 3 Models"
   ]
  },
  {
   "cell_type": "code",
   "execution_count": 57,
   "id": "91423e4e",
   "metadata": {},
   "outputs": [],
   "source": [
    "mfcc_file_ense = np.load(os.getcwd() + \"/Features2D/npz_new/mfcc_train_test_agumented.npz\")\n",
    "mfcc_ense_train = mfcc_file_ense['mfcc_train']\n",
    "mfcc_ense_test =mfcc_file_ense['mfcc_test']\n",
    "y_ense_train = mfcc_file_ense['y_train']\n",
    "y_ense_test = mfcc_file_ense['y_test']\n",
    "model_mfcc = load_model(os.getcwd() + \"/Features2D/Model/Conv2D_mfcc_agumented.h5\")"
   ]
  },
  {
   "cell_type": "code",
   "execution_count": 58,
   "id": "c708b319",
   "metadata": {},
   "outputs": [],
   "source": [
    "spec_file_ense = np.load(os.getcwd() + \"/Features2D/npz_new/spec_train_test_agumented.npz\")\n",
    "spec_ense_train = spec_file_ense['spec_train']\n",
    "spec_ense_test = spec_file_ense['spec_test']\n",
    "y_ense_train = spec_file_ense['y_train']\n",
    "y_ense_test = spec_file_ense['y_test']\n",
    "model_spec = load_model(os.getcwd() + \"/Features2D/Model/Conv2D_spec_agumented.h5\")"
   ]
  },
  {
   "cell_type": "code",
   "execution_count": 59,
   "id": "ce67f297",
   "metadata": {},
   "outputs": [],
   "source": [
    "mel_file_ense = np.load(os.getcwd() + \"/Features2D/npz_new/mel_train_test_agumented.npz\")\n",
    "mel_ense_train = mel_file_ense['mel_train']\n",
    "mel_ense_test =mel_file_ense['mel_test']\n",
    "y_ense_train = mel_file_ense['y_train']\n",
    "y_ense_test = mel_file_ense['y_test']\n",
    "model_mel = load_model(os.getcwd() + \"/Features2D/Model/Conv2D_mel_agumented.h5\")"
   ]
  },
  {
   "cell_type": "code",
   "execution_count": 60,
   "id": "25336c77",
   "metadata": {},
   "outputs": [],
   "source": [
    "# Feature Scaling\n",
    "mfcc_ense_train_scaled = (mfcc_ense_train - np.mean(mfcc_ense_train))/np.std(mfcc_ense_train)\n",
    "spec_ense_train_scaled = spec_ense_train / np.amax(spec_ense_train)\n",
    "mel_ense_train_scaled = (mel_ense_train - np.mean(mel_ense_train))/np.std(mel_ense_train)\n",
    "\n",
    "mfcc_ense_test_scaled = (mfcc_ense_test - np.mean(mfcc_ense_test))/np.std(mfcc_ense_test)\n",
    "spec_ense_test_scaled = spec_ense_test / np.amax(spec_ense_test)\n",
    "mel_ense_test_scaled = (mel_ense_test - np.mean(mel_ense_test))/np.std(mfcc_ense_test)\n",
    "\n",
    "\n",
    "# Reshape the data\n",
    "N,row,col = mfcc_ense_train_scaled.shape\n",
    "mfcc_ense_train_reshaped = mfcc_ense_train_scaled.reshape((N,row,col,1))\n",
    "N,row,col = spec_ense_train_scaled.shape\n",
    "spec_ense_train_reshaped = spec_ense_train_scaled.reshape((N,row,col,1))\n",
    "N,row,col = mel_ense_train_scaled.shape\n",
    "mel_ense_train_reshaped = mel_ense_train_scaled.reshape((N,row,col,1))\n",
    "\n",
    "N,row,col = mfcc_ense_test_scaled.shape\n",
    "mfcc_ense_test_reshaped = mfcc_ense_test_scaled.reshape((N,row,col,1))\n",
    "N,row,col = spec_ense_test_scaled.shape\n",
    "spec_ense_test_reshaped = spec_ense_test_scaled.reshape((N,row,col,1))\n",
    "N,row,col = mel_ense_test_scaled.shape\n",
    "mel_ense_test_reshaped = mel_ense_test_scaled.reshape((N,row,col,1))"
   ]
  },
  {
   "cell_type": "code",
   "execution_count": 61,
   "id": "f48d577e",
   "metadata": {},
   "outputs": [
    {
     "name": "stdout",
     "output_type": "stream",
     "text": [
      "34/34 [==============================] - 6s 171ms/step\n",
      "34/34 [==============================] - 5s 124ms/step\n",
      "34/34 [==============================] - 9s 232ms/step\n"
     ]
    }
   ],
   "source": [
    "# Train 3 models\n",
    "y_ense_prob1 = model_mfcc.predict(mfcc_ense_train_reshaped)\n",
    "y_ense_pred1 = np.argmax(y_ense_prob1, axis= -1)\n",
    "\n",
    "y_ense_prob2 = model_spec.predict(spec_ense_train_reshaped)\n",
    "y_ense_pred2 = np.argmax(y_ense_prob2, axis= -1)\n",
    "\n",
    "y_ense_prob3 = model_mel.predict(mel_ense_train_reshaped)\n",
    "y_ense_pred3 = np.argmax(y_ense_prob3, axis= -1)"
   ]
  },
  {
   "cell_type": "code",
   "execution_count": 62,
   "id": "2329d66d",
   "metadata": {},
   "outputs": [],
   "source": [
    "# Vote for most accuracte prediction\n",
    "def get_majority(pred) :\n",
    "    N = len(pred[0]) # num of examples\n",
    "    vote = [] \n",
    "    for i in range(N) :\n",
    "        elements = [j[i] for j in pred] # 3 Prediction results  using 3 different model\n",
    "        elements = np.array(elements)\n",
    "        uniq, freq = np.unique(elements, return_counts= True) # Count the occurence of unqiue result\n",
    "        vote.append(uniq[np.argmax(freq)])# Choose the prediction with most occurence\n",
    "    \n",
    "    vote = np.array(vote)\n",
    "    return vote"
   ]
  },
  {
   "cell_type": "code",
   "execution_count": 63,
   "id": "6bea2894",
   "metadata": {},
   "outputs": [],
   "source": [
    "# 3 different predictions\n",
    "train_pred = [y_ense_pred1, y_ense_pred2, y_ense_pred3]"
   ]
  },
  {
   "cell_type": "code",
   "execution_count": 64,
   "id": "64d17b12",
   "metadata": {},
   "outputs": [],
   "source": [
    "y_train_pred = get_majority(train_pred)"
   ]
  },
  {
   "cell_type": "code",
   "execution_count": 65,
   "id": "5ab661e6",
   "metadata": {},
   "outputs": [
    {
     "data": {
      "text/plain": [
       "0.9861"
      ]
     },
     "execution_count": 65,
     "metadata": {},
     "output_type": "execute_result"
    }
   ],
   "source": [
    "# Model Evaluation\n",
    "train_corr = len(y_train_pred) - np.count_nonzero(y_train_pred - y_ense_train)\n",
    "train_acc = np.round((train_corr/ len(y_train_pred)),4)\n",
    "train_acc"
   ]
  },
  {
   "cell_type": "code",
   "execution_count": 66,
   "id": "99f79be5",
   "metadata": {},
   "outputs": [
    {
     "name": "stdout",
     "output_type": "stream",
     "text": [
      "4/4 [==============================] - 0s 79ms/step\n",
      "4/4 [==============================] - 1s 113ms/step\n",
      "4/4 [==============================] - 1s 198ms/step\n"
     ]
    }
   ],
   "source": [
    "# Test ensembled models\n",
    "y_test_prob1 = model_spec.predict(spec_ense_test_reshaped)\n",
    "y_test_pred1 = np.argmax(y_test_prob1, axis= -1)\n",
    "\n",
    "y_test_prob2 = model_mfcc.predict(mfcc_ense_test_reshaped)\n",
    "y_test_pred2 = np.argmax(y_test_prob2, axis= -1)\n",
    "\n",
    "y_test_prob3 = model_mel.predict(mel_ense_test_reshaped)\n",
    "y_test_pred3 = np.argmax(y_test_prob3, axis= -1)"
   ]
  },
  {
   "cell_type": "code",
   "execution_count": 67,
   "id": "434ad020",
   "metadata": {},
   "outputs": [],
   "source": [
    "test_pred = [y_test_pred1, y_test_pred2, y_test_pred3]"
   ]
  },
  {
   "cell_type": "code",
   "execution_count": 68,
   "id": "f3e6a64c",
   "metadata": {},
   "outputs": [],
   "source": [
    "y_test_pred = get_majority(test_pred)"
   ]
  },
  {
   "cell_type": "code",
   "execution_count": 69,
   "id": "50a2ffdc",
   "metadata": {},
   "outputs": [
    {
     "data": {
      "text/plain": [
       "0.9583"
      ]
     },
     "execution_count": 69,
     "metadata": {},
     "output_type": "execute_result"
    }
   ],
   "source": [
    "# Model Evaluation\n",
    "test_corr = len(y_test_pred) - np.count_nonzero(y_test_pred - y_ense_test)\n",
    "test_acc = np.round((test_corr/ len(y_test_pred)),4)\n",
    "test_acc"
   ]
  },
  {
   "cell_type": "code",
   "execution_count": 70,
   "id": "beafc40c",
   "metadata": {},
   "outputs": [
    {
     "name": "stdout",
     "output_type": "stream",
     "text": [
      "              precision    recall  f1-score   support\n",
      "\n",
      "       Angry       0.97      0.97      0.97        30\n",
      "       Happy       0.97      1.00      0.98        30\n",
      "     Relaxed       0.91      1.00      0.95        30\n",
      "         Sad       1.00      0.87      0.93        30\n",
      "\n",
      "    accuracy                           0.96       120\n",
      "   macro avg       0.96      0.96      0.96       120\n",
      "weighted avg       0.96      0.96      0.96       120\n",
      "\n"
     ]
    },
    {
     "data": {
      "image/png": "[encoded data removed]",
      "text/plain": [
       "<Figure size 640x480 with 2 Axes>"
      ]
     },
     "metadata": {},
     "output_type": "display_data"
    }
   ],
   "source": [
    "# Confusion Matrix\n",
    "cm_ense = confusion_matrix(y_ense_test,y_test_pred)\n",
    "cm_display_ense = ConfusionMatrixDisplay(confusion_matrix = cm_ense, display_labels = ['Angry', 'Happy', 'Relaxed', 'Sad'])\n",
    "print(classification_report(y_ense_test, y_test_pred, target_names = ['Angry', 'Happy', 'Relaxed', 'Sad']))\n",
    "cm_display_ense.plot()\n",
    "plt.show()"
   ]
  },
  {
   "cell_type": "code",
   "execution_count": null,
   "id": "81c9ad3c",
   "metadata": {},
   "outputs": [],
   "source": [
    "model_mfcc = load_model(os.getcwd() + \"/Features2D/Model/Conv2D_mfcc_agumented.h5\")\n",
    "model_spec = load_model(os.getcwd() + \"/Features2D/Model/Conv2D_spec_agumented.h5\")\n",
    "model_mel = load_model(os.getcwd() + \"/Features2D/Model/Conv2D_mel_agumented.h5\")"
   ]
  },
  {
   "cell_type": "code",
   "execution_count": null,
   "id": "ad2f3ae0",
   "metadata": {},
   "outputs": [
    {
     "name": "stdout",
     "output_type": "stream",
     "text": [
      "1/1 [==============================] - 0s 132ms/step\n",
      "1/1 [==============================] - 0s 131ms/step\n",
      "1/1 [==============================] - 0s 133ms/step\n"
     ]
    }
   ],
   "source": [
    "f_prob_mfcc = model_mfcc.predict(f_mfcc_reshaped)\n",
    "f_pred_mfcc = np.argmax(f_prob_mfcc, axis= -1)\n",
    "\n",
    "f_prob_spec = model_spec.predict(f_spec_reshaped)\n",
    "f_pred_spec = np.argmax(f_prob_spec, axis= -1)\n",
    "\n",
    "f_prob_mel = model_mel.predict(f_mel_reshaped)\n",
    "f_pred_mel = np.argmax(f_prob_mel, axis= -1)\n",
    "\n",
    "f_pred3 = [f_pred_mfcc,f_pred_spec,f_pred_mel]\n",
    "f_pred = get_majority(f_pred3)"
   ]
  }
 ],
 "metadata": {
  "kernelspec": {
   "display_name": "Python 3 (ipykernel)",
   "language": "python",
   "name": "python3"
  },
  "language_info": {
   "codemirror_mode": {
    "name": "ipython",
    "version": 3
   },
   "file_extension": ".py",
   "mimetype": "text/x-python",
   "name": "python",
   "nbconvert_exporter": "python",
   "pygments_lexer": "ipython3",
   "version": "3.10.9"
  }
 },
 "nbformat": 4,
 "nbformat_minor": 5
}
