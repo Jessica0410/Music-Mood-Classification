{
 "cells": [
  {
   "cell_type": "code",
   "execution_count": 1,
   "id": "467ed1d0",
   "metadata": {},
   "outputs": [],
   "source": [
    "import warnings\n",
    "warnings.filterwarnings(\"ignore\")"
   ]
  },
  {
   "cell_type": "code",
   "execution_count": 2,
   "id": "5d9be511",
   "metadata": {},
   "outputs": [
    {
     "name": "stderr",
     "output_type": "stream",
     "text": [
      "2023-06-30 08:03:59.663458: I tensorflow/core/platform/cpu_feature_guard.cc:182] This TensorFlow binary is optimized to use available CPU instructions in performance-critical operations.\n",
      "To enable the following instructions: AVX2 FMA, in other operations, rebuild TensorFlow with the appropriate compiler flags.\n"
     ]
    }
   ],
   "source": [
    "import os\n",
    "import cv2\n",
    "import numpy as np\n",
    "import pandas as pd\n",
    "\n",
    "from sklearn.model_selection import train_test_split \n",
    "import tensorflow as tf\n",
    "from tensorflow.keras.models import Sequential, load_model\n",
    "from tensorflow.keras.layers import Conv2D, MaxPooling2D,BatchNormalization, Dense, Dropout, Flatten\n",
    "from tensorflow.keras.optimizers import Adam\n",
    "\n",
    "import matplotlib.pyplot as plt\n",
    "\n",
    "from sklearn.metrics import accuracy_score, confusion_matrix, classification_report, ConfusionMatrixDisplay"
   ]
  },
  {
   "cell_type": "code",
   "execution_count": 5,
   "id": "4631b1c8",
   "metadata": {},
   "outputs": [],
   "source": [
    "f = np.load(\"Features2D/npz/Features2.npz\")\n",
    "f_noise = np.load(\"Features2D/npz/Features_noise.npz\")\n",
    "f_shift = np.load(\"Features2D/npz/Features_shift.npz\")"
   ]
  },
  {
   "cell_type": "code",
   "execution_count": 6,
   "id": "db963bab",
   "metadata": {},
   "outputs": [],
   "source": [
    "spec = f['spec'] #(400,1025,1099)\n",
    "mfcc = f['mfcc'] #(400,20,1099)\n",
    "mel = f['mel']#(400,128,1099)\n",
    "y = f['target']"
   ]
  },
  {
   "cell_type": "code",
   "execution_count": 7,
   "id": "54482a18",
   "metadata": {},
   "outputs": [],
   "source": [
    "spec_noise = f_noise['spec'] #(400,1025,1099)\n",
    "mfcc_noise = f_noise['mfcc'] #(400,20,1099)\n",
    "mel_noise = f_noise['mel']#(400,128,1099)\n",
    "y_noise = f_noise['target']"
   ]
  },
  {
   "cell_type": "code",
   "execution_count": 8,
   "id": "57eac514",
   "metadata": {},
   "outputs": [],
   "source": [
    "spec_shift = f_shift['spec'] #(400,1025,1099)\n",
    "mfcc_shift = f_shift['mfcc'] #(400,20,1099)\n",
    "mel_shift = f_shift['mel']#(400,128,1099)\n",
    "y_shift = f_shift['target']"
   ]
  },
  {
   "cell_type": "markdown",
   "id": "d9448b9d",
   "metadata": {},
   "source": [
    "## 3. Data Preprocessing\n",
    "### 3.1 Resize the data"
   ]
  },
  {
   "cell_type": "code",
   "execution_count": 9,
   "id": "b0a48043",
   "metadata": {},
   "outputs": [],
   "source": [
    "mfcc_resized = np.empty((400, 120, 600))\n",
    "mfcc_noise_resized = np.empty((400, 120, 600))\n",
    "mfcc_shift_resized = np.empty((400, 120, 600))\n",
    "\n",
    "for i in range(0,400):\n",
    "    mfcc_resized[i] = cv2.resize(mfcc[i],(600,120))\n",
    "    mfcc_noise_resized[i] = cv2.resize(mfcc_noise[i],(600,120))\n",
    "    mfcc_shift_resized[i] = cv2.resize(mfcc_shift[i],(600,120))"
   ]
  },
  {
   "cell_type": "code",
   "execution_count": 10,
   "id": "3fa96a8a",
   "metadata": {},
   "outputs": [],
   "source": [
    "spec_resized = np.empty((400, 300, 300))\n",
    "spec_noise_resized = np.empty((400, 300, 300))\n",
    "spec_shift_resized = np.empty((400, 300, 300))\n",
    "\n",
    "for i in range(0,400):\n",
    "    spec_resized[i] = cv2.resize(spec[i],(300,300))\n",
    "    spec_noise_resized[i] = cv2.resize(spec_noise[i],(300,300))\n",
    "    spec_shift_resized[i] = cv2.resize(spec_shift[i],(300,300))"
   ]
  },
  {
   "cell_type": "code",
   "execution_count": 11,
   "id": "d782e4ae",
   "metadata": {},
   "outputs": [],
   "source": [
    "mel_resized = np.empty((400, 300, 400))\n",
    "mel_noise_resized = np.empty((400, 300, 400))\n",
    "mel_shift_resized = np.empty((400, 300, 400))\n",
    "\n",
    "for i in range(0,400):\n",
    "    mel_resized[i] = cv2.resize(mel[i],(400,300))\n",
    "    mel_noise_resized[i] = cv2.resize(mel_noise[i],(400,300))\n",
    "    mel_shift_resized[i] = cv2.resize(mel_shift[i],(400,300))"
   ]
  },
  {
   "cell_type": "markdown",
   "id": "fe37f7e2",
   "metadata": {},
   "source": [
    "### 3.2 Train Test Split"
   ]
  },
  {
   "cell_type": "code",
   "execution_count": 12,
   "id": "184ed362",
   "metadata": {},
   "outputs": [],
   "source": [
    "mfcc0_train,mfcc_test,y0_train,y_test = train_test_split(mfcc_resized,y, \n",
    "                                                         train_size = 0.7, \n",
    "                                                         random_state = 13, \n",
    "                                                         stratify= y)\n",
    "mfcc_train_agumented = np.concatenate((mfcc0_train,mfcc_noise_resized,mfcc_shift_resized))\n",
    "y1_train_agumented = np.concatenate((y0_train,y_noise,y_shift))"
   ]
  },
  {
   "cell_type": "code",
   "execution_count": 13,
   "id": "a7c14703",
   "metadata": {},
   "outputs": [],
   "source": [
    "spec0_train,spec_test,y0_train,y_test = train_test_split(spec_resized,y, \n",
    "                                                   train_size = 0.7, \n",
    "                                                   random_state = 13, \n",
    "                                                   stratify= y)\n",
    "spec_train_agumented = np.concatenate((spec0_train,spec_noise_resized,spec_shift_resized))\n",
    "y2_train_agumented = np.concatenate((y0_train,y_noise,y_shift))"
   ]
  },
  {
   "cell_type": "code",
   "execution_count": 14,
   "id": "d08ead48",
   "metadata": {},
   "outputs": [],
   "source": [
    "mel0_train,mel_test,y0_train,y_test = train_test_split(mel_resized,y, \n",
    "                                                       train_size = 0.7, \n",
    "                                                       random_state = 13, \n",
    "                                                       stratify= y)\n",
    "mel_train_agumented = np.concatenate((mel0_train,mel_noise_resized,mel_shift_resized))\n",
    "y3_train_agumented = np.concatenate((y0_train,y_noise,y_shift))"
   ]
  },
  {
   "cell_type": "code",
   "execution_count": 15,
   "id": "d7aebd72",
   "metadata": {},
   "outputs": [],
   "source": [
    "np.savez_compressed(\"Features2D/npz_new/mfcc_train_test_agumented.npz\",\n",
    "                    mfcc_train = mfcc_train_agumented, \n",
    "                    mfcc_test = mfcc_test, \n",
    "                    y_train = y1_train_agumented, \n",
    "                    y_test = y_test)"
   ]
  },
  {
   "cell_type": "code",
   "execution_count": 16,
   "id": "caa7a683",
   "metadata": {},
   "outputs": [],
   "source": [
    "np.savez_compressed(\"Features2D/npz_new/spec_train_test_agumented.npz\",\n",
    "                    spec_train = spec_train_agumented, \n",
    "                    spec_test = spec_test, \n",
    "                    y_train = y2_train_agumented, \n",
    "                    y_test = y_test)"
   ]
  },
  {
   "cell_type": "code",
   "execution_count": 17,
   "id": "2822e3c8",
   "metadata": {},
   "outputs": [],
   "source": [
    "np.savez_compressed(\"Features2D/npz_new/mel_train_test_agumented.npz\",\n",
    "                    mel_train = mel_train_agumented, \n",
    "                    mel_test = mel_test, \n",
    "                    y_train = y3_train_agumented, \n",
    "                    y_test = y_test)"
   ]
  },
  {
   "cell_type": "markdown",
   "id": "adb83584",
   "metadata": {},
   "source": [
    "### 3.2 Feature Scaling"
   ]
  },
  {
   "cell_type": "code",
   "execution_count": 18,
   "id": "9a40b74c",
   "metadata": {},
   "outputs": [],
   "source": [
    "spec_scaled = spec_resized / np.amax(spec_resized)\n",
    "mfcc_scaled = (mfcc_resized - np.mean(mfcc_resized))/np.std(mfcc_resized)\n",
    "mel_scaled = mel_resized / np.amax(mel_resized)\n",
    "\n",
    "spec_noise_scaled = spec_noise_resized / np.amax(spec_noise_resized)\n",
    "mfcc_noise_scaled = (mfcc_noise_resized - np.mean(mfcc_noise_resized))/np.std(mfcc_noise_resized)\n",
    "mel_noise_scaled = mel_noise_resized / np.amax(mel_noise_resized)\n",
    "\n",
    "spec_shift_scaled = spec_shift_resized / np.amax(spec_shift_resized)\n",
    "mfcc_shift_scaled = (mfcc_shift_resized - np.mean(mfcc_shift_resized))/np.std(mfcc_shift_resized)\n",
    "mel_shift_scaled = mel_shift_resized / np.amax(mel_shift_resized)"
   ]
  },
  {
   "cell_type": "markdown",
   "id": "158f5626",
   "metadata": {},
   "source": [
    "### 3.3. Reshape Data"
   ]
  },
  {
   "cell_type": "code",
   "execution_count": 19,
   "id": "095ac704",
   "metadata": {},
   "outputs": [],
   "source": [
    "N,row,col = mfcc_scaled.shape\n",
    "mfcc_reshaped = mfcc_scaled.reshape((N,row,col,1))\n",
    "N,row,col = mfcc_noise_scaled.shape\n",
    "mfcc_noise_reshaped = mfcc_noise_scaled.reshape((N,row,col,1))\n",
    "N,row,col = mfcc_shift_scaled.shape\n",
    "mfcc_shift_reshaped = mfcc_shift_scaled.reshape((N,row,col,1))"
   ]
  },
  {
   "cell_type": "code",
   "execution_count": 20,
   "id": "3050cd2c",
   "metadata": {},
   "outputs": [],
   "source": [
    "N,row,col = spec_scaled.shape\n",
    "spec_reshaped = spec_scaled.reshape((N,row,col,1))\n",
    "N,row,col = spec_noise_scaled.shape\n",
    "spec_noise_reshaped = spec_noise_scaled.reshape((N,row,col,1))\n",
    "N,row,col = spec_shift_scaled.shape\n",
    "spec_shift_reshaped = spec_shift_scaled.reshape((N,row,col,1))"
   ]
  },
  {
   "cell_type": "code",
   "execution_count": 22,
   "id": "b3c57cc2",
   "metadata": {},
   "outputs": [],
   "source": [
    "N,row,col = mel_scaled.shape\n",
    "mel_reshaped = mel_scaled.reshape((N,row,col,1))\n",
    "N,row,col = mel_noise_scaled.shape\n",
    "mel_noise_reshaped = mel_noise_scaled.reshape((N,row,col,1))\n",
    "N,row,col = mel_shift_scaled.shape\n",
    "mel_shift_reshaped = mel_shift_scaled.reshape((N,row,col,1))"
   ]
  },
  {
   "cell_type": "markdown",
   "id": "16e372df",
   "metadata": {},
   "source": [
    "## 4. Classification"
   ]
  },
  {
   "cell_type": "code",
   "execution_count": 23,
   "id": "a6ed8c63",
   "metadata": {},
   "outputs": [],
   "source": [
    "# Train the model\n",
    "def modelBuilder3L(X_train,\n",
    "                   f1,k1,a1,\n",
    "                   mr1,mc1,sr1,sc1,\n",
    "                   f2,k2,a2,\n",
    "                   mr2,mc2,sr2,sc2,\n",
    "                   f3,k3,a3,\n",
    "                   mr3,m3,sr3,sc3,\n",
    "                   d1,dr1,da1,r1,\n",
    "                   d2,dr2,da2,r2,\n",
    "                   num):\n",
    "    \n",
    "    '''\n",
    "    args:\n",
    "    \n",
    "    X_train: training data\n",
    "    f1,k1,a1: num of filters, filter size and activation func of 1st conv2D layer\n",
    "    mr1,mc1,sr1,sc1: filter size and strides of 1st MaxPooling2D layer\n",
    "    f2,k2,a2: num of filters, filter size and activation func of 2nd conv2D layer\n",
    "    mr2,mc2,sr2,sc2: filter size and strides of 2nd MaxPooling2D layer\n",
    "    f3,k3,a3: num of filters, filter size and activation func of 3rd conv2D layer\n",
    "    mr3,sc3,sr3,sc3: filter size and strides of 3rd MaxPooling2D layer\n",
    "    d1,dr1,da1, r1: num of units, dropout, activation func and regularizer para of 1st fully connected layer\n",
    "    d2,dr2,da2, r2: num of units, dropout, activation func and regularizer para of 2nd fully connected layer\n",
    "    num: integer for distinguishing different model\n",
    "    \n",
    "    return:\n",
    "    model\n",
    "    \n",
    "    '''\n",
    "    \n",
    "    N,row,col,Nc = X_train.shape\n",
    "    \n",
    "    model = Sequential(name = \"CNN2D_\"+str(num))\n",
    "    #L1\n",
    "    model.add(Conv2D(f1,(k1,k1),activation = a1,input_shape = (row,col,Nc), padding = 'same', name = 'Conv2D_1'))\n",
    "    model.add(MaxPooling2D((mw1,mh1), strides = (sw1,sh1), padding = 'same', name = 'MaxPooling2D_1'))\n",
    "    model.add(BatchNormalization(name = \"BN1\"))\n",
    "    \n",
    "    #L2\n",
    "    model.add(Conv2D(f2,(k2,k2), activation = a2, padding = 'same',name = 'Conv2D_2'))\n",
    "    model.add(MaxPooling2D((mw2,mh2),strides = (sw2,sh2), padding = 'same', name = 'MaxPooling2D_2'))\n",
    "    model.add(BatchNormalization(name = \"BN2\"))\n",
    "\n",
    "    #L3\n",
    "    model.add(Conv2D(f3,(k3,k3), activation = a3, padding = 'same',name = 'Conv2D_3'))\n",
    "    model.add(MaxPooling2D((mw3,mh3), strides = (sw3,sh3), padding = 'same', name = 'MaxPooling2D_3'))\n",
    "    model.add(BatchNormalization(name = \"BN3\"))\n",
    "   \n",
    "    #Flatten layer\n",
    "    model.add(Flatten(name = 'Flatten'))\n",
    "    #FC4\n",
    "    model.add(Dense(d1, activation = da1, kernel_regularizer = tf.keras.regularizers.L2(r1), name='Dense1'))\n",
    "    model.add(Dropout(dr1, name = \"Dropout1\"))\n",
    "    #FC5\n",
    "    model.add(Dense(d2, activation = da2, kernel_regularizer = tf.keras.regularizers.L2(r2), name='Dense2'))\n",
    "    model.add(Dropout(dr2, name = \"Dropout2\"))\n",
    "    #Softmax layer\n",
    "    model.add(Dense(4, activation ='softmax', name='Softmax'))\n",
    "\n",
    "    optimizer = Adam(learning_rate=0.0001)\n",
    "    model.compile(optimizer= optimizer, loss= 'sparse_categorical_crossentropy', metrics=['accuracy'])\n",
    "\n",
    "    model.summary()\n",
    "    \n",
    "    return model"
   ]
  },
  {
   "cell_type": "markdown",
   "id": "14441af7",
   "metadata": {},
   "source": [
    "### 4.1 MFCC"
   ]
  },
  {
   "cell_type": "code",
   "execution_count": 24,
   "id": "87351dfe",
   "metadata": {},
   "outputs": [],
   "source": [
    "# Load MFCC data set\n",
    "mfcc_file = np.load(\"Features2D/npz_new/mfcc_train_test_agumented.npz\")\n",
    "\n",
    "mfcc_train = mfcc_file['mfcc_train']\n",
    "y1_train = mfcc_file['y_train']\n",
    "\n",
    "# validation set\n",
    "mfcc_train,mfcc_val,y1_train,y1_val = train_test_split(mfcc_train,y1_train, \n",
    "                                                       train_size = 0.8,  \n",
    "                                                       random_state = 13, \n",
    "                                                       stratify= y1_train)"
   ]
  },
  {
   "cell_type": "code",
   "execution_count": 25,
   "id": "a4f24a0c",
   "metadata": {},
   "outputs": [],
   "source": [
    "# Feature Scaling\n",
    "mfcc_train_scaled = (mfcc_train - np.mean(mfcc_train))/np.std(mfcc_train)\n",
    "mfcc_val_scaled = (mfcc_val - np.mean(mfcc_val))/np.std(mfcc_val)"
   ]
  },
  {
   "cell_type": "code",
   "execution_count": 26,
   "id": "064762a7",
   "metadata": {},
   "outputs": [],
   "source": [
    "# Reshape the data\n",
    "N,row,col = mfcc_train_scaled.shape\n",
    "mfcc_train_reshaped = mfcc_train_scaled.reshape((N,row,col,1))\n",
    "N,row,col = mfcc_val_scaled.shape\n",
    "mfcc_val_reshaped = mfcc_val_scaled.reshape((N,row,col,1))"
   ]
  },
  {
   "cell_type": "code",
   "execution_count": 27,
   "id": "52bd0099",
   "metadata": {
    "scrolled": true
   },
   "outputs": [
    {
     "name": "stdout",
     "output_type": "stream",
     "text": [
      "Model: \"CNN2D_1\"\n",
      "_________________________________________________________________\n",
      " Layer (type)                Output Shape              Param #   \n",
      "=================================================================\n",
      " Conv2D_1 (Conv2D)           (None, 120, 600, 8)       80        \n",
      "                                                                 \n",
      " MaxPooling2D_1 (MaxPooling2  (None, 60, 300, 8)       0         \n",
      " D)                                                              \n",
      "                                                                 \n",
      " BN1 (BatchNormalization)    (None, 60, 300, 8)        32        \n",
      "                                                                 \n",
      " Conv2D_2 (Conv2D)           (None, 60, 300, 8)        584       \n",
      "                                                                 \n",
      " MaxPooling2D_2 (MaxPooling2  (None, 30, 150, 8)       0         \n",
      " D)                                                              \n",
      "                                                                 \n",
      " BN2 (BatchNormalization)    (None, 30, 150, 8)        32        \n",
      "                                                                 \n",
      " Conv2D_3 (Conv2D)           (None, 30, 150, 16)       1168      \n",
      "                                                                 \n",
      " MaxPooling2D_3 (MaxPooling2  (None, 15, 75, 16)       0         \n",
      " D)                                                              \n",
      "                                                                 \n",
      " BN3 (BatchNormalization)    (None, 15, 75, 16)        64        \n",
      "                                                                 \n",
      " Flatten (Flatten)           (None, 18000)             0         \n",
      "                                                                 \n",
      " Dense1 (Dense)              (None, 64)                1152064   \n",
      "                                                                 \n",
      " Dropout1 (Dropout)          (None, 64)                0         \n",
      "                                                                 \n",
      " Dense2 (Dense)              (None, 32)                2080      \n",
      "                                                                 \n",
      " Dropout2 (Dropout)          (None, 32)                0         \n",
      "                                                                 \n",
      " Softmax (Dense)             (None, 4)                 132       \n",
      "                                                                 \n",
      "=================================================================\n",
      "Total params: 1,156,236\n",
      "Trainable params: 1,156,172\n",
      "Non-trainable params: 64\n",
      "_________________________________________________________________\n"
     ]
    }
   ],
   "source": [
    "f1,k1,a1 = 8,3,'relu'\n",
    "mw1,mh1,sw1,sh1 = 2,3,2,2\n",
    "f2,k2,a2 = 8,3,'relu'\n",
    "mw2,mh2,sw2,sh2 = 2,3,2,2\n",
    "f3,k3,a3 = 16,3,'relu'\n",
    "mw3,mh3,sw3,sh3 = 2,3,2,2\n",
    "d1,dr1,da1,r1 = 64,0.2,'relu',0.2\n",
    "d2,dr2,da2,r2 = 32,0.2,'relu',0.2\n",
    "num = 1\n",
    "\n",
    "model1 = modelBuilder3L(mfcc_train_reshaped,\n",
    "                        f1,k1,a1,\n",
    "                        mw1,mh1,sw1,sh1,\n",
    "                        f2,k2,a2,\n",
    "                        mw2,mh2,sw2,sh2,\n",
    "                        f3,k3,a3,\n",
    "                        mw3,mh3,sw3,sh3,\n",
    "                        d1,dr1,da1,r1,\n",
    "                        d2,dr2,da2,r2,\n",
    "                        num)"
   ]
  },
  {
   "cell_type": "code",
   "execution_count": 28,
   "id": "0fd0055a",
   "metadata": {
    "scrolled": true
   },
   "outputs": [
    {
     "name": "stdout",
     "output_type": "stream",
     "text": [
      "Epoch 1/80\n",
      "44/44 [==============================] - 37s 735ms/step - loss: 30.8823 - accuracy: 0.3831 - val_loss: 26.2593 - val_accuracy: 0.2546\n",
      "Epoch 2/80\n",
      "44/44 [==============================] - 16s 372ms/step - loss: 22.7770 - accuracy: 0.4942 - val_loss: 19.8386 - val_accuracy: 0.4769\n",
      "Epoch 3/80\n",
      "44/44 [==============================] - 15s 333ms/step - loss: 17.4306 - accuracy: 0.6042 - val_loss: 15.7417 - val_accuracy: 0.5185\n",
      "Epoch 4/80\n",
      "44/44 [==============================] - 13s 293ms/step - loss: 14.0707 - accuracy: 0.6574 - val_loss: 13.2176 - val_accuracy: 0.4120\n",
      "Epoch 5/80\n",
      "44/44 [==============================] - 13s 302ms/step - loss: 11.8819 - accuracy: 0.6806 - val_loss: 11.4397 - val_accuracy: 0.4537\n",
      "Epoch 6/80\n",
      "44/44 [==============================] - 13s 291ms/step - loss: 10.3029 - accuracy: 0.7384 - val_loss: 10.1623 - val_accuracy: 0.5324\n",
      "Epoch 7/80\n",
      "44/44 [==============================] - 14s 307ms/step - loss: 9.1828 - accuracy: 0.7627 - val_loss: 9.1224 - val_accuracy: 0.5417\n",
      "Epoch 8/80\n",
      "44/44 [==============================] - 14s 323ms/step - loss: 8.3396 - accuracy: 0.8056 - val_loss: 8.2976 - val_accuracy: 0.6204\n",
      "Epoch 9/80\n",
      "44/44 [==============================] - 15s 341ms/step - loss: 7.6582 - accuracy: 0.8426 - val_loss: 7.7323 - val_accuracy: 0.6204\n",
      "Epoch 10/80\n",
      "44/44 [==============================] - 16s 373ms/step - loss: 7.1020 - accuracy: 0.8495 - val_loss: 7.0264 - val_accuracy: 0.7963\n",
      "Epoch 11/80\n",
      "44/44 [==============================] - 15s 336ms/step - loss: 6.6071 - accuracy: 0.8785 - val_loss: 6.5467 - val_accuracy: 0.8241\n",
      "Epoch 12/80\n",
      "44/44 [==============================] - 14s 307ms/step - loss: 6.1900 - accuracy: 0.8900 - val_loss: 6.1271 - val_accuracy: 0.8380\n",
      "Epoch 13/80\n",
      "44/44 [==============================] - 13s 294ms/step - loss: 5.8646 - accuracy: 0.8819 - val_loss: 5.8271 - val_accuracy: 0.8056\n",
      "Epoch 14/80\n",
      "44/44 [==============================] - 22s 494ms/step - loss: 5.4924 - accuracy: 0.9120 - val_loss: 5.4660 - val_accuracy: 0.8241\n",
      "Epoch 15/80\n",
      "44/44 [==============================] - 15s 347ms/step - loss: 5.2292 - accuracy: 0.8877 - val_loss: 5.1691 - val_accuracy: 0.8472\n",
      "Epoch 16/80\n",
      "44/44 [==============================] - 14s 308ms/step - loss: 4.8879 - accuracy: 0.9201 - val_loss: 4.9256 - val_accuracy: 0.8148\n",
      "Epoch 17/80\n",
      "44/44 [==============================] - 14s 319ms/step - loss: 4.6271 - accuracy: 0.9271 - val_loss: 4.6188 - val_accuracy: 0.8750\n",
      "Epoch 18/80\n",
      "44/44 [==============================] - 14s 308ms/step - loss: 4.3505 - accuracy: 0.9398 - val_loss: 4.4307 - val_accuracy: 0.8333\n",
      "Epoch 19/80\n",
      "44/44 [==============================] - 13s 305ms/step - loss: 4.1226 - accuracy: 0.9410 - val_loss: 4.1810 - val_accuracy: 0.8704\n",
      "Epoch 20/80\n",
      "44/44 [==============================] - 14s 311ms/step - loss: 3.9074 - accuracy: 0.9433 - val_loss: 3.9675 - val_accuracy: 0.8611\n",
      "Epoch 21/80\n",
      "44/44 [==============================] - 14s 308ms/step - loss: 3.7119 - accuracy: 0.9479 - val_loss: 3.8299 - val_accuracy: 0.8241\n",
      "Epoch 22/80\n",
      "44/44 [==============================] - 13s 306ms/step - loss: 3.5446 - accuracy: 0.9317 - val_loss: 3.6428 - val_accuracy: 0.8472\n",
      "Epoch 23/80\n",
      "44/44 [==============================] - 13s 304ms/step - loss: 3.3661 - accuracy: 0.9444 - val_loss: 3.4602 - val_accuracy: 0.8472\n",
      "Epoch 24/80\n",
      "44/44 [==============================] - 14s 315ms/step - loss: 3.1895 - accuracy: 0.9491 - val_loss: 3.2764 - val_accuracy: 0.8657\n",
      "Epoch 25/80\n",
      "44/44 [==============================] - 15s 335ms/step - loss: 3.0167 - accuracy: 0.9595 - val_loss: 3.1354 - val_accuracy: 0.8704\n",
      "Epoch 26/80\n",
      "44/44 [==============================] - 14s 313ms/step - loss: 2.8620 - accuracy: 0.9641 - val_loss: 2.9853 - val_accuracy: 0.8565\n",
      "Epoch 27/80\n",
      "44/44 [==============================] - 14s 327ms/step - loss: 2.7039 - accuracy: 0.9653 - val_loss: 2.8524 - val_accuracy: 0.8565\n",
      "Epoch 28/80\n",
      "44/44 [==============================] - 13s 291ms/step - loss: 2.5476 - accuracy: 0.9792 - val_loss: 2.7381 - val_accuracy: 0.8519\n",
      "Epoch 29/80\n",
      "44/44 [==============================] - 13s 294ms/step - loss: 2.4305 - accuracy: 0.9664 - val_loss: 2.6582 - val_accuracy: 0.8194\n",
      "Epoch 30/80\n",
      "44/44 [==============================] - 13s 294ms/step - loss: 2.3400 - accuracy: 0.9618 - val_loss: 2.4723 - val_accuracy: 0.8704\n",
      "Epoch 31/80\n",
      "44/44 [==============================] - 13s 298ms/step - loss: 2.1960 - accuracy: 0.9734 - val_loss: 2.3500 - val_accuracy: 0.8519\n",
      "Epoch 32/80\n",
      "44/44 [==============================] - 13s 295ms/step - loss: 2.0750 - accuracy: 0.9699 - val_loss: 2.2862 - val_accuracy: 0.8657\n",
      "Epoch 33/80\n",
      "44/44 [==============================] - 13s 298ms/step - loss: 1.9860 - accuracy: 0.9676 - val_loss: 2.1546 - val_accuracy: 0.8472\n",
      "Epoch 34/80\n",
      "44/44 [==============================] - 13s 297ms/step - loss: 1.9195 - accuracy: 0.9630 - val_loss: 2.1481 - val_accuracy: 0.8380\n",
      "Epoch 35/80\n",
      "44/44 [==============================] - 13s 297ms/step - loss: 1.8153 - accuracy: 0.9664 - val_loss: 1.9893 - val_accuracy: 0.8565\n",
      "Epoch 36/80\n",
      "44/44 [==============================] - 13s 305ms/step - loss: 1.7053 - accuracy: 0.9769 - val_loss: 1.9132 - val_accuracy: 0.8565\n",
      "Epoch 37/80\n",
      "44/44 [==============================] - 13s 297ms/step - loss: 1.6177 - accuracy: 0.9745 - val_loss: 1.8320 - val_accuracy: 0.8657\n",
      "Epoch 38/80\n",
      "44/44 [==============================] - 14s 311ms/step - loss: 1.5746 - accuracy: 0.9583 - val_loss: 1.7905 - val_accuracy: 0.8519\n",
      "Epoch 39/80\n",
      "44/44 [==============================] - 14s 309ms/step - loss: 1.4944 - accuracy: 0.9641 - val_loss: 1.6409 - val_accuracy: 0.8750\n",
      "Epoch 40/80\n",
      "44/44 [==============================] - 13s 301ms/step - loss: 1.4153 - accuracy: 0.9734 - val_loss: 1.6353 - val_accuracy: 0.8750\n",
      "Epoch 41/80\n",
      "44/44 [==============================] - 13s 306ms/step - loss: 1.3862 - accuracy: 0.9537 - val_loss: 1.5606 - val_accuracy: 0.8472\n",
      "Epoch 42/80\n",
      "44/44 [==============================] - 13s 303ms/step - loss: 1.2917 - accuracy: 0.9769 - val_loss: 1.4788 - val_accuracy: 0.8611\n",
      "Epoch 43/80\n",
      "44/44 [==============================] - 15s 340ms/step - loss: 1.2300 - accuracy: 0.9711 - val_loss: 1.4504 - val_accuracy: 0.8611\n",
      "Epoch 44/80\n",
      "44/44 [==============================] - 13s 305ms/step - loss: 1.1667 - accuracy: 0.9769 - val_loss: 1.3779 - val_accuracy: 0.8565\n",
      "Epoch 45/80\n",
      "44/44 [==============================] - 13s 304ms/step - loss: 1.1305 - accuracy: 0.9641 - val_loss: 1.3245 - val_accuracy: 0.8426\n",
      "Epoch 46/80\n",
      "44/44 [==============================] - 13s 302ms/step - loss: 1.1184 - accuracy: 0.9641 - val_loss: 1.3342 - val_accuracy: 0.8472\n",
      "Epoch 47/80\n",
      "44/44 [==============================] - 13s 303ms/step - loss: 1.0535 - accuracy: 0.9676 - val_loss: 1.2380 - val_accuracy: 0.8565\n",
      "Epoch 48/80\n",
      "44/44 [==============================] - 14s 307ms/step - loss: 0.9949 - accuracy: 0.9641 - val_loss: 1.1919 - val_accuracy: 0.8704\n",
      "Epoch 49/80\n",
      "44/44 [==============================] - 15s 341ms/step - loss: 0.9428 - accuracy: 0.9780 - val_loss: 1.1532 - val_accuracy: 0.8519\n",
      "Epoch 50/80\n",
      "44/44 [==============================] - 14s 321ms/step - loss: 0.8977 - accuracy: 0.9745 - val_loss: 1.1181 - val_accuracy: 0.8565\n",
      "Epoch 51/80\n",
      "44/44 [==============================] - 15s 345ms/step - loss: 0.8538 - accuracy: 0.9803 - val_loss: 1.1114 - val_accuracy: 0.8472\n",
      "Epoch 52/80\n",
      "44/44 [==============================] - 13s 302ms/step - loss: 0.8358 - accuracy: 0.9757 - val_loss: 1.0409 - val_accuracy: 0.8472\n",
      "Epoch 53/80\n",
      "44/44 [==============================] - 14s 312ms/step - loss: 0.7961 - accuracy: 0.9734 - val_loss: 1.0366 - val_accuracy: 0.8657\n",
      "Epoch 54/80\n",
      "44/44 [==============================] - 14s 314ms/step - loss: 0.7698 - accuracy: 0.9792 - val_loss: 1.0082 - val_accuracy: 0.8657\n",
      "Epoch 55/80\n",
      "44/44 [==============================] - 14s 312ms/step - loss: 0.7484 - accuracy: 0.9757 - val_loss: 0.9580 - val_accuracy: 0.8519\n",
      "Epoch 56/80\n",
      "44/44 [==============================] - 13s 292ms/step - loss: 0.7085 - accuracy: 0.9838 - val_loss: 0.9056 - val_accuracy: 0.8472\n",
      "Epoch 57/80\n",
      "44/44 [==============================] - 13s 289ms/step - loss: 0.7087 - accuracy: 0.9688 - val_loss: 0.9336 - val_accuracy: 0.8750\n",
      "Epoch 58/80\n",
      "44/44 [==============================] - 15s 347ms/step - loss: 0.6714 - accuracy: 0.9803 - val_loss: 0.9021 - val_accuracy: 0.8565\n",
      "Epoch 59/80\n",
      "44/44 [==============================] - 15s 335ms/step - loss: 0.6789 - accuracy: 0.9711 - val_loss: 0.8900 - val_accuracy: 0.8611\n",
      "Epoch 60/80\n",
      "44/44 [==============================] - 17s 373ms/step - loss: 0.6601 - accuracy: 0.9757 - val_loss: 0.8740 - val_accuracy: 0.8657\n",
      "Epoch 61/80\n",
      "44/44 [==============================] - 14s 327ms/step - loss: 0.6231 - accuracy: 0.9815 - val_loss: 0.8308 - val_accuracy: 0.8704\n",
      "Epoch 62/80\n",
      "44/44 [==============================] - 14s 324ms/step - loss: 0.6244 - accuracy: 0.9722 - val_loss: 0.8650 - val_accuracy: 0.8611\n",
      "Epoch 63/80\n",
      "44/44 [==============================] - 15s 341ms/step - loss: 0.5975 - accuracy: 0.9792 - val_loss: 0.8192 - val_accuracy: 0.8704\n",
      "Epoch 64/80\n",
      "44/44 [==============================] - 16s 353ms/step - loss: 0.5655 - accuracy: 0.9919 - val_loss: 0.8183 - val_accuracy: 0.8657\n",
      "Epoch 65/80\n",
      "44/44 [==============================] - 15s 341ms/step - loss: 0.5386 - accuracy: 0.9803 - val_loss: 0.8044 - val_accuracy: 0.8472\n",
      "Epoch 66/80\n",
      "44/44 [==============================] - 17s 390ms/step - loss: 0.5359 - accuracy: 0.9838 - val_loss: 0.7681 - val_accuracy: 0.8380\n",
      "Epoch 67/80\n",
      "44/44 [==============================] - 17s 380ms/step - loss: 0.5133 - accuracy: 0.9815 - val_loss: 0.8147 - val_accuracy: 0.8380\n",
      "Epoch 68/80\n",
      "44/44 [==============================] - 17s 394ms/step - loss: 0.5156 - accuracy: 0.9780 - val_loss: 0.8583 - val_accuracy: 0.8472\n",
      "Epoch 69/80\n",
      "44/44 [==============================] - 15s 331ms/step - loss: 0.5469 - accuracy: 0.9711 - val_loss: 0.7515 - val_accuracy: 0.8704\n",
      "Epoch 70/80\n",
      "44/44 [==============================] - 16s 369ms/step - loss: 0.5303 - accuracy: 0.9803 - val_loss: 0.7594 - val_accuracy: 0.8611\n",
      "Epoch 71/80\n",
      "44/44 [==============================] - 16s 361ms/step - loss: 0.5095 - accuracy: 0.9745 - val_loss: 0.7273 - val_accuracy: 0.8796\n",
      "Epoch 72/80\n",
      "44/44 [==============================] - 16s 372ms/step - loss: 0.4710 - accuracy: 0.9815 - val_loss: 0.6917 - val_accuracy: 0.8843\n",
      "Epoch 73/80\n",
      "44/44 [==============================] - 15s 333ms/step - loss: 0.4685 - accuracy: 0.9838 - val_loss: 0.6792 - val_accuracy: 0.8657\n",
      "Epoch 74/80\n",
      "44/44 [==============================] - 14s 308ms/step - loss: 0.4469 - accuracy: 0.9815 - val_loss: 0.7318 - val_accuracy: 0.8472\n",
      "Epoch 75/80\n",
      "44/44 [==============================] - 14s 307ms/step - loss: 0.4591 - accuracy: 0.9734 - val_loss: 0.6755 - val_accuracy: 0.8750\n",
      "Epoch 76/80\n",
      "44/44 [==============================] - 13s 296ms/step - loss: 0.4911 - accuracy: 0.9688 - val_loss: 0.7749 - val_accuracy: 0.8426\n",
      "Epoch 77/80\n",
      "44/44 [==============================] - 14s 317ms/step - loss: 0.4666 - accuracy: 0.9792 - val_loss: 0.6914 - val_accuracy: 0.8611\n",
      "Epoch 78/80\n",
      "44/44 [==============================] - 14s 324ms/step - loss: 0.4681 - accuracy: 0.9838 - val_loss: 0.7102 - val_accuracy: 0.8704\n",
      "Epoch 79/80\n",
      "44/44 [==============================] - 14s 313ms/step - loss: 0.4365 - accuracy: 0.9861 - val_loss: 0.6754 - val_accuracy: 0.8565\n",
      "Epoch 80/80\n",
      "44/44 [==============================] - 13s 300ms/step - loss: 0.4315 - accuracy: 0.9850 - val_loss: 0.6820 - val_accuracy: 0.8657\n"
     ]
    }
   ],
   "source": [
    "history1 = model1.fit(mfcc_train_reshaped,y1_train,validation_data=(mfcc_val_reshaped,y1_val),batch_size=20,epochs=80)"
   ]
  },
  {
   "cell_type": "code",
   "execution_count": 29,
   "id": "54a70c0d",
   "metadata": {},
   "outputs": [
    {
     "data": {
      "text/plain": [
       "Text(0, 0.5, 'loss')"
      ]
     },
     "execution_count": 29,
     "metadata": {},
     "output_type": "execute_result"
    },
    {
     "data": {
      "image/png": "[encoded data removed]",
      "text/plain": [
       "<Figure size 1200x400 with 2 Axes>"
      ]
     },
     "metadata": {},
     "output_type": "display_data"
    }
   ],
   "source": [
    "# Train and Validation accuracy and loss\n",
    "f = plt.figure(figsize = (12,4))\n",
    "\n",
    "plt.subplot(1,2,1)\n",
    "plt.title('train validation accuracy')\n",
    "plt.plot(history1.history['accuracy'])\n",
    "plt.plot(history1.history['val_accuracy'])\n",
    "plt.legend(['train','validation'])\n",
    "plt.xlabel('epoch')\n",
    "plt.ylabel('accuracy')\n",
    "\n",
    "\n",
    "plt.subplot(1,2,2)\n",
    "plt.title('train validation loss')\n",
    "plt.plot(history1.history['loss'])\n",
    "plt.plot(history1.history['val_loss'])\n",
    "plt.legend(['train','validation'])\n",
    "plt.xlabel('epoch')\n",
    "plt.ylabel('loss')"
   ]
  },
  {
   "cell_type": "code",
   "execution_count": 30,
   "id": "1f2037e5",
   "metadata": {},
   "outputs": [],
   "source": [
    "mfcc_test = mfcc_file['mfcc_test']\n",
    "y_test_mfcc = mfcc_file['y_test']"
   ]
  },
  {
   "cell_type": "code",
   "execution_count": 31,
   "id": "86e7da56",
   "metadata": {},
   "outputs": [],
   "source": [
    "# Feature Scaling\n",
    "mfcc_test_scaled = (mfcc_test - np.mean(mfcc_test))/np.std(mfcc_test)\n",
    "# Reshape the data\n",
    "N,row,col = mfcc_test_scaled.shape\n",
    "mfcc_test_reshaped = mfcc_test_scaled.reshape((N,row,col,1))"
   ]
  },
  {
   "cell_type": "code",
   "execution_count": 32,
   "id": "b327d080",
   "metadata": {},
   "outputs": [
    {
     "name": "stdout",
     "output_type": "stream",
     "text": [
      "4/4 [==============================] - 1s 149ms/step\n"
     ]
    }
   ],
   "source": [
    "y1_prob = model1.predict(mfcc_test_reshaped)\n",
    "y1_pred = np.argmax(y1_prob, axis = -1)"
   ]
  },
  {
   "cell_type": "code",
   "execution_count": 33,
   "id": "ac44691f",
   "metadata": {},
   "outputs": [],
   "source": [
    "# Accuracy\n",
    "acc_mfcc = round(accuracy_score(y1_pred,y_test_mfcc),2)"
   ]
  },
  {
   "cell_type": "code",
   "execution_count": 34,
   "id": "ca5050e7",
   "metadata": {},
   "outputs": [
    {
     "name": "stdout",
     "output_type": "stream",
     "text": [
      "              precision    recall  f1-score   support\n",
      "\n",
      "       Angry       0.91      0.97      0.94        30\n",
      "       Happy       0.97      1.00      0.98        30\n",
      "     Relaxed       0.96      0.87      0.91        30\n",
      "         Sad       0.90      0.90      0.90        30\n",
      "\n",
      "    accuracy                           0.93       120\n",
      "   macro avg       0.93      0.93      0.93       120\n",
      "weighted avg       0.93      0.93      0.93       120\n",
      "\n"
     ]
    },
    {
     "data": {
      "image/png": "[encoded data removed]",
      "text/plain": [
       "<Figure size 640x480 with 2 Axes>"
      ]
     },
     "metadata": {},
     "output_type": "display_data"
    }
   ],
   "source": [
    "# Confusion Matrix\n",
    "cm_mfcc = confusion_matrix(y_test_mfcc,y1_pred)\n",
    "cm_display_mfcc = ConfusionMatrixDisplay(confusion_matrix = cm_mfcc, display_labels = ['Angry', 'Happy', 'Relaxed', 'Sad'])\n",
    "print(classification_report(y_test_mfcc, y1_pred, target_names = ['Angry', 'Happy', 'Relaxed', 'Sad']))\n",
    "cm_display_mfcc.plot()\n",
    "plt.show()"
   ]
  },
  {
   "cell_type": "code",
   "execution_count": 35,
   "id": "87ef3dbe",
   "metadata": {},
   "outputs": [],
   "source": [
    "model1.save(os.getcwd() + \"/Features2D/Model/Conv2D_mfcc_agumented.h5\")"
   ]
  },
  {
   "cell_type": "markdown",
   "id": "7ca332de",
   "metadata": {},
   "source": [
    "### 4.2 Spectrogram "
   ]
  },
  {
   "cell_type": "code",
   "execution_count": 36,
   "id": "aee04d80",
   "metadata": {},
   "outputs": [],
   "source": [
    "# Load Spectrogram data set\n",
    "spec_file = np.load(\"Features2D/npz_new/spec_train_test_agumented.npz\")\n",
    "\n",
    "spec_train = spec_file['spec_train']\n",
    "y2_train = spec_file['y_train']\n",
    "\n",
    "spec_train,spec_val,y2_train,y2_val = train_test_split(spec_train,y2_train, \n",
    "                                                       train_size = 0.8,\n",
    "                                                       random_state = 13, \n",
    "                                                       stratify= y2_train)\n"
   ]
  },
  {
   "cell_type": "code",
   "execution_count": 37,
   "id": "0ebc91cf",
   "metadata": {},
   "outputs": [],
   "source": [
    "# Feature Scaling\n",
    "spec_train_scaled = spec_train / np.amax(spec_train)\n",
    "spec_val_scaled = spec_val / np.amax(spec_val)"
   ]
  },
  {
   "cell_type": "code",
   "execution_count": 38,
   "id": "5f1f4078",
   "metadata": {},
   "outputs": [],
   "source": [
    "# Reshape the data\n",
    "N,row,col = spec_train_scaled.shape\n",
    "spec_train_reshaped = spec_train_scaled.reshape((N,row,col,1))\n",
    "N,row,col = spec_val_scaled.shape\n",
    "spec_val_reshaped = spec_val_scaled.reshape((N,row,col,1))"
   ]
  },
  {
   "cell_type": "code",
   "execution_count": 52,
   "id": "e25a3e5e",
   "metadata": {
    "scrolled": true
   },
   "outputs": [
    {
     "name": "stdout",
     "output_type": "stream",
     "text": [
      "Model: \"CNN2D_2\"\n",
      "_________________________________________________________________\n",
      " Layer (type)                Output Shape              Param #   \n",
      "=================================================================\n",
      " Conv2D_1 (Conv2D)           (None, 300, 300, 5)       50        \n",
      "                                                                 \n",
      " MaxPooling2D_1 (MaxPooling2  (None, 150, 150, 5)      0         \n",
      " D)                                                              \n",
      "                                                                 \n",
      " BN1 (BatchNormalization)    (None, 150, 150, 5)       20        \n",
      "                                                                 \n",
      " Conv2D_2 (Conv2D)           (None, 150, 150, 8)       368       \n",
      "                                                                 \n",
      " MaxPooling2D_2 (MaxPooling2  (None, 75, 75, 8)        0         \n",
      " D)                                                              \n",
      "                                                                 \n",
      " BN2 (BatchNormalization)    (None, 75, 75, 8)         32        \n",
      "                                                                 \n",
      " Conv2D_3 (Conv2D)           (None, 75, 75, 16)        1168      \n",
      "                                                                 \n",
      " MaxPooling2D_3 (MaxPooling2  (None, 38, 38, 16)       0         \n",
      " D)                                                              \n",
      "                                                                 \n",
      " BN3 (BatchNormalization)    (None, 38, 38, 16)        64        \n",
      "                                                                 \n",
      " Flatten (Flatten)           (None, 23104)             0         \n",
      "                                                                 \n",
      " Dense1 (Dense)              (None, 64)                1478720   \n",
      "                                                                 \n",
      " Dropout1 (Dropout)          (None, 64)                0         \n",
      "                                                                 \n",
      " Dense2 (Dense)              (None, 32)                2080      \n",
      "                                                                 \n",
      " Dropout2 (Dropout)          (None, 32)                0         \n",
      "                                                                 \n",
      " Softmax (Dense)             (None, 4)                 132       \n",
      "                                                                 \n",
      "=================================================================\n",
      "Total params: 1,482,634\n",
      "Trainable params: 1,482,576\n",
      "Non-trainable params: 58\n",
      "_________________________________________________________________\n"
     ]
    }
   ],
   "source": [
    "f1,k1,a1 = 5,3,'relu'\n",
    "mw1,mh1,sw1,sh1 = 3,3,2,2\n",
    "f2,k2,a2 = 8,3,'relu'\n",
    "mw2,mh2,sw2,sh2 = 3,3,2,2\n",
    "f3,k3,a3 = 16,3,'relu'\n",
    "mw3,mh3,sw3,sh3 = 3,3,2,2\n",
    "d1,dr1,da1,r1 = 64,0.2,'relu',0.2\n",
    "d2,dr2,da2,r2 = 32,0.2,'relu',0.2\n",
    "num = 2\n",
    "model2 = modelBuilder3L(spec_train_reshaped,\n",
    "                        f1,k1,a1,\n",
    "                        mw1,mh1,sw1,sh1,\n",
    "                        f2,k2,a2,\n",
    "                        mw2,mh2,sw2,sh2,\n",
    "                        f3,k3,a3,\n",
    "                        mw3,mh3,sw3,sh3,\n",
    "                        d1,dr1,da1,r1,\n",
    "                        d2,dr2,da2,r2,\n",
    "                        num)"
   ]
  },
  {
   "cell_type": "code",
   "execution_count": 53,
   "id": "9a503680",
   "metadata": {
    "scrolled": true
   },
   "outputs": [
    {
     "name": "stdout",
     "output_type": "stream",
     "text": [
      "Epoch 1/80\n",
      "44/44 [==============================] - 26s 524ms/step - loss: 32.7881 - accuracy: 0.4537 - val_loss: 29.9270 - val_accuracy: 0.2546\n",
      "Epoch 2/80\n",
      "44/44 [==============================] - 23s 526ms/step - loss: 26.8439 - accuracy: 0.6238 - val_loss: 24.7061 - val_accuracy: 0.3287\n",
      "Epoch 3/80\n",
      "44/44 [==============================] - 21s 466ms/step - loss: 21.9600 - accuracy: 0.6933 - val_loss: 20.4431 - val_accuracy: 0.3519\n",
      "Epoch 4/80\n",
      "44/44 [==============================] - 20s 461ms/step - loss: 18.0310 - accuracy: 0.8090 - val_loss: 17.2313 - val_accuracy: 0.3380\n",
      "Epoch 5/80\n",
      "44/44 [==============================] - 20s 451ms/step - loss: 15.1121 - accuracy: 0.8090 - val_loss: 14.6813 - val_accuracy: 0.3056\n",
      "Epoch 6/80\n",
      "44/44 [==============================] - 20s 446ms/step - loss: 12.8502 - accuracy: 0.8484 - val_loss: 12.6879 - val_accuracy: 0.3426\n",
      "Epoch 7/80\n",
      "44/44 [==============================] - 20s 445ms/step - loss: 11.1097 - accuracy: 0.8646 - val_loss: 11.4661 - val_accuracy: 0.4259\n",
      "Epoch 8/80\n",
      "44/44 [==============================] - 20s 454ms/step - loss: 9.7345 - accuracy: 0.8924 - val_loss: 10.2984 - val_accuracy: 0.3981\n",
      "Epoch 9/80\n",
      "44/44 [==============================] - 20s 445ms/step - loss: 8.6448 - accuracy: 0.9178 - val_loss: 9.0333 - val_accuracy: 0.5741\n",
      "Epoch 10/80\n",
      "44/44 [==============================] - 20s 450ms/step - loss: 7.7489 - accuracy: 0.9444 - val_loss: 8.0752 - val_accuracy: 0.6250\n",
      "Epoch 11/80\n",
      "44/44 [==============================] - 20s 447ms/step - loss: 7.0209 - accuracy: 0.9375 - val_loss: 7.4097 - val_accuracy: 0.6389\n",
      "Epoch 12/80\n",
      "44/44 [==============================] - 21s 474ms/step - loss: 6.4025 - accuracy: 0.9514 - val_loss: 6.7313 - val_accuracy: 0.7130\n",
      "Epoch 13/80\n",
      "44/44 [==============================] - 20s 446ms/step - loss: 5.8926 - accuracy: 0.9641 - val_loss: 6.2611 - val_accuracy: 0.7500\n",
      "Epoch 14/80\n",
      "44/44 [==============================] - 20s 452ms/step - loss: 5.4480 - accuracy: 0.9572 - val_loss: 5.8068 - val_accuracy: 0.7593\n",
      "Epoch 15/80\n",
      "44/44 [==============================] - 20s 445ms/step - loss: 5.0609 - accuracy: 0.9780 - val_loss: 5.3331 - val_accuracy: 0.7870\n",
      "Epoch 16/80\n",
      "44/44 [==============================] - 19s 444ms/step - loss: 4.7340 - accuracy: 0.9664 - val_loss: 4.9012 - val_accuracy: 0.8194\n",
      "Epoch 17/80\n",
      "44/44 [==============================] - 20s 450ms/step - loss: 4.4847 - accuracy: 0.9606 - val_loss: 4.7781 - val_accuracy: 0.8148\n",
      "Epoch 18/80\n",
      "44/44 [==============================] - 20s 457ms/step - loss: 4.2368 - accuracy: 0.9676 - val_loss: 4.5421 - val_accuracy: 0.7685\n",
      "Epoch 19/80\n",
      "44/44 [==============================] - 20s 451ms/step - loss: 3.9545 - accuracy: 0.9780 - val_loss: 4.1666 - val_accuracy: 0.8333\n",
      "Epoch 20/80\n",
      "44/44 [==============================] - 20s 446ms/step - loss: 3.7219 - accuracy: 0.9769 - val_loss: 3.9499 - val_accuracy: 0.8102\n",
      "Epoch 21/80\n",
      "44/44 [==============================] - 20s 451ms/step - loss: 3.5512 - accuracy: 0.9676 - val_loss: 3.7233 - val_accuracy: 0.8472\n",
      "Epoch 22/80\n",
      "44/44 [==============================] - 19s 442ms/step - loss: 3.3395 - accuracy: 0.9815 - val_loss: 3.5874 - val_accuracy: 0.8009\n",
      "Epoch 23/80\n",
      "44/44 [==============================] - 20s 456ms/step - loss: 3.1566 - accuracy: 0.9838 - val_loss: 3.3881 - val_accuracy: 0.8102\n",
      "Epoch 24/80\n",
      "44/44 [==============================] - 20s 450ms/step - loss: 2.9848 - accuracy: 0.9826 - val_loss: 3.2399 - val_accuracy: 0.8426\n",
      "Epoch 25/80\n",
      "44/44 [==============================] - 20s 454ms/step - loss: 2.8467 - accuracy: 0.9711 - val_loss: 3.1438 - val_accuracy: 0.8241\n",
      "Epoch 26/80\n",
      "44/44 [==============================] - 20s 447ms/step - loss: 2.7146 - accuracy: 0.9850 - val_loss: 2.9963 - val_accuracy: 0.8148\n",
      "Epoch 27/80\n",
      "44/44 [==============================] - 19s 441ms/step - loss: 2.6004 - accuracy: 0.9676 - val_loss: 2.8515 - val_accuracy: 0.8565\n",
      "Epoch 28/80\n",
      "44/44 [==============================] - 20s 446ms/step - loss: 2.4578 - accuracy: 0.9850 - val_loss: 2.6797 - val_accuracy: 0.8333\n",
      "Epoch 29/80\n",
      "44/44 [==============================] - 20s 446ms/step - loss: 2.3196 - accuracy: 0.9861 - val_loss: 2.6146 - val_accuracy: 0.8194\n",
      "Epoch 30/80\n",
      "44/44 [==============================] - 19s 443ms/step - loss: 2.2217 - accuracy: 0.9769 - val_loss: 2.4651 - val_accuracy: 0.8287\n",
      "Epoch 31/80\n",
      "44/44 [==============================] - 20s 447ms/step - loss: 2.1217 - accuracy: 0.9792 - val_loss: 2.3536 - val_accuracy: 0.8565\n",
      "Epoch 32/80\n",
      "44/44 [==============================] - 20s 445ms/step - loss: 1.9882 - accuracy: 0.9850 - val_loss: 2.2530 - val_accuracy: 0.8287\n",
      "Epoch 33/80\n",
      "44/44 [==============================] - 20s 449ms/step - loss: 1.8993 - accuracy: 0.9780 - val_loss: 2.1314 - val_accuracy: 0.8426\n",
      "Epoch 34/80\n",
      "44/44 [==============================] - 20s 444ms/step - loss: 1.8082 - accuracy: 0.9826 - val_loss: 2.1538 - val_accuracy: 0.8009\n",
      "Epoch 35/80\n",
      "44/44 [==============================] - 20s 452ms/step - loss: 1.7393 - accuracy: 0.9815 - val_loss: 1.9860 - val_accuracy: 0.8565\n",
      "Epoch 36/80\n",
      "44/44 [==============================] - 21s 470ms/step - loss: 1.6406 - accuracy: 0.9861 - val_loss: 1.8685 - val_accuracy: 0.8380\n",
      "Epoch 37/80\n",
      "44/44 [==============================] - 21s 484ms/step - loss: 1.5412 - accuracy: 0.9861 - val_loss: 1.8005 - val_accuracy: 0.8565\n",
      "Epoch 38/80\n",
      "44/44 [==============================] - 20s 459ms/step - loss: 1.5135 - accuracy: 0.9676 - val_loss: 1.7631 - val_accuracy: 0.8380\n",
      "Epoch 39/80\n",
      "44/44 [==============================] - 20s 450ms/step - loss: 1.4332 - accuracy: 0.9792 - val_loss: 1.7479 - val_accuracy: 0.8194\n",
      "Epoch 40/80\n",
      "44/44 [==============================] - 19s 437ms/step - loss: 1.3704 - accuracy: 0.9803 - val_loss: 1.6060 - val_accuracy: 0.8472\n",
      "Epoch 41/80\n",
      "44/44 [==============================] - 20s 455ms/step - loss: 1.2877 - accuracy: 0.9803 - val_loss: 1.5979 - val_accuracy: 0.8287\n",
      "Epoch 42/80\n",
      "44/44 [==============================] - 20s 449ms/step - loss: 1.2244 - accuracy: 0.9873 - val_loss: 1.4878 - val_accuracy: 0.8565\n",
      "Epoch 43/80\n",
      "44/44 [==============================] - 23s 528ms/step - loss: 1.1680 - accuracy: 0.9861 - val_loss: 1.5298 - val_accuracy: 0.7685\n",
      "Epoch 44/80\n",
      "44/44 [==============================] - 22s 498ms/step - loss: 1.1128 - accuracy: 0.9826 - val_loss: 1.3556 - val_accuracy: 0.8704\n",
      "Epoch 45/80\n",
      "44/44 [==============================] - 20s 445ms/step - loss: 1.1388 - accuracy: 0.9699 - val_loss: 1.3936 - val_accuracy: 0.8426\n",
      "Epoch 46/80\n",
      "44/44 [==============================] - 19s 442ms/step - loss: 1.0500 - accuracy: 0.9861 - val_loss: 1.3078 - val_accuracy: 0.8565\n",
      "Epoch 47/80\n",
      "44/44 [==============================] - 19s 442ms/step - loss: 0.9854 - accuracy: 0.9838 - val_loss: 1.2249 - val_accuracy: 0.8565\n",
      "Epoch 48/80\n",
      "44/44 [==============================] - 20s 449ms/step - loss: 0.9968 - accuracy: 0.9769 - val_loss: 1.3113 - val_accuracy: 0.8194\n",
      "Epoch 49/80\n",
      "44/44 [==============================] - 19s 441ms/step - loss: 0.9381 - accuracy: 0.9838 - val_loss: 1.1686 - val_accuracy: 0.8565\n",
      "Epoch 50/80\n",
      "44/44 [==============================] - 24s 537ms/step - loss: 0.8811 - accuracy: 0.9850 - val_loss: 1.1091 - val_accuracy: 0.8657\n",
      "Epoch 51/80\n",
      "44/44 [==============================] - 21s 481ms/step - loss: 0.8273 - accuracy: 0.9861 - val_loss: 1.1272 - val_accuracy: 0.8472\n",
      "Epoch 52/80\n",
      "44/44 [==============================] - 26s 586ms/step - loss: 0.7916 - accuracy: 0.9861 - val_loss: 1.0684 - val_accuracy: 0.8472\n",
      "Epoch 53/80\n",
      "44/44 [==============================] - 21s 469ms/step - loss: 0.7634 - accuracy: 0.9896 - val_loss: 1.0558 - val_accuracy: 0.8519\n",
      "Epoch 54/80\n",
      "44/44 [==============================] - 20s 457ms/step - loss: 0.7204 - accuracy: 0.9896 - val_loss: 1.0021 - val_accuracy: 0.8380\n",
      "Epoch 55/80\n",
      "44/44 [==============================] - 20s 457ms/step - loss: 0.6865 - accuracy: 0.9907 - val_loss: 1.0070 - val_accuracy: 0.8472\n",
      "Epoch 56/80\n",
      "44/44 [==============================] - 20s 455ms/step - loss: 0.6703 - accuracy: 0.9861 - val_loss: 0.9349 - val_accuracy: 0.8519\n",
      "Epoch 57/80\n",
      "44/44 [==============================] - 21s 478ms/step - loss: 0.7127 - accuracy: 0.9803 - val_loss: 1.0677 - val_accuracy: 0.8241\n",
      "Epoch 58/80\n",
      "44/44 [==============================] - 20s 462ms/step - loss: 0.6644 - accuracy: 0.9838 - val_loss: 0.9140 - val_accuracy: 0.8565\n",
      "Epoch 59/80\n",
      "44/44 [==============================] - 20s 447ms/step - loss: 0.6209 - accuracy: 0.9884 - val_loss: 0.8988 - val_accuracy: 0.8426\n",
      "Epoch 60/80\n",
      "44/44 [==============================] - 20s 453ms/step - loss: 0.6031 - accuracy: 0.9884 - val_loss: 0.9014 - val_accuracy: 0.8333\n",
      "Epoch 61/80\n",
      "44/44 [==============================] - 19s 443ms/step - loss: 0.5635 - accuracy: 0.9919 - val_loss: 0.8172 - val_accuracy: 0.8472\n",
      "Epoch 62/80\n",
      "44/44 [==============================] - 20s 449ms/step - loss: 0.5255 - accuracy: 0.9977 - val_loss: 0.7742 - val_accuracy: 0.8611\n",
      "Epoch 63/80\n",
      "44/44 [==============================] - 20s 451ms/step - loss: 0.5242 - accuracy: 0.9884 - val_loss: 0.8739 - val_accuracy: 0.8148\n",
      "Epoch 64/80\n",
      "44/44 [==============================] - 20s 446ms/step - loss: 0.5254 - accuracy: 0.9884 - val_loss: 0.8502 - val_accuracy: 0.8519\n",
      "Epoch 65/80\n",
      "44/44 [==============================] - 20s 451ms/step - loss: 0.5263 - accuracy: 0.9896 - val_loss: 0.8317 - val_accuracy: 0.8519\n",
      "Epoch 66/80\n",
      "44/44 [==============================] - 20s 463ms/step - loss: 0.4821 - accuracy: 0.9931 - val_loss: 0.7532 - val_accuracy: 0.8565\n",
      "Epoch 67/80\n",
      "44/44 [==============================] - 22s 492ms/step - loss: 0.4780 - accuracy: 0.9850 - val_loss: 0.7665 - val_accuracy: 0.8472\n",
      "Epoch 68/80\n",
      "44/44 [==============================] - 20s 460ms/step - loss: 0.5124 - accuracy: 0.9838 - val_loss: 0.7671 - val_accuracy: 0.8565\n",
      "Epoch 69/80\n",
      "44/44 [==============================] - 20s 453ms/step - loss: 0.4718 - accuracy: 0.9931 - val_loss: 0.8274 - val_accuracy: 0.8287\n",
      "Epoch 70/80\n",
      "44/44 [==============================] - 20s 444ms/step - loss: 0.4445 - accuracy: 0.9907 - val_loss: 0.7528 - val_accuracy: 0.8380\n",
      "Epoch 71/80\n",
      "44/44 [==============================] - 19s 439ms/step - loss: 0.4377 - accuracy: 0.9850 - val_loss: 0.6949 - val_accuracy: 0.8704\n",
      "Epoch 72/80\n",
      "44/44 [==============================] - 20s 449ms/step - loss: 0.4446 - accuracy: 0.9896 - val_loss: 0.7827 - val_accuracy: 0.8426\n",
      "Epoch 73/80\n",
      "44/44 [==============================] - 20s 443ms/step - loss: 0.4334 - accuracy: 0.9931 - val_loss: 0.7121 - val_accuracy: 0.8519\n",
      "Epoch 74/80\n",
      "44/44 [==============================] - 20s 459ms/step - loss: 0.4151 - accuracy: 0.9954 - val_loss: 0.6651 - val_accuracy: 0.8704\n",
      "Epoch 75/80\n",
      "44/44 [==============================] - 20s 457ms/step - loss: 0.4144 - accuracy: 0.9919 - val_loss: 0.6535 - val_accuracy: 0.8611\n",
      "Epoch 76/80\n",
      "44/44 [==============================] - 20s 451ms/step - loss: 0.4118 - accuracy: 0.9884 - val_loss: 0.7293 - val_accuracy: 0.8426\n",
      "Epoch 77/80\n",
      "44/44 [==============================] - 20s 457ms/step - loss: 0.3961 - accuracy: 0.9942 - val_loss: 0.6335 - val_accuracy: 0.8843\n",
      "Epoch 78/80\n",
      "44/44 [==============================] - 20s 454ms/step - loss: 0.3948 - accuracy: 0.9884 - val_loss: 0.7043 - val_accuracy: 0.8565\n",
      "Epoch 79/80\n",
      "44/44 [==============================] - 20s 461ms/step - loss: 0.3924 - accuracy: 0.9815 - val_loss: 0.7071 - val_accuracy: 0.8519\n",
      "Epoch 80/80\n",
      "44/44 [==============================] - 20s 448ms/step - loss: 0.3997 - accuracy: 0.9884 - val_loss: 0.6878 - val_accuracy: 0.8657\n"
     ]
    }
   ],
   "source": [
    "history2 = model2.fit(spec_train_reshaped,y2_train,validation_data=(spec_val_reshaped,y2_val),batch_size=20,epochs=80)"
   ]
  },
  {
   "cell_type": "code",
   "execution_count": 54,
   "id": "0a4637d3",
   "metadata": {},
   "outputs": [
    {
     "data": {
      "text/plain": [
       "Text(0, 0.5, 'loss')"
      ]
     },
     "execution_count": 54,
     "metadata": {},
     "output_type": "execute_result"
    },
    {
     "data": {
      "image/png": "[encoded data removed]",
      "text/plain": [
       "<Figure size 1200x400 with 2 Axes>"
      ]
     },
     "metadata": {},
     "output_type": "display_data"
    }
   ],
   "source": [
    "# Train and Validation accuracy and loss\n",
    "f = plt.figure(figsize = (12,4))\n",
    "\n",
    "plt.subplot(1,2,1)\n",
    "plt.title('train validation accuracy')\n",
    "plt.plot(history2.history['accuracy'])\n",
    "plt.plot(history2.history['val_accuracy'])\n",
    "plt.legend(['train','validation'])\n",
    "plt.xlabel('epoch')\n",
    "plt.ylabel('accuracy')\n",
    "\n",
    "\n",
    "plt.subplot(1,2,2)\n",
    "plt.title('train validation loss')\n",
    "plt.plot(history2.history['loss'])\n",
    "plt.plot(history2.history['val_loss'])\n",
    "plt.legend(['train','validation'])\n",
    "plt.xlabel('epoch')\n",
    "plt.ylabel('loss')"
   ]
  },
  {
   "cell_type": "code",
   "execution_count": 55,
   "id": "68603b8c",
   "metadata": {},
   "outputs": [],
   "source": [
    "spec_test = spec_file['spec_test']\n",
    "y_test_spec = spec_file['y_test']"
   ]
  },
  {
   "cell_type": "code",
   "execution_count": 56,
   "id": "e42f2a3c",
   "metadata": {},
   "outputs": [],
   "source": [
    "# Feature Scaling\n",
    "spec_test_scaled = spec_test / np.amax(spec_test)\n",
    "\n",
    "# Reshape the data\n",
    "N,row,col = spec_test_scaled.shape\n",
    "spec_test_reshaped = spec_test_scaled.reshape((N,row,col,1))"
   ]
  },
  {
   "cell_type": "code",
   "execution_count": 57,
   "id": "ad1e99d4",
   "metadata": {},
   "outputs": [
    {
     "name": "stdout",
     "output_type": "stream",
     "text": [
      "4/4 [==============================] - 1s 193ms/step\n"
     ]
    }
   ],
   "source": [
    "y2_prob = model2.predict(spec_test_reshaped)\n",
    "y2_pred = np.argmax(y2_prob, axis = -1)"
   ]
  },
  {
   "cell_type": "code",
   "execution_count": 58,
   "id": "993754a4",
   "metadata": {},
   "outputs": [
    {
     "data": {
      "text/plain": [
       "0.92"
      ]
     },
     "execution_count": 58,
     "metadata": {},
     "output_type": "execute_result"
    }
   ],
   "source": [
    "# Accuracy\n",
    "acc_spec = round(accuracy_score(y2_pred,y_test_spec),2)\n",
    "acc_spec"
   ]
  },
  {
   "cell_type": "code",
   "execution_count": 59,
   "id": "b222d33c",
   "metadata": {},
   "outputs": [
    {
     "name": "stdout",
     "output_type": "stream",
     "text": [
      "              precision    recall  f1-score   support\n",
      "\n",
      "       Angry       0.93      0.93      0.93        30\n",
      "       Happy       0.94      1.00      0.97        30\n",
      "     Relaxed       0.90      0.90      0.90        30\n",
      "         Sad       0.93      0.87      0.90        30\n",
      "\n",
      "    accuracy                           0.93       120\n",
      "   macro avg       0.92      0.93      0.92       120\n",
      "weighted avg       0.92      0.93      0.92       120\n",
      "\n"
     ]
    },
    {
     "data": {
      "image/png": "[encoded data removed]",
      "text/plain": [
       "<Figure size 640x480 with 2 Axes>"
      ]
     },
     "metadata": {},
     "output_type": "display_data"
    }
   ],
   "source": [
    "# Confusion Matrix\n",
    "cm_spec = confusion_matrix(y_test_spec,y2_pred)\n",
    "cm_display_spec = ConfusionMatrixDisplay(confusion_matrix = cm_spec, display_labels = ['Angry', 'Happy', 'Relaxed', 'Sad'])\n",
    "print(classification_report(y_test_spec, y2_pred, target_names = ['Angry', 'Happy', 'Relaxed', 'Sad']))\n",
    "cm_display_spec.plot()\n",
    "plt.show()"
   ]
  },
  {
   "cell_type": "code",
   "execution_count": 60,
   "id": "a1fde966",
   "metadata": {},
   "outputs": [],
   "source": [
    "# Save model\n",
    "model2.save(os.getcwd() + \"/Features2D/Model/Conv2D_spec_agumented.h5\") "
   ]
  },
  {
   "cell_type": "markdown",
   "id": "8c0f5456",
   "metadata": {},
   "source": [
    "### 4.3 Mel Spectrogram"
   ]
  },
  {
   "cell_type": "code",
   "execution_count": 61,
   "id": "23b2c9a1",
   "metadata": {},
   "outputs": [],
   "source": [
    "mel_file = np.load(\"Features2D/npz_new/mel_train_test_agumented.npz\")\n",
    "\n",
    "mel_train = mel_file['mel_train']\n",
    "y3_train = mel_file['y_train']\n",
    "mel_train,mel_val,y3_train,y3_val = train_test_split(mel_train,y3_train, \n",
    "                                                     train_size = 0.8, \n",
    "                                                     random_state = 13, \n",
    "                                                     stratify= y3_train)"
   ]
  },
  {
   "cell_type": "code",
   "execution_count": 62,
   "id": "c9377980",
   "metadata": {},
   "outputs": [],
   "source": [
    "# Feature Scaling\n",
    "mel_train_scaled = (mel_train - np.mean(mel_train))/np.std(mel_train)\n",
    "mel_val_scaled = (mel_val - np.mean(mel_val))/np.std(mel_val)"
   ]
  },
  {
   "cell_type": "code",
   "execution_count": 63,
   "id": "0d5aa99d",
   "metadata": {},
   "outputs": [],
   "source": [
    "# Reshape the data\n",
    "N,row,col = mel_train_scaled.shape\n",
    "mel_train_reshaped = mel_train_scaled.reshape((N,row,col,1))\n",
    "\n",
    "N,row,col = mel_val_scaled.shape\n",
    "mel_val_reshaped = mel_val_scaled.reshape((N,row,col,1))"
   ]
  },
  {
   "cell_type": "code",
   "execution_count": 67,
   "id": "bfa600a6",
   "metadata": {
    "scrolled": true
   },
   "outputs": [
    {
     "name": "stdout",
     "output_type": "stream",
     "text": [
      "Model: \"CNN2D_3\"\n",
      "_________________________________________________________________\n",
      " Layer (type)                Output Shape              Param #   \n",
      "=================================================================\n",
      " Conv2D_1 (Conv2D)           (None, 300, 400, 8)       80        \n",
      "                                                                 \n",
      " MaxPooling2D_1 (MaxPooling2  (None, 150, 200, 8)      0         \n",
      " D)                                                              \n",
      "                                                                 \n",
      " BN1 (BatchNormalization)    (None, 150, 200, 8)       32        \n",
      "                                                                 \n",
      " Conv2D_2 (Conv2D)           (None, 150, 200, 8)       584       \n",
      "                                                                 \n",
      " MaxPooling2D_2 (MaxPooling2  (None, 75, 100, 8)       0         \n",
      " D)                                                              \n",
      "                                                                 \n",
      " BN2 (BatchNormalization)    (None, 75, 100, 8)        32        \n",
      "                                                                 \n",
      " Conv2D_3 (Conv2D)           (None, 75, 100, 16)       1168      \n",
      "                                                                 \n",
      " MaxPooling2D_3 (MaxPooling2  (None, 38, 50, 16)       0         \n",
      " D)                                                              \n",
      "                                                                 \n",
      " BN3 (BatchNormalization)    (None, 38, 50, 16)        64        \n",
      "                                                                 \n",
      " Flatten (Flatten)           (None, 30400)             0         \n",
      "                                                                 \n",
      " Dense1 (Dense)              (None, 64)                1945664   \n",
      "                                                                 \n",
      " Dropout1 (Dropout)          (None, 64)                0         \n",
      "                                                                 \n",
      " Dense2 (Dense)              (None, 32)                2080      \n",
      "                                                                 \n",
      " Dropout2 (Dropout)          (None, 32)                0         \n",
      "                                                                 \n",
      " Softmax (Dense)             (None, 4)                 132       \n",
      "                                                                 \n",
      "=================================================================\n",
      "Total params: 1,949,836\n",
      "Trainable params: 1,949,772\n",
      "Non-trainable params: 64\n",
      "_________________________________________________________________\n"
     ]
    }
   ],
   "source": [
    "f1,k1,a1 = 8,3,'relu'\n",
    "mw1,mh1,sw1,sh1 = 2,3,2,2\n",
    "f2,k2,a2 = 8,3,'relu'\n",
    "mw2,mh2,sw2,sh2 = 2,3,2,2\n",
    "f3,k3,a3 = 16,3,'relu'\n",
    "mw3,mh3,sw3,sh3 = 2,3,2,2\n",
    "d1,dr1,da1,r1 = 64,0.2,'relu',0.2\n",
    "d2,dr2,da2,r2 = 32,0.2,'relu',0.2\n",
    "num = 3\n",
    "model3 = modelBuilder3L(mel_train_reshaped,\n",
    "                        f1,k1,a1,\n",
    "                        mw1,mh1,sw1,sh1,\n",
    "                        f2,k2,a2,\n",
    "                        mw2,mh2,sw2,sh2,\n",
    "                        f3,k3,a3,\n",
    "                        mw3,mh3,sw3,sh3,\n",
    "                        d1,dr1,da1,r1,\n",
    "                        d2,dr2,da2,r2,\n",
    "                        num)"
   ]
  },
  {
   "cell_type": "code",
   "execution_count": 68,
   "id": "c359f915",
   "metadata": {
    "scrolled": true
   },
   "outputs": [
    {
     "name": "stdout",
     "output_type": "stream",
     "text": [
      "Epoch 1/80\n",
      "44/44 [==============================] - 31s 565ms/step - loss: 32.1929 - accuracy: 0.4572 - val_loss: 28.1732 - val_accuracy: 0.5694\n",
      "Epoch 2/80\n",
      "44/44 [==============================] - 23s 517ms/step - loss: 24.4580 - accuracy: 0.6898 - val_loss: 21.8202 - val_accuracy: 0.3519\n",
      "Epoch 3/80\n",
      "44/44 [==============================] - 23s 518ms/step - loss: 18.9122 - accuracy: 0.7951 - val_loss: 17.6477 - val_accuracy: 0.3565\n",
      "Epoch 4/80\n",
      "44/44 [==============================] - 24s 543ms/step - loss: 15.1917 - accuracy: 0.8507 - val_loss: 15.0429 - val_accuracy: 0.3704\n",
      "Epoch 5/80\n",
      "44/44 [==============================] - 23s 514ms/step - loss: 12.6021 - accuracy: 0.8947 - val_loss: 13.1956 - val_accuracy: 0.3426\n",
      "Epoch 6/80\n",
      "44/44 [==============================] - 22s 494ms/step - loss: 10.8048 - accuracy: 0.9178 - val_loss: 11.1936 - val_accuracy: 0.4259\n",
      "Epoch 7/80\n",
      "44/44 [==============================] - 22s 507ms/step - loss: 9.5246 - accuracy: 0.9236 - val_loss: 9.6247 - val_accuracy: 0.6019\n",
      "Epoch 8/80\n",
      "44/44 [==============================] - 22s 503ms/step - loss: 8.5068 - accuracy: 0.9363 - val_loss: 9.0258 - val_accuracy: 0.5509\n",
      "Epoch 9/80\n",
      "44/44 [==============================] - 22s 505ms/step - loss: 7.6835 - accuracy: 0.9456 - val_loss: 7.8506 - val_accuracy: 0.7130\n",
      "Epoch 10/80\n",
      "44/44 [==============================] - 22s 504ms/step - loss: 7.0229 - accuracy: 0.9387 - val_loss: 6.9284 - val_accuracy: 0.8657\n",
      "Epoch 11/80\n",
      "44/44 [==============================] - 21s 484ms/step - loss: 6.4897 - accuracy: 0.9421 - val_loss: 6.3767 - val_accuracy: 0.8750\n",
      "Epoch 12/80\n",
      "44/44 [==============================] - 22s 496ms/step - loss: 6.0024 - accuracy: 0.9606 - val_loss: 5.9256 - val_accuracy: 0.9120\n",
      "Epoch 13/80\n",
      "44/44 [==============================] - 22s 504ms/step - loss: 5.5941 - accuracy: 0.9583 - val_loss: 5.5916 - val_accuracy: 0.9028\n",
      "Epoch 14/80\n",
      "44/44 [==============================] - 22s 502ms/step - loss: 5.2254 - accuracy: 0.9711 - val_loss: 5.2169 - val_accuracy: 0.8889\n",
      "Epoch 15/80\n",
      "44/44 [==============================] - 24s 552ms/step - loss: 4.9785 - accuracy: 0.9410 - val_loss: 4.8788 - val_accuracy: 0.9213\n",
      "Epoch 16/80\n",
      "44/44 [==============================] - 22s 501ms/step - loss: 4.7202 - accuracy: 0.9572 - val_loss: 4.6924 - val_accuracy: 0.9167\n",
      "Epoch 17/80\n",
      "44/44 [==============================] - 22s 489ms/step - loss: 4.4690 - accuracy: 0.9572 - val_loss: 4.4031 - val_accuracy: 0.9352\n",
      "Epoch 18/80\n",
      "44/44 [==============================] - 22s 497ms/step - loss: 4.1586 - accuracy: 0.9780 - val_loss: 4.1441 - val_accuracy: 0.9167\n",
      "Epoch 19/80\n",
      "44/44 [==============================] - 22s 502ms/step - loss: 3.9084 - accuracy: 0.9722 - val_loss: 3.9071 - val_accuracy: 0.9352\n",
      "Epoch 20/80\n",
      "44/44 [==============================] - 21s 482ms/step - loss: 3.7573 - accuracy: 0.9641 - val_loss: 3.8004 - val_accuracy: 0.8981\n",
      "Epoch 21/80\n",
      "44/44 [==============================] - 22s 511ms/step - loss: 3.5397 - accuracy: 0.9757 - val_loss: 3.5336 - val_accuracy: 0.9306\n",
      "Epoch 22/80\n",
      "44/44 [==============================] - 23s 515ms/step - loss: 3.3613 - accuracy: 0.9803 - val_loss: 3.3415 - val_accuracy: 0.9352\n",
      "Epoch 23/80\n",
      "44/44 [==============================] - 21s 477ms/step - loss: 3.1577 - accuracy: 0.9838 - val_loss: 3.1700 - val_accuracy: 0.9306\n",
      "Epoch 24/80\n",
      "44/44 [==============================] - 22s 492ms/step - loss: 2.9620 - accuracy: 0.9884 - val_loss: 2.9981 - val_accuracy: 0.9306\n",
      "Epoch 25/80\n",
      "44/44 [==============================] - 21s 484ms/step - loss: 2.8128 - accuracy: 0.9780 - val_loss: 2.8830 - val_accuracy: 0.9074\n",
      "Epoch 26/80\n",
      "44/44 [==============================] - 22s 493ms/step - loss: 2.6884 - accuracy: 0.9745 - val_loss: 2.7307 - val_accuracy: 0.9259\n",
      "Epoch 27/80\n",
      "44/44 [==============================] - 22s 498ms/step - loss: 2.5448 - accuracy: 0.9757 - val_loss: 2.6204 - val_accuracy: 0.9306\n",
      "Epoch 28/80\n",
      "44/44 [==============================] - 22s 491ms/step - loss: 2.4469 - accuracy: 0.9780 - val_loss: 2.4660 - val_accuracy: 0.9491\n",
      "Epoch 29/80\n",
      "44/44 [==============================] - 22s 502ms/step - loss: 2.3122 - accuracy: 0.9803 - val_loss: 2.3624 - val_accuracy: 0.9398\n",
      "Epoch 30/80\n",
      "44/44 [==============================] - 23s 516ms/step - loss: 2.1816 - accuracy: 0.9815 - val_loss: 2.1975 - val_accuracy: 0.9583\n",
      "Epoch 31/80\n",
      "44/44 [==============================] - 22s 498ms/step - loss: 2.0911 - accuracy: 0.9838 - val_loss: 2.1861 - val_accuracy: 0.9074\n",
      "Epoch 32/80\n",
      "44/44 [==============================] - 26s 594ms/step - loss: 2.0002 - accuracy: 0.9699 - val_loss: 2.0588 - val_accuracy: 0.9120\n",
      "Epoch 33/80\n",
      "44/44 [==============================] - 27s 611ms/step - loss: 1.8993 - accuracy: 0.9780 - val_loss: 1.9352 - val_accuracy: 0.9398\n",
      "Epoch 34/80\n",
      "44/44 [==============================] - 25s 560ms/step - loss: 1.8010 - accuracy: 0.9803 - val_loss: 1.8325 - val_accuracy: 0.9352\n",
      "Epoch 35/80\n",
      "44/44 [==============================] - 25s 567ms/step - loss: 1.6989 - accuracy: 0.9861 - val_loss: 1.7378 - val_accuracy: 0.9444\n",
      "Epoch 36/80\n",
      "44/44 [==============================] - 22s 502ms/step - loss: 1.5890 - accuracy: 0.9907 - val_loss: 1.6338 - val_accuracy: 0.9537\n",
      "Epoch 37/80\n",
      "44/44 [==============================] - 22s 497ms/step - loss: 1.4936 - accuracy: 0.9919 - val_loss: 1.5846 - val_accuracy: 0.9306\n",
      "Epoch 38/80\n",
      "44/44 [==============================] - 21s 488ms/step - loss: 1.4440 - accuracy: 0.9861 - val_loss: 1.5419 - val_accuracy: 0.9259\n",
      "Epoch 39/80\n",
      "44/44 [==============================] - 24s 555ms/step - loss: 1.3786 - accuracy: 0.9896 - val_loss: 1.5611 - val_accuracy: 0.8889\n",
      "Epoch 40/80\n",
      "44/44 [==============================] - 23s 514ms/step - loss: 1.3203 - accuracy: 0.9734 - val_loss: 1.3819 - val_accuracy: 0.9259\n",
      "Epoch 41/80\n",
      "44/44 [==============================] - 21s 476ms/step - loss: 1.2590 - accuracy: 0.9838 - val_loss: 1.3316 - val_accuracy: 0.9306\n",
      "Epoch 42/80\n",
      "44/44 [==============================] - 22s 503ms/step - loss: 1.2024 - accuracy: 0.9861 - val_loss: 1.3956 - val_accuracy: 0.8704\n",
      "Epoch 43/80\n",
      "44/44 [==============================] - 22s 511ms/step - loss: 1.1434 - accuracy: 0.9815 - val_loss: 1.2418 - val_accuracy: 0.9259\n",
      "Epoch 44/80\n",
      "44/44 [==============================] - 23s 499ms/step - loss: 1.0723 - accuracy: 0.9907 - val_loss: 1.1762 - val_accuracy: 0.9120\n",
      "Epoch 45/80\n",
      "44/44 [==============================] - 26s 602ms/step - loss: 1.0007 - accuracy: 0.9873 - val_loss: 1.0676 - val_accuracy: 0.9583\n",
      "Epoch 46/80\n",
      "44/44 [==============================] - 23s 523ms/step - loss: 0.9351 - accuracy: 0.9977 - val_loss: 1.0303 - val_accuracy: 0.9259\n",
      "Epoch 47/80\n",
      "44/44 [==============================] - 23s 521ms/step - loss: 0.8885 - accuracy: 0.9884 - val_loss: 0.9859 - val_accuracy: 0.9306\n",
      "Epoch 48/80\n",
      "44/44 [==============================] - 22s 501ms/step - loss: 0.8526 - accuracy: 0.9873 - val_loss: 1.0640 - val_accuracy: 0.8704\n",
      "Epoch 49/80\n",
      "44/44 [==============================] - 22s 497ms/step - loss: 1.0439 - accuracy: 0.9387 - val_loss: 1.1210 - val_accuracy: 0.9213\n",
      "Epoch 50/80\n",
      "44/44 [==============================] - 22s 502ms/step - loss: 0.9275 - accuracy: 0.9838 - val_loss: 0.9876 - val_accuracy: 0.9120\n",
      "Epoch 51/80\n",
      "44/44 [==============================] - 22s 503ms/step - loss: 0.7981 - accuracy: 0.9942 - val_loss: 0.9125 - val_accuracy: 0.9167\n",
      "Epoch 52/80\n",
      "44/44 [==============================] - 22s 507ms/step - loss: 0.7280 - accuracy: 0.9931 - val_loss: 0.8126 - val_accuracy: 0.9491\n",
      "Epoch 53/80\n",
      "44/44 [==============================] - 23s 514ms/step - loss: 0.7117 - accuracy: 0.9803 - val_loss: 0.8269 - val_accuracy: 0.9167\n",
      "Epoch 54/80\n",
      "44/44 [==============================] - 22s 509ms/step - loss: 0.6658 - accuracy: 0.9931 - val_loss: 0.7577 - val_accuracy: 0.9352\n",
      "Epoch 55/80\n",
      "44/44 [==============================] - 23s 511ms/step - loss: 0.6283 - accuracy: 0.9907 - val_loss: 0.7400 - val_accuracy: 0.9444\n",
      "Epoch 56/80\n",
      "44/44 [==============================] - 22s 507ms/step - loss: 0.6124 - accuracy: 0.9884 - val_loss: 0.6972 - val_accuracy: 0.9583\n",
      "Epoch 57/80\n",
      "44/44 [==============================] - 22s 494ms/step - loss: 0.6063 - accuracy: 0.9884 - val_loss: 0.7115 - val_accuracy: 0.9259\n",
      "Epoch 58/80\n",
      "44/44 [==============================] - 24s 544ms/step - loss: 0.5579 - accuracy: 0.9919 - val_loss: 0.6704 - val_accuracy: 0.9167\n",
      "Epoch 59/80\n",
      "44/44 [==============================] - 25s 559ms/step - loss: 0.5450 - accuracy: 0.9919 - val_loss: 0.6297 - val_accuracy: 0.9583\n",
      "Epoch 60/80\n",
      "44/44 [==============================] - 26s 587ms/step - loss: 0.5298 - accuracy: 0.9896 - val_loss: 0.6091 - val_accuracy: 0.9444\n",
      "Epoch 61/80\n",
      "44/44 [==============================] - 22s 506ms/step - loss: 0.5314 - accuracy: 0.9896 - val_loss: 0.6479 - val_accuracy: 0.9213\n",
      "Epoch 62/80\n",
      "44/44 [==============================] - 20s 463ms/step - loss: 0.5307 - accuracy: 0.9850 - val_loss: 0.7234 - val_accuracy: 0.8843\n",
      "Epoch 63/80\n",
      "44/44 [==============================] - 21s 484ms/step - loss: 0.5039 - accuracy: 0.9884 - val_loss: 0.5756 - val_accuracy: 0.9537\n",
      "Epoch 64/80\n",
      "44/44 [==============================] - 21s 471ms/step - loss: 0.5058 - accuracy: 0.9861 - val_loss: 0.6223 - val_accuracy: 0.9398\n",
      "Epoch 65/80\n",
      "44/44 [==============================] - 21s 478ms/step - loss: 0.4487 - accuracy: 0.9907 - val_loss: 0.5572 - val_accuracy: 0.9213\n",
      "Epoch 66/80\n",
      "44/44 [==============================] - 21s 480ms/step - loss: 0.4226 - accuracy: 0.9942 - val_loss: 0.5321 - val_accuracy: 0.9306\n",
      "Epoch 67/80\n",
      "44/44 [==============================] - 21s 472ms/step - loss: 0.4280 - accuracy: 0.9896 - val_loss: 0.5093 - val_accuracy: 0.9537\n",
      "Epoch 68/80\n",
      "44/44 [==============================] - 21s 468ms/step - loss: 0.4066 - accuracy: 0.9884 - val_loss: 0.5781 - val_accuracy: 0.9259\n",
      "Epoch 69/80\n",
      "44/44 [==============================] - 21s 473ms/step - loss: 0.6592 - accuracy: 0.9560 - val_loss: 0.6850 - val_accuracy: 0.9583\n",
      "Epoch 70/80\n",
      "44/44 [==============================] - 21s 469ms/step - loss: 0.5113 - accuracy: 0.9907 - val_loss: 0.5653 - val_accuracy: 0.9491\n",
      "Epoch 71/80\n",
      "44/44 [==============================] - 21s 473ms/step - loss: 0.4280 - accuracy: 0.9931 - val_loss: 0.5086 - val_accuracy: 0.9444\n",
      "Epoch 72/80\n",
      "44/44 [==============================] - 21s 470ms/step - loss: 0.3850 - accuracy: 0.9965 - val_loss: 0.4998 - val_accuracy: 0.9352\n",
      "Epoch 73/80\n",
      "44/44 [==============================] - 21s 472ms/step - loss: 0.3702 - accuracy: 0.9861 - val_loss: 0.5333 - val_accuracy: 0.9259\n",
      "Epoch 74/80\n",
      "44/44 [==============================] - 23s 530ms/step - loss: 0.3708 - accuracy: 0.9884 - val_loss: 0.4989 - val_accuracy: 0.9306\n",
      "Epoch 75/80\n",
      "44/44 [==============================] - 23s 531ms/step - loss: 0.3665 - accuracy: 0.9838 - val_loss: 0.5011 - val_accuracy: 0.9120\n",
      "Epoch 76/80\n",
      "44/44 [==============================] - 22s 511ms/step - loss: 0.3402 - accuracy: 0.9931 - val_loss: 0.4438 - val_accuracy: 0.9537\n",
      "Epoch 77/80\n",
      "44/44 [==============================] - 25s 566ms/step - loss: 0.3179 - accuracy: 0.9977 - val_loss: 0.4400 - val_accuracy: 0.9259\n",
      "Epoch 78/80\n",
      "44/44 [==============================] - 23s 516ms/step - loss: 0.3454 - accuracy: 0.9931 - val_loss: 0.4703 - val_accuracy: 0.9306\n",
      "Epoch 79/80\n",
      "44/44 [==============================] - 21s 472ms/step - loss: 0.3607 - accuracy: 0.9931 - val_loss: 0.4599 - val_accuracy: 0.9444\n",
      "Epoch 80/80\n",
      "44/44 [==============================] - 20s 460ms/step - loss: 0.3394 - accuracy: 0.9861 - val_loss: 0.4370 - val_accuracy: 0.9444\n"
     ]
    }
   ],
   "source": [
    "history3 = model3.fit(mel_train_reshaped,y3_train,validation_data=(mel_val_reshaped,y3_val),batch_size=20,epochs=80)"
   ]
  },
  {
   "cell_type": "code",
   "execution_count": 69,
   "id": "0dacccd0",
   "metadata": {},
   "outputs": [
    {
     "data": {
      "text/plain": [
       "Text(0, 0.5, 'loss')"
      ]
     },
     "execution_count": 69,
     "metadata": {},
     "output_type": "execute_result"
    },
    {
     "data": {
      "image/png": "[encoded data removed]",
      "text/plain": [
       "<Figure size 1200x400 with 2 Axes>"
      ]
     },
     "metadata": {},
     "output_type": "display_data"
    }
   ],
   "source": [
    "# Train and Validation accuracy and loss\n",
    "f = plt.figure(figsize = (12,4))\n",
    "\n",
    "plt.subplot(1,2,1)\n",
    "plt.title('train validation accuracy')\n",
    "plt.plot(history3.history['accuracy'])\n",
    "plt.plot(history3.history['val_accuracy'])\n",
    "plt.legend(['train','validation'])\n",
    "plt.xlabel('epoch')\n",
    "plt.ylabel('accuracy')\n",
    "\n",
    "\n",
    "plt.subplot(1,2,2)\n",
    "plt.title('train validation loss')\n",
    "plt.plot(history3.history['loss'])\n",
    "plt.plot(history3.history['val_loss'])\n",
    "plt.legend(['train','validation'])\n",
    "plt.xlabel('epoch')\n",
    "plt.ylabel('loss')"
   ]
  },
  {
   "cell_type": "code",
   "execution_count": 70,
   "id": "8f1bc1b5",
   "metadata": {},
   "outputs": [],
   "source": [
    "model3.save(os.getcwd() + \"/Features2D/Model/Conv2D_mel_agumented.h5\") "
   ]
  },
  {
   "cell_type": "code",
   "execution_count": 71,
   "id": "e5985931",
   "metadata": {},
   "outputs": [],
   "source": [
    "mel_test = mel_file['mel_test']\n",
    "y_test_mel = mel_file['y_test']"
   ]
  },
  {
   "cell_type": "code",
   "execution_count": 72,
   "id": "aab860b1",
   "metadata": {},
   "outputs": [],
   "source": [
    "mel_test_scaled = (mel_test - np.mean(mel_test))/np.std(mel_test)\n",
    "\n",
    "# Reshape the data\n",
    "N,row,col = mel_test_scaled.shape\n",
    "mel_test_reshaped = mel_test_scaled.reshape((N,row,col,1))"
   ]
  },
  {
   "cell_type": "code",
   "execution_count": 73,
   "id": "dc2e7218",
   "metadata": {},
   "outputs": [
    {
     "name": "stdout",
     "output_type": "stream",
     "text": [
      "4/4 [==============================] - 1s 221ms/step\n"
     ]
    }
   ],
   "source": [
    "y3_prob = model3.predict(mel_test_reshaped)\n",
    "y3_pred = np.argmax(y3_prob, axis = -1)"
   ]
  },
  {
   "cell_type": "code",
   "execution_count": 74,
   "id": "e6e0d2f8",
   "metadata": {},
   "outputs": [
    {
     "data": {
      "text/plain": [
       "0.98"
      ]
     },
     "execution_count": 74,
     "metadata": {},
     "output_type": "execute_result"
    }
   ],
   "source": [
    "# Accuracy\n",
    "acc_mel = round(accuracy_score(y3_pred,y_test_mel),2)\n",
    "acc_mel"
   ]
  },
  {
   "cell_type": "code",
   "execution_count": 75,
   "id": "0b95e2b8",
   "metadata": {},
   "outputs": [
    {
     "name": "stdout",
     "output_type": "stream",
     "text": [
      "              precision    recall  f1-score   support\n",
      "\n",
      "       Angry       1.00      0.97      0.98        30\n",
      "       Happy       0.97      1.00      0.98        30\n",
      "     Relaxed       0.97      0.97      0.97        30\n",
      "         Sad       0.97      0.97      0.97        30\n",
      "\n",
      "    accuracy                           0.97       120\n",
      "   macro avg       0.98      0.98      0.97       120\n",
      "weighted avg       0.98      0.97      0.97       120\n",
      "\n"
     ]
    },
    {
     "data": {
      "image/png": "[encoded data removed]",
      "text/plain": [
       "<Figure size 640x480 with 2 Axes>"
      ]
     },
     "metadata": {},
     "output_type": "display_data"
    }
   ],
   "source": [
    "# Confusion Matrix\n",
    "cm_mel = confusion_matrix(y_test_mel,y3_pred)\n",
    "cm_display_mel = ConfusionMatrixDisplay(confusion_matrix = cm_mel, display_labels = ['Angry', 'Happy', 'Relaxed', 'Sad'])\n",
    "print(classification_report(y_test_mel, y3_pred, target_names = ['Angry', 'Happy', 'Relaxed', 'Sad']))\n",
    "cm_display_mel.plot()\n",
    "plt.show()"
   ]
  },
  {
   "cell_type": "markdown",
   "id": "afd38ef4",
   "metadata": {},
   "source": [
    "## 5. Ensenble 3 Models"
   ]
  },
  {
   "cell_type": "code",
   "execution_count": 76,
   "id": "91423e4e",
   "metadata": {},
   "outputs": [],
   "source": [
    "mfcc_file_ense = np.load(os.getcwd() + \"/Features2D/npz_new/mfcc_train_test_agumented.npz\")\n",
    "mfcc_ense_train = mfcc_file_ense['mfcc_train']\n",
    "mfcc_ense_test =mfcc_file_ense['mfcc_test']\n",
    "y_ense_train = mfcc_file_ense['y_train']\n",
    "y_ense_test = mfcc_file_ense['y_test']\n",
    "model_mfcc = load_model(os.getcwd() + \"/Features2D/Model/Conv2D_mfcc_agumented.h5\")"
   ]
  },
  {
   "cell_type": "code",
   "execution_count": 77,
   "id": "c708b319",
   "metadata": {},
   "outputs": [],
   "source": [
    "spec_file_ense = np.load(os.getcwd() + \"/Features2D/npz_new/spec_train_test_agumented.npz\")\n",
    "spec_ense_train = spec_file_ense['spec_train']\n",
    "spec_ense_test = spec_file_ense['spec_test']\n",
    "y_ense_train = spec_file_ense['y_train']\n",
    "y_ense_test = spec_file_ense['y_test']\n",
    "model_spec = load_model(os.getcwd() + \"/Features2D/Model/Conv2D_spec_agumented.h5\")"
   ]
  },
  {
   "cell_type": "code",
   "execution_count": 78,
   "id": "ce67f297",
   "metadata": {},
   "outputs": [],
   "source": [
    "mel_file_ense = np.load(os.getcwd() + \"/Features2D/npz_new/mel_train_test_agumented.npz\")\n",
    "mel_ense_train = mel_file_ense['mel_train']\n",
    "mel_ense_test =mel_file_ense['mel_test']\n",
    "y_ense_train = mel_file_ense['y_train']\n",
    "y_ense_test = mel_file_ense['y_test']\n",
    "model_mel = load_model(os.getcwd() + \"/Features2D/Model/Conv2D_mel_agumented.h5\")"
   ]
  },
  {
   "cell_type": "code",
   "execution_count": 79,
   "id": "25336c77",
   "metadata": {},
   "outputs": [],
   "source": [
    "# Feature Scaling\n",
    "mfcc_ense_train_scaled = (mfcc_ense_train - np.mean(mfcc_ense_train))/np.std(mfcc_ense_train)\n",
    "spec_ense_train_scaled = spec_ense_train / np.amax(spec_ense_train)\n",
    "mel_ense_train_scaled = (mel_ense_train - np.mean(mel_ense_train))/np.std(mel_ense_train)\n",
    "\n",
    "mfcc_ense_test_scaled = (mfcc_ense_test - np.mean(mfcc_ense_test))/np.std(mfcc_ense_test)\n",
    "spec_ense_test_scaled = spec_ense_test / np.amax(spec_ense_test)\n",
    "mel_ense_test_scaled = (mel_ense_test - np.mean(mel_ense_test))/np.std(mfcc_ense_test)\n",
    "\n",
    "\n",
    "# Reshape the data\n",
    "N,row,col = mfcc_ense_train_scaled.shape\n",
    "mfcc_ense_train_reshaped = mfcc_ense_train_scaled.reshape((N,row,col,1))\n",
    "N,row,col = spec_ense_train_scaled.shape\n",
    "spec_ense_train_reshaped = spec_ense_train_scaled.reshape((N,row,col,1))\n",
    "N,row,col = mel_ense_train_scaled.shape\n",
    "mel_ense_train_reshaped = mel_ense_train_scaled.reshape((N,row,col,1))\n",
    "\n",
    "N,row,col = mfcc_ense_test_scaled.shape\n",
    "mfcc_ense_test_reshaped = mfcc_ense_test_scaled.reshape((N,row,col,1))\n",
    "N,row,col = spec_ense_test_scaled.shape\n",
    "spec_ense_test_reshaped = spec_ense_test_scaled.reshape((N,row,col,1))\n",
    "N,row,col = mel_ense_test_scaled.shape\n",
    "mel_ense_test_reshaped = mel_ense_test_scaled.reshape((N,row,col,1))"
   ]
  },
  {
   "cell_type": "code",
   "execution_count": 80,
   "id": "f48d577e",
   "metadata": {},
   "outputs": [
    {
     "name": "stdout",
     "output_type": "stream",
     "text": [
      "34/34 [==============================] - 7s 168ms/step\n",
      "34/34 [==============================] - 15s 408ms/step\n",
      "34/34 [==============================] - 12s 317ms/step\n"
     ]
    }
   ],
   "source": [
    "# Train 3 models\n",
    "y_ense_prob1 = model_mfcc.predict(mfcc_ense_train_reshaped)\n",
    "y_ense_pred1 = np.argmax(y_ense_prob1, axis= -1)\n",
    "\n",
    "y_ense_prob2 = model_spec.predict(spec_ense_train_reshaped)\n",
    "y_ense_pred2 = np.argmax(y_ense_prob2, axis= -1)\n",
    "\n",
    "y_ense_prob3 = model_mel.predict(mel_ense_train_reshaped)\n",
    "y_ense_pred3 = np.argmax(y_ense_prob3, axis= -1)"
   ]
  },
  {
   "cell_type": "code",
   "execution_count": 81,
   "id": "2329d66d",
   "metadata": {},
   "outputs": [],
   "source": [
    "# Vote for most accuracte prediction\n",
    "def get_majority(pred) :\n",
    "    N = len(pred[0]) # num of examples\n",
    "    vote = [] \n",
    "    for i in range(N) :\n",
    "        elements = [j[i] for j in pred] # 3 Prediction results  using 3 different model\n",
    "        elements = np.array(elements)\n",
    "        uniq, freq = np.unique(elements, return_counts= True) # Count the occurence of unqiue result\n",
    "        vote.append(uniq[np.argmax(freq)])# Choose the prediction with most occurence\n",
    "    \n",
    "    vote = np.array(vote)\n",
    "    return vote"
   ]
  },
  {
   "cell_type": "code",
   "execution_count": 82,
   "id": "6bea2894",
   "metadata": {},
   "outputs": [],
   "source": [
    "# 3 different predictions\n",
    "train_pred = [y_ense_pred1, y_ense_pred2, y_ense_pred3]"
   ]
  },
  {
   "cell_type": "code",
   "execution_count": 83,
   "id": "64d17b12",
   "metadata": {},
   "outputs": [],
   "source": [
    "y_train_pred = get_majority(train_pred)"
   ]
  },
  {
   "cell_type": "code",
   "execution_count": 84,
   "id": "5ab661e6",
   "metadata": {},
   "outputs": [
    {
     "data": {
      "text/plain": [
       "0.9833"
      ]
     },
     "execution_count": 84,
     "metadata": {},
     "output_type": "execute_result"
    }
   ],
   "source": [
    "# Model Evaluation\n",
    "train_corr = len(y_train_pred) - np.count_nonzero(y_train_pred - y_ense_train)\n",
    "train_acc = np.round((train_corr/ len(y_train_pred)),4)\n",
    "train_acc"
   ]
  },
  {
   "cell_type": "code",
   "execution_count": 85,
   "id": "99f79be5",
   "metadata": {},
   "outputs": [
    {
     "name": "stdout",
     "output_type": "stream",
     "text": [
      "4/4 [==============================] - 1s 248ms/step\n",
      "4/4 [==============================] - 1s 169ms/step\n",
      "4/4 [==============================] - 1s 340ms/step\n"
     ]
    }
   ],
   "source": [
    "# Test ensembled models\n",
    "y_test_prob1 = model_spec.predict(spec_ense_test_reshaped)\n",
    "y_test_pred1 = np.argmax(y_test_prob1, axis= -1)\n",
    "\n",
    "y_test_prob2 = model_mfcc.predict(mfcc_ense_test_reshaped)\n",
    "y_test_pred2 = np.argmax(y_test_prob2, axis= -1)\n",
    "\n",
    "y_test_prob3 = model_mel.predict(mel_ense_test_reshaped)\n",
    "y_test_pred3 = np.argmax(y_test_prob3, axis= -1)"
   ]
  },
  {
   "cell_type": "code",
   "execution_count": 86,
   "id": "434ad020",
   "metadata": {},
   "outputs": [],
   "source": [
    "test_pred = [y_test_pred1, y_test_pred2, y_test_pred3]"
   ]
  },
  {
   "cell_type": "code",
   "execution_count": 87,
   "id": "f3e6a64c",
   "metadata": {},
   "outputs": [],
   "source": [
    "y_test_pred = get_majority(test_pred)"
   ]
  },
  {
   "cell_type": "code",
   "execution_count": 88,
   "id": "50a2ffdc",
   "metadata": {},
   "outputs": [
    {
     "data": {
      "text/plain": [
       "0.9333"
      ]
     },
     "execution_count": 88,
     "metadata": {},
     "output_type": "execute_result"
    }
   ],
   "source": [
    "# Model Evaluation\n",
    "test_corr = len(y_test_pred) - np.count_nonzero(y_test_pred - y_ense_test)\n",
    "test_acc = np.round((test_corr/ len(y_test_pred)),4)\n",
    "test_acc"
   ]
  },
  {
   "cell_type": "code",
   "execution_count": 89,
   "id": "beafc40c",
   "metadata": {},
   "outputs": [
    {
     "name": "stdout",
     "output_type": "stream",
     "text": [
      "              precision    recall  f1-score   support\n",
      "\n",
      "       Angry       0.91      0.97      0.94        30\n",
      "       Happy       0.97      1.00      0.98        30\n",
      "     Relaxed       0.88      0.97      0.92        30\n",
      "         Sad       1.00      0.80      0.89        30\n",
      "\n",
      "    accuracy                           0.93       120\n",
      "   macro avg       0.94      0.93      0.93       120\n",
      "weighted avg       0.94      0.93      0.93       120\n",
      "\n"
     ]
    },
    {
     "data": {
      "image/png": "[encoded data removed]",
      "text/plain": [
       "<Figure size 640x480 with 2 Axes>"
      ]
     },
     "metadata": {},
     "output_type": "display_data"
    }
   ],
   "source": [
    "# Confusion Matrix\n",
    "cm_ense = confusion_matrix(y_ense_test,y_test_pred)\n",
    "cm_display_ense = ConfusionMatrixDisplay(confusion_matrix = cm_ense, display_labels = ['Angry', 'Happy', 'Relaxed', 'Sad'])\n",
    "print(classification_report(y_ense_test, y_test_pred, target_names = ['Angry', 'Happy', 'Relaxed', 'Sad']))\n",
    "cm_display_ense.plot()\n",
    "plt.show()"
   ]
  }
 ],
 "metadata": {
  "kernelspec": {
   "display_name": "Python 3 (ipykernel)",
   "language": "python",
   "name": "python3"
  },
  "language_info": {
   "codemirror_mode": {
    "name": "ipython",
    "version": 3
   },
   "file_extension": ".py",
   "mimetype": "text/x-python",
   "name": "python",
   "nbconvert_exporter": "python",
   "pygments_lexer": "ipython3",
   "version": "3.10.9"
  }
 },
 "nbformat": 4,
 "nbformat_minor": 5
}
